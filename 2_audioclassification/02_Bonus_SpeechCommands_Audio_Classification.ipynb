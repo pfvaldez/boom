{
  "cells": [
    {
      "cell_type": "markdown",
      "source": [
        "## Bonus\n",
        "Instead of `superb`, for this task we finetune the model on a different dataset `speech_commands`"
      ],
      "metadata": {
        "id": "oARLKGCwMEVZ"
      }
    },
    {
      "cell_type": "code",
      "execution_count": 1,
      "metadata": {
        "colab": {
          "base_uri": "https://localhost:8080/"
        },
        "id": "SdZvY8Q3dxh0",
        "outputId": "45f6eb8e-e8c9-4489-fb65-f94269eb9df7"
      },
      "outputs": [
        {
          "output_type": "stream",
          "name": "stdout",
          "text": [
            "GPU 0: Tesla T4 (UUID: GPU-b7c783d5-8d66-dcd8-5c8c-b4a371abfae1)\n"
          ]
        }
      ],
      "source": [
        "!nvidia-smi -L"
      ]
    },
    {
      "cell_type": "markdown",
      "metadata": {
        "id": "X4cRE8IbIrIV"
      },
      "source": [
        "If you're opening this Notebook on colab, you will probably need to install 🤗 Transformers and 🤗 Datasets. Uncomment the following cell and run it."
      ]
    },
    {
      "cell_type": "code",
      "execution_count": 2,
      "metadata": {
        "colab": {
          "base_uri": "https://localhost:8080/"
        },
        "id": "MOsHUjgdIrIW",
        "outputId": "d292d4bd-d61f-441a-c25a-2d1155b039e6"
      },
      "outputs": [
        {
          "output_type": "stream",
          "name": "stdout",
          "text": [
            "Looking in indexes: https://pypi.org/simple, https://us-python.pkg.dev/colab-wheels/public/simple/\n",
            "Collecting datasets\n",
            "  Downloading datasets-2.11.0-py3-none-any.whl (468 kB)\n",
            "\u001b[2K     \u001b[90m━━━━━━━━━━━━━━━━━━━━━━━━━━━━━━━━━━━━━━\u001b[0m \u001b[32m468.7/468.7 KB\u001b[0m \u001b[31m21.3 MB/s\u001b[0m eta \u001b[36m0:00:00\u001b[0m\n",
            "\u001b[?25hCollecting transformers\n",
            "  Downloading transformers-4.27.4-py3-none-any.whl (6.8 MB)\n",
            "\u001b[2K     \u001b[90m━━━━━━━━━━━━━━━━━━━━━━━━━━━━━━━━━━━━━━━━\u001b[0m \u001b[32m6.8/6.8 MB\u001b[0m \u001b[31m108.8 MB/s\u001b[0m eta \u001b[36m0:00:00\u001b[0m\n",
            "\u001b[?25hRequirement already satisfied: numpy>=1.17 in /usr/local/lib/python3.9/dist-packages (from datasets) (1.22.4)\n",
            "Requirement already satisfied: packaging in /usr/local/lib/python3.9/dist-packages (from datasets) (23.0)\n",
            "Collecting responses<0.19\n",
            "  Downloading responses-0.18.0-py3-none-any.whl (38 kB)\n",
            "Requirement already satisfied: requests>=2.19.0 in /usr/local/lib/python3.9/dist-packages (from datasets) (2.27.1)\n",
            "Collecting xxhash\n",
            "  Downloading xxhash-3.2.0-cp39-cp39-manylinux_2_17_x86_64.manylinux2014_x86_64.whl (212 kB)\n",
            "\u001b[2K     \u001b[90m━━━━━━━━━━━━━━━━━━━━━━━━━━━━━━━━━━━━━━\u001b[0m \u001b[32m212.2/212.2 KB\u001b[0m \u001b[31m27.1 MB/s\u001b[0m eta \u001b[36m0:00:00\u001b[0m\n",
            "\u001b[?25hCollecting multiprocess\n",
            "  Downloading multiprocess-0.70.14-py39-none-any.whl (132 kB)\n",
            "\u001b[2K     \u001b[90m━━━━━━━━━━━━━━━━━━━━━━━━━━━━━━━━━━━━━━\u001b[0m \u001b[32m132.9/132.9 KB\u001b[0m \u001b[31m20.5 MB/s\u001b[0m eta \u001b[36m0:00:00\u001b[0m\n",
            "\u001b[?25hCollecting huggingface-hub<1.0.0,>=0.11.0\n",
            "  Downloading huggingface_hub-0.13.4-py3-none-any.whl (200 kB)\n",
            "\u001b[2K     \u001b[90m━━━━━━━━━━━━━━━━━━━━━━━━━━━━━━━━━━━━━━\u001b[0m \u001b[32m200.1/200.1 KB\u001b[0m \u001b[31m27.8 MB/s\u001b[0m eta \u001b[36m0:00:00\u001b[0m\n",
            "\u001b[?25hRequirement already satisfied: pyyaml>=5.1 in /usr/local/lib/python3.9/dist-packages (from datasets) (6.0)\n",
            "Requirement already satisfied: fsspec[http]>=2021.11.1 in /usr/local/lib/python3.9/dist-packages (from datasets) (2023.3.0)\n",
            "Requirement already satisfied: pyarrow>=8.0.0 in /usr/local/lib/python3.9/dist-packages (from datasets) (9.0.0)\n",
            "Collecting aiohttp\n",
            "  Downloading aiohttp-3.8.4-cp39-cp39-manylinux_2_17_x86_64.manylinux2014_x86_64.whl (1.0 MB)\n",
            "\u001b[2K     \u001b[90m━━━━━━━━━━━━━━━━━━━━━━━━━━━━━━━━━━━━━━━━\u001b[0m \u001b[32m1.0/1.0 MB\u001b[0m \u001b[31m79.8 MB/s\u001b[0m eta \u001b[36m0:00:00\u001b[0m\n",
            "\u001b[?25hRequirement already satisfied: pandas in /usr/local/lib/python3.9/dist-packages (from datasets) (1.4.4)\n",
            "Collecting dill<0.3.7,>=0.3.0\n",
            "  Downloading dill-0.3.6-py3-none-any.whl (110 kB)\n",
            "\u001b[2K     \u001b[90m━━━━━━━━━━━━━━━━━━━━━━━━━━━━━━━━━━━━━━\u001b[0m \u001b[32m110.5/110.5 KB\u001b[0m \u001b[31m16.2 MB/s\u001b[0m eta \u001b[36m0:00:00\u001b[0m\n",
            "\u001b[?25hRequirement already satisfied: tqdm>=4.62.1 in /usr/local/lib/python3.9/dist-packages (from datasets) (4.65.0)\n",
            "Requirement already satisfied: filelock in /usr/local/lib/python3.9/dist-packages (from transformers) (3.10.7)\n",
            "Collecting tokenizers!=0.11.3,<0.14,>=0.11.1\n",
            "  Downloading tokenizers-0.13.3-cp39-cp39-manylinux_2_17_x86_64.manylinux2014_x86_64.whl (7.8 MB)\n",
            "\u001b[2K     \u001b[90m━━━━━━━━━━━━━━━━━━━━━━━━━━━━━━━━━━━━━━━━\u001b[0m \u001b[32m7.8/7.8 MB\u001b[0m \u001b[31m103.2 MB/s\u001b[0m eta \u001b[36m0:00:00\u001b[0m\n",
            "\u001b[?25hRequirement already satisfied: regex!=2019.12.17 in /usr/local/lib/python3.9/dist-packages (from transformers) (2022.10.31)\n",
            "Requirement already satisfied: charset-normalizer<4.0,>=2.0 in /usr/local/lib/python3.9/dist-packages (from aiohttp->datasets) (2.0.12)\n",
            "Collecting multidict<7.0,>=4.5\n",
            "  Downloading multidict-6.0.4-cp39-cp39-manylinux_2_17_x86_64.manylinux2014_x86_64.whl (114 kB)\n",
            "\u001b[2K     \u001b[90m━━━━━━━━━━━━━━━━━━━━━━━━━━━━━━━━━━━━━━\u001b[0m \u001b[32m114.2/114.2 KB\u001b[0m \u001b[31m10.9 MB/s\u001b[0m eta \u001b[36m0:00:00\u001b[0m\n",
            "\u001b[?25hCollecting async-timeout<5.0,>=4.0.0a3\n",
            "  Downloading async_timeout-4.0.2-py3-none-any.whl (5.8 kB)\n",
            "Collecting frozenlist>=1.1.1\n",
            "  Downloading frozenlist-1.3.3-cp39-cp39-manylinux_2_5_x86_64.manylinux1_x86_64.manylinux_2_17_x86_64.manylinux2014_x86_64.whl (158 kB)\n",
            "\u001b[2K     \u001b[90m━━━━━━━━━━━━━━━━━━━━━━━━━━━━━━━━━━━━━━\u001b[0m \u001b[32m158.8/158.8 KB\u001b[0m \u001b[31m21.2 MB/s\u001b[0m eta \u001b[36m0:00:00\u001b[0m\n",
            "\u001b[?25hRequirement already satisfied: attrs>=17.3.0 in /usr/local/lib/python3.9/dist-packages (from aiohttp->datasets) (22.2.0)\n",
            "Collecting yarl<2.0,>=1.0\n",
            "  Downloading yarl-1.8.2-cp39-cp39-manylinux_2_17_x86_64.manylinux2014_x86_64.whl (264 kB)\n",
            "\u001b[2K     \u001b[90m━━━━━━━━━━━━━━━━━━━━━━━━━━━━━━━━━━━━━━\u001b[0m \u001b[32m264.6/264.6 KB\u001b[0m \u001b[31m29.1 MB/s\u001b[0m eta \u001b[36m0:00:00\u001b[0m\n",
            "\u001b[?25hCollecting aiosignal>=1.1.2\n",
            "  Downloading aiosignal-1.3.1-py3-none-any.whl (7.6 kB)\n",
            "Requirement already satisfied: typing-extensions>=3.7.4.3 in /usr/local/lib/python3.9/dist-packages (from huggingface-hub<1.0.0,>=0.11.0->datasets) (4.5.0)\n",
            "Requirement already satisfied: certifi>=2017.4.17 in /usr/local/lib/python3.9/dist-packages (from requests>=2.19.0->datasets) (2022.12.7)\n",
            "Requirement already satisfied: urllib3<1.27,>=1.21.1 in /usr/local/lib/python3.9/dist-packages (from requests>=2.19.0->datasets) (1.26.15)\n",
            "Requirement already satisfied: idna<4,>=2.5 in /usr/local/lib/python3.9/dist-packages (from requests>=2.19.0->datasets) (3.4)\n",
            "Requirement already satisfied: python-dateutil>=2.8.1 in /usr/local/lib/python3.9/dist-packages (from pandas->datasets) (2.8.2)\n",
            "Requirement already satisfied: pytz>=2020.1 in /usr/local/lib/python3.9/dist-packages (from pandas->datasets) (2022.7.1)\n",
            "Requirement already satisfied: six>=1.5 in /usr/local/lib/python3.9/dist-packages (from python-dateutil>=2.8.1->pandas->datasets) (1.16.0)\n",
            "Installing collected packages: tokenizers, xxhash, multidict, frozenlist, dill, async-timeout, yarl, responses, multiprocess, huggingface-hub, aiosignal, transformers, aiohttp, datasets\n",
            "Successfully installed aiohttp-3.8.4 aiosignal-1.3.1 async-timeout-4.0.2 datasets-2.11.0 dill-0.3.6 frozenlist-1.3.3 huggingface-hub-0.13.4 multidict-6.0.4 multiprocess-0.70.14 responses-0.18.0 tokenizers-0.13.3 transformers-4.27.4 xxhash-3.2.0 yarl-1.8.2\n"
          ]
        }
      ],
      "source": [
        "! pip install datasets transformers"
      ]
    },
    {
      "cell_type": "markdown",
      "metadata": {
        "id": "MOWMk7N6UsME"
      },
      "source": [
        "If you're opening this notebook locally, make sure your environment has an install from the last version of those libraries.\n",
        "\n",
        "To be able to share your model with the community and generate results like the one shown in the picture below via the inference API, there are a few more steps to follow.\n",
        "\n",
        "First you have to store your authentication token from the Hugging Face website (sign up [here](https://huggingface.co/join) if you haven't already!) then execute the following cell and input your username and password:"
      ]
    },
    {
      "cell_type": "code",
      "execution_count": 3,
      "metadata": {
        "colab": {
          "base_uri": "https://localhost:8080/",
          "height": 387,
          "referenced_widgets": [
            "5ce494dd7b744f618359554491d2e10f",
            "4c99e17bd69e42118575e9dcaa4f648d",
            "cf140d6957ec4b01a679917c2ff56479",
            "892a8faafe114174836977f27bbf68d5",
            "e31eee8edd4e41c9b481e3cac7a43e7e",
            "dd7b61118095415ca729fece2b65345c",
            "8912a4553e6a4504a9504c0f7cfef596",
            "ad84ae97b6684041b546dc66fc15b1ae",
            "74b6d33f87f447abbbd60bb9275ce930",
            "d14b8ab21e8d4bdc971d216cb1043683",
            "356c930cef9449ea9a481577ee1e65d9",
            "00b82328a0a94caa81aa8b37203a4e94",
            "b9e4f65595bd4052bd2ea2339ecd48da",
            "a93b30b94cde423a81d26b4dd0f2f854",
            "46c438a0c5694a728e509f5565d2cb2a",
            "689953229aa64ca1a500c6de3ec982a3",
            "e9437d2d2bb44d799b08f851c1ec4d29"
          ]
        },
        "id": "TmJFYOauUsMG",
        "outputId": "21029951-0209-4672-cec5-b9e9ad33bd42"
      },
      "outputs": [
        {
          "output_type": "stream",
          "name": "stdout",
          "text": [
            "Token is valid.\n",
            "Your token has been saved in your configured git credential helpers (store).\n",
            "Your token has been saved to /root/.cache/huggingface/token\n",
            "Login successful\n"
          ]
        }
      ],
      "source": [
        "from huggingface_hub import notebook_login\n",
        "\n",
        "notebook_login()"
      ]
    },
    {
      "cell_type": "markdown",
      "metadata": {
        "id": "O_wOvXYlekdt"
      },
      "source": [
        "This notebook shows how to fine-tune multi-lingual pretrained speech models for Automatic Speech Recognition."
      ]
    },
    {
      "cell_type": "markdown",
      "metadata": {
        "id": "V931qZo_entA"
      },
      "source": [
        "This notebook is built to run on the **Keyword Spotting** subset of the [SUPERB dataset](https://huggingface.co/datasets/superb) with any speech model checkpoint from the [Model Hub](https://huggingface.co/models?pipeline_tag=automatic-speech-recognition&sort=downloads) as long as that model has a version with a Sequence Classification head (e.g. [Wav2Vec2ForSequenceClassification](https://huggingface.co/transformers/model_doc/wav2vec2.html#wav2vec2forsequenceclassification)). \n",
        "\n",
        "Depending on the model and the GPU you are using, you might need to adjust the batch size to avoid out-of-memory errors. Set those two parameters, then the rest of the notebook should run smoothly:"
      ]
    },
    {
      "cell_type": "code",
      "execution_count": 4,
      "metadata": {
        "id": "lCm71CPVelPK"
      },
      "outputs": [],
      "source": [
        "model_checkpoint = \"facebook/wav2vec2-base\"\n",
        "batch_size = 32"
      ]
    },
    {
      "cell_type": "markdown",
      "metadata": {
        "id": "Yo5K411SeyUr"
      },
      "source": [
        "Before we start, let's install both `datasets` and `transformers` from master. Also, we need the `librosa` package to load audio files."
      ]
    },
    {
      "cell_type": "code",
      "execution_count": 5,
      "metadata": {
        "colab": {
          "base_uri": "https://localhost:8080/"
        },
        "id": "IZf3WfryUsMd",
        "outputId": "0142379a-802a-4de8-ae24-2dc67f23d28f"
      },
      "outputs": [
        {
          "output_type": "stream",
          "name": "stdout",
          "text": [
            "Looking in indexes: https://pypi.org/simple, https://us-python.pkg.dev/colab-wheels/public/simple/\n",
            "Requirement already satisfied: librosa in /usr/local/lib/python3.9/dist-packages (0.10.0.post2)\n",
            "Requirement already satisfied: scikit-learn>=0.20.0 in /usr/local/lib/python3.9/dist-packages (from librosa) (1.2.2)\n",
            "Requirement already satisfied: joblib>=0.14 in /usr/local/lib/python3.9/dist-packages (from librosa) (1.1.1)\n",
            "Requirement already satisfied: audioread>=2.1.9 in /usr/local/lib/python3.9/dist-packages (from librosa) (3.0.0)\n",
            "Requirement already satisfied: decorator>=4.3.0 in /usr/local/lib/python3.9/dist-packages (from librosa) (4.4.2)\n",
            "Requirement already satisfied: numba>=0.51.0 in /usr/local/lib/python3.9/dist-packages (from librosa) (0.56.4)\n",
            "Requirement already satisfied: typing-extensions>=4.1.1 in /usr/local/lib/python3.9/dist-packages (from librosa) (4.5.0)\n",
            "Requirement already satisfied: lazy-loader>=0.1 in /usr/local/lib/python3.9/dist-packages (from librosa) (0.2)\n",
            "Requirement already satisfied: msgpack>=1.0 in /usr/local/lib/python3.9/dist-packages (from librosa) (1.0.5)\n",
            "Requirement already satisfied: scipy>=1.2.0 in /usr/local/lib/python3.9/dist-packages (from librosa) (1.10.1)\n",
            "Requirement already satisfied: soxr>=0.3.2 in /usr/local/lib/python3.9/dist-packages (from librosa) (0.3.4)\n",
            "Requirement already satisfied: pooch<1.7,>=1.0 in /usr/local/lib/python3.9/dist-packages (from librosa) (1.6.0)\n",
            "Requirement already satisfied: soundfile>=0.12.1 in /usr/local/lib/python3.9/dist-packages (from librosa) (0.12.1)\n",
            "Requirement already satisfied: numpy!=1.22.0,!=1.22.1,!=1.22.2,>=1.20.3 in /usr/local/lib/python3.9/dist-packages (from librosa) (1.22.4)\n",
            "Requirement already satisfied: llvmlite<0.40,>=0.39.0dev0 in /usr/local/lib/python3.9/dist-packages (from numba>=0.51.0->librosa) (0.39.1)\n",
            "Requirement already satisfied: setuptools in /usr/local/lib/python3.9/dist-packages (from numba>=0.51.0->librosa) (67.6.1)\n",
            "Requirement already satisfied: packaging>=20.0 in /usr/local/lib/python3.9/dist-packages (from pooch<1.7,>=1.0->librosa) (23.0)\n",
            "Requirement already satisfied: requests>=2.19.0 in /usr/local/lib/python3.9/dist-packages (from pooch<1.7,>=1.0->librosa) (2.27.1)\n",
            "Requirement already satisfied: appdirs>=1.3.0 in /usr/local/lib/python3.9/dist-packages (from pooch<1.7,>=1.0->librosa) (1.4.4)\n",
            "Requirement already satisfied: threadpoolctl>=2.0.0 in /usr/local/lib/python3.9/dist-packages (from scikit-learn>=0.20.0->librosa) (3.1.0)\n",
            "Requirement already satisfied: cffi>=1.0 in /usr/local/lib/python3.9/dist-packages (from soundfile>=0.12.1->librosa) (1.15.1)\n",
            "Requirement already satisfied: pycparser in /usr/local/lib/python3.9/dist-packages (from cffi>=1.0->soundfile>=0.12.1->librosa) (2.21)\n",
            "Requirement already satisfied: idna<4,>=2.5 in /usr/local/lib/python3.9/dist-packages (from requests>=2.19.0->pooch<1.7,>=1.0->librosa) (3.4)\n",
            "Requirement already satisfied: urllib3<1.27,>=1.21.1 in /usr/local/lib/python3.9/dist-packages (from requests>=2.19.0->pooch<1.7,>=1.0->librosa) (1.26.15)\n",
            "Requirement already satisfied: charset-normalizer~=2.0.0 in /usr/local/lib/python3.9/dist-packages (from requests>=2.19.0->pooch<1.7,>=1.0->librosa) (2.0.12)\n",
            "Requirement already satisfied: certifi>=2017.4.17 in /usr/local/lib/python3.9/dist-packages (from requests>=2.19.0->pooch<1.7,>=1.0->librosa) (2022.12.7)\n"
          ]
        }
      ],
      "source": [
        "!pip install librosa"
      ]
    },
    {
      "cell_type": "markdown",
      "metadata": {
        "id": "tvv7E7fde52M"
      },
      "source": [
        "\n",
        "Then you need to install Git-LFS to upload your model checkpoints:"
      ]
    },
    {
      "cell_type": "code",
      "execution_count": 6,
      "metadata": {
        "id": "YPCOaYJYe6fl"
      },
      "outputs": [],
      "source": [
        "%%capture\n",
        "!apt install git-lfs"
      ]
    },
    {
      "cell_type": "markdown",
      "metadata": {
        "id": "zqLD1LjXfEeK"
      },
      "source": [
        "## Fine-tuning a model on an audio classification task"
      ]
    },
    {
      "cell_type": "markdown",
      "metadata": {
        "id": "6gnn_WFUfJdL"
      },
      "source": [
        "In this notebook, we will see how to fine-tune one of the [🤗 Transformers](https://github.com/huggingface/transformers) acoustic models to a Keyword Spotting task of the [SUPERB Benchmark](https://superbbenchmark.org/)\n",
        "\n",
        "Keyword Spotting (KS) detects preregistered keywords by classifying utterances into a predefined set of words. SUPERB uses the widely used Speech Commands dataset v1.0 for the task. The dataset consists of ten classes of keywords, a class for silence, and an unknown class to include the false positive. "
      ]
    },
    {
      "cell_type": "markdown",
      "metadata": {
        "id": "4_6Le3j9fROz"
      },
      "source": [
        "<img src=\"data:image/png;base64,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\" alt=\"drawing\" width=\"400\"/>"
      ]
    },
    {
      "cell_type": "markdown",
      "metadata": {
        "id": "r5is4ryOfYRk"
      },
      "source": [
        "### Loading the dataset"
      ]
    },
    {
      "cell_type": "markdown",
      "metadata": {
        "id": "Dayrs_QyfkJx"
      },
      "source": [
        "We will use the [🤗 Datasets](https://github.com/huggingface/datasets) library to download the data and get the Accuracy metric we need to use for evaluation. This can be easily done with the functions `load_dataset` and `load_metric`.  "
      ]
    },
    {
      "cell_type": "code",
      "execution_count": 7,
      "metadata": {
        "id": "hx7GTyiDfXg3"
      },
      "outputs": [],
      "source": [
        "from datasets import load_dataset, load_metric"
      ]
    },
    {
      "cell_type": "code",
      "execution_count": 8,
      "metadata": {
        "id": "zvdYVIscfnKM"
      },
      "outputs": [],
      "source": [
        "# dataset = load_dataset(\"superb\", \"ks\")\n",
        "# metric = load_metric(\"accuracy\")"
      ]
    },
    {
      "cell_type": "code",
      "source": [
        "dataset = load_dataset(\"speech_commands\", \"v0.02\")\n",
        "metric = load_metric(\"accuracy\")"
      ],
      "metadata": {
        "id": "lp5otSgkLXgM",
        "colab": {
          "base_uri": "https://localhost:8080/",
          "height": 394,
          "referenced_widgets": [
            "2fc8a9767f0b452c8c48f6f0a835c4c5",
            "40bdb76c65854fc480995260a8475b8f",
            "3d8e35398fb841f9a7d1264a20134258",
            "1e6febcbde5e4574b4c8846e39339af2",
            "8302ab2ba8e440998ac2155a64097a82",
            "0759df4197444ed58d2c2f703cd5a798",
            "320448fc169e46fa88e00948301998f3",
            "13f5b209e36e424ab68a379498ab9b20",
            "a974dd4b4f8b48418c9a16999435f699",
            "05f72c23023547d8a0afe4eca18b71a2",
            "91f69288b6b24eb38174af65a0b9e3af",
            "1e6ac0a63dbb41ea945af17e5be4baaa",
            "41d8586cb49d40479eb53cb50fdeeb7d",
            "ddefc13bd9d34454a89ddf0987ded92e",
            "f2a1817e01df4ffca910754ee6b8e0ea",
            "241d5b9dc2b14ad39987d8d51d0c3d35",
            "3f673b505f5547e1b44692c6009fc831",
            "02cec6a3b42a4e2fac3f2e53891603ed",
            "6a369c6c757a44e593e1351e00e5f5be",
            "754b18893c704833a206e7d1f204555b",
            "e57bf26f629b43f4a5b65c39153d4ffa",
            "0450d8af9f5044c4a8dd1d7a4e32ee43",
            "eca361cece62451287e93561da2cb313",
            "90c48cf5f9f44353a34d18ac623013c3",
            "30b4b52c394b4794831544375ad1b2a7",
            "e30cf0fc52134c0ea09fc8a1f71844e9",
            "a88562258bcd4e6386d9a026261cd092",
            "9df683a8855a4052b8118c441fa47a32",
            "1ea3070a5d0e45bf8829a3e2b334024f",
            "1ddd6f79547a4403b1b823faf398156a",
            "ec6986054ce24f64a03623d20327be1e",
            "3f81cde1c4fe4d44aea7ddb90715ee97",
            "1d50b79c348f42cca960ae6a92318194",
            "74207a9b84db4271a1d953b294afbb62",
            "0a54f24e0c394bc8aac9d1a6f5c58a0a",
            "02d5d5d8ecc7465bb934c81aa34ec54c",
            "c1d948cc10ed4424b9f1554ed1b7f424",
            "1884bd39051240eca116a6b32f4ffdc8",
            "542609bb23ee43669cb0ab7cd53da9af",
            "3b12bf97e9324a55a63077011e0a76bb",
            "8ab929e1fd704122a9b34cf89f0f7395",
            "3a8993d346db4c1984e42b7190062478",
            "bf8d61be91b847f98c42cd935f80b576",
            "0e23debf3e5247f089984074a00caeaf",
            "96f1cbc7473b4fed816860c2d98ead2d",
            "87645b358cf7430cac589f8333092388",
            "360201e86df843a883987216181803b8",
            "5eceb7b03b7143b885504c6952c683a0",
            "784daa181613496e9211a1d6d50c58cb",
            "f0174378eda94541927d1d929d6c7638",
            "928895f7ba694244b97cad1cb0a65432",
            "9e822a011469487181da0114c38748f5",
            "7222b49e7593408a94e3a520ca4a42a4",
            "89ee4967e33542019087acf2b25f2387",
            "994dd3b2efce4b06a262f675dc3b9c74",
            "1e0b7f623c5a42089d8eb257d135914d",
            "f13e7faf7ca745b19b8c991e1b347ff0",
            "81e01e97f6244693a3f3d694e32ad388",
            "29af5db6bf4f4d0ebadb605289a7b116",
            "53f8dc0f7ea0472d91cefd49e149036d",
            "ee748a10b18e4152b8e777a0443b74fa",
            "1dbeda21619e41feb5a22b415506e913",
            "437ef46d39a84379a6a0d569a82ae306",
            "3f1576326b9a47d897b677db1387702d",
            "3a856414880c4f8b8346b659a4008403",
            "a4327b837e8c46bbaf28a2230d8f5332",
            "b49b00bf86c74ab5aa95c2a8e62333b6",
            "4f0fc56108cd42bb9431c24424986603",
            "fdfbffd3b94547daaad21914a5bae48d",
            "ffce9116b99d448597b3c2c5bbbb121d",
            "c2a810bc22a147e0b208c52b3018d887",
            "91dccd09e1344cd88d71d86ea793a013",
            "aaf81dc1301b4df1aef9acab14c8dbff",
            "961c637ee07b4dde8a037b941650f90d",
            "5e86d5984e0a446582a023bea56f5a52",
            "b9a8d50866fb4356811d715003a0a717",
            "b0eb773858d344f7868bde339c9113e6",
            "8f152a7597d94cc1b7593d02fea2f366",
            "8e3297697eb64e93bfd65f70217a6786",
            "867fd201e9fe4d4888898ea1c816c306",
            "085dc2fdb55c44d5bc79d85217eccea6",
            "b6c61ffd976142a2b890b142ee02118a",
            "c79118305dd3455eaf164a5b1af87bab",
            "bde34aa8ee1a43bea3fec8701e7585af",
            "bd37cfe289d7455e947f894e90122d0c",
            "98a003a2b74d4dab9ddc56858f7ed7f3",
            "638661573c284b1a8b067298f327e0c6",
            "4c2a2157ce9a46a39de4431a937c8259",
            "5ce6f7857e6f463c850bc5c73b59f0f0",
            "f324a79ad066480dbf0c8822595e2733",
            "8a5876dc560c46d3b8a155bb53282262",
            "d0b315961070417e8cff9382eb9e652f",
            "f1f751c572d9402997e17573de4f2ef1",
            "84ae2f813dd84bf3b5bb079f1d116675",
            "7fefa9d738d64e60abeeb7b1d1db2069",
            "98a9393a4ed043f69ff8ba10e7a87ed0",
            "ba67e6234e9e4881b4233c4536d0733e",
            "937b7d853e1246e792b121e1ebd603f7",
            "da92b8d961214a40967d0ca498ba6571",
            "44a612e3bf4b4403995d2668dda7a99f",
            "9a8c6514ece6498ea36b68638b85ac6c",
            "a8b9aedceda24042a7eaf78f632e5669",
            "319fce2a9a124edfbf02f7b619350177",
            "674f58f2552d4e83b2d56e17c2be385d",
            "39d5970d46634c8f87ffa03bf276778b",
            "f99633f1bd0349e3b4514d111b1e02a5",
            "8eb03bf41a5b4eb9934946a7d1d13673",
            "5ac962eb8597472b80c8514116656abf",
            "000b6d95a0f1497bab88c40e0473a92c",
            "1a92d4fd95164d148a3236a3b114a9da",
            "9a5b99dde0e547a6b6c40c08de6b4266",
            "405e1b71f4e54a49bc6d0bcb44a49ad6",
            "12f43af2a70649869d879243d271e087",
            "699e53e060904603956c3c0d1ce52c36",
            "130b785a655e463b8ee93fe25207202a",
            "4a981910a92d4180bb8a264cc7288c61",
            "60cbb1ba30ec47438bfcf1dc221cd6ed",
            "941699eaac65455ab9f0df0c86196328",
            "3380475194594da79cc1ebca68d2316f",
            "4b446ca9df4d4f20bde14b419963c7c6",
            "96770da8dbfe4d3a8f7aa5122ae5787c",
            "f6a1541d6e9a4bdda9f7f9e7aee1cd1e",
            "a00335baee1c424bb6fd68428003bc6b",
            "2dd46dbddb2b4d91a9a38e78f7997ca5",
            "1d68b1efdf4b4db48ea52f6e15ae6213",
            "9ed4c40ffa1f424999d5e364a20a20fe",
            "383063544e3048f29da04c68121e7578",
            "a09dc3a7171142b182a613d5e45ac684",
            "80028a84afb94d3d8bac2fcea921f37f",
            "45e39842d7804c3f859b258a58a6726b",
            "0103642d5ec24cfda5ba558bbc607e0f",
            "3d8281b4ccd54b118c285265af19f114"
          ]
        },
        "outputId": "2fba7072-aa77-4abf-e36e-14492376f872"
      },
      "execution_count": 8,
      "outputs": [
        {
          "output_type": "display_data",
          "data": {
            "text/plain": [
              "Downloading builder script:   0%|          | 0.00/7.31k [00:00<?, ?B/s]"
            ],
            "application/vnd.jupyter.widget-view+json": {
              "version_major": 2,
              "version_minor": 0,
              "model_id": "2fc8a9767f0b452c8c48f6f0a835c4c5"
            }
          },
          "metadata": {}
        },
        {
          "output_type": "display_data",
          "data": {
            "text/plain": [
              "Downloading metadata:   0%|          | 0.00/8.34k [00:00<?, ?B/s]"
            ],
            "application/vnd.jupyter.widget-view+json": {
              "version_major": 2,
              "version_minor": 0,
              "model_id": "1e6ac0a63dbb41ea945af17e5be4baaa"
            }
          },
          "metadata": {}
        },
        {
          "output_type": "display_data",
          "data": {
            "text/plain": [
              "Downloading readme:   0%|          | 0.00/12.1k [00:00<?, ?B/s]"
            ],
            "application/vnd.jupyter.widget-view+json": {
              "version_major": 2,
              "version_minor": 0,
              "model_id": "eca361cece62451287e93561da2cb313"
            }
          },
          "metadata": {}
        },
        {
          "output_type": "stream",
          "name": "stdout",
          "text": [
            "Downloading and preparing dataset speech_commands/v0.02 to /root/.cache/huggingface/datasets/speech_commands/v0.02/0.2.0/ba3d9a6cf49aa1313c51abe16b59203451482ccb9fee6d23c94fecabf3e206da...\n"
          ]
        },
        {
          "output_type": "display_data",
          "data": {
            "text/plain": [
              "Downloading data files:   0%|          | 0/3 [00:00<?, ?it/s]"
            ],
            "application/vnd.jupyter.widget-view+json": {
              "version_major": 2,
              "version_minor": 0,
              "model_id": "74207a9b84db4271a1d953b294afbb62"
            }
          },
          "metadata": {}
        },
        {
          "output_type": "display_data",
          "data": {
            "text/plain": [
              "Downloading data:   0%|          | 0.00/1.94G [00:00<?, ?B/s]"
            ],
            "application/vnd.jupyter.widget-view+json": {
              "version_major": 2,
              "version_minor": 0,
              "model_id": "96f1cbc7473b4fed816860c2d98ead2d"
            }
          },
          "metadata": {}
        },
        {
          "output_type": "display_data",
          "data": {
            "text/plain": [
              "Downloading data:   0%|          | 0.00/229M [00:00<?, ?B/s]"
            ],
            "application/vnd.jupyter.widget-view+json": {
              "version_major": 2,
              "version_minor": 0,
              "model_id": "1e0b7f623c5a42089d8eb257d135914d"
            }
          },
          "metadata": {}
        },
        {
          "output_type": "display_data",
          "data": {
            "text/plain": [
              "Downloading data:   0%|          | 0.00/112M [00:00<?, ?B/s]"
            ],
            "application/vnd.jupyter.widget-view+json": {
              "version_major": 2,
              "version_minor": 0,
              "model_id": "b49b00bf86c74ab5aa95c2a8e62333b6"
            }
          },
          "metadata": {}
        },
        {
          "output_type": "display_data",
          "data": {
            "text/plain": [
              "Generating train split:   0%|          | 0/84848 [00:00<?, ? examples/s]"
            ],
            "application/vnd.jupyter.widget-view+json": {
              "version_major": 2,
              "version_minor": 0,
              "model_id": "8f152a7597d94cc1b7593d02fea2f366"
            }
          },
          "metadata": {}
        },
        {
          "output_type": "display_data",
          "data": {
            "text/plain": [
              "Generating validation split:   0%|          | 0/9982 [00:00<?, ? examples/s]"
            ],
            "application/vnd.jupyter.widget-view+json": {
              "version_major": 2,
              "version_minor": 0,
              "model_id": "5ce6f7857e6f463c850bc5c73b59f0f0"
            }
          },
          "metadata": {}
        },
        {
          "output_type": "display_data",
          "data": {
            "text/plain": [
              "Generating test split:   0%|          | 0/4890 [00:00<?, ? examples/s]"
            ],
            "application/vnd.jupyter.widget-view+json": {
              "version_major": 2,
              "version_minor": 0,
              "model_id": "44a612e3bf4b4403995d2668dda7a99f"
            }
          },
          "metadata": {}
        },
        {
          "output_type": "stream",
          "name": "stdout",
          "text": [
            "Dataset speech_commands downloaded and prepared to /root/.cache/huggingface/datasets/speech_commands/v0.02/0.2.0/ba3d9a6cf49aa1313c51abe16b59203451482ccb9fee6d23c94fecabf3e206da. Subsequent calls will reuse this data.\n"
          ]
        },
        {
          "output_type": "display_data",
          "data": {
            "text/plain": [
              "  0%|          | 0/3 [00:00<?, ?it/s]"
            ],
            "application/vnd.jupyter.widget-view+json": {
              "version_major": 2,
              "version_minor": 0,
              "model_id": "9a5b99dde0e547a6b6c40c08de6b4266"
            }
          },
          "metadata": {}
        },
        {
          "output_type": "stream",
          "name": "stderr",
          "text": [
            "<ipython-input-8-82f1639c9028>:2: FutureWarning: load_metric is deprecated and will be removed in the next major version of datasets. Use 'evaluate.load' instead, from the new library 🤗 Evaluate: https://huggingface.co/docs/evaluate\n",
            "  metric = load_metric(\"accuracy\")\n"
          ]
        },
        {
          "output_type": "display_data",
          "data": {
            "text/plain": [
              "Downloading builder script:   0%|          | 0.00/1.65k [00:00<?, ?B/s]"
            ],
            "application/vnd.jupyter.widget-view+json": {
              "version_major": 2,
              "version_minor": 0,
              "model_id": "f6a1541d6e9a4bdda9f7f9e7aee1cd1e"
            }
          },
          "metadata": {}
        }
      ]
    },
    {
      "cell_type": "markdown",
      "metadata": {
        "id": "1On9QOzZfsrW"
      },
      "source": [
        "The `dataset` object itself is a [`DatasetDict`](https://huggingface.co/docs/datasets/package_reference/main_classes.html#datasetdict), which contains one key for the training, validation and test set."
      ]
    },
    {
      "cell_type": "code",
      "execution_count": 9,
      "metadata": {
        "colab": {
          "base_uri": "https://localhost:8080/"
        },
        "id": "6Egpbwfpftad",
        "outputId": "5e18f55d-be15-4972-f837-444b383baec4"
      },
      "outputs": [
        {
          "output_type": "execute_result",
          "data": {
            "text/plain": [
              "DatasetDict({\n",
              "    train: Dataset({\n",
              "        features: ['file', 'audio', 'label', 'is_unknown', 'speaker_id', 'utterance_id'],\n",
              "        num_rows: 84848\n",
              "    })\n",
              "    validation: Dataset({\n",
              "        features: ['file', 'audio', 'label', 'is_unknown', 'speaker_id', 'utterance_id'],\n",
              "        num_rows: 9982\n",
              "    })\n",
              "    test: Dataset({\n",
              "        features: ['file', 'audio', 'label', 'is_unknown', 'speaker_id', 'utterance_id'],\n",
              "        num_rows: 4890\n",
              "    })\n",
              "})"
            ]
          },
          "metadata": {},
          "execution_count": 9
        }
      ],
      "source": [
        "dataset"
      ]
    },
    {
      "cell_type": "markdown",
      "metadata": {
        "id": "7mxjQRdFf9xW"
      },
      "source": [
        "To access an actual element, you need to select a split first, then give an index:"
      ]
    },
    {
      "cell_type": "code",
      "execution_count": 10,
      "metadata": {
        "colab": {
          "base_uri": "https://localhost:8080/",
          "height": 173
        },
        "id": "A1HkBrtagA2P",
        "outputId": "29312bbc-30df-4a76-8790-bb55441e62ea"
      },
      "outputs": [
        {
          "output_type": "execute_result",
          "data": {
            "text/plain": [
              "{'file': 'left/a2473d62_nohash_2.wav',\n",
              " 'audio': {'path': 'left/a2473d62_nohash_2.wav',\n",
              "  'array': array([-0.00143433, -0.0039978 , -0.00057983, ...,  0.        ,\n",
              "          0.        ,  0.        ]),\n",
              "  'sampling_rate': 16000},\n",
              " 'label': 4,\n",
              " 'is_unknown': False,\n",
              " 'speaker_id': 'a2473d62',\n",
              " 'utterance_id': 2}"
            ]
          },
          "metadata": {},
          "execution_count": 10
        }
      ],
      "source": [
        "dataset[\"test\"][1000]"
      ]
    },
    {
      "cell_type": "markdown",
      "metadata": {
        "id": "2XcaQLD2gEOm"
      },
      "source": [
        "As you can see, the `label` field is not an actual string label. By default the `ClassLabel` fields are encoded into integers for convenience:"
      ]
    },
    {
      "cell_type": "code",
      "execution_count": 11,
      "metadata": {
        "colab": {
          "base_uri": "https://localhost:8080/"
        },
        "id": "5U8OejQjgGmt",
        "outputId": "b620dd8e-de6a-4506-bcc6-9f1d62e8b2be"
      },
      "outputs": [
        {
          "output_type": "execute_result",
          "data": {
            "text/plain": [
              "ClassLabel(names=['yes', 'no', 'up', 'down', 'left', 'right', 'on', 'off', 'stop', 'go', 'zero', 'one', 'two', 'three', 'four', 'five', 'six', 'seven', 'eight', 'nine', 'bed', 'bird', 'cat', 'dog', 'happy', 'house', 'marvin', 'sheila', 'tree', 'wow', 'backward', 'forward', 'follow', 'learn', 'visual', '_silence_'], id=None)"
            ]
          },
          "metadata": {},
          "execution_count": 11
        }
      ],
      "source": [
        "dataset[\"train\"].features[\"label\"]"
      ]
    },
    {
      "cell_type": "markdown",
      "metadata": {
        "id": "zQRZuivggJ7w"
      },
      "source": [
        "Let's create an `id2label` dictionary to decode them back to strings and see what they are. The inverse `label2id` will be useful too, when we load the model later."
      ]
    },
    {
      "cell_type": "code",
      "execution_count": 12,
      "metadata": {
        "colab": {
          "base_uri": "https://localhost:8080/",
          "height": 35
        },
        "id": "_PfwNlFTgNZX",
        "outputId": "1ab17dc7-97f0-48dd-cb81-fd5b4d9b2cb2"
      },
      "outputs": [
        {
          "output_type": "execute_result",
          "data": {
            "text/plain": [
              "'go'"
            ],
            "application/vnd.google.colaboratory.intrinsic+json": {
              "type": "string"
            }
          },
          "metadata": {},
          "execution_count": 12
        }
      ],
      "source": [
        "labels = dataset[\"train\"].features[\"label\"].names\n",
        "label2id, id2label = dict(), dict()\n",
        "for i, label in enumerate(labels):\n",
        "    label2id[label] = str(i)\n",
        "    id2label[str(i)] = label\n",
        "\n",
        "id2label[\"9\"]"
      ]
    },
    {
      "cell_type": "markdown",
      "metadata": {
        "id": "Xq984OIqgRhJ"
      },
      "source": [
        "`Wav2Vec2` expects the input in the format of a 1-dimensional array of 16 kHz. This means that the audio file has to be loaded and resampled.\n",
        "\n",
        " Thankfully, `datasets` does this automatically when calling the column `audio`. Let try it out. "
      ]
    },
    {
      "cell_type": "code",
      "execution_count": 13,
      "metadata": {
        "colab": {
          "base_uri": "https://localhost:8080/"
        },
        "id": "0c0U0EbvgTxI",
        "outputId": "533448c2-a54b-4591-b017-c79e762b1bcd"
      },
      "outputs": [
        {
          "output_type": "execute_result",
          "data": {
            "text/plain": [
              "{'path': 'left/a2473d62_nohash_2.wav',\n",
              " 'array': array([-0.00143433, -0.0039978 , -0.00057983, ...,  0.        ,\n",
              "         0.        ,  0.        ]),\n",
              " 'sampling_rate': 16000}"
            ]
          },
          "metadata": {},
          "execution_count": 13
        }
      ],
      "source": [
        "dataset[\"test\"][1000][\"audio\"]"
      ]
    },
    {
      "cell_type": "markdown",
      "metadata": {
        "id": "z7YrFRl6gbjm"
      },
      "source": [
        "We can see that the audio file has automatically been loaded. This is thanks to the new [`\"Audio\"` feature](https://huggingface.co/docs/datasets/package_reference/main_classes.html?highlight=audio#datasets.Audio) introduced in `datasets == 1.13.3`, which loads and resamples audio files on-the-fly upon calling.\n",
        "\n",
        "The sampling rate is set to 16kHz which is what `Wav2Vec2` expects as an input."
      ]
    },
    {
      "cell_type": "markdown",
      "metadata": {
        "id": "MiM7ucQjglHj"
      },
      "source": [
        "To get a sense of what the commands sound like, the following snippet will render \n",
        "some audio examples picked randomly from the dataset. \n",
        "\n",
        "**Note**: *You can run the following cell a couple of times to listen to different audio samples.*"
      ]
    },
    {
      "cell_type": "code",
      "execution_count": 14,
      "metadata": {
        "colab": {
          "base_uri": "https://localhost:8080/",
          "height": 569
        },
        "id": "cz6HWeHFgmEy",
        "outputId": "a5c47ed3-c8f6-4352-f90a-8a1c749f244e"
      },
      "outputs": [
        {
          "output_type": "stream",
          "name": "stdout",
          "text": [
            "Label: six\n",
            "Shape: (16000,), sampling rate: 16000\n"
          ]
        },
        {
          "output_type": "display_data",
          "data": {
            "text/plain": [
              "<IPython.lib.display.Audio object>"
            ],
            "text/html": [
              "\n",
              "                <audio  controls=\"controls\" >\n",
              "                    <source src=\"data:audio/wav;base64,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\" type=\"audio/wav\" />\n",
              "                    Your browser does not support the audio element.\n",
              "                </audio>\n",
              "              "
            ]
          },
          "metadata": {}
        },
        {
          "output_type": "stream",
          "name": "stdout",
          "text": [
            "\n",
            "Label: three\n",
            "Shape: (16000,), sampling rate: 16000\n"
          ]
        },
        {
          "output_type": "display_data",
          "data": {
            "text/plain": [
              "<IPython.lib.display.Audio object>"
            ],
            "text/html": [
              "\n",
              "                <audio  controls=\"controls\" >\n",
              "                    <source src=\"data:audio/wav;base64,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\" type=\"audio/wav\" />\n",
              "                    Your browser does not support the audio element.\n",
              "                </audio>\n",
              "              "
            ]
          },
          "metadata": {}
        },
        {
          "output_type": "stream",
          "name": "stdout",
          "text": [
            "\n",
            "Label: down\n",
            "Shape: (16000,), sampling rate: 16000\n"
          ]
        },
        {
          "output_type": "display_data",
          "data": {
            "text/plain": [
              "<IPython.lib.display.Audio object>"
            ],
            "text/html": [
              "\n",
              "                <audio  controls=\"controls\" >\n",
              "                    <source src=\"data:audio/wav;base64,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\" type=\"audio/wav\" />\n",
              "                    Your browser does not support the audio element.\n",
              "                </audio>\n",
              "              "
            ]
          },
          "metadata": {}
        },
        {
          "output_type": "stream",
          "name": "stdout",
          "text": [
            "\n",
            "Label: house\n",
            "Shape: (16000,), sampling rate: 16000\n"
          ]
        },
        {
          "output_type": "display_data",
          "data": {
            "text/plain": [
              "<IPython.lib.display.Audio object>"
            ],
            "text/html": [
              "\n",
              "                <audio  controls=\"controls\" >\n",
              "                    <source src=\"data:audio/wav;base64,UklGRiR9AABXQVZFZm10IBAAAAABAAEAgD4AAAB9AAACABAAZGF0YQB9AABnAPAAxgFvAeUCdQQUA3ICWANZBF0DFAOKA94DcASKAwkEQwQuAzoE8wJ+A2IE7AKBBKcG8wZuBZwGtwjSB4wHQQg5B8EGNwfwBg8I3AjxCNUIhQcBB8IHPgcWB2sHgAf9B/QIuwgLCNwHDQdTBwAGrgb6B2EH1weRCX0LsQoTC/UKqwl5C1gLrglwCToJYwYQBbgGywYPBxoFJwQ2BZgEbAXBBY4GhAbFBVAG6wVjBucHtgcwB+YI+Ah+CNwHtAh8CA8HAAmwCKoH0AgvCYUHPgfBBUMDZwR3BM4DrAKJArsDigMnBMkDZANpA7MCiwJSAWUANP+k/a39PP2V/Cv8TPw8/NT7pfvm+sj68vko+j37t/oD+9H6gfr++hj7+fp1+tb6A/wm+0T6VPpj+kT7DfyR/eH+0vzw+1X8i/uX+/D66Pkq+i/7/vps+kb6jPna+Lf5wPg5+Pj4/Pf2+GL5sfcM97/2DvZq9rr2fffi9yn4n/hM+Gb3ifdI+A/3S/bP9db1O/as9jj1UfQJ9RL0RfNv8unyR/KL8cjyv/PL8wb0PPQw85zza/Mb8zDz3/EM8oXzgvOz8ijywfGz8uPzk/TA9J/0WPTv9Cj2RPWW9RD2MfVZ9eT11vZf9+D3Rfc398T3rfh3+FP34fgg+bv5w/n4+HL5W/lY+B/3qvfL94f3YPbY9cb22/aL9vv11vVT9zD40PfN9zD4JPhj9573SPke+jr5z/qQ/E39Ov1y/aT+YP56/qv+uP8VAFn+VP4a/x//w/+8/8P+XP9L/zv/agFUABIAFgLYANMAegGSAacB4P8S/tr+Lf9K/Z391/1e/qf+uf3c/Fj9IP6B/pf/dv9bAEQAtQDKAfIBpACp/uj9iv70/p/+uQC/AdQCVgM5AoYBEwFSAX8As/9X/3j/kv9LALj/kf4Y/3f9Qf1G/Yz8IP0U/aT+i//Y/5L/pf8gAH//2ABIANT/AP/4/Zf/x/7F/n3/Tf6F/Uv/6QFOASMACwAoAbkAR/9/ACYBqf/A/tP+af4H/6D/lAD+ABcA/AFRAksBSgJXAVAB/AKAAjsBrgB9/6n/IACK/pL/gwCPACgBZQAYAXoAR/9L/5j91/2d/Rb9OP7J/In8//wE/swAZwCrAE4BhgBIAD3/Dv93/lL+Pf4e/fD+m/9X/7X/SP63/sP/HAH5AJL/LQHyAYQCMgKvAsgFSAQwAtoDBwVWBD8Ehga7CDQLeg74EV4TfBKhEdsPLg1wCJcCev+9/JH4Effr9XnzzfK284H1P/ZN9Q717vIg73PtT+wq7Yjwx/T9+XwADQjED5wV6xeeGCUW7RHICokBkfn979Pn+eP74rvis+TT6Evsx+9B9Ev1KvXv9dr0gvJW72XtHux47dzwJ/T59p/4qvjN9/71CvOg7ePmDOGk2i3Xx9XH1BLVKNft2srfneMh6I7rX+8W8/XyLPVs9Wn0p/Yb+ez4F/mg+638QPwu/T3+EACNATAC8gQkBk8IFwl2B3UILQp+Dc4NqQ5GEmwT6xPbFG4WchWsExASdRH9ECgOeg1YDIkK/QhnCIkH7QV7B+wGhAZRCIMJXAoTC4MMQA8zEokTPhQkFIsU1hO1EhMTZxIRE8gTAxSAFVkW6xZZFnkUzRNZEgMQhxABEb4O6A0cDgcOIQ97Dw8QURAPELARYhIME7wSfBIhE3kReREOEgcSjxGdERkS7xHaEUIPEA4CDpoMkQ3rDWwN6w4+DzgO7AzCCysMpgz3Cl4KCguAC2wKVAhYCCAJLAk8CI8IaQlnCZEIDgkvCYAHvwY2BgcGOAT5ASMB9wDIAWoB9AAjAbgBCgLuAioE2gP0BGQEJAMiA3YCAwLwAHoB2wF2Av0DtgNIBFkE1wOrA3QDZwQHBWoFrAWnBXsGkweHB9UHFwgzCLIIwAhKCGsHLwZ1Bc8F4gV/BpIG1werCAsJ9wkjCggLsAjxB4cIlwedCPgHTQjSB7MGlwenBikHKQfJB0EJUwcIB04HaAdbCLYHKQelBr0G8wekCMIIQwinBqcFoAWsBX8FgQXkBGYDowJeAYoACQGnARYDEwamByUIGwiVBqUFPQXyBTkGZwUOBfkEZwScA2kDPgJ5AgMC/AH6AikCzwGYAFQAqf9Q/+3+lP4j/yH/4f6K/hAAUv/M/l7/lv2e/Bj8P/oj+vD6mfps+x/83ft4++77p/sm/DX8/vo9+uP5evpJ+pf7D/x4+vD6pfxp/eH9X/3//Lb92fyl+1r7Dfzl/KP8/fzh/Qv9LfyV/Mv8CvzP+5X8xPw6/Ub9T/47ARMCuALeA6YDzgMnBBwFDAUzBKsD+AJDA60EgQU5Bo4H7AY9BkwHywY0BkIGlAX1BeYEpgOmA0sEEAWDBFkEUwYpB/wGAAlDCEEI4wjWBkcGLAUCBMwEfwW6BZcGDwciCCII4wj7CRIIQwfBBlAG/AVRB3YHAQgACpsJZQorC0wLTAsIC2MKMQrTCQUKRAoHCo4LrwtqC5ILKAlRCO8ImAiMB7EHfAhkB1oHZAgsCTEJUAnYCOoIqwhWCPgHrgb1BvAF6wXIBfYELwW4AuYABQGU/wz/I//2/dz9yf35/gkAVwB1AI0AgQHNAkED5wH0ANgAwwDk/93/+f6k/Wb9ffyc/Pj98f3j/I79Bv0E/bv9fftI+fH42vgB+EX3NPZJ9pD2Cfas9gj3uvbg9mj2t/U99fH0fvTL8xbzePIR8lLx4fBN8SjxgfAJ8NLufe7q72vvku4G7wzuK+7v7KHrM+wz7G7sce2q7h/uMu+C7wruy+6M7+7ubO3H7MPsI+0n71rvTO5f7j7vMfAg7yDw3/CO74Du4u367nnvk+/x7wTwjO8G8Pbw6fEs8WPxCPOU8iXxPPCd8abwLPB18RnwO/GX87/zCPMy8q3zivR59I316fZc91D2JPgb+bL4nfkE+fj4Yvnf+XL5xPiT+dX4SPj5+cX65Ppg+kP5Jfk++I/1N/OH84f3i/rI+r762/px+zL7YftY/C79a/1k/a385vpI+dr5EftT++n7gvz4/cD+8v4JAF4AvP+N/t/9Dv5w/bb9lfy1+878kf0J//H9YfxT+937lv7i/2IAcwCE//7+Gf0O+jP5WPfX92f5NfnE+Aj3PfZL9fT0EPU09nH2Wfao+OL3i/az9s/2FvfS98/6rPqG+pb64/np+qj46ffz+Nv6XvsF+3z6tPhU+UP5tPh++Rz66fps+v/4Cfos+hP7pfw9/pv/tP1p/Uv+c/6B/g7+rP+w/0n/BwHDAN0AwwBzAM3/rP+YAOYAIQGjAmAELAQjBEkFXAbTBAAFMQURBnsH0gbHBw4G+QXzBjkGXQRVAgUCTgEyArwBVQJrA8AEtwWrBB8GoAZZBeoDwgKVAgoDSAMgA+oCPwRGBVQEwAP4A3wE1QOjAn0BkP8F/7//Qv8V/5b+hv5EAN3+Pv3Z/Jr8b/s2+iz92v3j/er93vyH/RT8Qvu9+7H7pfw3/ej9n/5e/pr9Yv1I/V/8d/2K/Tz8wv3d/vn/ZQEHALX/UgFXAc0B/AHyAB8C/gHu/wcAIwAJ/z3/+f4jAHMBKgEPA0IC1gFKA7MCqAJWA1YEYgPNAogEzgSwBFQEaQQzBAYETQRwAzEEeAV7BocHjgbYBdsFgQT5BKgHxwihCAIJJQl4Cc8KAwwLDWcNLg0MDi0OVA3UC0sKqwkiC4AM9QrxC84MyQv8C6sMFA1pDbUOLA1KC5wLawzUCx8KYwplCSgJLwluCMoJfQveCwYM5A2uDogOYA6kDQAOeg5ZDegMRg3oDZUMrAsQDQ0NwgyfDDMNvwvdCjALHArPCXYHMgcGCCIHfgdaBvIEjANDAz4DGgLvA8ME7wNDA2EBBwCU/5T/SwAt/yz+F/7c/Aj8dPsW/MT8Ivx7+337z/od/NL8Nvt/+8/6kfmd+nP64fgN+TD4YPZF96b4efcT94T3BffJ91b4svim+HH3MveE9tP11vXr9Wb0xvMZ9TT3Xfk1+U/4Zvhi+fH4XfjJ+Mb3MPfZ9xb4pPl6+Zv6nPwm+6f6jfou+QL5vPrR+qT6TPsi/cz9yf11/iz+sP8oAQ4AZf84AH//Bf+3/gf/bP8XAG8BAgHhACUAYgAoAC8BkAJ6AeQA4v9A/xD/kv9v/8H/gwAeADEACQBj/3j/qf9J/6z/GgE3AtEB/gAjAJ7/8P9V/+n/5P+w/nb/6/+b/y3/Kv5U/u39AfxA+4T7gvsJ+j36VPr/+GD5j/lZ+pv6p/pQ+qr4//hy+FH4EvmE9xj34vav99D3yfeY+Cn4cvlP+S753vhC9wL5gPhm92v4HfgG+Nf3mvjX+A35Uvlk+An5q/nj+Nj5+fqv/M/+gf44/sf9n/0Q/vT92v6Q/5sA4AIYAh0CxAIUBIQFIwS5BHMEzQW9BnQGxwdRB7EGewdeCb8H2Qb8BrAFygXbBVoGrgbnB/sIVwlBCPMHLgfbBjcHXgWsBSoE+ANJBlUG1Ab1BkEIuQgACfQJfwr8CmAJ0wlXCl4JdwgsCOkJfAmpCc0KrArZC2gLYQpEClkKGQlgCd0KZgvbCogJUQiqByQH9QYRB8gG5wZDBw8IcgdYB+4GrwczCPEHwgjQB1sIQAetB8IILgeFCFgI+AceCI4HfgdrCNIHMgYuB8UIUgpCCtQK7goQCTwINAqUCqsJcwnUBvwGuAY7BUYFfAT/AwkE7QRzBe0FIQXhA7YDywIGA58DjAMLBDsCygFFAysDqwMSBKgDIAM1AzUDMgOeAjAC8gHiAfECIANkBHoFzwWSBUgE0AP8ArEBjQC1/67/zf/p/7//Y/+kADQBtQEjAbAA0wB9/y0BQQAs/t3/H//H/sH/EgDmAEsBxQBsAPABGAL8AQgCYQG8Aaz/6P5H/9/9ofyv/PP7O/or+wX88/zC/ZH9Yv51/sf9l/wT+1L6Y/ov+2X6+PgE+e/4Lvnd+tj6UvpQ+zn8b/tJ+rT5w/mt+bv4i/fX98745fd69mD2gfbV9LHzIvRP9K/zlvXI9k/1xfUY96r3xPgN+eL3N/g5+Nf43vi2+Mz5/fm/+zX8cv3//Nf8lP4W/aH8OfzU+zz9OfzG+4n8lPuu+4n7Uf1U/gL+af42/rz+0f4zACEB4gGQAv4BRwIuAz4DJgLXAqgDJQTABDwEGwQqBOsEogXBBvgHcgd+B2sITQiFCCUJfghYB2gH2QfPBdwE5ATvBHgFDgb5BRoFIQVgBSMF/AWjBkkFugUOBbcEBwVqBT0FSwTYBd4GHQYvBWgGpwYeBfUBWwCsAbYC6gJvAs0C3QHrAf8CpQJHAToARgCu/wcAhv9P/n//rP/r/gkAGgK1AC3/6AC1AHwAFQCp/2X/NP8H/3P+kv91/jX9iv7B/5EAUADDALD/zP0x/sL9v/zS+3n8Af15/bL+6P7Y/iMAdQAv/3r+5/wU/SL9Vfzf/cf+uf4t/6n/lgCQ/5T/tQC4/7X/I//+/kD/w/5uAHgBYwEtAucBGQMBAzIDzgMMAX8BpwGdAJsBYwG8APD/sv6u/7X+B/6N/vj9Cf65/W79Jf15/UH+Bv33+9b7a/n/+Gv5Avoz+qn5lvlg+sv8Yfxv/PH8kvsI/Nf80Px0+3j6iPlm+A/4ivjs+Lb4y/g6+YH5Qfly+Nj2Fvg+9771V/VL9SP1FPMB9DLzyPLg8xT0xfSe8+rzIPQ+82700PQU9E7yEfL58anwwPBg8Bbv+O5k77HumO+o7tvuAe/+7aLw9PBG8SXwBu/m8D/xQfDJ79PwsvCM8GXxKPJx8mvzcvNv83/1f/UC9m/2Ava69iH2avY/9hP2dPfp9iD4Vvl1+Qv6APst/NT7kPyT/Z7/z/9P/tb/mwA6ABAAmABHAZcBzACgAKQA6wHJAsoBdwTXArcAYwHvAyMF6gL5BFYEWwSYBAED+AOhA7YCUgHTAA4B9wGxAg8C5QJ0Ar0D7QTfBN8FJQWPBWwEtwSsBVwFZQYlBQwFbwYoBtwE1AIdAmsDbQMxBKYE5QN7AyQD/wPuARwBmQGRAI8Ayv9IAMj/2//bAbwBGAIhArUBrAEAAOQAAwI2AYQCxAOYBIwEugXEBiEGdgapBZQF2wW7Aw0DAQOVA+gE5ARlBawFngb1BQIFQAZFB2kIyAl4CmoKiwqPCAsIyQi6Bj8FiATJA9oDPQXRBQIEcgNbA20DsAThA34D3APLA8QD1QNpBN4DIASdBakFdgYbBz0GeAbvBAsE+wR3BOQEBwUVBe0EzgQtBhAFogS8BY8E4QPxAysDqANSBBAEqQQ2BbAFjwSbBNYFMwQSBAgDugJwA5oDIQUGBMwE2gRrA0EEdQTTA4ACwwEAAIH+Uv/d/nX+nf6w/oH/ZQBZAc8BdgJLAcP/bAA/AKf/Nv8E/k3+IP7R/rz/PwAFAnQCzQLJAqgCdAPhA60D0wOVA08DFgJmAqYE9gSmA9MEjwRwAz0FogRUBMcElASKBCMFeAX0BMAE1wMNBAsEmAOAAlUB5AH1Ak8DhAISBN4D8QJrAzACYQF4AJQBkgH7ADsCwgIbBJMDywI6A5ACtgI7BfMGCgdrCMUI3AeKCd8JDQjUBn8Ggwh4CcoJ7gopDGwNFw6BDtsOUxAZEXcQghAGEEUP5g7BDqkOFg+uD9UNzgzXDIcMBgxOCzkKQQn5CXkImge5CEEIvQeqBxkIuwhKCP4GcQZOBwQI5gWZBR8HEQZcBiEFUgWUBcoEpwaLBhQHzwUEBIcDxAJ9ARoBJAL1AdIC6QGGAbMBHACiAAcBWQHrAMoB4wN5Ar0C8QM+AvABMQF9/3oAOQFEAPkASwETAQ8CRQKRA8ADdwMgBHcDJQSRBHcEYgMvAaUC+QH3/3wAXv9V/wL/2P5A/yP/1f39/FT9PPw5/Oz73fqB+oz5SvhI+dz5L/qp+ov6Mvtq+qf6cfuc+8r6rvqs+6P79/qD+j/6nfrX/Bn9xf3A/ir+m/4H/1D/HABO/3D+0/7F/eD7Z/rS+8n8EfvY+un6z/oK+2P7YfvK+RD51Ppk+cj2h/d79wP3O/aN9dP11vUx9mz2p/ZL9hn15PUT9/L28vUL9XX0FvTx8xzyMPMJ9Sr1RPXe9Gz1SPQd8wHzhfOv9HnzTPPW8rLwpPFg8cnvgO9S8Ibx5vCd8N3xy/M+88jxYfKL8ZTxlPEE8QDye/Jd9Kv0qPOt9D/2Bfaa9AT0MPQZ9Aj0CPSv80/0q/SS8jvxJPKD8f7xMvID8oLzK/Oz8qrzOvVn9bL02vS485PzPPSh8yX1CfYG9bb0q/UN+Lb3zfc4+TX5ufmr+dX5hfkQ+kn7uPus+nX69ful/K39Gf1w/eb+R//F/kH+6vyl+5X83PyH/a/9Nv5g/64AuQDi/2UAff+gADYB2P/5/w4A3f8vAAIBIwGRAI0AvABiAJL/RP7P/v7+Kv+6/yH/gf9o/3b/8P9BAN0AHAHP/6v+Kv9q/67/6P7F/mP/O/+A/dv7/fzn/Df9af1v/PP7nvyA/N37xf15/XL9vfwv+zP9R/yC+1/8Lfzn/Ob9sgATAdMA0QF6AWwA5P5Z/gX/Sf+r/oEAMQGdAP4Al/9A/4T/Nv/D/93+bP7r/zQBIQFS/67+RP9x//D+Qv8gAB//Ff77/SD+P/66/0QAmADuAYEBIwGJAQcBogEIA7UBUAFqATEBjQE9Ad0AHgBnAJIBwQFRAlMDZANtAyQDUgHoAB8B/v9UAK7/V/8YAbEClQNuBAAFsAStBJMDnwMSBFgCiwJMA4ICEQJVAVIAKgGXAucCnAKbAAQAFQCN/hL+f/7J/Xn84Pzs/Hf9wP53/vL+6/5p/vf+Y/+8AFIBXAE3AloCLAQQBIcDCQXkBH8FogS/An0BugEfAqABZgKgARABpQKVArgBugJoAv4B6gP4AvABkALgAacACQAhAYkBmwEgA+0ExQQZBMwEtwTVBNME9gMlBCUElgRPBP0E1AaMB6MH/AWUBWoFUgUuBOED9gTsA4QFEQZABuAHxAfoCAsJHgk9CcwI+Ag7ChwKKgnNCjQLrQymDWoO1g/PDmQNuQxSDQAOEw7LDDwNrg7DDpkP5g7rDloPtw68Di0ODA4HDhoOkg63DcMNrQ2RDeENgAx6Da0NjAxPDYoMCQ2+DpIPnxAlEdYPzA2LDnoOhwzJDCQMBwnCB3IInQgjCTEJtwjLBwYHFgdkCIwINAZ9BokG+QUmBtYFwwTEA1sENALrAToDxgLKAT0B5AGpAGkAcwGgAbMC9wEv/wwB5AESAA4AAABo/0D/jf9A/xIACQFSAEABbwJVAhgCdgI8AzICngH3/9H/mwDr/h//YABwAKn/ZQBXAbAA7v/p/0AB8ADY/4r+Kv5A/9H+6P4cAGcAff8JADQBPQBE/wkAfQHXAtsCOQLPAe4CzQHFAGgBKgCKAKcAbwFxATACyQNmA/gDyQNxATsBTgHI/wQAz/6w/8wAMwAoAIYAvwHZAaABigDhAGcAAgCgAIYAoACPAGwAHgD3AFIAXgA9AJ/+T/5X/6f/Vf+g/2j/Kv+O/X38qP1P/Yn8hfxM+2D6L/sF+zj6t/o1+Wr3ifdc91/3ivV282n0ZvQN9Dr0gvOH8zzzWvID8kDygvOe8vDxo/J28r3zTPNK9F71RvTT9Gb0JfTj9AT1fvQG9HD0YvUE9YD0y/Nb9Kb04PMN9Jb0wvMd8z7zrvEH8i3ycfJV8yTzQPPB8vfyu/Sn9QL1HfRd81Xz5/PF9J31Qvav92b3H/f/+Jj4C/kN+GH36Pgb+ID3+vdr+KH3bvnp+jn73vxb/dz8CvxJ+4b7R/xH/I78/fzc/cX+cP7R/xwB1v/k/v7/BwG1/0f/w/8EALP/SABAASECXwNjAo0B+QDgAfEC5QKUBKwFOQYIB1wGFgc8B7wEwAO5A8MEiwUcBREG8wYbB8sHRwfnBkIF6AM6BOAC9wGhAvMDrQODA/0DTwQnAxMC5AHyAUkBmf9SAKQA8AGoA5YEDgalBpsFxwQCBf0D8QKsAr0CXAEFArECDAGGAKkA6f+X/x4Ayv5V/0sAhP80/+f/dv8q/iX97Psm/Iz86vwi/ab9uf1Y/Mb8Bv3J/Gb96P3X/fH94f1Y/cX+bv5f/Vj9Df3x/dr9hf18/v38jfuX/Av9efys+9z8nf7k/7IAlADkAFUBpQG/AbIAVwHkAdH/2/+b/9j+iP9q/2j/QQDy/8D+ov4s/u3+EABQ/+0AcwAl/i3/Zf9v/8H/twC8AbEBgQHI/7P/EAESAAX/iP8SAPn/LQEVAYYAVQEVAZYAmwFFAl4Af/6u/jb+CP2//E789v3m/Q/9gf+b/zr+tv2M/Kj8Nf1b/SX+pP7g//L/5v4Q/1f+Rv3j/Xz+Rv6v/WT9ffxa/Gn94/xi/ZH+E/+b/sf+pP61/hj/h/0n/Tr9B/5V/xz/wP4q/wcA/P/1/38AEAEkAlcBEwKYA7sDqwPbAcgB3QGQAkUCaAFZAQsAmwDk/yP/YADQAg0ECgPSAr0CoAFjASoBQQCiAEkBwQHIAUsBLwEFAsYCwwGJARgBYgBXAd3/0f/PADEBOwJMAnYCAwJsAZABzwGwAHoANgFqAoUEJAZTB3wInQmkCeEJEgkIB80GEwbsBk8IhwdECbAJWQnpCWkJlAmNChgLlApoCt0JJQlICQ4KsAlNCbsITwjqCAAJqAjOCA8ITgbwBjAHKQdwCOMIUgm5CRoKeArKCo4LuAvgCpEJ9AgACcMJdgoACn8JOgm1CZAK4AoRC6cKHAovCZoHIgjXB+AHIQpeCVQJJgoLCaEHHwZOBrMF+QR+B3wIsgj3CWcJxQn5CTgJ3gd0B2AJPwh0B1gIIgiAB+MHmgc3B1wG9gTkBJgEIAT8AjEE+wMSBMUEzAR+BMsCwgO6AiIDyQMBAm8C6gKVA8QC7gF5AuIBGAGe/wL/9P7Q/c799v2h/YL8FPy2/eP9Ov51/QH81fzI+4L7Ifs4+gD64fm3+jv7nPvp+677Pfu/+7X7JvvM+sj6pPkE+fn5OPnl+Bn5Pvhq92/3LfeN9U/17fRT81j0PfVZ9Vv1OPXK9UH1a/RK9Dz0fPTe9PPzkPMm8zDza/SA87/yvPLp8tz0QfUO9QX2w/Uz9UP0afUx9Xz09/Vn9Qz3IfdX9qr3/PZJ90L3MPcP+ML4pPno+ZD7sfyX/A/80frT+Wv53/mk+aL52vlz+h38hvsy+9L7Av4T/8z+6/6D/vf+Nv56/hX+x/66/8D+i//w/2D/iv5b/lv+Dv4S/bX7h/0s/nf9+/5pAIEBQAEPAgMCmf+w/6T+5v1Z/wX/Tf6n/n8AHAEEAG4AKABSAEIBBwGgATkB9wEnA0oDtAOAA/YDbQNHAt8Apf9/AfUBVAAZAI0AXgAq/8z+0/59/5gASf9X/rL9IvyV/HH7GPuq+3X6b/tj+8z6FftE+qn6PfpN+j37Pfrd+sv7qvtT+2f68Puh/MH7uPwZ/Tz9uf3H/lcAvgCwAJQAYQEaASUAsADw/07/Zf8zAIQBZQGSAU4CQwMBA9QB8AErAgoCTgFlAIEANAF9AR0C5AEYASEBWwCs/yr/YP8qAG//7v/P/xD/9/5+/W/8uPwU/Vb9df5X/6L+B/5R/aP7TvsC+jz5tPm5+TL7FftL+ij68vnU+j36m/p9/Jb93P0E/dn8Hv2A/Nf82fyQ/Jr8UPua/E39tvyM/Wn+kf5V/88ATgHkAAz/Uv6Y/Wn9+P3O/aT+H/8Q/2z/uv/D/7UAEwFAAXgAq/56/ub9pP1B/mf+Ff5r/TX92fz++w77L/pC++n76fuz+7P7Afz5+ob7EfwD/Mn8dvxK/Nn8Fvzc/N/+z/56/o/++f5H/wX/HP/+/ub9TPxm/A7+lv4e/hn+pv27/TT/Nv4S/TP9+vtJ+5n60/lg+q76f/qU+pn65voR/A/9LP2v/EX8PvwN/AH8Bv2t/Z39EP5S/lj96P2p/lH9vv3H/mL+df6r/rX/2ADPAJgA8P/I/7D/E/+i/9MAWQBBAFoCwgMLBPgDkwNdA9cDvAStA/ECTAMDA68DYgOVA6QE4gX4B5wH5QYtBqoGOQaBBBQEvQOOA/ECGQOsAqIBVwE0AuMDVAV/BWAFYwXLAw8DCAPnAagCBgOOAiECFgLiATkCYgPsAnYCZQG8ABAAMQEfAWP/YwHNAVcA9f/U/5sAmwDIAagC7gF0A9ADtAP5BD0FHgUsBbAFpQX5Ba4GAAWgBdQGewerCYYJdwgDB98FFAQWA2IDYgMxBAQEgQXrBcwE6QVvBiEGegVxBa4FegVCBU8EHgUDBl4FygSFAwIFXAZlBY8EJQVMB5cHUwf2B3sH8wZ3CLIIEgguCDUHFQYHBXMEHgU0BYoEYAWCBikHRwbfBQMHUgXlA5oDYQKiAc8BIgMzBOUD2gNBA8sD/QMrAu8DwgN3A6gDCgIPA94CvwLsAxIEeQP/AgECYQIPA5UDkQP1AYkBKAFsAMr/9/5z/vn+d/6W/WT9x/2Y/W790f7d/gT+qvwI/T79TPw8/T78JPu4++L7Dfwr/Hv8J/6+/vL+8v6a/Xf+Uv6U/pT+3/3a/bT8e/xf/Fj9L/8f/27+HP8sAAcAhv8VAakAsP/IAFL/P/7A/RL9mP1d/ab9hf1T/GT8yfyl/Jr8Rv1y/df8MPwe/Zj+5v5nAAwBOwEHAQQAGv+s/+QAlAE0AvUB2QJHAsEBUwN0A0cCfQFKArkD0gIiA2QEbgSiBHcEXAXPBX0FQgXVBJEElgRwBOwDfAQcBfIEOAWdBZUGhAZZBQAGDAWZBUkGPQUoBicEmwS2Bt0FbwZ3CB4JCAgSCE4G9QXcB28GGga/BmUGcQY9BrYGUAb0BHUEDQQXBOUD3gO0BBcEDQTOAzkCogGQ/0T+0f44/43/sABbAPf/SwF1ANT/9AAxAa7/7f42/xz/B/+bAA4AhP/d/6z/swEaATb/0/5c/5/+Mf47/8f+w/7j/ZH9D/2o/If89fvf/Wn+qf5I/u/9xf3A/uf/GP/+/0L/Gf6K/ob+Gf46/p3+Av/W/vv+Dv9g//wBNAJlAXwAE/8f/5n/FQB2/8P/VAD3AGMCggLQA3cESgP4Ag8CRAE3Ap4CGgEmAWoBrAF9AkkByP/N/z8A5P/aANQB4AEyAjQC+ALEAjUDugJ2AVgC0QFzAQ4B5gAtAfAA0QDI/1cAJgGGAOsAsAD3/w7+k/1n/jP9MP3E/Mb8Pvyj/Cn9rfz6/Pr7vPqf+ev6Dfys+7z6vPrc+fr3Wfm7+ZP50/mr+Un6Kvn9+Eb5zvjl+KT5lvnv+Kb5u/h0+ML4LvjX9/72xPvZAbX/l/96AEj9tPxE+0H4yvUC9hr3w/b6+KX8dPsz+db6k/mF+bL5FPlC+q76IP7o/aP8ZP2x+xb9lP+X/4T/c/7V/XD9K/vM+h76c/oD/Nn74vt0/NL8Jf1O/4sBJwOjA9EB2gAcACMAVwD3/zEA6/8CAAf/nf6GAKcAogCpAPX/+QDAAHj/Bf8a/5n/6f/YAOUCEgTOBEgE5wKtA58EOwU0BTwEeQP4A0EE8wP2BIgE4QQeBT0FPQUnBMIDGgLJAqMDnANCBToEDwOmBPQEggLPAZoCjQG6AXICTAOfAykCqQAHAEQA4P+KAFkBQAI8BNwDiQIRApEA2P5C/8f+vP7T/tj+bgC6/77+iP6R/sf+gf4L/sL9F/6I/v39k/zu/K/8hPvt+rX65/uM/JP85vqG+uX7l/tj+/P7KPu++br6VftC+8X6QvoI/HH75fvQ/SD9//1L/h7+vv0n/W/8Sft2/I37Mfpl+4T7cfus++b6rfkJ+l760fnA+Tb7QPzW+kn7MvwK/L38Q/1v/PP8N/1O/A38Lfy//B/87/3C/f/8SP7a/Y/+rv4s/Vj8/Pty/J77Y/tr/QH9zv0c/jP9iv1V/KD7Ev2K/mz+Ff75/uH+bv3H/fH9SP6y/gj99fsD/AT9G/3F/Qn+bP6i/tf8mvzz+4T71PrR+pD7M/0n/pj9E/+wAHgB+QB4ADkBBAB5/Sv8e/xk/UP83/qg+6D78voO+zv7aPsE+qf6UvoH+hT80/nh+S37oPqp+mz6uPsY/Gb8QPwO+9b7PvyJ+x38af2F/QT9N/1B/VT9Vv1i/fT+GP/K/tr+qf82AAL/p//Y/5n/jwClARwAp/5e/xP/HgBO/3//WwCB/+UC3f6qB1kF8v7DAU/+qgKC/BQHLQI+AtwDbAFVAhYD3wg9/usEbABHB1ECVAnZB1kADAtiANMMHQbxB5sJngZSCb0G9gdHB0cG7gFABnUFoww6DH4I4QkTC0gIpQXCDEsNwgeCBngKlgRsBbcJDAVZBOkGEgg0BkAGFwjBBYgErAapBI8FQAbdBU0ILAhDCOEJ0wm4B6oHNQcVCX8F0QR+B4UDTwOvAn0FagXaA1cF5AWnBW4FtQVnBU8EXwP1Bd8EPwRpBP0D9ATKBeIFVwWbBfYEeAWpBG4EiwJ9ATEETwO6AVoCwwGiANYB3QGLAegAHgAjACwAgwCw/hD+9P5B/mb9Vv3v/d/+dv+//wn+A/wU/Pz66fsr+8n3YPnp+i753/rV/b7+Pf5y/c79+PxU/Sv85vpH/Hz9aP8eABIAygAqAIH+W/1m/Rz/If+3/nf+wv1i/l/9vv37/cb8vv1U/pv+R/+e/4v/RP+G/9b/w//PAJwC4gGvAvMC5AFaAoQCzQEcANH/8P6N/iAAEACw/wIAjf9Q/5T+Zf77/V39Mf53/lD/+f+l/1D/Lf/F/rD/vv5R/Kj8/vpQ+1v94f7aACoBuQDi/2D/Rv43/dn78vqk+jb6JvuU+oP64vrw+lr8lPp++Yv6E/ou+WT4ivm6+lP4n/h9+xH7Fvw6/ZD8B/vN+6L60Pga+ur4m/kJ+l77x/2A/Tr98/x5/QsAkv8Z/g7+xPyn+4P6JPv0+l76+fl4+6T98v6bAMwA3wCXAdQC4AETAVcAF/5G/Yf8Vv2Q/y8ARAFFAngBkQBzASADwAMGBJQEIQWkBEEEhwKNAOICawPxAlsEmQWMB70H4Ab3BQ8HdgddBMICtAONBXQGewf3Bs0GZQYPA+wCegT2A5UCLgPKBM4D8wIuBDADAQJZAbEBZANBAyEFhQfTCGQI6QabBcUFJgewBIIChgHPAW8CNwLABIUHqwjwBu0FMQW9An8BWf+8/gkB2gCdAHMBlQLCAgUB0wAfAXwA0f7m/kv+qf5XAIEAxv8XAAgCSAB9/EP8X/y4+2z7M/om+077Pvy0/ND8Tf0G/WH8p/s+/TX9Vfwv+177c/o5+Bn5m/kl+T/6Sv1y/bj8mv18/T377/gP+H75RPvt+sL8+fpj+uz7OPr2+XD5n/mK+WD59Ppt/P/9O/94APn/8v5L/t37jfvJ/MH7wPgp+Df4Y/aX9yv7yPug+/f7EfzE+6L6/Pqt+av5qPdP9Rb3bfig+zz8hf3n/7cAdgH+/yj/8P5X/vn+2/9jAtgF5gQGAwwBc/53/mv9l/xH/F39VP5U/QD/hAGOAtv/HP9e/zH/wf+b/93/hP9NADv/yf2u/o3+4P+iAJv/RP8v/6v9w/m4+yX9Zfvg/Cf9df1m/L372v35AB8Bs/8o/zj/jQFz/g7+BwC8/3kCbAE6AAwCugIJAd0AWQG5AK7/sgBBAPT92QEZA0gDEQY0BmwFswV/BvcFfQVXBbMGnAeFB+sFnANWBMYC8gCRA6UGMQoaCugIeQguCOkJ/QdtBxkIlgg9CVIK2A3RDcIMYgxzCtEJCwl0BwQIsgj+CcsMvwsXCTMJWAviCrwJewdpBMEFzAjmCZMMkA8uDHgKjwgNByIIDwiQB58HywuaDM8KuAu/Cw4KTQiBCWcJdAcNB/UFuAYxBREGhwh3CHwJqga6BcQG+Ac2CbcIZwjBBvIFXAbnBhsIhQdFBuIGcQYkB7gH/gWdBcICOQH3AYICnAJvAfwB0AP7A+kBiADM/YD9Gf7W/+8D9QVOBq8DNgH//QX7lPvV/KX8mP0d/E39OQHfADv/df5NAPj9SvyB/0D/Zf8+A3IDOQHSAukBZ/4U/Jv5EPZu9ID4m/n4+LL+BgM9ALkACQHW/iUA9P7W+0f3z/Z9/Kf+hv4hAZsAzvyH/Br7mPmb+mP6Xvo8+eH5UfiN9tX5qviS9wf7zP6T/Xr6ufgK+AH4T/gN+bf1kfWm9Mnzb/ex97348vkF+5773/rg/Fj8i/pP+Kf2GvbY9e35Cfku+Ob6FPzn+0H50fbh8KHvTPfF+tj6vv7f/qv5lvUZ9Cb2jvjf+sD4D/eb+SH6V/sw/dD9wfrd9kP0tu7d7Svz+/F/8X70kfgD+7L5Ffo79yX69P0x+ej1+/V99hz1efON9Un3U/g9+7r3Rfe8/pH+ovlC983yQ/D18o/6S/8fAhAFQgFW/d73B/bT9Mn0t/qv/FkAgAOb/5r8HfiW9F72VfstAWcAugH2A5QEKQM2+7D2/fi6+1X8ZP1kAx8K/gYTBpgEBAAqAHH6JvZl8jXzZ/kt+9j+TgYyD7YQnwz+CUYE8v5XAXf+afle+0T/yP+9+64B5QfoCOsJkAeSBW0CKwMKB3gGFQYvBmcEJQBD/Lb9CgKcBkoLhg8ODvAKQgY/BRcIKQjpCWcEOP/KAOUCzQZ2CjAMkArJA+QBGgVuBTYF2AQNB6kEhv45+5n2cfe/Ag4Oeg3WBSsDpABs+zL7s/uV+Kr4HPvm/QYEKQijB3oB+wA3CP4KIwl6/8P1MfUV+qH88PsK+wX7Bv2u/2wEwAgqCrYHrv8t/N0ACgMiA0YAtPxe+8P6Cfrm+XwAYgBE/tUM9RijC0/4BfZY+Nn3r/w6/a/08PKO8yv3IQV5EVYQ3QWxAjYBN/xn+Ynywel95VjqnPxQCnUFTfnD+vMHaQwACusFKf3I7uHnnfHs/OIC4P+s8kTtYPEe+a7+xf6iAIgEdgoUCC37D/O987P6iP85+4LzqvIg+VMD3xK5FlYHpfaB8SHyWPOX99j64f5LAQv6MPTb+28BXv5F/H0FqQ5kCLH8yfMX9mv5LPRe7fnxHQIf/6rue/cSEgwYgAxAARj3PfEa8jLzi+139GwBtgPzA4wIzBE6Ea4JwvwK88vz7O8/6A7xHBJIK0sfa/2d8Ub6GQDf/TcCexRZF8gGAfga+h0C3QGn+4f4wffg9x8CZAyFDd0OaRVtFSkIKgBaAh//TfE+6lX3dREQHyQLlfiXApgVyRlYFT8OrPqJ74T2ewNNCXUARfwq/60Eww2uD8gPrQiNAFwGEA56CeL2OOyJ92UFbAm6CjsK9woeCF4KjhCoDBEGx/m980j1nfrZBjIPSxYmHVcc4hMuB/76dvsMAuACBAVyCPEL5wdyAzYFXgY7DoUQJQVr/FT+xQTFCI4H7AMyAqUKlA0DAwkN1ByFEF7xZePT9TAMARU1EIQG9gfaCaUBPv3n/9oIjAwgDM0Pyg3jCzMAI+y773wIFxd6DYICngr0ElUUwhEDAzn7zvxK+Ff1FPwLDXAVlg4BCOsFaxARHAISSwTH/hr/jPwa8jzv8/NlAF8LHggMCwAc4x05Cp/0lfdpCOwLVwYt93TyDvtpAIQB3Pxe/nYCsv5Z+gMC9BE1FaUGzv1bAIX5P/Cq6nTvkPwA/+T6B/pmB5IOtQphECsVxww69Ynm2e5U/Wf+3PMD79X55QMO/yP+hAKPCBwKXwdCBtsBUgB6+s/1IPVV8r7wz/Ll+FABSQW5/SL8uQDeBlsMQAbW9enu8vbB+kn3TPfO+bv4eAEcDmkRwAjm+qD2Pvjc+ND0e/K//KMGdQX6AhAFogFt8+DuG/3VCH4EGPuu9tz9OgSd/ZD74ALzC9IKGP8x+ij3xPKi8IXvyvk1CNYOXA7KDasMzgMh+pPzjvPB94/5sPHf7Ej4BwDnAVAFqAwwEAcOgwmfA17+MfaK9Lzx7u0M8if5pv2PBJ8NiQ+nCesELAQm/Er4+flo/0wDL/p88HjySvy9/F353PygBc0GswET/1sAfgTM/uP0ze6p8a7yVfM2+lAAaQNS/mT8qP0F/5QB7QTAA+35Sfdz+sX0fu/E8y79Zf/2+Vv68P9OBtACB/tW+Jf3BPko+9kCZAeN/o32Z/o0BVoL4gYyAg38NPfS+0j+VP43/eH1XPa1AWoOYw8uA1gCbQZSBPv+PvdC9vryHuyJ7s/2rAU7E4kUyBfTGuAPi/pw6wjq1ugk6iP2yQObCgsN7wxbCfEDd/mE8tP5BQLf/pH4TvzNAe77C/SN8fH3ZwSjB7kIbw9VFNIKbfg49Tb1WPQs+h//0ALlAiYBjwA0/14BOwG5AGMF4gYeBJb9nfq3+kP99AC+ABv9u/iE93756P2N/2r/dQBhAYP+Uv7TABT4Zena6yD9SgeGCW0HlQadBIv30u9Y70zuJu4o7R/8xQ23Df7/ve/17pr40f5L/wECVgcLCeIB8/e+8UHwBvQ4+c8BFwXuAlIAFf+T/Jf/BASk+dPw8PGx/GgCuQCF/U/1o/I2+93/Xv8kA5EAj/5u+ZX3cfuL/wMH3wBe+xD6G/RE8lT0jPnWATYFbgUcCWINEhGlC4kCM/rP9r38Mfpp9C33+f7eBpIONxliGq0NRAFM+Iv2Pf71/0b+PwCSBnkLuQj3Br8Gawg4BYH/ogBtAyEGIATgBjcL2wUw/az3TvveAjgJRA3zC0gIJgvtCZIGywebBEUDogGtA7IDlPtW+Mz6//0j+ir1b/zDCYUNGQj2BHwE6/o372Trg+v98Az38P8gCEUM8Amn/+j9GwNMBjYAcPiU+2D6K/dq+gP80/XZ7vz3SQUsDQIT8A6GBl0Dq/1g9fXyX/gy+zb7WQCNARkAegCZAQsAT/2lApEMMRdkHpsWCgc0+1XzjO+S8Sj6YgOsBfgMoBusINQcChSZBoj5W/SW9Gn52AA2/+H07PJg+r75Ifbf9V/8WwO3AHj6UvruAs4EZ/5Z+dHw9+TI4Ffpffak/W0DiAmNCi4EzP56/2b8sfIs6PntJ/5HBiEGpAR5CAwLTQV/AAQJxhQSEqYHMAtBFnQUswqeAgIEBgz7FpYo1i39I6YZ4RXiEwcJkAYUDfsSBhoTFy8TvhYAExwF9v2+BTsKBgTdAH4EegVw/ZLxBu8V9UL6Xf3I/y0CwP6p9TPwfuuP5BbiLN+m2XPat9+93R3ZjN4J7Db2HPE152Xtk/xX9pvkCOpa94j10uk34sjls+6+9ZX8shJnLTExeii2JiYhrRBX/3z1cffK/8MKQxrGKbIsiCSYIpYk5x2TFLQVHBwPHmEZdRJlDt8JJQSsAnUJzRTSGaIXHRTSCp4B7/lK88vzpPRf9FjzjfJN8EHraOlY6pzpeuiK51jiLtqi0R7N8cdEv366Lr+eyuXYEuxj+5ACuAo9G1IoJh3+/pTjuNiI1nfQ8dVT6YL7dAa7EJAlWjfSM54gjxdjISwkMhSyBMYCgAMZ/oz97QjlGLUknjMESzxY4k2RNS0csAgA+qvx0/AQ9ngB2QsTE+UZJh15GZ4TnQ0cCZ0E3Pyf8OXiOtlM047TEtmO3RXglORD7yn4F/Uz68LhRNfzxku3762crJ+2H7nury66u9hn/moqhkxOSSAolQz/80LX5cKSrjKjNb/X6zEFlBsTM/4xMR8lIwo3czFvHZsObgiFDKELJvzi7i/67xElI7o3pEtqToxH80BqNsElLBJ9Acr5KPpV/3D+UPq//2UJHxRuIJQkbB+2FZwH4PNO4LvY79Xt0avRDNeo3dnht+cp6iXoqOs37v/istXwzeLA8Kntl8yXgaH9sfbROg1fT6Rn41QYN7gUdu25xIapT6OproHIi+D+/xIoBDZsKCYlbTCuMrUoSyCoHVUXnA+MCDr91vK783YCLxvWLsY7TkpBVMtO1DvDKMcWPAeGAPD+ZQAdA+MD0gYDD8gbCyR1JHwe9hUyCyj7murq3S7VNdHk0hbUXNhe47HvPvia+Pbwu+YL3prULcb+s76k4J26oYmrXboW4gsoKWUjdP5epTxSEtfhE7Npl0SgfL9C3MT72ymZTsFOWjhYJ3ophjE+MCIn2ihgNuky4x1dA9nvfPESCNAmnD0qUWtiuWGAU7VA6iaiDcn8CfkIApcLqwx4CpgRXiAEJ7kohCkzJOwYWwnG96DkNdWhyyrITMtF07fb6eT08Zj+pATy/uPvNuDdzT60OpruiwmKAoofnc7U/CGQX7pxU2XKR08i4/hoxkKdK5nGr9vGpuuNGyU2cDS1LbMuCTLtOdI35yUuHu4qDTASJBUSW/pp76n+2BdCKsQ9OFAmUw9PL0n/OLYidRFuAPTwNfDC/IQCigTsEHEbLh/9Hu4X4Qmc+JDpyN+j3KTZVdJNzc/O5NGD0avW/OCo5hHmXOQ54WTUgMK5rACTmIVqh7OcZtgCLtNn3mohW/JHuhys3Kijc4XkivGxpN6FCK84FFj4Sh4sqyOwIFATWAzVEHYc3ishMiElIBYxF9cZShR8Fswn4jstSWRK3j12Lu8eKRBKBzME/AHs+Lf1zQIvE2McLB5VIdkieRraCELx5t4J1UvNGManxD3If85y2U7k8eII2FfXhtuM1Y3J5rukqO6ZtJVQlIqfz8Uq/tQvQVCdXRtPniVi9UTFWp2vkSihqMJY7+wivUbiSEI/qjN4JCgbiBdlEtIPPhhCJdYkoxhqEyAROQ+OFHEksTdWQjBGD0FWNIIm7BU2BRUA4v/z++/4h/zQDL0Y3Bp2HIYcqRvzD7X+au132l/PIMy8zbTQF9F+0dPV3N2Y5prmqOG93ZTWic5hxhexgpQhi0+SnbIf/I9Dh1wLWSZX9URdEJ/awqyjiHGU/8Im8z8o8VM4VuY6py1rLOAYQgUiCE4T4iTeM/QwrybqGVQSsx3hMUA42DI3PXFOuUa4LnAeEhJCCiUJXgpQDmoPvAn6/B4AJBlaIh4X6hE2Ds8F0/Va4CXNNb8ivkPCxMa4zqXSK9e83ynemtCqwVO5PbeytUWsbZ4dmVymG9RgEeU5lkhHSlxASB/Z7i/FtJ4ThjKV9b2k8KYnV0gkSjhENUKkMRQQ5PpC9pj5TwRTEMwW1RXWEyoTbyFsP0FMwz/sOPhBtj2RIwAJd/mZ+h4F7wOvA7kSwhqODG0DwhUsJ1ohCxLyCX8BjO9b2a/CsbRitUy+Lc7R3zXnWuV65KnjS9d0wVGxL68zsa+rXKLYm+ukidMyHDdLxFJjUvhGSxeL4NG7lJzsiw6Y2L9e+mg4llXmQ5gxijYHMmoXgwR1BcEPARXlFe8WnRFmB30BEBrjQoJSNE5ETVFPYEMCKTALsvQi9CEFtw2sDzwa1hthD4MMshpFJjYgUhffEiEKvPqW6OrVRMk8x1rKONJ52IbXy9cR4EDhftS3yVvHIsJ1t/qwTKMRnvfFfA2+R/FYzVM5RgomcPhQxYyfkJhUpBi8AO4JMYpdv1bmPiE/LkITMgkXKAntETsdYx1nG6IcaR7YG30hrkOLaCttHF8aV/dSFkKNJPEMdAL7CFsVrRUSFhAflyEsGsIZtSgFM84sSiMfGIcMvv3W6fHY/MrKxKfKO9f94fbnhO448ADkNNfq1K/T+cQLsrOlQaCVvtcDZz8VVkpc9FpcQDURZOKEtOmTS5dCrxHYZhUNR7VNfz9VRLtGjjDpGMESgRZxG8UbFxfyFoQTNgZiAMcW2UEaX1dnaWaxXHJQXzgbFQIBGv/hAAz/fASqGCElAh93Fd4Zryo/Le8eiBFGCGUADPLp2+bJtL5xu8C/QMZb0CbXgNhB2YfZNNJBxDa4Nq4spEqeZLbB8vYrrUIEQtA4IiM0Bb7fUrMPmZmdZrAE0JYFHTgBPXsmgSNAK6ApYh9yFOsN+hOVHsoW+QmKCaMDN/eXAZwq5FF0WE5Jdz7wO6EwCRIn9Tf0BQHDAcb8eQM6EVAOS/4y+9cH0RI2DtAD0P3N91zuBt2wyZ23/6y4sA+1i7exvSvGoMk1x43IxsVVuNGlAZUPkBeupe4dIVE1kEDXPBQZ5OmMwp+aAYA6hGSe6selAiox6jWTKyEthCamEO0ATf04/hQEWwwLCAcAzf/K+tD35AVVIQtCZVoXWd1DVTIXJHUIv+407nL05fNf98UFwhX/GMwRjgdiCcwV8hP4AvD2L/I96Xjc8s3BvNCxWbJ8ukPDzclOzsDMzco/yVXFjbyjsGOqSKicveL3ai4OQC493DmOJy/7yc/6sKKblKAHvKTeBgwwNCM/ajIOLUczjynmF6YRMxXxGo0cSBYiCAwCzQbMCBwSniqYS1NpZ3BcX4ZJkTWrGgcAlfdG/kYAWQEEDTweeSttJwIbrxlII1soKRqZBm76yu0Z4r7W5Ml8v7u5hb4iyyPXLdzm1ibTYNXB0rfERq7TmwecpcAnAys0NEHkQ0FCViu4AYHVDK5rkqqRWq+94p4cqDwSNukkpSaiLTYg3Ay+CWIWsif+Lu0k8A/W/qv05PLT/rIRazAgWW9uW2I1SxozSBE19Lrt//O39Yz52Qe4GaEmwSR6ElIFnwyQGbAX5wuaA234S+x+3kjM9LrosRC3lcKD0bHdM+Jk4WXaSc55vT6spaIjpTzHMAsjQH1SilV2TQUydgdX3BO0G5p1m4Oyt9r9DFAz/joHMzoxpix9Jewhsh6HHQsj3SlbI3IRb/8b9Jfzh/0CEsA0uFxicKRmSlPtP0ojFgPw8Y/xFPSs+scHghiXJXYgvQ+hA74IQxGpDTsGhP9E+9PxWd9exfOscaZCrqe4jMIAzoLU6dLN0tTOoMADr9+gqaBBv4z5LyXcL20zkDPXHe/5SNm2ubef/pz8rgDS9P0OHEgjtx/QJiMp7hxwFfIO8Qg7DicaKBslDRT9g/kSA0QKoAreFU06ultiXqdM/jZ2IfsJzfbt61TsIPQs+ncD8RlCMr0w2hrhDaATVhXOCPv+pfcO8X/pPdsoyYC6V7j3wI3NY9t75UDq6eid3jnOfr7sr+Cizqws3lAczj3cR2lQJ0tRL+AGQ94nvrGvMbO5w/zp6xdnMVsx2S4rOI06ui1qIIAZRhuHJtcrsyVHGLELQwzcEFER1hMSJ0RIi19FZNtWVUFiLUoZngLT8TLu//Pj/ekPECncNWwyViguHzwaRxSoCA77MfEl7L3iRtalyjbB3r0hwYTO5+C87VLt4Olw4qDTpsO+sgqmTamy1fYWCTtoQZNBqj0mKXwIfOLpu++nwKwexCrsYhpUNkA0nCvMMRc2KSe6Duv/JwjwG+spACrcHtsUSRJkFaoTAwx8EoIvEE0XVbRKyDvnKsoWCAMK9yvzZvSN+pMIYyESNYsyMiGcFSAVsBHIBqX70fB+5mvel9ge0nfHz7w0veDKxNyg6EToFeMM3G/TlMhes3uadJ0tz5sNei07N9lAsz9QLtQT4O4RxUqsc6mrtWvdLxLvLDsq2iwHPMo2KiD1Cmz69fsSEs8ldCfvIgAhtBoJE2wO/QcXCFgaJDTnRa1L10XgM0QggxGt/SXszeXM6NnzdAdQINYuqCu5H9QUTQ1wCPf+ku7B3wPYRtYk1NjMXsF7vf3H79SE2xffIuHA3Z7TfsNMtOen1KJwtULfQQwnKL42+0JKQRYq4QR53TbBLbexvKPO/++2GJA0Sj3mPjI89ypyEIf9jfvwBbkS5SHkLpwzQjY7M8AoISBFGf8U2hZ4IY4zvUFnQyM6GTDzJWkVOwLc877xuPwGDAYeOjHAOlM3LyrrGxQQT/4456vWXM8g0X3Yhtvc3Z3i9OhG7F7o8eJE233SPMyKxNa73LUsti3Fwub/C7gl4zROPBY4GCq2GKr8zNrvyDbKstmp9UkTCyOUJFoqhDI9LUUe/wts/rD/sQ9iI1Ap5ChbLS0yXjJlLWUl6RelD4QU8SOaNUs71TUjLtAnjiFEE6T+cPTG928BYA27GuonYC3jJ7gY+Aii+k3of9cYzmfMn9Gr2oriSubu5IjjH+H72tfUGM+eylXGvb59tKSpv6eTuYLY1vZPEXMpuTmdOgswCR99Au7kE9OkzM7Qa+GF+YcHpgwvF9wevhZRB+b9v/vfAG0LeRVAHTQmFCtOJfQeqBmlD5wGMQUYCncRSxvcJ5gxDDKpKEEbPBASBNT2/fAO9T3/vQabCqoPehO6DtoAzPCX5fXgBdxq1uDTUtZi2YfZjdra2QfXrtbf1T/SLM0ZxCa0yqVtniuagJompuLFSe1OCxYmyTkiPQM0JiVCDi/yrtdKw6W85ceL4FjvbfP0/l8QhBhEF90WyRRdEJoQOxd4G2gcrhxJG4QY1RWWEhINLAlFC+8R7xYhGywjGyzHMN8tASYSHqAThgYa+oXz2fNy83/2V//rCgUUghMtC1AA7/XM6xjhlNab0ZrVXOBJ6Wft4u7q6vzgOtbczD/AL66GoZGgi6YbseDCLeGeAlQe/zSwRDRKPEEsKAELFPQ94KPOUsTeypXhqPfeBi4WMyerMAor+x7oFkcQ7AsHDjkTMBmcIX0qBjCUMbIsqyQMHA8UpxPAFe8WqB5hLi07Kzx6MggnIRycDJP9a/Nx8R/2y/ukAOUHdRFKEAwGaP9Y/XX5XvHa5zfhHeE45J3ojOpB6w/uFe225k7cq9FoxT61PakypwasSLYpyx/qXAq4IsE2RUYLSEE6ciLqCG3v/NtE0cfRSd+g8Q4AsAmBG3Yu5jGkJ/AcPBkKFNIPKxBKESkUTxlcIIsmjShmJ0AiJhyCGckZChn4FBYVOxzqJpAuxSyXJRcfzRS2Bnz5ve4U6hzoaett98sHkBPbFFYQGgpUBIv6pOxq37vYF9op3UDgwOLd4/Xk9+RH4PbVacgBvayzx61JryW2xb+k0L7sNAoDHi4r6TJWMdIr+CJfEM74+ObA3Ybah+I19MoBvwrKFsIj+SkXKMce3hBlBTT/Gv+sApwGbw9FGd4esCPkJdUimRtFFFkSjxLTEg0RgQ5JEhIWIhmmGhcWFg+jB/QArPok81Hq/+UU6kfyWvt5AgcGxwfCB1kEu/3G81DoPN5Y2H7ZIdzp3MjfXOQD5RvhI9t2zjHAcLX5qnmjK6Lbq9a82dME8ewL1CFWMGk1DzNAK2UbRwdi9BLo6eVN583pnO5T+NQGshKuGBocKByTFKgII//i+q341Pb0+mMGnhQ0IFQnqSm7JhIktR9zFwoPXAr6C2EPBxNPFQ0WYhUKEHAIYwHh+R/ziOyp6GDshPbAAK4FDgofD1ERog1fBzQCufiQ7oDlduFR4c/fEeAL4zLmTuXM4wXgddZ/yby8SbMJrbusTLRRxoziDgBbGn0yrkQSS6JE3jQYISANnPcL6I/k8uej7kn2BQFAD+UZ+B2nHDgWhRGLC+ABSvkg9OP0mPnvAyURwh3XKqs1+DgeNj4vfSVaGLAJEAFT/P76lfwcATIHXAu6D/wPXQwmBsf+a/jU8tPxpfPy9RD5jv2sAhcFQQQxAbj8Mve075/nCOKp34XeQ94s3kbej9673W3cbNdeznzEf7vLtFG1774LzYzh4flvD1kk7TUzPqs6Ey8fIQER3f747i7nHucW6lfxxPyMCOQSdBiyGnkavRT5CRUAC/qV9+35z/6OBusTKyGHK5cz7TVwMXYp5SGWF8oK2/+1+oT7r/2VA8oJoQxkDScNcgvSBi8ArPax7kHrmOtB6/PpOOyj8lv6SwBiA3UFBwYjAfz7E/bN7enkd90u2uzYZNji1qvVktP3zbPGYMDfu+K4DryaxnfVlOir/UkSLCTjL2A2jTYTL10iGhMfBp771/O/7mjuMPNw+bD+UQNUCd8ObQ/1Cn4HmwQSBFYE5wKUBMsHiA6ZGJoiSCuVL7UxJzCCKwIl9BonEAoGq/3V+DD3NPeA+Mv7mwG3BeIGxAb7BFoCP/5x+2f5vPYQ9d70rPfW+hT9qf5lAIkCpgRnBLEBjf+5+SvzEO1O5YreQtbBzZrHCsYFxhXEp8X2y3DVGt8Z7Hz9Lw+SIDIvKDv+QIJBZD2XM7QnnRtXDwIEuPzM+iz9aP+HA8QLqRJLFn0YzBqMGrYVbhGOD9ALOQciB9ALyRCfFr0eVCRoJtgo1CpAKl4kRhvQERUJ1wOz/7D+YP9g/58EbQzyDtgOdw3nBiH/F/lf9Lfx3u9D8HX0mvwABjgN2BI8Fk8V/hJzDi8F3fut74XiTdp31V/TS84iy4PMFc1zzVDO6dI52ArgXO6u/ngPqx9ULXU2ejsHP/c7yTBLJOUZ1REkC/IFVwVxBoUI8Qy+EdkUKRQrEMwJFwREAZEAVP6X/PX/JQUfC64SZRtqIeAi4SNEJcMkSyCYGmkWuRGRDEsJTgcyB2QHNwgOCd4GGQP2/UP4hfMU8BHuqe0B70Xzbfj2/FgDKQjgCuYNmw7TDXEKxQQa/1j3P/Ca6ljm9uJ53VbZO9cw1CzQmc24y0DKlcss0djalujp9s4DCxLBIPMruy9NMQ8wAinWILgYiBLHDSwJfAQDAz8F8wbZBgMG9wa+BVECfwBeACb/kf1G/eT+yQIVBSwIgww8EdMVlRneHjUiGyPqItQhkR/6GfcT/Q3dBY3/o/v2+MH3gfVL9Uv1fPUG+JT6QPzm/c/+8P8iA6UFNwgCCecKRw+FEckR9w/0DHMJzASL/x/7uPcH8jPrTuWZ33Xa/9MlzfnJQMv0zN7Qj9oB5xD1CQRNEuMd9SUhKpArWiv/J38hlRnKE5APTguTCMYGlwYmBuQEZQVzBL8B4/xg+Vr3afT/89Lzw/Y0+9/+gwQaCksOXhJkFU8ZCh37HnMglh8SHw4cWRepEg8LCAOd/RL56vR78qrv3O8R84T2Pfou/ef/qgLKBQgIjwkPCxgKKAqzC9UNtw3sC/4KLAnoBEL/kvvo9SDvWeeJ4C/cqdVfz+PLo8sDyx7JDcyS0iDZNOF37Cr5dAa3Er4aqx/XIUch3h2GF1sRYwtNBJb+A/ud+Tz5tPh/+jT76fs5/Dv7RPrB97715/I98g/zfPRv95T6uv/tBTcMqhTWG/0f2iMmJXMkIyDuGN0SdAuTA/P73fWM82jy5vH78eb0UvmA/TkBDAEMAR0CrAHIADb+wvy4/KH8zP56ASAEzQXUBTgFDALE/Of2+fBI67Xk8d1z16TQfM0czZHMG8z6yizNMdJj167fluhu8Ob5kAGcBwoPGRV7GQsbBhpJGDAVghBVCuQEYwJOAbj/CQHlAmMCMQSpBI4C5P8S/lj8EPrM+fL5ef2nAZIFIguFEXgYSh4HIf0fzyAgH34ZDBT8Dg4JKQPf/m/7VPmQ99D3ufjV+Pb5vfus+4H6C/oB+FD2x/Vx98X6Zvwq/3QCmQX9B2IIbQbUAv7/fP2R+YD0VPBP7DznU+GS3AjZr9TZz6zOPs/Nz9PRPdZN3kzmIe6493oBXgqnEuYXqRu7HkAdMRshG84ZXhfgFFsSoxApEIsOcgsRCksJQwcoBdwDHQJgAKL//v4C/9b/bABjAi0GtwnkDWIRjRLIE+wVjBbuFJMRrA5zCiMFfQKL/6P7Hvk1+LP38/em+SL54vY99gj3OfcA9q30vvQT9nT3B/pR/cUAbgUXCdQLaQ2EC6YIQQOV/HT3gu8y6SznxePt3q7b5tpk2b7WodV61hna6t525JjsJ/Ue/QcFtgw7E7wWtBlLHAEdmhpsF18UtBByDFYHLAVIA8YC/wKsAXICQgIaAUf/rf3//Q77LfcM9rX1WfaT+Tr9ugGCBuYJ6A1kEF4SrhK9D9wMygnRBPf//fzQ+Fn15vQ69CvzBvSG9Vz2Ifdj9+z3Efg592n4zPrU+xL+IQGAA04GzAmoC1oLrAqTCJsFcQGe/Fj4cvS68RnvO+137M3qmOdO5bXj7d+73tPfMOHv42DozPAi+UcCWw2HFNIZAR6yHxIeqhmOFSUR5wpqBqcFjARuBNoEHQZGCAcJVAnEBxMGnwPK/r/7W/n899f4Jfme+5D/1wOKCBsMzw8jE4oV9BYeFxsVCxJzDmELXgoVCQQJigkNCDIHugYHBTwETwNAArgCyQJhAgoDYQIdAzkHiwspEFUTWBWRFX0UiBLwDsMJVgO2/Y/5yvVa8/PyxPK88m/ynvJX8YfvIe4u61DpOucb59TpAu1v8mf6tQB9BvQNtxGLEwoUuxG3DkILmAnzByMFDQS5A2IEkgXqB7QIWAhXCVAJ7QiiBdEB8f2S+tr5rfkV+nn8mQFjBVIJ2A5LEwkW2BbKFtUVxxFkDREKbgX6AnwAiv5C/3j/MQHZAp0ECAfiBToE7AIJAd/+BfzB+vz6J/0M/yECDgV6BcgFqQT3AH37uPfQ89HtXul654zmy+Wj5l7of+kD6YnmiOR74azcBNr118zWMNgm2xLjd+vw8QH8wAR/Ck4PUA/jC2cIDgZ9Ap/9a/zc/Vv+VwC7A6gHDgqYCQ4K7wjOAyP+o/jT9ZH0o/N39Wr3Fvx7AkcHzwojDkMR4xEfEHMNUgo7BrkDaQNfAmMCdAMqBYcHDQjkBQMCFf4o+t32h/QA8p3wmfLN8/30bPYU+fr89P1W/f76C/kW9271nPMF8uPwNO6g7jHxqfDb7eHrpueF4iDdBdcQ0sHNKM0jzpTSUdkY4Mnm/e9G+nUARQfwCWwKkArZB4sFzwG4/xcATv+JAUUHrAvRDZUQehMgEgwPxAxzCUMERABs/nL8wfvM/S8BRgRuCaMP8RFlEw0VeBOFEWAR4BBhDy0OKg7HDRUOFhCMEc4RKRCNDnQMoQcQBIEAKv41/XL9z//8AeIFrQfxCNYJdQkgCRoGKAVSBWMCc/+U/kb+tf4LALz/kf46/u78LPoA90nyMu4163PoLub241Xl9Oj+7PvxnvcL/XMAhQTYCNMJzAiACHkIWAexBmUJ/gq+CQMLcw4pEckQeRGhFO0Rag77DfsI3ARPBKoCagHWALIApgOLBtcHGgoWC1EMUw+CDz8OFhD9EcgSvBJUEhISzw+PDoUNHwppCEYIkwcBB7YHNQjIBhgGagbhBBsEPQV6BUMEuQMUA3ICowKlAaX/0P2//D78Zv0H//n/rP8HAMr/n/15/Nj5L/YE9GPywu8D7jvuj+zN6ZfqSOws6zDrv+1C7XnrOe5n8Hnvh+8P81f2HPV79+X7Nfxp/VUBxwOgAZkB1QMwA/4AwwDdAIb/VQHRAW0C2gNGBNwESwSuBhEHrAVAB6YIuQm6CoMMJw3SCpwLMwwtCv4J7QmnCUoIOggQCXkIfAgcCbQIsQdtB9kGNAYDBr4EiwLAAAz/FPzM+fv58vk/+t/6dPxk/AP80f4XADYAKACYAAcALP76/Ef7yPqI+Rr3V/U/9tv3MPcA9vj0GfR38Izv4O7V67DsZu6X7TTtOvDQ86PzpPRK+Pr3JPiN+/D7gfoI/Oz85P6YAH8AHQJFA80F2QdICCYKMAsZCPwGVgiBBBoCSgPJA84DkgXpCe4LkAubDpUQWQ6UDZsNRg56DkYOvxBLEikRoBJtFIkTPRLZD60NrQyCCxUKcggnCJgIdQm6C3kLHwu/C+AL/AstCkkK6wl0By0GEQbJBzMJFwlqCmoL2wtSDS4MAgrwBgIFSwRtAvgCvwFeAD8A0P0U/ZL7Gvrf+Xf5ovnB+jD8aPvj/Jn7Y/qp+jX5hvsi/cD+z/9//2wBggI3AqYDjgPTABr/zP01/G/8Nvvg+zP+5P7yAR4EggYxCb8HmQXFBOoCDwOVA8kCjAQ4Ba0HNgoCCrsM5QuWCOMHKQesBR4FxAZbCKsIcAm8CkoLBgxoC9kKTgq+CPsISAkGCDoJ6wmUCbUKqQkFCkkKCwkXCXAJ4wi7CFYICge4BhAFaQQgBAMDlQPqAsoBRAC+/oj+oP+nAP4BhAIvARMCaAE4ANgAt/5B/Sf9Pfus+jz58/iV+F/zcfHC8F/vmu9d75nuiPBV8mzxwvOM9Hb2TPeY9Sv37/VU9L/yo/Le8zDz1fS69lD3V/qQ+5H4Sfcr93r2DPfi9nT4yvmS+s37uvry+pv64/kn+WT5p/vN+3T7y/yA/X79pP4H/6n+lP8e/nX9Yv7F/UL/N/3w+u785/u6+uz8ifzI+qf7g/pn+u/5uPdD+cX5d/n5+cX5/fkq+vv5Ofvs/Jf8Fv1x+2j7nPxS+eL2qPho96f2DvpM9zD3rPq69qr3evrC9IX5qPhG9Tr+Cfmr+ar8lPap+qz6+PiG+uj5xfpZ/5ABtQAXBLkA8v/g/DL4b/xc92b3o/hn+qv90/nVAx4F+vw+AqD6A/uk/Y70W/pR/CT7CPig+l8HcQUBA2oFzQJTA8H7ovnqAoP6Q/yVBpX8KQOnBq77pQFn/ub6owcq/hj7qwhE//0DlgkLCSUNRQIwAjkHwP6A+J4GlQen/xkJkwNKCBgLEQJwCXEKSvyxAScQv/ymBAQNOAD6C00JSwVPCPECuQRlAUMEdAeYBJ0J/AWJC50I1wLrDqwFGAp3A5n3KAbtBSD5cgIODoYFIxJIBDAHAQxK/SoKlfMO+y8OsfdAAUIKAwPNDyIHB/vvFWn9B/b8CkH9UQvRBSoAtgtBCB0Dxvvw/un6+PhZACD4pfuLBjn7Gv9hBpz8SgegAID0iwrh/b3zthAk+Nv/PQ5Z7YgJCAwA9rMCMQC6+t8ELQIX9lgDOQYb+EoCyP9Q+mP/nvs8+eLykvtG+WD5Gf6h/fL/XvtNDvIBLwHZBhn+bAnf/k0AGPwh+2EBPP197v/zrgZz8cT3ufR97Q8DCPhR+Gr2g+yAA2701+FHAvL2HfckAkftn/01A0PvmPlZ+YTtxAex8onm7wdg7OnyCvw67KP3OfeP+svyVPUoAfX2DPdS/wzyf/52AkL3sABY+AH8CAPj+aT6RwHh+CQCU/wR96cAf/JvAQP4zPHeBpv1df6fAyz6/vsM9yoBGPxc9y//DPNY+JwDfPmWAFkAjgIG/fT9s/oU+O4CqfHh/tLyjPk0Bj74swEI/Yf92/94AbftYARSAKTxvRUJ9tsC2Ajs/Hz9PfZDA0v+i/q+/pgIp/JDCNEBKOkiDPTxifykBD7qSwmUCVn14whe//r30Q6v9HgApATh/mAWNgGS/7AN4wvr+gUUdAL89jQcVvkMAuIP9ASsC9sKIAn+/wkNdf1nCUAK8PZCF3z9hgVIEQcApgeUDv0DUAAvD6H9ZhBRCE/9CRcT/6YIKQzF/rkRygQk/JAKCANyDEwHzvw2D+f8QAY4BFH4DwyGAeoIq/5vB2AFQQSxFHP2vg1XAaD/iQqBAfP8xf74EW/z5xTA/Wb0pBpH8mMF6QYi+DsKqgdn/pcCDgCjA+8NTfo8DCgBRfh2IXX5w/6eGIX8UgXNFJ3wUQLNF5fuixOO/ZjvBRcG+Nr4BQp/+tr+ewtq9lT6jgdR/dEFSvwm/EME9P1qBfr85fzt/tj+6wCw/q8Ca/CHC2L9/u1mFKbvQ/wXBf71aPsiA6n+B/GOA6HvigDQA/XzbQte9hMCof14AHEFuvHkBVv1jfrd/qH4GPxE+rL9IfrL95n/6vRu+XEFGOo3B3TzrPYoCmHpKAWA8wT16wHG8/j0z/9g9XH7sQdf6w4KA/yV7ugNX/Pl+EUGfPmi9qz/Ofuj+wAFWfEC9YoEtPMXBSUEC/ARChr6UABxBnn3H//S/LMGLvm/B8/xSP2jBwvsHg7q79sF3gse9cgK9PrOBDcIDPsXAG7+8wKbBZEA+gJr/f4JsAWp/84ErwIYEHX+mgu1/y3/yRFf/HYGUgAhBRYCqAOyAHz9zQbQ/YAMPv1cAsEF7QQ3CLEBOwvS/OcP9gdTAw0RvP84EVEICwSFEb8GoQfICYEKgAI6Cb8G5P79DJUDO//gCwMGBwZpCOQFVgQpB/sIbwFzBVsDxRJXBfQEqhD2+IwWIQGnBhMOn/VkFswAKAb4CDMAFwkrBoIGmfvaEi/6MQ3zC2T4PBkZ+PUTlAl0A60MXv/6D875PhChAtMEgAz5+qsRqPyQBpoQcQHy/3UI9/6hAjoNxPuhB+77dAKgBhL1hQ04+a77zBHi+lYIvAU1/JQJCALuApcHU/sRD6z/4veBFtz02wVoDyX05wtABrTzrRWu+yr1FBnf584HkRLT6IUNgQGs93IM2/qP/s8Jr/yAAgQJLPQCCaEDKv65Egr4UwKiCrv4AABbCLjyYAlqBvXzfxKE+3QC+xEt9hYCQxCM+cUEpA0C9mEGnwQT+/sACQFt/DYJhAWG9qgIRfjn/+QBV/Ze/h79Dv4W/UT/R/ZZ+j78bvUR/Dv3BPq/+3H6LPmX+4/1EPaaAuTs3vgV+jLvqPdg+kHs/vWV/IXnuwhR83fn+gsc7QDy7AIk7yb2wP5n7KX2EgDt61H0ePZn8HL52/qz8qH4RvQY8/v9YPaw+Xv4Fvgq+nP+oP/m+cP+8fd0/JP43fVBAF39NP9r/NL7Ifu2Anb8yfzT/o3y0QFn/qb4zP0j+gb4zf/E+4L3VP7W8hMBCvvT/ar8GvY9BWryXv6o/dr4/v7K/v/4+wTNAmb48Qts9YcCIf/Q/CgGVPm2A53+x/51AAIEUfTOA6n/lv3jByP6GgZCBk0A6fs0/y4EsQK5AI8Es/s5Ak4B3f4q/1r8zgPt/aMDgQBwBCYBhv+iBCH3QQQvBvIBuAJz/6sA3AN1BCn8ZQUQ/iYB9gPP9dAI0QUZ/lwLbPr9A0AG1vqxAvj94f6iBQ7+B/tECpr4igPLB+3xdAuI//L+tQVw+MMALgM//mUAMQm67UwLkQNK7+MRtfXIBoILXvV8CKgC5/bvB4L7KPYCCtnzJQQxBc33YgjJ93j7vAGW/an5hAVd+Mj/6/9K8H4Hr/Pp+88B6vMtAYv/dvf1AY4Dpe3LBoj27/ioB9XvDgnE9wf72wUU+Mz6sAnv+GsDtgy+8LINMf8I/UAK/PZkBBkAavebAR38BvjcCHz51vodAxD6DQS5+PT+4/nY+jX4yPv5+WD5Nv+W9EL79/L4/dH1gP379IfvxPi270kBKPEv+qr8uu5P/oLyOPVq/3LvVPQe/avxB/7l9wTwa/ni8g34fP4B9GT5Zfsp9KMCdPjQ/Jj5VPmx/Kb47f178ln//vYh9wwGcviNADEB2/cr/D0FRPZqATP+avIGB6rzRAHCA5z49gdZ/8wACQQbBK7/MAPpAUsAAAaS+iYKsQGDA0UGaQA6CAcBWg92/8EF0wlx+40KVP3FABAF+Ady/dQF7QQJ+rcNwv2HB1IEtgIsACIMkwMq/5YNGfkgCdADLADsBjcHngIkDDwEVf8VE3/7rgl1CCH2BQvgAnAA9wWbBcT7jA3nAQP8QxBN/ccDbwfd/sL9+Q61/7n9AgrR9SEKGwh++dgIjgNP+PcPxf7c+bANFfpuBRIDzwC6ATQGSgNwBMwJJwQiCDH/zQXnAj8E7gLGAZwHtvzBBogFmwErB0L/LABc/2EHUgBLCZj9G/l4D7vzWwR//6sAUQgm/BUBVP3vDPj8Jgos/tMADwx4AaIFbQPGC+7/IA3++yoFTgqI/6QJEv5dB8oFUwwo/3sPxQXK/0QTefeXC6EC5gQjBU/9jgKiCpIBg/0nDSD1tQnbBRj8nwgT/yUFMwDI/z8ArAaYAyr/sgQ+/GcIPQAz/RQI6P6pBLUBi//t/pQBkwNwAOL/7f6fCAH9ygUQ/yj/JAdf/X8Gff/b//v5SP4t9lz7Jvw5+4ADbvXlAwL2FQBq++P5kP8k84b/b/chAUP0wwR28l/88gS06tYTYuzC+MkIqOr6AsT8afBXBXf4O+6mEXrnTf4JDX/cfw8n+cD0vg107rD5cgu97ib/hwiZ3yUOlPYs8ckQYeqi/noB8/Jb+r8CRe/PAK393uvTCZ3xKgWHBzbxPQFG/SP62/85B6Xy1gp/+m71TAsm7QMGAv/490ACEwHR9icDiAA4+q4JyPF1CRn1F/kDBs3zDAYV9fr8Z/4I+JH+TgKB9usFNfk2+xECNfSoBxT0PwjO+AEDAQPy+ogEuAFw/ir/cAg7+/QI8PsPAkQFtgLp/+sE2P68/n4D1fkEBHb8Ov1qBkn3iQYt/3D99AQ19CwFvv4iA/8CEgRXAGX/PQYp/SEOMPfGBkAGGPJ4D878DgUVAb8CMf+EBtcCX/1/DlL11gpjAqH33QoK90gAbg2p9T8Edga49y8BgAh290ALFgPw+iQMZfb7AOAGh/dtApEDF/lkB38AmP0xAAQFw/lHB/wCZPwyB8n80AiUAHgGfv0wA4UEEv4iDL33KwsbB2YDqgYEADsGz/9SBdH/ZAR6AaECc//3/yoAGgWLAiv8yglI9eoDhAKk9cQCm/45/OQELgMI/A8LZPhLCkACbfd3DVPylQcSAMv80wmR+RUFDgBXBgT+eQMZAMP6UQe+9C0KSvxi/kgAp/tGBJb1qwh59IkCSP5b+mcElvkJBGL9d/0V/3sDwvjPBaf2M/5p/iP2ugbw8eIKkPYmApT60f7zAx/2Uw9h7zcVl+2dDQn+fu+xEynrUw/o+eAKHvUdDD784/3jCyXx3RLt8CMFlv1i/TsGg/1B/jUEogAXBBABR/dKA2v8Xv/xAt8A7/21CYoApgdHAvMDYQbsAkL7AgTmBLD/lA3a9bELAPvQCIMDIgNsBUkGwA01/LgQIPn4C7b8SA3i/7UFbg2x+xMOW/5uCOsFMwxDB3oJIwq2B/ULbQf7A5oQePr+DroGRv0wEQf+qwiQBlcFJQSrCHv7oRGt/f0DzQr2/BMFAgGp/28Bhwtr9DoVn/Q4DSwEAQI9Bvv9DQ1/9gcYTPPqFWjztwlcARHu/hLn6g0Iofdp/aH3vwL79XkCvPoz+b4I9PRxBXX5sP8e+gMLUfQXCFMDa/zCCzH6jA2P+YwHwv0hBvUBnvwDDFL5/ga//5oDnf77A6AA1/cBDDLv9wqvAojx7RLX93wEdBCW/RkIaAqS+qQNdgJe+hASOvli/jIDI/bNAigFCvvZAl8C+fnQDI36FwVwCZv5nw1SBA39lwYACsv77wyzAdv7bg2s9lwGbQPn93EKSQGg+zsLLABn+QUOqfnq/JwGRfPbBVn+kPbdCa34Iv05C8L0EP6OBg71kALQ/X74bAHL/MH7tgMn/i/66wrO9KAAVAWD8HsDygBV81kFhvZw9DMJUPHBAQQADvJ8CfkAzfJTDK/3YPmECz3yzwYH+zX4CAK487H7pvnY+o32HPpg+on3SvzE++H52ffs/FL2Efxy+K34XPf78c/6rfPJ/FT6ZPT0/sH3zPSZ/370l/d1/S/tL/5w+A/46QG+9bn1Wfll9nL8Pf6L8VwBk/gR+IYAnfQn/r759P3y/uX3Qf4I/dL7OfjH/Yr+JPitBMX+cPiDBH/7Wvy9AgX2NP/7A6P38wek/kMD4gah/SsCVf/X/JsBWQnd+1IECAKbAaMD5QLFBbP7NgWoAr4ATwRXAdoAl/tHB+P8U/vfBEz8ZQDPAFz/9QFy+VgD8wPG8q0HZv3c+bMFF/5o+6AGwP2q+DoI1vH6AoUDM/lvAg77AgEf/MD9R/vJ/Lf+FPhvAUL3jfquBd320/1sAVf6Z/mOAi/yVP6pBaXukwc28lr4aAEI92f+ufkL/WH3FQE99X75oAHd9r79lwGP8Hz+3/4r6SwFCvMf+2wEBfPr+br/dPek+vIEiuygBtj/kPIcCjXvR/xA//fxIfvf/bD+OPra/jfu8gWH82z1Rwc/7M0FL/sQ/jL3FQE4+Qv0ov+q7xIDbvAaAZf2EfyG9kn6zPlV7iQHMej3BlT0af0sAMz5GgGy9KAGF/AFDjH1jfutB2fwyApO8p0ATPu5/vD/bvmyBAHzfwVi9d/9pABb/ZIC4/hQAe7yVwnt8Av9MQAl6xwN2e+H/CUAyPbx/E4GGe8PAxYCIvCuD6XqeQPC/Aj3iv7FAKH4zPmtDWLnKg379L34zgjb7sIDQvIQBBf1QgF6+nr5bAST7/kFGPPn/6L2TvcCAdLykQRR/UsAVfyr/s79//jT/tD97f2s+q7/Xfxc9r0C9PpK/R4IgvfJA+YA3/ldA3//TflPCOL7XwJSCnf59geQAvgDoAAYCwH9ZQaQBmP6Qg9791gIggbnAm8HigksBNADexD//NkQ+AIqBScMHwICCpwGigOlCgQE7QC0DKr7FgypCagINwuICU4LDwdRC8UFsg2MAz8NYQoFC0oQQAegE+0FchAHD6YHaRKQCgYNxAzHDCoNWBAoCnsMHg2BCjYP/Q3iCjcISQ/BBqAP9Aw9Ct0OuAeNCicNFwl1CekT/wfPEtcMvgh2EwMGHg5PEBUG8RBHFGAEhxQ6DIYO1RCEC80T5QYgFm4NQxBqDigJfA3eBvYRTQjTDR0M1AogDdMIbg5lBfINLwlABxEUCQQeDaIO7Af/DJIGYwoiBx0QewZgCUkPcwU9CeoLswUDDAEHmANzDXz+1QwECV8L5AlSCl0ISwW6DzgAuRFAAd0J1wdQAUMRl/w0E0v/OQfACOgAuApL/p8NwAB1BCsGrgGdCFD/rgUaBWMF5QNV/wcK7PshBskCaf45CmH7tgZz/1sA+wO2/FoCp//tBN78SwFk/UIBwwQm/BoF+foGBB//LAClBQf6CwQ9/4f8iwK++uD8yQPr9UAC+vs+/WcE5/bIASf14P+S9lcFfPmb+WcNyux/CZfzqfbo/tn3ZQCa9C8A4POXB3H2y/slBf3qLwrS+PH3egFq++r8Df1c+8b2IwBG8dcCjfrZ794G2PBj+tb7dfFw/Tr0qPeM+ZL7X/cX+nL56vOy/Ur4T/i6+ob1dPhc+3vyavoq+nj2ff+89S75A/uG9n/6nfko9lD6HfzW8l7+KfTL+Gn9t/Aq/4b1HPrl+/3z/fiF8+73Y/Yh+lX2Avq1+pvx2v4+81b5/Pq57x/7jfbJ+H33iPn699P1NvsR8h/8hvbT9Qr7QfCY+JX8nPOu+qj3AvFN+c70gfXh9I74KPa2+Ef27/Rd+Ob0Pv2Q8lX7afjR9gD74vEvAKDuwfvt+nLvB/8l9Eb5Qvv5+RP6VPmM+Vv6yvm49gH9n/m48ksALPVI+cP+X/dP/VP7GP/p9yb/ePYE+Q/8H/OdAJ7zvP7K9sL0OfyX86/96/Yz+VP4d/2R+fv5/AKN9coERPvF9McDvPbU/2T9Zf4l/pD/VQGp/7oC0PzJCLD60QDnAhX6UgTL+8wA0/1BAJv6FQFi/kn2TwhB+KkAsARf/MYCRP5o/7j/n/6o/KABZf/FAHUAXAGfA0H5WQST/GD/xwPw+4IHSfoqCQ4BXv6RBBv9agL//PUC1PuhCKf+wwRQCq344wgK+2IAjQCM/C8BsfwL/gf/QPte/nIDTfQPB0D3qfkXBdr18wJf9yQCZfvpBQMD2fs9CrXy8wZl+pT7twRp+EEAUwIMApz3ChAq+vcBGAdP9YAMaflfB+EDL/tlCWX/xwTR/wcBQwMJAfIEYQLXApYEcQUlAKMCqwBl//4G4AK8AbcIrfxrDFYHIf8GEI/+3QrlBg0HsAiJAjgRZATQCJ4L0AebDQsMPQlBDSkHHwfDDr0DsQuMBxwFJw0aBlsI4AfvB+IKLQbeDHUEpwUhDm8CqgbVCCEFOwoWBz0GRQz2CO8NxQg3DO0OBwk+D1oLTA+vCwINoQx9Cl8QQAsRD5UMoQsyC/sNAQz3Ck8RbQvODPwPmA1sDfsMxA+DCd8JzQ95CzAMrAuHDGEHZw6JCyILPAxXClgIkApzDpwH9wnYDVgIgwiWDWcFQg7rBU8I5QayCI4MQwQiC6kAeglNCe8EXQTwCVwCIQXXB9H/5ArW/uQKlARXAdEEDv7dBWj8AwM6/qIAzQGL//YHmP5+A8EBG/1ZBbD/NgH8BQD/IwGNARz79P6U/5/5H/+C+7v8l////JQA//zb/67/6PnJ/Rj7BP0u+Zn6PP238Rb8tvfa9XT8g/Uh+9X5avv6/PL+z/sA+oQBbPXp+/H8gvOBAIX4H/fc/fHvSv0/+QDulAFv8/P3GgKF+CH/PP0P/Nj5D/0R9wj9dvts9Xj/afTg+xD5lvRN9If3qfXv9Cv8wvOl/Mr28PaK+Gv0IfZy9Ofz6vSh+Bz2TfpZ9m33svlc99X4kvoK96H4f/ut9PABz/Zx+7n9HPGRA/3wyPtw/YLz9P559zz9QPdK/OrzB/s/+hP3JQD98yAEHPXx/Pb9xvf7AOb1If/f9ej96ffS+Cf9fPTk//ryqviY+Vz2X/fa+fz3JPc2+9byA/yW8dT3O/q88o78cfu2/fv9LQE79u4CSPl++AwC6vRzALr62/tcASf9VfzyADT35v1H/+L3LQE7+kP9mfrS+672A/sV+5v11f18+tj6fADc/Fr3KwMJ+YP6egTh9bwAmwA8+JQBQ/wt/xYD5/cf/+sBefd+AxX/DfmrBO7zg/3AADD06AM1+OD/EP8k+N4HkfXf/pD80vhcAcD5hAFy/Gr/Tf7pAU/+GvvaBPz3TQQY/DoAAwKb+kgErfmrCdj1mQYSBOv5Qgrm+XIIMQT3/jcCSgIY/DIGJgff/akKSwDU/0AKmPmXAvQEafgACej+MwAkBtn7gwDH/bj/RfcSAHX9L/tMApv55wGp/wcBl/+/AXb/oQLM/qv9UQPS+PsAYP719oUDLPnn//UC4vvWAO/9ef1Q+1T9wPmm/TD4a/y7/GH3xv8w+Gb4iffr9vP38fee/Cf1N/wM+yv3Sf8a9yz6Z/pD9EH+sPWi+nH7fPRK/IH2Dfmb9Sv7+PPm/Xv3FvQZA0DuzwB39brx6wGA7iD9b/vD9W38mPg8+cb31vvI8ZH9tvfU8soBVfK1+17+dfSQ/8f53/la+9L44vel+yL9N/eLAdL4rvtRAob1QgHR+gn5bwJN+jX9uQDV+Mz9wgJg9v0Erf04+XsDMPzR//4Bzf8N/bcEtv1o/IgFYPl6/jsCC/W6AWn9CvcnA436aAJMBuv5mgstAa4AqAv//eYIXAHTBOEEZAT/BxUGMAirAFIKvgWOBlEMaQizBZQNfwkQBS4R0QEZDB0GLwAwC2D/cgvmCBsDPgtRB8sC8g3sBoICGwy/AfcG6gdJBlwFKQemB2kERwqtBCMKHglJBsoJlgmJApwLIwpAAgISdAKHDKULPf+cDw4FUwKkDXQDBgcPEUf74A/SBtL8vQ88/KwKrgWlAScMgQF3CDEKVQFjDokH+AcwEIH/CxITChQIEhJlBUwVVwlxCpoUpgOVDBUSZgNPFY4MMQW6HMYB0xL9EaD/cxbRBK8H2xNBAyQLGRKBAd8S0govAdwVPAOaCBMPCwSlCuoIkwcFCnYHjgd1CZ8HPQl+DI4Mkwe4EGkNVAXeEFYIcAibEjwIHg2pEj4Hgg+fDEULBQ4wCCIQzA2JCrQRjg/tCaUPkQkXCcoKGgrCDEAHjgy3CEgE1QhuCFYHaQjaCOQFBAlvBrEK9gcTCgsM4wNiDJoDcwVHB/sEDQj/A3sHzQVlBbwEPwnsA/AGZgtsAa4KQgblBhcISANaBzgFpARAB/AFmwE5Bz0FZAQFBuYEBwXFBWMC1gHYBO/9hQNbAG38bgUZAE4BlwbiATT/sASK/hr/2AU8+X4EFAMh+p8I8P8W/SsDgvt/+68CMfqS+80F4PeO/GIAmfYb/Uz7yvae+0z7x/WX/L/3F/Dv/TTyf/IT/9vy2fuT/HD1Afw9+yv4Wf+7+AL2Xv4L8dv6wfv78Ln++/Tz8xX+1vHF/W79RPU9AYP1cffp/8j2+vx6AVL6rPqo/PD6Tvwy+C79sPo4+fkA2/YSALj/LvmL/wj4avrC/V/8KPvx/EL77flA/7T8/f2O/cn8B/4W/Z7/GQCgAQ38Jf0dAqL6z/9QAGL9FgOd/lL/PQBk/Yv/yv+F/VkAwvxK/UT+b/et/T36g/l5/DL8APvB+478mfsBAp39cP3gAQf+NfyUAK39P/4HAXT8MgLU/0EAwgJU/un/xQDk/rf+8P9c+5/9qP2O/Cb/6vjv+Wn9zvlY/ej9qvek/lr7p/YB/TL3UPdC++r46fd7+177kvpd/FT6lPvv+Gn50P2b+Vr7wf90/Iz8pP6g+/H9Jf6q+8MBXv8y/ED/Pfun+wf/zvkB/Xz+j/k2AaL+Pfot/4b+RPtz/kv+4vvU/9L8Z/q4/CX+p/qk/Qn6BfdZ/qv1Y/vu+6v1J/1E+pH4gPy69yD5FP0090H9sPkT9rz6R/fj+Zz4KvnK+in4kf3z+CL4NfxG9RD5+PgG9Wj77Pez9879oPaE+zf8X/Np+VL2Uvbc+Nb1ivi990f2YfiH99v2IPkC9Rf1OPUS9Sj21vWf+Yr4vPYx+db2DfQn+D70H/ae9obyoPYZ9Wv4/fhH9xD5ivUJ9af1W/RI9fX2sPYw9/P4Vvn09Wn1VPWm8P305vQM8pj4rvYd9I32W/QZ9CH2G/Pe81D39vQB+HH3Qvby+i75G/it+Xn3dPjQ/Gv4vvm9+xb4SfoY/DX4Wvg+/Ez33frT/e/5T/19/Br6v/vM+YL4WPwT+rb4DvuB+TL8/fyI+in9cP7//cb/Xv8T+5P8O/+u+lQATv8k/HcDhv8PArQD1v4wAgEDeAA3ArYD4gEvBmcFywJtB84E5gSPBJsA9QEyA68CDwKVAyQCQgXfBQ8CSATJA7EBRAXEA6kBYwZTBvAG6QVQBT8ETAJBA4cD7gEFAhcFYgObBTAHIQUxBX4ErAV1BEUDVgPdAfUCbwKSAgwCugEbBE8D2wFoAnICcQGJAiYC5wEfARsDqwPf/ksBSgJXAfMCkALdAOT/SAC1/zwDswIpAjADtQBKAisDNQSAA70C/wIUBNEEtANNBHoE9gTRBD4DZQa/BjgFPQaoAj4CUwIFAWr/yP+bABMBOQKrAHEBCAKuAUgAPf9Q/9v/WwCSATAD2wKVAiIDKQO/AfUBzwEMAusBqAKTA3oBXgGSArMCywMnBFYDuQQEBFgDrAL7AEsE3gL+AdMDQQMqBTUEGwN0AzADGQQjBckDWAOTA3ADawO1AIoAogFhAi4EwwSzBvcG2wW3BQAGtwX+BcMFZwS2AwAF/AXaBIsGfwWWBWUGcAQeBakFrgUxBCADoQODA1sEjAQxBekGUwZ0B5MHtQXPBWIEpgNJBd8E0AIXBLAEtAPVA5gDYASmA0sFnQWPBCQHCgZgBcgG4QRDBJgEaQTaBH4DCwTRBM0FxgYYB/8HVQZ2BtkGZwUqBUgEQQObBY8FmwSEBgcG6wUFBtoEmwR0A9sCMgJHAgIEUwN+BMwETQRuBZ0FXgUXBZ0FsAUqBbAFGgaiBQYHBQadBTIHzgSmA2YD/AJhAjEBswIrAlwBkgJwA5MDNwPJAu4CEgTRAVkBZgL7AFIBIwFwAF4BZgJ9AsADmwTCArYCNwPeAlMDZANCAm8CDwLRAIQCrAKeAv4BugE+AxgCKwLQAlkBaAHyAboCmQHoAGwBMwAaAbD/cwDTAD79lv2m/a39FP12/DP9gP0S/YD88PtH+zP6q/no+L34dvsA+4n7jfuT/Or8q/kQ+vv5+/nj+Rf5hflU+TH6m/qL+nj7Pfvt+lz7kvsp/If95/zZ+5L6IPlP+dD4svkq+Tn47/l6+QT66/k2+m/80PxU/bb8KfzG+176LPrm+Yj5avpl+qL6MvyU+5P8HfxJ+rP7RPrH+aD6Tfrd+iv83vx7/Mb81fyO/P77G/wE/R/81/x+/bn9g/0P/Pz7kvrt+Sb7lPuU+9L7f/uT/MT8jP0b/X38/v50/DT7XfzW++P8o/y0/PH9F/6G/gf+sv1P/oj+3/7n/5D/oP/k/7//v/+i/4oAl/8f/17/HP4X/qv9IP7t/qn+Vf+2/a/9ev6r/vf/AAAoACH/Vf/3/3//v/9l/+v+fP0l/U3+tv3H/df9Xv4A/1v+dv/Y/6f/2/82AIgANAGJAcMAzwBvAacBNAIfAXgBogGGAO4BogH1AYMD2gTtBOgEBAXEA/MC4AFYAkEDrwKaAjQB2gCBAZEA0QAQAIQBMgIWAwkFBwUdBq4FpQUXBW0DCgOCAoACEgNdA0UDswLXAz0FUAaCB10HggeRCGYH7QU3B3kIzgj1BrwFVQb6BqAFWQXSBnEGlwaLBoAH4Qh6CmMKWwhnCWQInAd3CPAF2wWWBWUFqgYBCEsJOgnbCgwK8QetCG4I/wfxBwcGegXFBTQFcwR/BT8FVgRSBSQG3gYwBwMHJAbPBc8FMQU6BNkCcwHfAPAB9QLNAjADzwHPARMCcQEPA1gCQQO0A2ECjgLkAawCqwOmA6MC1AI7AvD/wwAjAYv/aP96/+b+jQAoAQsAHgCdAKsApABzAMgAUAFEALIAeAAo/y/+mv2Y/Tz9Nf3H/TH/tf7+/lcAWwDfAJn/Tv94ACYBQAGUASYCGgEjAKkABQJ/AbwAyAASAKsAsgCU/67/I/4V/l4AEAFhAWkASwCGAGUAMQBs/4b/Jf6y/oT/Kv6L/xr/pP1m/Qj8hvuc/G79+vt7+0P8f/6L/4H+HP+A/Rb9pfyg+238DfxD/Mv8Xf0i/V7+bP/c/TH/Jf3d+jP9A/wE/Z/+YP8sAF7/LADh/oP+w/7D/vQADgGPAFn/zP1A/Lj7Xfy++ib79/tT+yf97f2D/dz9m/5H/8T8A/yz+/b5b/sP/Dn84Pyq/Mv8df01/df8qvyF/Nz81/yu/mP/Sf+1/9/+ev5I/ef8q/5b/t78/v5lANgAiQGEAeACygFIAF4A7QCnAfIBvAFyAjcDzgMABRsE/QSwBC4EIwTGAp8DKgR1BBQEYARJBbUFagZqBr0GyAZqBWcFDAY/BboFXgaCBiwFBwWLBegDRgVlBt0FTAbMBEsE4QOhAlkEVgT9A10E4wOyAzQFZQUdAj8A/P+KALMBggLsAssDkQS2A08DbQNpAwwCvgCAAg4BiADBARABqQC8AJcBbAG8AS8B7QD+AAUBRAG5AAECwAA0//n/jf9j/7L+jv2r/UP9JPzg+2j7i/vL/Df9r/2B/xj/zP1B/jr99fvS+xD6Cfrk+sX6xflP+NH5k/lu+rP6hflx+mL5ofjm+ZP55fdA99L3l/cU+E35Vvha+Dn45/YA95725PXM9an1xPfD+Sj6iPnA+dz5Fvil9sz1kfUX9pz3n/iw+S/7R/tX+xX7y/gZ+IT3Gvb89qn2FfYq9tT2RPb39Yf3wffQ+I73Zvcs+RT49/ap9Q72f/bF9bP30vfI9uD3+vfI9rr3Afie96P3svVC9gD3avfA+OX45fjH+Z/58fhW+Df3s/fa+Gv5//jD+SX6bvmN+hD6w/mP+mr64flb+Wv5FvjS92j31PbU98H3v/eA99f3FPm0+Fr4WPj/95X3D/eS94D4T/lE+pb6Wfri+8v8hf3m/Zr82fxo/Ff7/PpE+vv5i/uc+5n77Pxd/CD9hv70/qL/dv+E/+j+x/1n/t/+/v6P/uT+XP+6/9j/Gf4z/iH/Sf9XAFUBAwL6AiIDtgL+ARMCEQJCAUAB8v8LAP4BXgFXAaMC0gJ5AnICPgPlAxQEsgOtA/MDrQOtBEYFbAT6AsYB1AKVAgwC+QH0ABoB8gH+AZcB8QIGBG0D8wJcAngBpwDtANcCMAIMAaUBhAFjAY4CjAQzBN4DCwSXAjcDjAMKA3kDHQO6AQIBwQFzAdsBngHmALEBFQGbAV8CHQMQBZEEawMSA8QCQgJoAsQDcgJqATICCgKeAkUCRQM7BfsESwTzA94DxAMEBJUDkgJKAm0CRQMnBDEExwQEBbkElQMkA9sCTgLnATYBEwJFAkgDWwNDAzoEGQPJAkwCNgGxAQ==\" type=\"audio/wav\" />\n",
              "                    Your browser does not support the audio element.\n",
              "                </audio>\n",
              "              "
            ]
          },
          "metadata": {}
        },
        {
          "output_type": "stream",
          "name": "stdout",
          "text": [
            "\n",
            "Label: nine\n",
            "Shape: (16000,), sampling rate: 16000\n"
          ]
        },
        {
          "output_type": "display_data",
          "data": {
            "text/plain": [
              "<IPython.lib.display.Audio object>"
            ],
            "text/html": [
              "\n",
              "                <audio  controls=\"controls\" >\n",
              "                    <source src=\"data:audio/wav;base64,UklGRiR9AABXQVZFZm10IBAAAAABAAEAgD4AAAB9AAACABAAZGF0YQB9AAAuAFwAyAAiAEEA+f9F/2T/GgASAGkAewHkAHcA7f/H/w0Adv+o/lH/qwAdAX4AggDLAFwA8P/u/g//WQBjAIIAdQDTAFcB4v8d/9r+WgAKAJ3/fQBBAQ4CdQCA/9f/ff+K/v3+6/9RACgBhgAmAMUAvf9c/3H/R/54/8kA5/8lAE0Ax/40/2f/Lv8UAMP/6/+AALMA5P9OACIAW/9u/9r/QwBNAJ0AYQAFAE//Dv97/zYAlQAfAIkAXwDP/9//BwAGABkATQCm/+n/HABaAMEAUAAhAGgAxf+9//3/hwAMAPb/lQCnAI8A/v/7/83//f+r/27/3wBEALT/UACy/4IARQHz/1H/f/+g/zUAKwAOALUAGAG5/1v/fP9y/5L/Bf+l/2UAvAByAC8A8f9z/4P/Gv81/zEAcgC6AEgA/f86AMj/vf/2/xgAagA+AOP/k/+J/7X/SwBWAIX/UgC8AVEAlP4HABsAKv93/1v/ZQAAAvgAtf4D/3H/tP5N/1UArAARAt8A1f4kAIv/tf7O/7b+E/+vANIAEQGLAK7/af/q/sb+cQBGAPv/KAC5/78AmQCP/qH/VACY/pb/nQGIATcA5/7C/xkBGgCW/hkAhADBANoADP+a/1EAd/5R/1EADAAYAaH/Nv+bAEsA4P9t/2r/fgCNAGr/tP/NABMAkv/y//j/2f+t/6D/NACy/4cAvgBf/0H/JABCAJz/SwD6/+v/mgDv/+L/XwCAAHgAMgA7ABEABP/h/nwAUQG9AL8AWwAAAL//Lf/L/1z/w/++AIIAbwGDAbj/l/7L/tT/bAACABgAQQDKAKMA1/+TACcA4v+EAL3/dv9hAKgAfADWAK0AsQC9/0z+j/7//2MBgAAaAc0B3/+K/vn9N/34/24B6AA+AgUBZv+s/lj+Ff8t/7kAYAEUARwBmf7I/gYAxP7E/uP/2QDcALAA/P8c/8H/9P9h/53/uwBxAFMAqgBMAHL/kf7T/t4AcABi/3cASQCaADkBAABQ/x7/4v5x/wQBJgFJANX/jf+m/93/uv/E/zIApQDr/6n/fwBX/wn/sgCKABkA4/8q/6L/GwF8AM3+Lv8YAOf/5f99/3UAUgDi/ub/WAAcAO//O/+q/wcAFwA0AZEAov6k/3UAUP+3AGIBZgBzAOr+IQAFAWz/Lv/4/rsAuAEqADP/T/+V/6z/+f+iAJ4AiQDw/7j/twD7/7H/7v+Z/+L/Pf8O/04AhQHCAV8Aq/4S/vL+Jv/6/4YBjAFtASUAz/65/jj+MP8ZAe4AiAAyACQAHgBh/5f//f5v/64AUgAeAEr/2v5n/6UAZgF0AOH/9v5W/kL/BADLAGYBBQGV/zL/BwDA/z3/gf9AAGMB+QDl/93/d/+m/oT/aQGvASkBFgBX/ij/cwBzAKkB9QGJAIL/uf7Z/moAagG/ADAAqwCN/2j/owAdADEAVgBwAPH/9f7Z//X/YQDYAM//7P/HAIj/Zf/u/1j/cwCVAEwAvQCe/wT/2/4n/5j/9/+SAD4AZgCsAGX/Fv/1/yAAtADjAGcArP/U/5cAOv/U/gcAUgDvAJIAPv96/8j/Dv9oAKkA8f/P/1r+kP8EAoIBSP+Q/tX/UABj/07/KAB+AI0B4ACD/4r/Ff95/2j/mv+FAEcBnQBY/6X/X/8W/y4AnP9N/3IAsQD0/7//X/+u/8D/5P55/0cAdwAnABcA7QDcAGUAff/w/3oAeQC8ALoA2QBYAAEA1f/y/67/yf8OAe8AEgAF/8P+s/9MAJwAUADO/6v/YQBGAV4A0/7s/jgAPQE9AYUAt/9U/7X/1/+f/zIAUQA1AEgAlP8e/33/j/+6/8EAGgAZ/6r+M/+HALEA+v+v/kn/iQBDALn/uv/x/00AJAF3AHX/Sf/H/jT/5gBiAS4BKgAF/73/xP+w/3EA2gC0AEQAmf96/5kAWgAq/4D/FQD0//H/FwC9/7X/6QCpAFr/CP9z/6gAQQFpABoALwAXANr/DwAZAOD/RADW/6n/YwDV/7n/Zv+M/8//Lf9M/yUApQCjAK7/G//W/ycAVQCDAD8AAwHWAP7/f/+W/sz+ZQCCARkBIQBx/xD/+P9fAC4AFgFuALj/7f/n/6cArABLAIUAv//k/4wAVQA+AK3/Jv8EAOoA5gADANP+Ev/+/18ASACr/8n/KgCZAJwAmf8y/w4AbAAdAAcA7v62/pv/lv9o/wv/4/6R/2YADwA1/+z+VP+RAFkBsgAQANb/5f9CAPT/uP+v/xQA9gAYABH/MP8J/03/NAASAFf/vf9KAOoAwABJ/9n+yv9TAA8BGAEsACsANwCW/1n/rP9SAJ0AngAAAHv/HACFAB4A2f91/6b/WwF1AQsAUgAcAJ//2P+2/+r/swC1AOb/DwBYAMD/rP8XACMARQCgAGgAWgDDAK8Ay/92/37/Z/8cAJIAEQDE/5X/t//q/3r/yv7o/rf/xAAuAbYA+v9f/zj/Uv+g/8D/YgBqAeUAaP8i/5r/6P8bAAcAWAByAA0A7/8FAPj/0P/e/+D/LwBIAOz/OgB7ANX//v9RAKL/lf95/2L/NAC2AA8AS//W/nH/AQBYAC0ANQByAN7/NP8O//z/VwBDACYASv84/7P/KwAYAMz/0v8gAG3/Gf8eALIA6gCXAO7/nP99/x8AHQG9AHAAawCBAOEAPACK/5f/jP8PAOcAjgBxAA0Ai/9d/2n/yf9IAIQAJACzAIQA6f9TAAkAaADWACMAp/8DAG8AtgAVAHn/cf9A/4D/3P8+/27/+P8fACsAgf9E/6L/rv/J/9T/GQDFANcATgDN/+n+WP/MABQBLgDj/1//p/+/ADEAjP/B/+3/mgCEAF8APgAeAIYAwACBAFYA5f/z/9sA7AD4/3j/j/8OABoAGf+K/jj/IQDEAAQAnf6j/nH/FwDIAIYAtP86AJkAOQCm/5j/OwBsAGMA4/+E/zsAhgAMAIr/Av8y/zoAiwAhALz/nf/O/3L/iP9rAPIANgDS/20AQQAKABEA+P8mACAAzf88/7L/6P+R//z+sf5D/zgAfwDW/zgAUACh//v/SgBqALAA7wCHAFUAPwALAM//pf/5/x8AEACy/7z/BgAHAJ3/Q/8kALYAxQAuAHX/IwBPAawBFAEkANb/ZgC+AJwAVwC3/+3/qv8F/9f+tP4y/97/DQCI/6z/7v9AAF4AKACGALYAuQC+AK8ACgDD/87/8v/s/5P/fP8x/2f/zP8UAM//Av/w/oP/8/8BADEAhgC7AMcABgDU/ywAXgCUAFcARgBJAGIAn/89/2r/hf/r/8v/8P/0/yMARwD7//v/aQC7AFUAfACXAJgAegAUANX/YP83/3r/yv8AAAkAi/8t/yH/Q/+S/6//LQCoAJoAHAAnAG4AXwA3AH7/5f/dALAANAAVAFj/Tv+d/2j/jv9r/7n/RAB1AC8A0P8nAAgA0v9KAMYAaQCcAOsAzwCqAFIAxf8D/1L/tv8RAGIA/v/4/+7/kv9a/3T/CgCtABsBFgHOAH8A/P8SAEAANADp/5v/df+h/wEAgf8L/7v+cv/t/7T/oP+L/3IA5ABOAC4AFQAFAF8AMwCz/xsAqwBBAB0Agv9O/+r/+v/y/+r/2v/S/6r/f//s/0UAPgBtABoA4v+QAJ8AVAAkAMX/uv+m/yEANQAKALD/pP9z/2D/df8e/3//0P8yAGAADQD9/+T/QAAEAQQBHQAJAKwA1QB9AIn/OP82ADMApv+C/6f/EQBvAA8AL/88/wQAeQBsAIEAHwD7/0IApf+//+v/pf/Q/+b/DQDi/7P/Zf/e//r/0f8EAL3/q//u//T/qf82AJsAkgBSAKD/AQBfAHkArQBEAIP/Jf9+/8P/AADn/6z/2v/j/wsAQAARACIAbwDAAD8BLQFiAJUAsgC5AKsAKgBjALIA5/89/w3/Qv+b/6T/c/8x/zH/iP/i//b/kv/u/on/BQD0/ykAWwAGAMj/5f+M/+z/xP+2/yAAVv/t/jT/z//h/87/gP9+/zEAUACGAF8AGQA2AHQA8ADbAHMARQBkAIEAKADf/5b/6f8WAP7//v/y/0gALAAZABIAFQCTALgAvAC6AG8AUABzAH0AHQAxADEA0P/j//f/4//b/9X/a/+L/7v/rv8oAC8AXQCyAIUAdACnACEAw//9/1EAxgBeAL//jf9u/2j/Sv9O/1f/mP/J/w0A+v+W/+n/7P9QAEoADQB+AE0AiwCFAOD/l//W/xwAEAC5//v+L//B/8j/pP9q/4L/EQA+APz/z/8GAC4AXABkAE0ADADZ/+//BAAjABYAKwAcALT/lv/M/67/DgB3AHUAJgCF/07/oP8LAPX/MQAkAKf//v/q/7//mP+A//X////S/77/4f+w/2P/qf8SAGwAfgBUABkAIQCPAIMAbQB6AMMA3wCtAHUAmwDlANQAkgBdAEsAagDnAMgAVADu/9b/FgDQ/83/6v+//9v/AgDs/63/l/9v/83/+v/M/yYA6v++/9b/av9h/5z/rv/J/83/pv/I//r/9////8T/9f82AFIAuACNAF0AXgBXAHIASgDi/+r/RAAMAAwA7/+K/+X/5v+V/4f/NP+T/xEAsf/P/wYA4//D/1f/Ef9K/9z/AQADAMb/Qf/9/rv+QP+x/8T/5//C/+7/1/8qAIIAkACiAJ4A2ADJAMEAnACpAHgATACsAPgA3QBIAAIA9v/D////PACJAGQAEgAUAMz/vf///wEAFwArABwAEQASAMb/Zv+D/8b/OwAQAKb/xv+z/+T/SAB6AHUA8v/F////SAA9AFUAWwBdAHwAEQD2/73/kv/+/yMA/f8cACcA/f/u/1b/ev8NAPX/GgAnAM3/xv/x/8T/+P+x/4H/NwAtAOH/v/+K/6z/uv9j/5z//P/G/43/mf8AAIYAwABSABgA8v/e/zUATQBOAKwApAAzAMP/iv/o/97/yP/d/x0AMQDB/1X/wv89ACsAJQCm/4X/xP+w/6T/IwBrAH8ATgBj/1b/0f/Q//P/9f9OAIUAVABoADAAg/+I//r/pgAsAcIAKAD7/6H/9v8yADoAgwBaABUALQAXAA0AOACY/+n/AQDL/z4A5P9S/8P/lv/U/30AgwB5AOz/Cfwl/oAC/AEJAcr/Af8e/yr+Lv6s/zUAuAC8AKn/tP96/0f/3f/z/zYAfAD4ACYB6ADn/1v/BgBbALYAlQCFAIwANQAVAEwAIgDS/z0AfwD+/1//df8EAAsAOQBvAIUAPAC7/1H/gv8eAEcAggBCAIH/f/8w/3D/p/+//2n/Zf/m/9H/hv/A//f/2f+h/24AoABVAK//Xf/z/7IAGgHCABEA8/+w/67/IgAlAHkA0QBmAPL/nf/B/0EACAD//yYAIwBiAFgAPwD0/63/n/99/8L/e/9e/5D/rv+7/yP/Yf+f/1n/yP/j/xkAtgAVAcEAmABXAHUAqQB6AGsAnADOAM4AQwDb/+H/uP8lALAAKABTANcABwD2/xcAwv9OAC0ABQBqANX/jP8vAIv/V/9J/+3+sf8SAJ7/R/8h/6X/nf9l/xv/kf+s/xAAhgA5ANT/DQC2/zj/4/8vAKYAjAAaALUAKgCk/63/a////y0A2v9EAGkACADG/7r/LgAkAHT/NP87AKkAnAAfAIn/oP+B/5b/FwAyANH/6v8NAPT/vP+1/0AA8//U/xMARgCcABoAm/+I/8b/IwBQACwARQDP/8T/8f9kADUAfgDF/6IA3QAXAA0AFQASADUAOACHAIUAcABjAJL/XP/W/y8AMgDy/+P/zf+0/9r/HgCFAF4AZAAsAL7/EwBTAFQAzABvADAAsf8m/8T/PwBEAJcAoQAuACIAy/9x/xIAKgB+AHcAj/96/7b/Vf+B/7n/0f8MAHf/Mv8b/y//qP9Y/yb/Z/+Z/8j/bf9o/37/mP/B/7b/0P/8/+H/7f/J/6P/t/+Q/wsAuQBeATUAsv3i/WAAjgJ8A2ABcv9Z/7j/uQBMARkBJwGHAMv/l/9R/8L/SwBnAKsAXQCFAJsAlAC7AFwALgBRAHsAcgAaAMD/6v8zAKAAbP9z/ZL9E//SAPYAsf/L/yYALwAkAGv/dP/l/1gAAQGdADoAEABbALEAYwDz/5j/9//zAOQAeQAMAMb/SgBnAGsAcACJAMAA2QBLALz/g//g/1IAgwBCAJD/QP8k/0n/j/+8/9z/vP+o/5j/Sv9O/8n/2P/f/9X/v/8gAFkAaAAvAGL/yv4b/4P/8P/7/+H/5P+I/23/of+k/8P/SQCYANoAlgAYADoALAAPADwAIgD+//H/3v8AAOv/HQAaAJr/6v9XAM0AGQG1AIsAFACc/ycASQAhABIArf++//b/wP/Q/6//nP99/2P/yf8vADkAEQBJAKcAVQAxAHsAPAB1AKMAfwBdAOP/0v9KAHIA4QCQAPX//P/v/wIABgAbAK0AkQAIAOD/tP/g/0UATADE/z3//v4f/3T/kf9v/5X/sf+w/2T/9f4v/7L/BwBbAG0AfAC0AKcAeAB6AIAAlgCvAGUAAgCr/57/y//D//b/LAAzADEAxP97/4P/kv/c//3/7//W/9H/BgAAAKr/bv+K/wYAOwC+/0H/MP+H//X/7f+P/5f/+v9YAFoA8P+i/+X/WwCdAIoAbwBjAFAASQAOALf/l/+9/ykAigBUABEA/P9CAIsAgABKAE4AewCkAJoAmQB1AEwAgwBWAL3/j/8VAKAA5QBzAMr/Zv+u//X/MQDm/93/HQByAHAAWAAzAJYAwQBtANL/eP+8/2kAxQCCAOr/o//j/wkA/v+9/5n///9jABgAmP8x/zD/vP8YAOX/if9N/2r/uf+7/2//MP9B/4v/fv8G/8T+1f46/6z/o/+I/3P/Yf+c/7b/uf/q/ygAfgB6APP/5/8iAFIAsADpAKQAMgAdAF0AswCVADQAh/9Y/9z/AgAGANP/LwCWAGIArv8U/0v/YQBWAY8AF/+a/hT/6/8kAE7/uv+2AOwAo/5p/Eb+5gL3BY4DfPwN9o38eQWRC74H//xK+NH+mwRcBUYB6fsy/tsBuQKgAMD+kf/7AlUDzv9J/Db8UwDvA0QDCgDR/dP+egE9AvAASf/g/uD/egCn///+rv/pAIkBJwCk/ln+kv/wAOwAFwBW/1///P9wAEcAIAAHAPH/0v9j/x//Yf99/1z/R/8l/23//f/7/8b/T/+q/h7/NwDUAHgAG/9A/gr/nQA6ASMAgv78/RX/iwCFADv/g/4J/yMAdAB5/87+b/+sAFMBuADX/9P/pwB0AT8BXwAAADYAdAB2ACEAMgDbAOUATQCm/y//v//KADMBJgHyAKMAxQDqAMIAwgCgADoAyP+a/6r/AgA6AC8A5v+z/3D/Qv9H/zX/df/b/ygAMwArAAEANgB4AM0A7ADVAI0A+f/q//T/EwDp/9n/vv/x//3//P8rABkAAgD+/9H/i/+h/wMArwDmAEIAxP95/5H/sv+3/8z/0v9T/zL/If9C/1n/J/8y/y7/HP8E/3b/3v8NAAUAFAAjADwADwDm/zgAXABdADAACQDz/zIAXgAHAAwA6P/d/wIAFwAjAIAAlACAAFEAKQBvALQAmQAMAMj/ef+m/wgAXQBNAOf/nf90/+z/CwABAAIADwBUAJYAfgB3AIAAnwD0AOUAkgBKAGUAwgC3ACEAhP9n/5r/2v8fAAgAv/+X/2b/k//D/9P/FQBnAEIAGADp//D/WABTABwABwDX/6L/Rf/y/kf/uf/K/5T/dv+S//f/ZwCiAIEAdACAAHgAqgDMANIA4ADKAIQAUgAGALf/nf+A/5b/zf+w/4L/mv+T/8f/2f/N/8v/wv/J/wMAWwBwAEUA9P/W/7//1f/v/7X/of9W/zD/c/+4/9D/2//J/woAVgBJADwACAAdAGMAhQCUAEgA8v/Q/9H/rv9y/1f/Kf8n/zz/Yf+B/3v/ef+D/7L/EQBAAJEAugC+AKQAfwCiAKsAfABRACsAGAACANb/0//z/w0A1/+7/83/5/8vAIAAkgBwAD0APQCIAKwAoABrAFoAQgDm/3P/O/9Z/3P/iP9q/0j/RP9+/8b/6v/8/+H/CgA+AEMAdwDHAOQA6QDEAJEAVAAxAAAABAD+/+z/z/+0/5P/nP/C/+D/JgAXABUAOAA0ADYADwD3/xMAHwAbAN7/sP+1/4n/Xf84/wf/Dv9T/57/kv+Q/33/l//N/+n/FwAiACcAUABaAHsAagBYAEIAMAAUAMj/nv+M/5T/p//D/67/pf+R/63/x//p/wcABgAcAA0AEQAKAAkAQABeAHgAdwA4AAgA+P/u/6//h/+Y/7X/0v/S/+H/4/8GAEQAWABYAGAAgQCdALcArACHAI0AewCAAHoAXwAVAPr/FAD9/+//+f8IABQAAgDt//D/KgBSAE8AUQBGAHUAeQBUAC4A+//Z/7//yP+w/47/fv+U/6n/rf/H/9v/0v/j/93/0v/y/woAEgAVABQAKQAeAP7/wf+q/5f/fP+B/3b/jP92/2z/f/+S/8b/5P/8/wEAEgAdAEIAQwBWAHMAawBfADMAEQAGAA8AAwD9//P/8//9//z/AgAJAAQAEAAyAD0AVwBOAEoAWwCMALMAtgCXAGoAWgAwAB4ALwDz/+3/0P/a/+v/vP/I/6n/4//L/+j/+P/N/x0A8v8DAOz//P8vAPP/LQD1//n////r//D/uP/0/8D/uP+k/3H/k/+o/87/wv/D/6//rv/W/+D/zv+8/9j/zf+x/7P/ov+h/6r/z//L/8T/u/+x/8H/0//k/wgA/v8UACwAPgA2ADMASAAuACUACwAVADIAQQAkABYAGwAbAAMA6P/h/9z//f8WAD8AVABrAFcAVgBWAE8ARgAoABUAHAAOAAgA7f/T/9r/1//J/7z/2P/t/wIA3v/H/+D/8P8jAEkAQAAsACMAKABMAFkANQAkAC0ALgArAP7/w/+b/5b/kf+t/63/tv+2/4v/oP+n/6X/mP98/37/hv+Y/6b/v//F/8L/v/+9/9z/+//q//7//v8ZAEUARwA9ADAALQA4AHcAigB/AHMAaQBRADoAJwAFAAsA6//c/7L/nf+g/5H/m/+5/+P/+P/7//z/DwAgAEQAVwBvAGoAawBtAHMAdgB2AJ8AggA5AA4A8f8pAC0AIAAEAP//CgASAB8AIAAlACwAVABaAHkATAAlAA4A6//o/8f/z/+l/6//nf+L/4j/Wv+J/5P/mv+o/5j/kf+G/2v/mP+g/8j/y/+5/8b/t/+//53/ov+j/53/tP+c/8T/+P8DABwADwAnACEAMwBLAE0AegBhAFMAXwAyAEMAEAAHAP7/8f8KAPb//v/M/9b/+/8GAFoAdACRALMAxQDnANcA5QDeAOAA4gDfAOYAqAB1ADoAEQAuACwAMgAHAM3/3v8GADEAKAANAOX/7v/n/+T/5//j/+r/y//h/9j/xP/E/6L/nv+T/4D/j/+F/5L/d/9k/4H/of+//8f/3v/U/9D/1P/J/9j/tv+j/57/kv+1/6z/if9Q/1X/uf/P/97/p/+H/3T/j/+z/6r/zP+8/8v/4P/b/w0ANABJAE0AMgA/ACkAWABQAGoAcQBNAGMAYwBrAEQASABSAHsApwCAAJcAWABWAEgARwBcAFAAXQAdACsAEAAFABcA/v/3/9L/pv+p/6P/pP+q/6T/sf/G/9n/5/8HACIAQwBtAE4AMgA7ADkAZAB7AI4AfgBOADwAGQAYABkAIwAPAOP/2P+2/6f/vv/P/9P/sv/C/7H/rv+S/3T/ev9d/4v/i/9+/3j/Wf92/37/if+3/9D/5//6/wUAPQBIAEMAKwAyAEYAUQBNAC4ACQD7/w8ALgAdAB0AGgAdADAANgBEADkAeQBgAGQAYwBLAEQAHABIAE0APABFABAA7P+l/5X/r/+K/6n/m/+n/7b/tP/j/+z/4v8dAEYAegCIAJEAigBxAIUAnAC8AMIAvwDEAJQAgACAAG0AeQBcAGEALQAVAAUA//8bAPH/3v/M/5n/l/+C/4b/cf9D/0L/IP8Y//r+I/8o/yr/SP9H/2//hv+O/8n/7P8GAAEADAAOACEAMwAjADYARQBQAC0ANwA5ADYAPgAaACoAFAAFACEAEQAfAO//1//R/8z/nv+h/7j/qv+0/73/u/+l/4X/k/+n/8n/zP/D/9z/zP/0/y0ARwBXAHIAcABxAHwAhQCIAIoArQDAAMAArgCVAHwAhwCKAIwAiwBzAF0APAAYACgAKQAgACAA5P/c/6r/mP+n/6P/qv+p/6z/m/+F/3f/hf+q/7//vf+m/8X/yv+2/6X/gf+2/83/3v/p/9L/EgAOABwAEAD5//X/6f8dAB0AIQDv/8z/9f/x//P/7v/x/xIA8f8FAA0AFQAgABwAVQBPAGIAUgA1AEwANQBEAFAATwBmAGsAbABIADMAIgAPAFkAaQBiAFIAHgAQABIAKABCADIANQA2ACgALgAKACAADQAWACQABQD1/77/v//J/67/uP+i/6j/oP+i/73/nv+U/6P/vv/j/+///f/4//z/+/8HAAIA7P/y/wYAFgD5//L/4P/Q//L/9v/8/xMACwAUAOr/7v/7/+z/7P/8//3/5P/E/5v/i/+E/3z/fP9q/2j/j/+1/9L/4//s/wcAIgBbAHoAfgCgAI8AnACuALUAyQCgAKAAewBfAGYAQwAwAAgADgARABUAIgAMACoANgBLAFYALQA1ACwALgA5ADkAPAAUAP3/GgATABQA+f/j/+//1v/b/9z/9P8mADQAQgAiACIAUABIADEABQDF/8v/wf+1/5r/gP+C/4P/lf+R/47/kP94/4L/fP+h/8L/vf+p/4v/kv+W/4r/fv9q/4P/vP/M/7//jf+R/7r/zf/b/9X/3//n/w8AMgAgAEcAYAB+AJUAigCUAGIAhgCiAJYAkgBpAHIAWABNADcA/f/P/7n/o/+l/7j/x/+0/6f/xP/7/wkA+P///wkAJABUAGwAVgA3AGIAiQCkAJgAZAByAGMAdgBiACwADwDf/+X/9f/k/8T/iv+Z/7f/x//6/+z/5f/O/8b/3v/X/9//2P/r/wcAIwBEAP//7f8UADwAaQA6ADIAEQAPACAAGAArACIAKwA5ABwAEADy/9//3v/F/8T/wf+1/7H/rf+//9f/DQANAPH/FAATABcA9f/1/+7/8f8LABUAAwDc/8z/r/+7/5L/ev9t/07/V/9U/2n/iv+P/7D/vP/U/wYALgBCAEQAQgBdAH4AmQCfAIQAhAB1AIMAlwCMAHAASgBHAC0AJgAQAOz/3v/Y//7/6f++/7//q//B/9L/8P8GAA8A/v/9/xQAMAAzAEUATABsAKcAvQDAAKEAmgCGAHAASwAbAPj/4//d/73/if9u/3n/fv95/3T/Yf9q/4T/pP+z/77/yv/P//r/PwB0AHIATwAuACQADgDu/9X/0v/f/+L/5f/H/6L/k/+G/5P/kf+I/5f/jP+q/7n/2//f/7H/sv/k/x8ANgAbABsAHAAeADcALAAmABgAMQBIAEYANQAGAAYADQA0ADIAAAD0/8//5//k/8j/xf+7/8z/3f8GAEgAXQBZAHoAqwDZAOIA4gDsAAABDQEKAQsB7gCxAJ8AiQBcACgAHQATAPj/3f+8/63/xv/r/wUA9f/t/8z/0v/7/y4AUAAzAEYASwBjAGUAXABhAEQAPQA1AA0AvP9k/zb/JP8W/wX/0f6g/nb+T/5P/ij+9v3V/ar9s/21/cP90/3L/f79O/6H/qn+uP71/h//Y/+i/+L/EgAsADgAVABnAGwAbwBkAFgASwAyADYAEwDN/5b/f/9U/zf/IP8Y/yD/Gf9C/5P/z//u/w0AHAA6AHsA4wAeAU0BcgGFAb0BCgJlAqsCvQKGAlkCcwKjArMCpwKCAlECVwKGAo4CYAIWAsgBtwG7AbcBogE0AdUAiQAzAA4Arv8X/1v+g/3Z/ET8wPsT+1b6vvk0+cj4X/j298T3yvfG95/3RfcQ9yL3gfcg+Ij4m/ig+BP54vmT+sD6qvqb+qL6BftL+0v7MPsx+3X70PsM/Lv7j/vO+2v8Ef1X/dr9I/+KAYwE9QZUCDwJ7grPDQERaBNbFLMUuBXuF5ca/xt+GxYaZRnYGV0asRlvF1sU5hFVEOMOtQyiCaAGoAR6Aw4Cvv/V/I76K/kg+LL2k/R48ibxHfHG8fTxZfHB8ODw7/Hd8nPzQ/Ps8kbzCPQu9Rr2wfZ295r4GPpR+wn8aPwY/Rr+E//r/zoARwC6AJEBWgKrAqUCuwIEA0gDBwMeAssAt/8b/4f+Y/3o+0/6F/mZ+Cj4W/cc9tr07PNf8+Dy/vGy8MHvgO/575PwAvEd8WTx3fGH8pbzWfQY9QP2M/fH+C76SPyB/68DoAdGCrsLKw0MEB8UDxhlGucaiRuvHXAhSyX1Ji8m1SSEJL4luSbyJRYjzh+xHZocJxtJGHgUzxA8DmgM3AmiBZQARfyT+W73qvSt8LbsDOoN6dTou+eX5THjJeL14i7k1eQl5H/jS+QR53/qBu1g7kjvW/HK9Fj40/oD/FX9h/+mApEFegdhCAcJVwr3CykNZw0GDZ8MqwyiDBUMygp3CXMIsge5Bi8FOQMNARv/Wv3K+xz6Rfic9vb0p/NF8s3wF+9Z7fPrsOpp6Z7n9eXg5HPk2+RK5czlXeYB54/nKugy6eTq9+zo7mfwCPJc9Rz7lAKDCRAOVxDOEngXDx5OJI0nNyihKIor7jAPNkg40DbfMzIyNTIYMtgvaCsZJoAhAR6nGlMWFBHWC5wHZARKAYj9Nfk59ejx7O5v61HnvuNk4cDgteBy4Nzff98s4JrhGuPy4yXkkeTK5bznHurF7IvvwfJW9vX5Sv0iAMMC3QRsBsMH4Ag7CqgL8wz8DVsOrg4qD6APtw+PDjAMXwn/BnMFTATnAt0Afv4q/Gj6Efl19yf1JfJC7yztEOy76zDrFurA6CjoqeiS6ULqO+qB6ffoCem16ZDquurl6qfrW+3J70TxaPG38KvwJvIm9An1RvQd9Dv3nf6HB8cNxA90DwsRhRYQHmojliTPIyklnyobMn03IDiFNYEzlzPDNGs05TCsKzAnbSRRIvkejhmiE7wOpwv+CBcFnf8Q+ij2nPM48XztTuiM4xPh1eBV4e7gft9a3tTet+DE4oXjDOOC4hzjOeVX6GLrye0P8Bfz9PYt+5D+fABnAVoCDgS8Bk4J9wriC7wMdw7gECgTIxSVE/oRZhA+DxgOfwzPCdsGdATwAvEBlwD6/Sb6NPZq84Xxmu8a7VXqPehh53Pnm+dL517mRuV05O3jPONb4o7ho+HO4qLkcua753bom+k464TtBPAF8qPy8/Fo8YTz8vn9A3wOxxUQGTYaRBwIIRAnTitxLJ8ruSxHMnI65UBzQpE/CTyMOsQ67znGNQ4vlygyJIshex50GbESKgxiB5ADEv8W+a7y/uyi6Grl4uE33rram9jd1zvYodhD2GrXvdYk1xPZsNvQ3RbfTuCm4ifmAOqz7CLvd/Jk9xr9KgIiBikJLQyED54S+BTtFf0V6BVTFvUXRBqhG+EaWRg1FekSchFxDwsMZgfvAhQA2P7U/Z/7zPeG83jwf+6V7Ajqauff5d3lk+aq5uLl3OR35KDkb+RR46PhhuDw4PnipOVz5/nnzucF6E3pMOv+7JDuwu4Z7S7rIOw588T/1Q30GJ8elB88H28h2iaHLDAvey5ELgczlTzKRktMv0oLRZ0/yDzZOpg2UC+FJxIi9B8LH1QcvRa7D5EJvgQhAFv68fOO7mnrJepC6UrnhOQ34oPh5eG54Uvg6N0W3IPbCNxK3ZDeWuDA4mnl0+c56Qjqd+sz7jjytvb2+hT/6wLbBvYKzg6yEaUSzRHNEcUTFBi6HX8hKiMGI/shJSDJHDkYqBI+DG0F7P2u9jjwmeoE5lXibN9X3JXZVtil2MrYR9iX1xLXSdhc2mjbudpC2NnV4NQF1JvRI87jzOnPM9Qv1mvUgdFr0YTUW9mx3JveIeN48zEVq0Vjbgh5mHvVfv9/5Hx1a2dXAEWiOT0ztC64Kd0jpxrpDNz9kvFV6RflMeVH6671pv8FBhIJngmeBxkDjf4n/Mf7o/wC/w4DIAabBA/+PvUh7YzmRuKL4abkC+kE7dzwbvRU9kf1GPOk85f3L/0YAysJjA77EdkSNxN8E6ARJA5gCwMLkwsvCQQFdQEe/d32Z+4/6Dnob+tX75ny8PM89QL2mfZl90X3TfbK9Rb1//RF9SX1pfO58Kfu/e1a7Sbs6eps6g/ruurX6EfocemR663tIO9/8ALxovDc8MnxrvK08zn0CfR38k7tFOgj5SvkVeOI4KPf3uOX8bYORTmfVvBfL2J+YUxap00sPF0oLRzYHAEguReQCB38kvAL5bfd9N947E35/gNbEUwdZyOMIScZ0REIDXwIjQXBBJEFtAUFAsX8LvdY79/mz+E/4svnlO6W9Nf54vrN+MD2o/Ry85vzVfUi+kT/gQGHAb3/OfzP9yb0SfOH9br7wATECyQOwwt8Bm8CBADM/lX/kAAgA+UF0weXCW8HNQFQ+zf2lPRI9wP54vkR+5/5RPan8WbtgOyZ7G7the/f8evzBPXF9BTzaPBa7aXrJuyz7dXuD+5B7Vnt3uzF6Y/oX+ot6wXohOEr3r7d+9vu2g/eG+Mq5RTkquKt6K3/5y+vWBhjPGRzZzlhlU8APg8qihlHFtYZqBWSBb7yE+Wm2n3VXd448k4IhxneImkqAS/hKuohGxrgFGUS4w4VCysIjwFm+dHyKOzm5uTjXeM+6bPw4fUS/GQAQgBa/iD7Efpv+yj8Rf8gA5wDHQIRAO39Rvtf9xL1DvbV+QH+1f/E/zb+nf7RAUYEUwbKB7MHtgfgBQQECQUWB9sIiwfyAh3/9Pv898DzNe/y6x/qs+aX5Prmuuqj7o7wMfEf9S/56vmo+nn54vdc+Nz3bfeU9jnzYe9v7Cjq6Og86RXp1Oi152Xl2uCP3W3dxd3c3ufeQ+BR4hfkdeb55/nltd6a3jb2/zDEWCtjamQlZiNZ7kJrMZggoRbJFAAaqBkwC3D1kOFi1ujaxOVh+bkSgCWELMcvuC/bK3EmCR5BGYoYDxa2EU0LKAOV+u3wq+ZP4pLi+uU27uv2Ef3tAOcAu/6b/c37VfuH/ev+bQBXAeb+yvuY91TyTfD876nwhvQ++Az7Dv7F/bj7mvq5+BL5Mfxg/sAB/QRKBaQFogQOAjcBqv85/Zf7mfii9XPzC/Bo7dvrPuol6sfqSOyp71Lz3/ad+jL9GQAuAl8C4AJ4AmMAPv0D+Y/2a/NZ7gHsqOyr68/pZut97ETrGeld5yXpeupy6hbsDOqf5YDjSOU444vhUOGf4LXdz+VkBQRIBF/gWnVjFF8oRtc7jzh7LKQogSrzK1AZqvYf3tjXrtTi2nzsSQTKFxQemh/mImAgJBpKGFsZgR+TIrQfGBmGDJ/7b+/k6E/pBO/L8h30IfPn8CLxOPIC9RH63fvS/UADEgbsBHIA4/oE+fb4WvqW/YT9Bfs9+Y331/dD+k38y/xl+zr6r/tq/1QEOAlEDDMMzAn1BpkFLAezCl4NvwxaBxz+BPSq64Tn1ufH6mvu4fBV8d3vDvCd79/vzfMt+Sf+XwFsAmcCDf4H9ODtVems5xLqGe829GX24PVk8V/ttOw/7h7zK/dV+Kj2fvF87C/kyNs31pXR/9NS2ZzZONgz2I3gcvZhNJFeQWbNbd9wmlBbPKs+mDmCNHAytTBWHCD4otkizn7LYdS064AGdRpCISAe3RlBF7YaNSCzJmAuxC9eJ2waTgp399np1uOG5Gzpau2y8D3uu+gf5knl1emn8pD5CQH8CUkNIwucCM4GZQZBBuQGvQboAg/9xfip90z3I/Uc85PzN/VL9gn4Mfx0AaMF2AgIDCgOBg/UEIAVHxl4FMoIjP439vLuMOyP7aLwYPLM8aLx8u+77Yvxkva8+HP8KACc/+j8/Pdm8ejrjupQ61fu9vGa87zxRfB97fzriOys7ZbvKvPJ9Zj1He+N5lzll+QD4uva4Nng2jLapdy22nvXWNip4/z2KCzxV5xh4WY7ZHFBLzDbPg5IBEmhRAJArisiA0jeddD8z5rZseswA20V6xlOEdcGBgU9DHEYySguNzk5aS1bHn8OofiH5+/lFPD9+IP4XfK/56bYK9DV1OHhZfAx+94DtAhwCCcF1v90/7UFpQ1zEhYPwQfyAPb6g/eR9JDzWfQB9OT0JvZl94T3sPWp99H9TwW+ClMMxQ4nEtsToxLtDXkI0AS4AyUDdgB6/Kb4EPVb8F3sMuxw7v7w4PIC8xzyc/Gi8Pfu9e5M8G/xBPM69kL4z/cR9Hvvhu4472vyH/Wy9GTzWvIp78zpkONe37DeZNnh1nXYzdrv3FvXQdTq2Kzo5wpjRyRejl2wZp9L8S8tOW1PWFrCWLVOiDy6F1TojNGb1f/hCfQqBK0KcQIy80rs7PLhA40WcCjNNGw1gSuQHvAUPQsJBEUEGwl6ClcCm/Tz5nzZn9Cb0zPfSukF7pvwbPKL8f7wcfT++bb/uQU0Dd8RHg+FCa4Da/+T/QP+pALMA6f/RvkR8Vftneww8Hj3EfuW/e79NQGGDP4X/x70GjMRZwzbCyAOCwytBU8AnPqc9VbvveoB6wzsju1+7n/vKPGk8Arvd+3M7RbxsfSD9lT24vVv9e3yRvE59IH5wvt5+qj4ePef9pn0vfHI7WjpduYI413dSdcj0lLQ5dHk06rWFtxn5DT9jTWeW0RmLF7YMzcls0XYYc1txmSuUfM8+RcQ9CbmF+7a/GsDxwKf+SnnV9gB107iT/TsCEgYCRsEFfsNuAkNC+QOQRMnGTscmBf2DPT/nfTf6zzoBulm6/7uAu4Z6APj+9+i4W/o7fBy+bIAuQUuB/cG7Ad6CrsNvw8eEsQTLxDqCJkBrP2X/af8aPkg9TPyR/Gc8FjzjfxHCdERdhDnCmEJBQ2QEJoPOg18DG4KMwMj+cry4fJD9kf3ofPw7tfrh+gY47PfUuQ17Jjwx++D7ODqB+o96drqjPEu+f38MvsH+d/4Ovoe/Av65fUp8gfwbOul5GreYdqW2InVzM9JzUbTi97J7/wPpjtVV41Ody2HG68yCVqsZwNl2VgnRbgu3hKFAkgIHhP/FU4NcfvX6ircOdN11ozknvUjAogC+Pvj95H3ZfzMBnsUkyHJJl4hZBP8CrQOQAmY/pwBDQrICN70vuCL30zmMOgT48vgreQx6T3t2eo16dfyt/0/AE/9qQJ6EKQTeg3GDBYT/hWIDbsEYQU5CQIKZgaaAm8B/QDGAQwEzwXUAzT+5Pl2+ar6RftU/Lr8vfgB8jvvz/Px+Wv7T/r0+fP4QPWE8qP0Y/de9WPw/+2t7ZbqXOWH4+Tlsuc350XnZumW64TuSvOG9qT0LPAr73nyQfYI9zD1m/LF79Hr9uf36rf+zyLxQhhG8SxMFYcZojYMVKVcbVNxRtg1YiK5ExcRNRr7I6Qj5RdaAyHureMJ6FH1BQKSBpQAa/T06b/plfKi/EkExwkcDFEJmQRiAngDGgb6CSUMFwp3A/D5Q/Kg7xzwT/BJ76zrROb443nlXelP7a7vVfGb8+L0Avgq/ekCHQfHCOULRA4RDkQMTwv4C6EMyQ4QEa4QyAy2B0QETwHx/vr9FwBL//b4q/AD7Mns2O5e8DXyz/QQ9iH1jfQq91D78f6+ADsAq/08+nj4w/gx+Mb20PNv71Lr0ekx7MHtS+pn5UDle+hu6jbpi+j/6Zrq8Om666Pxbfrc/YT7FvfZ81H0Lf1PEEAtC0RQQVcpJhSMGQA5EVEfTxU/TjFfKZAddxD2EPMetCfSH6cNVPyO8Ufu7fLL/VYFDQQO/PbyBfBu8o/5KAF6BcQGpgWMAzADTQQQB1gKqQtgCuMFtv7Q+BP4v/q0+0T4TPIb7i7rV+iz6EztPPM19K3wZPAE85v1K/ee+RH/DwRlBfgFKQeZCAEN/hOgGEIWBA++DJcSxBcdFUsMQQSjAAH/vvwX+UX1mPKW8OXsPOiD5JHliuon7w7xt/G38Yvwm+6j7lvz7vh/+nH4tfTR7z7rDemr62TvCu6D6GLkR+SE5lXni+Vi5N7lmukD7vTxWvW9+Fv7yvuH+a/5XQHsFDIugTtqMAYZ9g/aJB5GUFKhRFQ04TANMxArSCBzIzEwyDM3JDgNYf85/WH/gwINBVEDUftx70bow+oU8oT47/s5/Vv8avjK9Rj5cgGJCeILaQhMBCwAoP17/h4BPwMtAjD8ZfS37k3tYfBr9Wf3RPUb8UHuOO9T8mL1efdz+Af5M/qI/Lz/7gKKBD4GFAl4Cz8LSwmDCcoN3xGPEA8MLgjJBacDEQEnAIL/W/zt9qPxKe3c6VvoE+pE7SbuneyH6aPmv+Yv7FT0cfhr9VPxefH99MD3+PjX+SL6ovfO8szuju367dzsnejk4s/g9OPb6eTtnO3R7IjwS/joAAAHVwvEEMkVRBi3GC8dNCzZPJY9ICwKHNghMzcLQMszOCUAIzkmKR9PEOgK0RGXFpoQKwMY+Wn2N/dg+TX7cfod91Xy+O7e78fya/Um97D3Kvhe+Br4OPi3+VL7Gfyu+477UPxR/Ov6APlT9xP3Efi394D1rfIv8t71lfm5+d73N/YF+In8zv9yASQC1wOcCCwNAg7HC9EJiQx9EmIVlhNNEEAOsg7zD9QO+grpBaoCywJCAkf9GPa98U7yZ/Mk8Zztv+vA7CrvdvAQ8I7ufu1Y7jLv5+7/7Ubta+yK613q2ekQ6SnoZOeM5kPkjeEC4YflE+s57RHt7fDZ+cgAngAgATkKcxf8Gu0SeRAeImM6+D7DKwEbfCOtOoVCpzT7J+0rfTSiL48gIhqnH04i5RmfDJkDbP9o/ML7sv2N/Fr2SO8j7Vjwj/IT8Y/vN/C28yH3t/YQ9E7zC/aE+5D+H/17+ln5tvpk/G78X/sH+xD6BPlW+Gr4ofno+8P9ff46/dT6XvoH/UQBSAQrBEsD+QQnCboLdAq3Bg0GCArTDnsPnAz1CJMGCgWFAxsCQgEVATgAaP3y+ML1gvVm9kj1q/EI7RXpseZk5mHnkOhZ6OvmluVH5XzmJukE67nqlOni6jvu1PD28N/w9vKF9abzXe+77tjyKPh3+DP2+vjyACIJmA2sDEgMfRHMGoYjSiUzIigjISnTLc0u9C6NMBov3SaSIFskSSv8KIce4xcmGjsbyhORDJ0NKBSMFTgORAbKBLQGfAcBBZgAp/0H+5b31/S68lPxUvBT7rzsYuxZ7Dzt5e3m7ePuu+878XfyRPJr8h30//W09033/fbQ+Q78rPsM+q74Gfkh+qn6Mv7qAZMCLAJgAn4FOQkECY0HAAh9CuoNEA1LCRYIugixCb4HmwGK/Cb54/Y69g/0lvB27OXnS+Y65xLn4eVA5KHk2efA6OLm2OWD5yLrt+1G7M/qPuo76inrs+uM6yvqNuc+53js+vFT9BX0v/fPAwoRmRZbEe0JzRDTKgNDe0E7KHYZCC7RTMhPpzdPJ5EzK0TROmUlxB+BLLo28CxoG5oSpg4bCy4J9QYLAyr4V+uP6CDrE+uW5jfgmd6p35/dgtzw3lLkNOpx6xnrP+2O74LxlPOk9Wb5KPup+Dr2LPXI9YX4xPlA+jT67fe09p/3DPpv/k8BDwJ+AVgAegBPA7IHwQuXDYcNvw1PEGQTvRXSFr8VYBEHC30H0whCDCwLKAXz/rn7avrz+KX2UfXl9SL1nPHc7SbtOvDl8mbwn+y+6v3pbOt37Ibt4u1E6sbm4+Vg5WPnK+jb593n5+We5sbo4+is6nTuFPKI9Lvya/N0+V0AIAbGCX4L2g4JFDwa1B9/Ie0i/SfgLPAu2i26LbIwEjOcMVwu8iqOJ78k3yEMH30bahXxDiIJzAOW/yL7/ff+9f/zbvKO7z3tFO367cnu0O3B6//rk+5i8afye/Op9MP2pvfk9mH4aPln+Tf4PPdH+Mz5rPmf+Rv51vfq90b4Efpl/Kv/jgOhBooGsgaxCfMOyRR0F9cYOxkgFx8VhBWIFpMWbhFvCnQGFQKL/vL7n/s8/Pv43PF57gruye6d7LHp2ukP6rjobebf5ufogukK573jheBa307fWuDR4Nne89xr3Indvt273bfdb99S4cXjoube6cHsC/Cn9WIANw5QFu0Uwg29ETolKjpTQQM7ijZxPMFBFkHuQUtG5UvzRtM7FzblNBEyWizIJjAkVR2JDqMB7/vJ/O77jPaU8MnrlOZM4lPhFOTJ5iblu+Kp4mXl8ucP6XTqjO2571Lv1e5R7ybye/S09eT1TPbc9mT4Ofum/Rf/PADxAiMGighcCcUJqArxCjgLhAytDrEPgQ0RCs4IVwlhCFsEcf6l+t/5uvq1+vr34PTE8sPylvOD8orxCvJC88X1Dffs9h73y/af+Dj7yfsg+6r59fgX+m374/yu/T39r/xQ/GP7iPpB+jD7hfwR/In6XPnM+GD5ZPqr+k75dfW48bjwP/G88f7wsO/i7ljuh+4w8HPxh/Lo8n71YPkf/f3/QAPEB3ALyA3NEEgV0hncHZgg/SMjJoMmXCecKegsyy20K/woHCcJJhckGSG3HVcZxhR6EMYM5gmTBbj/xfkZ9TbzmfFM7hjrQOjY5y7nF+VU49jjoeWS51ToEOml6nDs1e5m8RL09/VN9/34JPtr/Or8kf0A/3oA2wBoAWACbgPMA3oDqAM7BGMDEQI1Af8ABQJCAsUBjwC5/kH9bPxV+yf5Nfax8p/wEO+77WTrpuh85k/lgeT34ofhL+Bt3zveVd063Sne6t8M497nC+0M8dLyAvVW+qECZQxeFMoY0xueIPonPjEfOHc70zwGPcc9yz+dQUdCnz8kOoY0YDABLf0p1CWSINcaOhRSDmwKcQeDBO7/H/qr9Pzvx+zb6eXm2+Mu4AndBtsJ2QrYhNav1ffVE9YZ10bYXdoN3SPgROOR5k7qke7W8r72APoQ/SMBXwWFCZkMtA5BEKURSBO2FVcYlRkdGYsXmxacFt4W+xXoE4ARNQ+ADcMMXgwMDMsKeAgHBn0E7AOgA+MCbwHu/wv/N//Y/8f/tv7l/FD7lvpL+Xr4svaA9eHzvvEt8BjvFu9i7t/s0erp6TrqgOs07DbsUeyz7OvtSO9c8PnwCfE68Try7fN79aL2s/eX+AP5//k4+378bP0b/kz/HwF2A8sFXwi+CsgMQA6wD4kRKBTDFgoZBBsYHEgdzB6OIB0i6SLGIhAiECF8IB4gNh/FHUwbhRiJFXISrw/WDKwJKwa4ApP/B/3z+Z72/PKH73bs+unw6Nbo0ug96MnnGuh/6Zjrhu3R7jjwOPKm9ET3hPmw++D9Nv+7/xgAHgFtAl0DgAO0A/wDxAQ8BRMFnwQABD4DrAJrAjECSwHG/0r+wPxG+x35h/bd8/zwE+4x7Nzq4OkC6JHl8ONG4xLjj+Ir4bvfEd9w38LgSOKM42LkBOXK5mHqlO/T9JL4C/ub/UgCqAkLEjkZ6x3PILskuSoSMpM4yTz6PsA/g0D9QaNDKEQiQp49Tzg9ND8xpi5kKl4kNx3wFT8Qygv1BxMDqfwl9lfw5OtS6F3k/N+N2wfY3dUN1RXVANWb1CbUONR01efXNdpC3EveA+GX5LPoX+2m8Uz17/c4+s78QQCGAykGPggiCv0Lkw13Dw0RExI8EmsR0BCrEAARPRFAEUwR5hAzEF0PGA+lDukN7QypC5YKEwmXBwMGsQNgAdn+3/si+Yf2b/R78tXw1u8g747uoe3n7G/shuuR6m/qsOpm643rbOsP7O/sLO6V77fwRvGW8Wry//OU9Qj3O/hP+Yj6hPuz/LL9PP5R/34AEgJaA5MEKQZ5BysIAAmgCkEN6w+YETYTrRTcFlsZ0RtOHtMfhyCbIJkgSSHiIWghDiAhHpccBBsJGdoWOBSCERkODAo+BgwDLAAh/WT52vUC887wI+877fzrAusO6oTpS+m26ZDqYOsa7B7toO5n8IXyCfRf9bn2Fvgc+d/5q/p++178+vz//Tn/4v8AADEA6gCZAf0B+gHPAZcBSAFkAW8BPAGgALP/h/7e/Hz7dfqo+W341PaF9cPzIPI08Fzuz+wO6+HoluY/5Nnin+KT4v7hiOA53/TeTt8G4Bvh4eKd5PvloucG67LwmPfS/SACWwVZCTEQChl7IcomLyk4K2Av9DWSPIJAF0G4P48/EUFkQwhELkG/OyY1ODCKLIgpdSVXH+kXyBBWC6kHVwND/QH2Eu8b6trlmOLw3nDblNis1ibW/9Xk1cXVH9Y01xnZc9so3sXgj+OU5sLpZe1N8Rr1cviA+7/+KgJ5BU8Ixwq4DCQOFg8BEGYRjhKrE7sTqROaE1YTIxOrEs8RoRAqD7QN6AxSCyIKmwgbB40FKwOQAPb9mfuH+cH3fvUe84Tw0e6N7dbsqOvp6YvooufC527ouOit6NnoP+ma6vzr0uzy7eHuNfBg8S/zDfUq9mb3WvjX+WD73fud/J/9Av9dAJEB3gK9A40EvQURB7oI0QkgCjcL8QwoDzwRbBK7E0QVaRYaGPAYchrOG2IcDR51IGwhCCG6HOscQiIxIZwf7BUoFBAXGRGzDuoIkwlTCAkBevwc+pb5OfaW8gHwBfAD7lvszuvp6xHtlexA7aXuDfDo8A/xH/Kz9A73offI9oH2i/kW/ET+q/50/igCWQN+BGwGvAewCf0IkgjwC7cNlgyRC7IKuAyXDNUKYgoUCfoGogRPApz/7/wH+T33XPYu89rvHu0e7azsT+r654zn5Obu5MHjIuPe4zDjh+Ey4YLhbOIo49rjVeSU5RfmzOZP6Fvqfe1E72Tw2vLZ98P+OwUGCrUMbg9FE9oZ+yB4JRsnzicFK7swPTaWOQo6qDmxOVE66jpzOsg3AjPTLbwp8CaLIzwfWBnBErUNSwlLBVQAiPrx9Avw6uvC6BLlm+H93ebb+NzH3EveCt2B3Xng598V4sPhMuTj5t3nBevU7QDyLfT89Uv4j/qx/GT+CADwAQcDzgO+BR8I4goNDPsMWA2hDkMQahGkEdgPhQ4mDc4M5QusCoUIuQWxA64BqwGpAE/+gPuY+bv5xfmT+AT3q/WM9KT0evTG9Pv0/fM68zzy8PDc78fu/+267eDs5eyD7Ubunu++75/w2vDy8b/zwfTO9rX2iPe5+IX5sPuU+xD8e/wI/fj9dP7I/yUAJQAcADoBKANwBYEHjwlIDMIOJBFRE+YVihgIGuoarRwuHkEf7B/CH3UgDCDhH4Ef3B4jHpQc2xoJGBcWxhNGEg8Rvg40DboK9whEBx0FtgJK/wT8+vi49sP0kPHz7lPsB+p/6PPm5+bC5sjmFOfa5gro2ekX7PntT+8C8Q30o/e8+qD8zP0m/wAAKwGXAaYBnwGDANb/pf+z/87/fv+Q/kv+Fv6c/SP96/tF+6f6cPma+Eb4Afjk9+H2Avax9UP0k/K38JnvMu497PnqLepO6tzpBukx6b/pC+uh7BPtVO157Q7utO+N8XjzGPXh9nn5xvw3AXsGgwt1D+0SZhfmHJcihyd+K8YuFTIsNrg6Kz7EPx8/wz19PMk67jdTM7ktxScKIvkc1ReLEtMMMQd6AmD++vo996nzfPB/7SnrQOnW52DmuORv47zifuI94hHi5uHD4R/inuKC4y/kAuWW5svohuv47VPwIvP89a/4afvG/a//CwHaAcQCNQSaBQYH0wc1CPEI0AmBCt4K2gpECsYJDAlpCMkH8wbeBVUEvAKKAXgA5P79/L76xvhY97b16vPf8Qnw4O5f7p/uMe+F78PvhfCC8XDyH/O686D0h/VN9h/3TPgF+bv5iPqa+6j8PP0q/fv8EP0g/aH9qP1M/Tv9ff23/iEAugD+AAUBmwGcAoMDFQQ7BGYE4QQYBtwHNglCCh8LbQxwDpsQjhLmE/UUBhYyF7oYaRrxGy4dNx4kH4kfZx9pHsccuxoSGEMVNRJLD00McQkgBxsFNQMgAUX/lv0A/In66vjl9wr3XvYM9tP1cPUH9cr0l/R29PnzKfNq8p/x//B68ELwQPBV8AvxDvKH89r08vUC9y34g/nM+lX7N/sk+0772ftN/Gf8cPx2/DH8nPvg+m/5z/d79iT1OvR58/fyrPJC8vbxmPHv8OTv0O4J7n7tNu3W7K3ssewu7Qbu1e6i757wuPFO8wb1QPaI9zj5nfuf/oMBZwSFB+oK4Q4xE7EWTRmMG98dFSEQJIEm/yfmKFcqlSyvLpEvcS9pLp0tsSzwKicoYSQmIFIc6BiRFXURpwwRCH8Ddf9O+5D2/fHH7YLqNuiN5vvkeePk4gfjJeSS5Z/mVueD6CfqKew37rHv/PBT8hH0UvZu+DL6evuB/IL9jP6F/wgAkAC8AKsAEgGHARICRAIJAqwBNgG+AEQAuP8W/2T+av2I/LH7Mvuk+tb5r/iK94D2MfUw9KvyQ/Ht77ruyu3W7Ers/eta7P3syO3X7rLv3PA+8rrz//TX9eP2R/gd+un7Nf1T/j//PwB0AZUCeAOvA9QDbQTiBJcFGgbMBqEHnAjaCc8KLQwSDeINxQ49D7MPog+JD6EP6Q//D0wQyRCKESoSZhKeEqgSGhPQE8QUOxVwFWIVUxWKFVsVuRSiEx8SqhBfDz4OpQxrCqIHAgWKAh8AkP3p+lD43fX18+zxdPAB78Tt/OwE7BDrLOq46cHpFeq66kvrb+xj7dDuQvCi8dzyifNz9EP1kPaL9x74jfj8+EP5Hfl/+F73gfYZ9uH1nvVb9Sj1KvU79U/1j/Wq9br10PXb9fz1zfV69QH1y/Tj9Hz0NPTz8y/0zvQ09ZP10vWF9oD3/vig+hf82/22/x0C+ARbBywJMwuODVQQKxP5FVMYdRqFHAIfYiH8IgMkyyRwJUImvyatJicmtiQ3I2EhFx/kG3IY5xRkEVEO8QrDB8wEDgK1/3r9Zfv2+Lj2AfXQ8+LyvfGd8Gvvk+4C7jrtgey96xDrxOqr6vDqa+us6yvsM+1/7hTw6PHP8+/1S/hO+ub7Y/3d/mAAgwE4AiQD+QPDBFMFdAUdBZsEJwR7A9sCvQHk/yH+avwr+w76Uvhh9rX0bPNx8oTxHfCU7nft7uz67CXtcu0Q7lPv3vCb8gz0k/VB9yn5R/vM/NP9Zv5C/0AAcAH7AecBwAEAAsoC3wOPBHkEMgQIBGUE5gR6BQAGdgZEB20I3AkCC+oLeAwsDWIObQ8PEFwQ8hC5EfkStRPpEy0URxSwFP8ULRX/FCwU/xLAERARSxA7D9kNhQxUC6sJXgcXBXUDJQIkARYALP94/sT9Uf3a/In87/s4+4D61Plf+YD4cPf59XX0+/LN8cvwQfAX8LLvYO/L7sjuZu+H8P7x2PNA9dL2Qfge+hz8fv2s/i//BQCIANoAqgDV/8b+lf3f/Aj8AfsS+mD5Bvne+B/4Hffm9fr0jfR39Mf08/QP9Rv1WfWK9bn16/W19Yv1lfW69QD2//U09rj2c/f292X4AflV+Z/5iPmJ+dT5CvoW+rr6TfzJ/o4BnAM3Bc8G4wjhC0MPexJUFWwXShnyG7oeQSF4Iqgi6iKwI6kkrSSvI6cheh8tHXwaDxgiFYYRCg7vCj0I8gWmApz+Gfsc+Fv2AfWF8ybyBfFQ8B3wvfAa8Y3xI/LT8vLzEfUT9ur2NfeW9/D3Bfiy92f33/ax9rv2dvbU9ef0e/Ru9Nj0ePXy9XD2+vbX92n5o/v8/cz//AAwAn8DEwV+BmsHzQeeBxUHtgYDBqIEWQKo/2P9d/ts+Tb33vSb8inxC/Ba7+nuP+6e7Y3tUu5577fwcvEx8iDzk/Sw9uT4pvoe/CH9LP6R/6wAjQGMAjsDwANzBBkFAQZ7BowGbAZFBh8GCAZkBrgGhwcrCFsIxAgcCbwJuwqsC4cMUw0+Dk4PWhCFEVESIxOmE+sTohMJE6IS+RFbEYwQqQ+gDmMNCwx9CgUJeAfDBS8EBwNOAmgBZACd/+X+5P2W/AH7gPk/+BL3DPaF9Qj1efST9PH0Fvbr9hL34va69vT2DPcH9wr3F/cs93f3IPi3+OL4vPg6+P337PdL93P2hvUL9fL05vSr9JL0zvT69Fj17vUu9pH22/bx9ov3yvcp+Nj4kfmx+mz77vss/M78WP3Z/WD+f/7R/u3+5P7Z/ub+6P79/g7/P/+R/6//5/8vAMIAegF2AqoDNgXBBnsIsQoKDZEPiBE2Ex4V4hZyGGUZOxq+GhUbMxvSGisa/hgJF68U8hFTD6EMtwklB/IEBwM5Abr/f/7D/fr85vvi+kH6+vmb+Uv5Jflo+Xj5fPm9+dH5qPlG+ZP4P/ga+Ib3yvY09vP1AvYS9hT2OfZW9jz2I/Ze9rL2gPfv93T4d/nj+nP8n/1a/tf+fv/j/zkAQgAMAJT/L//U/pj+Lv6X/S39avyX+4L6lfnz+Ib4rff+9qP2b/aK9mH23PU+9Qz1E/Vw9b71vfX+9YP2ivea+Ob59Pr7+9z80f0b/xsAFwHVAa0CtgPXBMcFhAZTBycI2gg+CZAJwwkZCmUKOgtQDGYNYw4MDy8QxxEZEyYUmxSuFNUU1hSCFAoUWROxEhESKRFpEGkP/g1JDLMKFAllB5UFagOSATMAyv5l/ef7hvpm+e73qvbF9SX1rvRA9Bn0WfR19df2PfiX+fv6A/yQ/AX9u/2B/sD+yf7w/uv+zP5y/tP9L/1E/DD7CPrA+Mz3xfbz9ab1xPX09W/28/ag95/4ePkc+r36R/u++yD8H/wU/B/8GPzz+6f7+PpY+qz5IvnW+C74yPeH94D36ve6+KL5ZfoX+7v7hvxu/UL+bf+oAOoBTwO4BAwGBQf5B8EITgmDCaMJzgmICfoIlwh5CLoItAh+CFUINQhLCEkIXwhpCGYIPghLCJYIJQkjCusKcwvlC1QMfQxvDFAMMAwZDMILdwv/CnQK7gkhCSQI2AaGBQAEgwINAWv/3v18/FH7jvrv+ar5cvk9+YH5Fvrm+s37cvw5/U/+XP94APgAJwEZAeIAeACL/27+Fv3G+2j6yfg/98L1Y/Rj86TydvKa8ony1fKN82H0U/Vy9qj3Vvn8+l/81v3l/r3/BAD9/6j/WP/a/gf+KP1a/L77lfqW+b74R/gj+Ov33/fq9zf4jvgr+UX6ZPt//ND9Vv8yAcoC5AMIBVsGCwieCYQKkgt/DE8Nyw0fDlUOWQ5BDsINqA25DS0NHgxTCxsLMQsbC/kK+ApeC54LTgv9CvMKlwrkCfkIQgjbB08HTgYeBTcEYgNLAucAs//f/tf9VPzX+g/6Y/mJ+Gj3ZvYu9g328vXG9RD20vaL9xL4qfjJ+c76qvub/EP+OADzATQDwAMmBEkE4ANDA2wCvAHkAPD/B/8z/jn9+ftf+hv5ffgX+Iz34vbA9un2Uve89134bvlq+l/72/tl/AX9e/1Y/fr82Py8/IL8A/w++5j6BfqK+U75Q/li+aj57/l5+nP7lfx5/R/+K/+9AEMCgAOKBJQFpAaHBx0I2wimCT4KhgqUCrMK9QrvCgUKQgnQCGgIPQgPCK8HOgfIBjcGuQV+BYMFmQWXBZgF2wX1BacFbwX+BG4E8wOSA10DWwM/A+cCtALHAvECsAIeAoQB+wCuAFwA4P9L/7b+fP5x/nD+NP77/XT93/yC/DL8OvxJ/C/8Ffw1/IP8o/wW/V79dv2t/Zr94v3W/X/9Cv1c/Hn7+fqb+h76l/kB+Xn4mvfM9hP2svXB9d71V/YS9zD4SvkQ+sj6efsi/Pj8of0l/rz+Of+r/+L/6//3/9L/uf/f/zMAdwB4AAgAq//X/ywAEwCn/23/N/8h///+/P6J/yYApQDfAFsBLgLwApUDKgQ6BWsGugf+CB0KWwt2DB4NYQ2kDRAOQg4ODnoN2Aw6DGgLJQoLCRgICgcvBjcFCQToArEBDQB4/oD9F/3X/Nj86/xp/Sb+nf7M/gP/H/9K/0r/FP/G/in+d/2X/Mv7avvl+tb5+fgc+HL3wPb19aD1qPUS9tf29vdC+Z/69/tl/ef+HgBfAUgCxwIVA1cDUQO6AkEClQHPAB0AMf87/kX9Nfzf+pT5WfhZ9732VPZD9lj2xPZf9+f3UvgM+bz5Svrb+pD7jPw0/bn9Rv4s/zcAPwEyAvYCowMNBFEEswToBBQFEwXjBBcFiwUZBoAGkQZqBgEGkgU3Bb0EUQTrA5ADogPcA1YE9ASMBQkGsQYgB20HcwdFBzUH8wbZBmIGvgXsBOADBwP7AesA8//t/gT+OP29/DX88/sF/JT8rP0H/5gAFAJdAw4EXwSWBLEEeAQoBLIDJQOQAqoBsAC5/7D+vP3B/Pb7Wvsc+xT77/rx+kP7kPvY+y/8sPw6/Y39hP1X/Rf94fxj/Jf7DfuV+jv6r/kD+cL4B/lK+X35wPmQ+jv7f/vP+zD8+vyW/Rj+q/6j/4IA3ADWALMA4wCtAPD/SP/o/pT+8v0q/Xf8Ufxr/KP8LP3k/ZT+yf6U/m3+vP4g/z//W/8OAPwA3QFSAkQCfALCAuYC6AILA7oDogRvBToG4QavB0cImQg5CfQJbgoPCkQJlQgSCEEHJQaHBRUFvwQrBFwDoALrAS4BLgB3/wH/0/7N/sT+0P66/kD+e/3R/Ir8jPyK/Br8qfux+4j7Y/sc+xf7WfuA+437ePtW+4P7i/uX+x381fyd/Tz+0v56/wUAIQANAP3/FgA8AEMARABtAHkAQQCs/xj/jP6l/cD86/ss+/n6l/pt+qn6LvvZ+zD8kfwj/cv9//3v/en99v0//mP+U/6J/ur+If9K/2P/pP/2/0AAcQDFAGUBDQKuAikD4wPeBLQFFQZvBrsGzwbCBjkG0QWLBTkFMAX7BMgEqARbBOMDUAPUAm4CzwE8AdcAvQC8AJ8AiAB/ALgAzQC1AKwAwgDPAB0BNAFKAYMBmgFlARoB/gC/AG8AEACc/y7/5f6G/ib+nP1i/Y79xf1V/tn+Nf9m/1j/df+V/77/rP+d/6v/pP9l/+D+Hv5S/W38ovsJ+1f6+Pmw+Sj5v/iv+Mj4w/iz+L34C/l0+Wz5Z/mV+TT6Dvu9+3H8Zf1x/l//xv/4/40AUAEfArkCYwM3BPIEXQWTBdMFIgZpBn4GbQZ2BmYG5QUiBWUE5gNLA5UCIwLxAesB0AFSAc8AewAXANb/ov+9/ykArwD7AD8BsAEqAo8CuwLpAiQDNAPVAokCXAIPArwBegG7ATcC2gIDA+MC+wL8As8CdAJIAnUCtwKgAm4CVQJsAkMCpgEHAYkA1//m/sr9zPwU/FX7j/oO+hn6Nfr6+Wj5Kvk0+RX5xfiP+Lr4M/m/+Sb6nfoc+4r7x/vv+1T8i/yM/Fj8RPyH/On8UP3n/cv+w/+LABEBeAH5ATYCOQJrAsICFwMmAwoDCAMkA/cClwIHAmMB0gAdAHD/2f51/vn9lf1v/az9Gf50/tr+J/9X/3T/YP+H/+z/QgCAANwArgFsAsECigJeAoICogKsAp8CnQIFA30DvQMsBKME9gTKBK0E+QRpBX4FNgUHBd8ExgRFBIwD7QKCAtcB9QAYAH3/8/4S/vj8Jfzy+7z7Tfvp+tX6GftP+yv7FPtv+8P7APxL/Mf8Tv23/e795v01/pD+lP6A/pj++v6b//D/cQBtAVEC6QIPA54DWwSGBFsE4AOQAygDkgLjAWwBOAHEABwAZP+Z/gz+bP3l/Kj8qfz9/G792f1i/uL+Lf93/+f/dgC9AKsAmgDZAA4B2QB7AEQAOQBYAG0ATQAcAM//pf/U/0MAAAGtAXwCJAPFAwMEAATwA6oDbwMKA7QCRgLdAWYBkQB8/4X+pv0P/X/81/tf+9/6fPop+hr6Nfpa+tX6sPvU/Lj9Av4K/hr+MP5J/pv+C/9g/7L/GACcADEBcAFMAVEBswFAAuUCUwOBA6kDyAMNBD0ESwQ2BOkDsAN/AyEDdQKFAWUAkf87/yb/9/6J/h7+0/3D/fP9Gf4q/j3+av7m/o3/VgDHANcA2QDPAOEAxgCCAEUABADA/6T/wv+W/5L/qP/e/zwAmQAJAXoBwAHrASgChQLGAtMCqgJzAjACBQLfAYwBGAFDAGj/hP7a/Vn9ufwT/HP7/PrR+rv6vvrV+g/7YfvE+0b8w/wx/Y39Bf6b/kv/6/9pAOEAQQGpARQCqwJFA7gD/gP1A8UDlAMYA5oCNgLwAa4BjQGNAVEB4wAcAHD/6/6E/iz+2v2y/Zj94/0i/kj+jf7i/nT/FwCoADgB0gExAm0CfgLGAv4CFQM3AxoD7wJ2AtsBWQHWAHIA6/+Q/3b/ef99/2T/VP8q/yj/bf+m/9H/EQBYANsAOwFNAUcBQgE6AScBKwEIAY0A6/81/6f+Yv4a/of9tPwJ/IT7Ufsv+9z6bvo9+kr6t/po+/77U/zM/Jb9wf7W/5AADAGMASUCAQP6A4MEmwRmBDsEXgR3BCoEhQPbAg8CawHGAOf/3v7a/R/98/xF/XD9S/07/UL9df37/b/+YP+U/+H/eQBMASAC2AJZA8UDQATABB0FEAWqBAsEYAMXAwAD2gKpAioCqgEIAYgAJwCr/0P/1/69/rf+s/7D/uP+C/8Z/1P/6v9VALoA5ADaAO4AEwH/AKkATADi/5X/Wf8f/8D+IP5Q/ZT8EPyv+277HPve+u76Ivus+/n7T/zr/IT9Pf4U/8T/eQBNARwC6QKBA+gDHAQzBEgESAQUBFwDdwK3AQYBaQCl/8v+Ev6e/Y/9ov2W/Tb9tfx5/Kr8EP2f/Q3+W/7A/qP/jQAzAZAB1wEJAk0CrwLPAqUCXQIxAiUCQgIZApYB6wBtAAQAg//m/m/+BP7B/d795/3M/eT9U/4D/+X/pQD8AF4B5wF/Ah4DjAO0A7gDwAOpA5oDTgOOAuoBTgHCADUAjv/X/i3+lv0c/cP8yvzq/Pb88fwN/Xb93v1Y/t7+VP/O/04ADwG0AQYC8wG2AXABPwElAd4AcQDL/yX/wP55/hX+mP0Z/ab8V/xt/Jf8nPyC/Gb8j/z6/LT9Sf6n/t/+Rv/Y/1sA3ABCAW8BoAEMAjgCJwLcAaQBgQFnAXsBRwHUAFEA3v94/xv/1/6T/l7+Z/6d/sz+9v45/2j/xP93AGMBMQLMAiUDJQNKA5oDBAROBDMEyQNbA9UCaALiASUBRABq/+n+n/5z/ij+xP1X/Sn9Nf10/bn9Df5J/pH+DP99//v/RAB1AIUApwDOAAIBDwHNAJ4AhgCEAH8AMACw/3L/av91/0X/1/5c/hj+Tf6G/qT+gf5g/qf+HP9f/33/W/9I/4L/BwCWAMEAkwCEAN0AfAHNAdsBgAEyAVoBrwHeAZsBIQGDAD8AXACkAJMALQDk/9H/EwA1AAoAqv84/xL/NP9o/1j/Gf/x/gv/Ov9e/2//Yf+K/8P//P8rAE8AcACwAL4ApQCYAGkAYQB/AHIAFADG/7//zf/Z/9T/wf+8/+T/DwA5AEIAFwANACQASABSAE8A/v/K/8X/1v/8/8X/j/9k/5T/1P/R/8T/pv+Q/5//0//T/5v/Xv8J/xH/LP8//yf/+/4H/zj/kv8CAEcAXwBnAJsAAAE4ATgBDQH2AB8BSAE6AfYAlQBOAGAAigCnAFAAt/94/3H/q//B/3z/+/6o/rX+xP7C/pb+Qv4U/kL+vf48/3f/df+a/wsAhwDcAPMA+QAaAVABkwHHAaIBRwHXAIAAdQB8AFkAFQDa/97/EgAgADYAJgAnAEwAfgCnAJ4AggCBAHgAfQB8AH4AigCZALMAtgCdAGgATwBMABgAzv+H/1D/Jv/Y/pb+W/4t/hH+Jf5v/qz+yP7W/hX/aP+4/7j/mf+u/+T/KABcAHMAUwA+AGEAtwDhALkAgAB7ALoA6QC7AHEAGADK/7D/i/9D//b+o/6e/s7+0f7S/qD+hv67/k7/2v8CAAoALQBdANgAOwFdAVgBGwEPASABPQElAdsArAC6AOkA6AC5AGQAMAA+AFAAawA3APz/z//b/xQA3f+Q/zf/If9U/3n/jv+I/43/8v91AMUA3ADmANgAygC5AIQADACb/5X/nv91/xv/of6h/gf/Xf99/yT/2/7c/kD/t//7/9j/f/+d/yUAtgC9AEoA6v///5sAKQEmAcYAnQDdAFkBoQFvAdYAZABnAMAAxwBWAKj/Cv8E/zn/IP/C/j3+DP5S/pz+6P72/tn+A/9m/+D/DgD+//D/CQA+AEoAPQAzAFIAeADEAAEB6QDBAKQAzADzAOoAwQCCAGcAgACYAIAASwAlADcAQAArAP//4//y/xYAPQAqAO//yP8HAIwAxgCqAEkADAD8/wAAAACt/0z/JP9m/5f/m/9m/yb/JP9s/9P/1P93/yj/IP9Q/3f/if84/9v+1P4B/0b/Tv8b//T+Rv+2////EQD6//D///9TAGAASwAcABsARQBqAH0AVwArADMAbwCJAG4AMwAXAE0AkQCjAJIAgABwAG4AqADEAKoAegBjAI8AuwDNAL8AuQDYAD0BjAGQAVEBHAEPARYBMAEAAb4AqQCgAH8ALQDQ/6//rP/B/8D/fP89/yr/YP+r/6T/Yf8i/w7/TP+i/7D/c/8B/7f+5P41/2b/PP/p/t7+Bf9i/5L/eP9n/2L/lP+5/7X/b/8S/wf/Vf+f/6P/hf8t/wP/Pv+E/7n/wP/I/wkAaQDAAOoA5gDmAMQAnACOAG0AQgAnAC0AMwAPAPP/1//J/+3/DAD3/+P/6f8XAEgASgAwABIA8f8EABoAMAAyAC4ARABQAGUAXQBlAJEA3wAYAR0BzQDDAAkBCwH+ANYAqgCNAK0AyAC4AF4A6P/G/9z/CAD+/8j/kf+n/9D/CAAvAP7/sf+I/4T/r/+o/2j/9P6m/rn+FP89/zj/Bf+f/nv+hP6x/rT+lf6Q/qL+7P4y/03/Wv8g//j+9P4V/zj/M/9E/3T/zf8kAHoAowC3ANcAIAGcAdIBvQGMAWQBZgGCAYwBRwHQAJgAsADxAPoA7wDZAN4ACgFEAVkBIAECAQUBJwFYATkB1gBLAM//pP+l/4r/Wv8f/+j+8f5F/7v/CwALAM7/p//O//3/BAC8/2H/LP8u/0z/Vv8y/9f+qf62/hn/d/+Q/3b/b/+i//n/TgBhADYAAADx/xUAYABNAAMAvP+i/8b/8//U/3r/FP/k/vP+Pv9+/1n/M/8Y/yz/Pf82/wn/wv7F/vn+Pf9b/1n/Uf+J/+L/FwA6ADkAcgCfAMEA6wDiANMAqwDOABkBPQERAdkA7QAeATsBSgE/ARwBGQFJAaMB1AHBAZEBfQGdAZ8BmQF7AUcBEQHmALsAdAArANT/q/98/z3/FP/w/tz+rf6E/l3+VP6P/uL+Ev/v/qn+dP56/rb++/4E/8b+pP7W/in/hv+0/5T/ff96/7z/CAAZAA8A5/8BACMATQApAMf/eP9Q/0v/S/8F/7z+tv7Y/iX/Rf9E/x//GP9A/0v/av+E/4P/rv/l/y4AUwBfAFoAmgDvAC0BSQE2AUYBSwFnAY8BqQGxAYMBfAGpAbkBqAFSASEBEwE+AYwBmAF7AVoBewGaAbIBzAGyAX0BawFaAUABLwEFAcsAgwA5AO3/w/+L/0L/Bf/c/qf+Sv4U/uj9wf2Q/W/9Xf1j/Y39eP1B/UX9ff3l/Wn+sP6u/rT+6/4c/37/5P8GADEAZQC0AOUA3QDTAOUABgEMAdsA0wDjAOMAzAC7AKEAmgB5AEIAJwDy/wAA6/+X/2X/O/8Q/xj/L/9R/2P/jP+Q/5P/v//y/yQARQBYADwAGAArADMAUgBeAG4AcgCVAK8AzQD3AP8A+AD7ACEBVgGJAZEBhwFwAW0BlAHTAdMBjwFhAVIBYwF2AYQBaAFHASIBEgHnAJsAXQA9AAQAnv9c//P+i/41/g3+9/3F/XT9O/1e/Wz9f/1q/WT9qv0e/pn+xv6x/q3+BP9m/7P/3P/P/5L/f/+p/+//2f+6/73/0f/7/97/sv+f/6b/m/+a/47/bv9o/2H/Zv+a/7z/uP+S/2T/bf96/4X/ev93/6b/4//g//X/JwBaALAA3wAQAVsBbwGEAasBzgH3AfIB/AE9AocCtwKaAkcCGQIuAn8CxQK3AloCAwL4AQwC+AGtAUYB/ADXAOcA2QCcAGcANQAmAC0AOAAaAL//Y/8p//r+q/5p/in+HP4u/iT+Dv7R/Xb9Hv3S/Lr8t/zr/PX8o/x+/Lz87vwP/VT9e/2S/ZD9of3y/U/+wv4i/2r/0P8mAJoAAwFHAX8BtQHbAfwBIwISAvwBCgIhAlICDgK/AYMBSAFSATYB9gCVAEsAaQCdANQAFAEmAfgA8gArAWgBlQGzAbIBngF/AUkBLwFLAUUBKAHkAJMAXwBwAJIAgACZAH4APAAqAGEApgC2AK8AlQCSALAAlgBwAOT/cv9e/1r/Uv84/zT/Bf/B/pj+f/5j/mH+H/4B/vr90v3D/Yf9ef14/Wj9U/1P/Zr95/37/R3+Qf6D/tj+Nf9f/1v/XP9m/7b/IQCsAP8AwwB9AIAA4ABFAXkBnQHMAfgB9AH4AQwCRQJgAkwCDQLTAbYBkQFfAVIBRwEJAcEAhQBFABAA8f+c/0v/Af/f/ur+zf7F/rj+kf6B/of+mf6N/nP+W/5+/o/+xf7e/g3/Zf+h//X/GAAEADIAggD0AFoBhwGFAUQBQgFyAaQBtgF9AV4BVAF7AYoBfQFrARoB1ACMAGQAaABdABEAkP8p/9n+yP7q/tz+wP6I/kT+Lf6O/tD+xf6K/kD+bv6q/vj+Hf8R/x3/Nf9v/8b/IQAYAMX/uP/J/yYAiQCZAJoATQD5/xEAVwCTANcA6QDYAL4A1wAKAQQBxwB/AHAAcgCMAIgAVwASAMb/u//H/7f/ff9O/2T/pv/T/6z/Tv/P/nP+m/4E/xr/AP8J/0T/qf8gAHkAgAAtABUAYQDQAC4BTwFdATYBNwFDATsBJwEPAcAAcQBVAEUAQQAJANb/q/+b/3X/Yv9f/5D/wv/P/9z/0f/j/wYAQQBQAE8AFwDE/7z/6P86AG4AOAAWAOP/i/9S/2j/ZP9V//z+zv7h/g//W/97/3X/Lf8Q/1T/8v+sAOsA4wChAGMAhAC4AKUAYQABALX/5f8vAFAATwA4AOr/tv/9/yIABQDl/8T/AQBmAL8AvACCAFQAUQBZAFMAXgA/ACIASQBoAHUAVAAaAOz/8f8XADsAOAALANX/pP+r/6//xP/I/5//Xv9y//j/SgBSAEAALwADAPj/JgBgAE0Axv90/4H/qf+5/3j/R/8K//X+Lf9r/73/6v/i/9D/9f8cACYAEwD4/xwAMwBEACMAuf+l/6//6f8oAEcANAARABUAfAC6AIMAGwDv/9//+P8fAA4A/P/S/9//AAAxAEcASABQAFIAgwCpAN0ADwEoATYBGwHwAKUAdQBiAEgAAAC3/6X/qv+g/4b/T/8h//L+zP66/sj+kv5q/nP+cf6T/rj+xP7G/uP+QP+l//7/JQA5AE4AYgCPANMAxACyALAAwAC7ALIAnwB4AGUAbQCaAOgAAAEBAf8A4gCuAEwAQQB4AKYAmABEANn/h/+v/9//3/+9/1f/+f4j/6n/JQAXANP/lf9r/57/y//L/7j/jv9M/0X/XP9V/17/ZP+Z/9//GgAnAFAAmwDHANIA3gDkANcAywDHAK0AtwCjAEgAJQAMADUAMAAkAO7/yf+Q/0H/F/8x/1P/Jf/y/vL+Qf+l/+X/6f/H/9P/HgCfAAkBOAHiAEgA5f8oAGAAEwBu/8P+rf7t/l3/kP9u/yj/F/9m//D/ewCyAK8AtAASAX0BdgFFAQsB1gDHAKUAkgB7ACUAzv+Y/5D/bv/5/oT+NP4r/kT+a/51/nb+Z/5y/uj+mv8QAB8AHQBmAPoAawGeAXsBNAHkAKYA5wA0AS8B2wCFAIcAxQDSAMkAnABvAG0AdACgALMAjAAtANP/mf+j/6v/mv8//9b+lf6L/on+hP6U/oP+gv6u/jL/2v9RAFQALQAwADoAaQCLAH4AYQBqAH8AogC9AJIAMwDp/+z/DAA2ACEAJgD8/9X/zv/X/+f/zf/H/woAeADSAPoA7QDPALUAtACuAMYAvACIACYA+v/1/wAA+f/O/6f/rv/e/wQAFAAqAA8AAQDy/+j/4//h/6X/Vv8o/yP/P/8w//z+z/72/k//yP81AHAAVgBWAIMAtwDvAOwA3wDaAN4A7gDbAIUAEgDC/5H/tv+U///+o/6d/un+Kv8o/+r+pf6l/tT+BP9n/6b/i/9r/4H/0/8xACcAwf+E/4j/mv+P/3L/Uf8//zX/LP82/27/mP/N/wsARgB1ALwAxQD5AFEBtgHGAdABzwG8AbIBlwGBAZ4BogFpARABwQCBAIkAZQAXAP7/6f/R/6n/eP9t/zH/8v7r/vz+JP9Q/yj/4v4B/x//S/9b/3n/gv+a/8P/IgCtAAUB1gCoAMYAMwGAAVgB+gCSACQA5P/y/xUA9/+P/wP/6f45/1f/Nv8R/yn/Y/+h/+r/PgBtAEYAAQDa/9H/5f+w/17/S/9j/2v/Xv8t/+X+qv6Y/pD+wP4k/3b/jf/C/x0AlADxABwBVgGwAd8B6AEQAjICQwJAAhcCqQFoAVsBOwHZAFoAFgAPAOX/wf++/9r/5v/5/+//7f/E/6n/qf+w/8H/jf8x/9X+o/6x/sD+c/4Q/u/9/v0h/l7+jP6y/sT+2/5g/yEAcwBkAGUAoAAiAX0BdwFcASgBEQH2AB8BJQEpAfkAfgBPAH8AnAB0AFkAKQAYAPr/nf+A/43/f/9U/wT/0P78/h3/8/5o/g7+H/5z/pv+4/5F/4H/vf8LAKAADQEsAfkA4ADzAB0BLwHiAI8AbwCSAK4AugChAIAALADz/w4ASgB2AFIANAAzAFsAbgBzADMADgAQAAYABgAOAAYA7v+6/4j/cv9T/z///v7w/ij/gP+0/8L/9/9JAIwAlgCLAL0ABwEGAc0AlQCLAHEA/f+e/33/ef98/1P/F/8o/2T/of/F/wAAawCmAKMAmgDBAPEA8AC/AI8AqgCpAGMAKwARAA4Axv9U/yb/Jv/g/oz+b/6Y/uD++f7u/uf+8/41/2D/i/++/9r/8//o//X/HQAzAO7/nv+u/+j/FwAJAOz/5/8kAF0AxgBKAbcB9wHVAakBxAGuAVwByAA2AOj/dP8k/+T+9/49/0X/Iv8u/5X/6v/7/9L/nf+0/+L/GABLAEUAEQDP/7X/0/8AAP7/oP9P/13/of+r/47/X/9L/1P/ef++/8L/xf+d/7//KQCmAC0BYQGFAdUBDQIOAr8BXwEEAYsATgAHAMb/hP89/wL/8f4f/zP/Wf9y/3f/kf+n/5X/jv+V/4L/fP98/5v/jP9e/yH/Ev/s/tT+3f7s/iD/Wv+q/+n/CwAeACkALwBYAJYAsACvALsAvADOABcBAQECAegAnQB4AGkAZwAyAAcA2v/O/9n/9P8hABkA5P/k/wEAKAA3ADAANAAoAAUAGABBAG0AaQAtAO//yP/g/+j/tP+6/7j/1v8CAC8ASABZAF4AkADtAFIBbQFGATwBVwFwAWwBNQHSALQAqgCNAGMADQCy/1X/LP/k/tL+vP5s/hv+6f0j/in+IP79/ef9EP5g/q7+7P7a/qT+pP6i/ub+G//x/pr+hP6j/hH/WP9D/y3/QP+m/yQAhACRAJEAmwCxAPcAAQHtAM8ArQCjANEA1gCwAIIAnwDsAF8BfAFaAWYBigHUAesB1QGmAVQBBAH6APoA1QCbAC0Av/+Q/4v/jP+E/1D/Uf+c/77/zP/o/w4AFAARABoAbACvAKgAmgB4AFsAOwDx/5H/ef95/1b/RP8q/w3/B//0/vD+JP9a/13/mv+6/87/yf+a/2b/N/8N//r++v75/tT+sv6G/nX+d/55/rr+Hf9N/5H/9/9wAJwAhQCPALwA0QDNAKkAYwBZAEwA/v8FAAUAzP+Z/3L/hP8cAJoAjQCsAPUAVQHgAUYCWQJeAnoCMwLKAaIBpAEuAV8A5v+a/3n/Vf/H/kD+Kv4S/r79d/21/e/9AP4c/jn+r/5Q/9D/8v8nAFUAVQBGADEAagCEADAA4v/3/2QAwAB4ABsA//8VAEwAZgCXANwACQHzAOkA5AAKAToBtAA5AFEAdACJAGcAFwDA/63/Y/8c/z3/cf+r/5D/eP9w/4b/hf9Q/3T///+4ABEBwwCNAKMARQD+/+n/uf8HAB4Ayf/L/8n/eP8J/9P+3f4i/5f/c/9f/+//GwBHAFoAJgBdALMABwEtAX8BygEgATsA2//E/+X/t/86/y7/Nf9S/1L/Q/8//0X/Uf9O/0b/2v8TADwAWQA+AKIA1QCAAIYAmwDuABYB1QCQAK0AIwH9ALIA2gCbAIoA5AChAJwAjgAYAPf/v//J/9f/o/+E/4D/5P9pAF0A8P+z/7D/CADW/xEAPgDR/7n/g/+R/77/gP+J/yX/F/9X/2H/y//V/5n/rP+4/xkASgBOAGsAaQCeAEIA8v9AAPT/x/+s/0z/Vf9h/0b/Mf/9/uL+Dv/o/vr+a/8aAD4AAwBhAKgAvABuAID/mf8GABQAGQDG/8X/tP92/3j/6/8dAO//5/9XAMgAUAFMAV0AIAB+APcALQHeAAABBQG9AKsAbABGABIAmP8x/5b/aQApAGr/Zv9y/73/AwDb/4n/Vv9W/yj/ef/j/9D/s/++/8v/cADyAIEA7P/n/7QASAEOAXUAOQCvAKAAGADM/9b/5v9v/yL/Ef80/xj/8P7Q/r/+RP+P/wj//v7Q////uv9W/37/HAAiAHb/F/9a//D/LQDx/6b/9P8bAH7/pf9YANsArQBEAG8AnQDTAEYAr/+z/4v/sf93/xf/Tf+R/1n///5A/+X/8v8GACYAJwDYAOwAsQCrAH8AoABlAGsAoADDAHEAy//a/0EAiQDbAOcAiAChAMcA/QAVAdEADAHVALUAuADJAAEBfAALALv/u/8tAO7/hv8BACQA5v+o/6X/7P+h/4//ff+8/9P/YP9k/xX/vP7l/oX+N/42/ln+hP7E/ur+7v41/2b/1f6P/hj/o/8eACoAQwDDAKYAgwDYAL8AjgBCABwABAAVAJsAXADT/3b/+v5A/7D/j//C/+j/if8n/xX/cf98/5P/Yf+O/40A4QDzAA0BCQELAUEBfgG4AdMBswF/ASMBGAE+AaoBHwEnAE4A/wCpAV8BegDo/8L/GACNALwAtQATAEn/E/9k/wYA9P9K/+r++v7J/z4AuP81/wr/HP8U/wj/If9l/1b/Cv/k/i//XP8k/xr/0v5a//T/mv8i/97+Ef9N/x3/Rv+X/6//rP9U/5H//f8fAN7/WP+m//P/2//Y/6H/h/92/xr/2v7Y/sn+Av8p/w3/7P4K/0X/bv+8/+j/vv/f//j/yv8KAIMA1ADvAEYBnQGwAb0BugG/Ab0BcQGNAd8BDALZAUkBHwHpAKAA3gDtAHoAWwDEADoB4gA8ANn/z/8/AFYAewD3AJYA1f8BAHQAyQBWAN7/0//f/4wAsgCKAGsA4P+o/6//wv/v/+D/mf9d/6z/NwDG/xj/pf7M/p7/tv9b/w//4v6z/o3+2v4h/8P+Yv5f/o7+Av86/+H+Xf5q/vr+Xv+d/6v/kv/C/wwA6f/y/ysAJwABAE4AjwCnAOcAywCYAKEAkACBAKwA+ADSAOIA+wCrAHwAcAAeADgATwAhADgAcQCeAFQAMgBfAJAAvADnAPcAvwCiAN8A8QAoAV4BJAHxADYBSQFFATMBxQCZALEA0wC5AMoA3ACJAFwAQQAvAAEAnf8t/zP/U/9e/x//gf4h/i/+S/5w/l/+JP4M/sj94f0+/oX+ov5q/nb+uv4z/27/1f7N/gP/A/8K/2r/zv/v/4T/M/9u/3z/fP8q/2D/rf/j/wgAyf+t/4L/X/+o/4r/pv8IABEA+v/y/wwAJAAjAPP/+f94ALgA1gDpAFIBjAFJAe0A0QAkAUoBgQHTAQoC2wHGAesBBQIxAlYCOQIBAgACAwIrAvkBIgGfALIAlQAyABIAAQD9/7j/H/8y/5D/Uv+1/rf+/f56/4T/Dv/V/u7+KP9g/5v/uP+b/1b/VP+3/ykAFwDf/0j/R/8eAFQA6f+x/5n/v//i/8j/zP/P/47/If8k/4b/d/+3/g7+N/7O/jL/BP+7/rb+wP4C/xH/hP+S/2P/Wf+M//b/OgAdAMr/0//+/1IAaQB7AIkAhACZAH8AiQCfAKwAwwCYAMMA+gDGAEAAOACCANUA/ADOAOsAKQEGAdQA6wAdAfEAtACuAKcAvAChAHgAegCGAJwApQCGAHUAmgBdAG8AggBjAH4AbgBDAGkA0QDWAFMABwA1AB4AMAAgAAUAUwBgAFMAUwBjAAoAaf8e/xv/Zv+A/1f/Cv/7/tX+tP7Q/qL+t/6l/q7++/4N/xn/xP5z/nL+hP7E/hf/OP8l/2L/zv8eAC8AEADa/x0AWQCZAMQA9gDPAIkAqgDLAOcAjwDp/+D/FABIABMAn/9k/0P/bP94/2L/Yf+q/3r/OP+C//D//f+o/7P/CwC1AOYAkACxAO4A+AD/ABUBWgFaASoBBAETASQBFQH2AJMAiABnAFYAQADT/6T/tP/U/9//x/+z/8v/0//6//n/IQA2ACQAgACNAKIAlgBvAHoAdQBNAA0A7v+W/4n/g/9u/y3/0v7n/hL/Xv+Z/8//AgAXABIA4v82AGYAZgBoAEAAQAAjAEwAIgDJ/57/Y/9Y/xX/yv7O/iH/Mf8y/0v/Mv9N/zH/Rf91/6//zP/E/w8AKQBuAJ4AvQD4AAMBGwFfAYMBVgE7Ad8AuQDwAOYArAB5AFcAWACTAIUAMgDZ/6L/sP/8//z/8//p/5j/gP/C//P/KgBAADcAbgC4AMcAzgCpAJMAjACEAMUAsgC3AGcAJgAmABQAOwADALn/gv9w/53/l/9I//7+HP8d/xf/Ef/z/pL+X/5k/mX+h/6H/pL+qP7A/vz+R/+C/2P/gf8LAEwAkwCbAJ8AYwBDAG4AhgBrAEQACgD//0oAoQC7AJMAhQCeAN8AHgEgAfQAqwByAFwAWwB0ACoAuf9V/zL/T/9t/27/bf9L/4T/zv8tAG4ANQDh/wgAlAD4APwA1ADTAN4A3wDpAPMA9QDBAI8AhACBALQAmABuAFkAIgBLAH0AXABLABQA+//v/xEA/v/j/9L/Yv8u/2n/uf+b/0H/7P7m/gP/Cf/Y/pn+lv65/sv+3v70/jX/Kv8A/zX/gP/0/yQAFgBFAMUALgEBAcIAsQDcAAQB6QD4ABwBHwG+AFQAHAD6/7X/Ef/l/hP/GP/m/sT+4v7L/rn+rv7r/k//2P8nACgAhwDcABABSQGHAbsB5QHDAXYBSwEyAQ4BzgB/AC0AQQA9AA8A4//G/9D/3f/k/wMAGwAKAN3/uP8GAKEAuwDHAK8AlQCvAKAAawAMAMf/q/+w//H/5f+z/z7/u/6d/pj+rf6y/qr+af6O/gj/gP+e/z7/5v4d/7P/LACFAKEAdgArAFwAtQD4AP0AkQBHAGcAjgBrAD0Ay/9E/zH/U/+D/5//bP8k/y//R/9+/5j/eP+B/7L/IQClAB0BNwELASABNAFyAXgBHwHJAKAAiQCRAHMAHADm/6b/fP+R//P/JwA5AD0ATQBeAIkAygDCALsAhABQAFIAOgDR/3f/VP8M/+7+L/8N/+r+7f4P/1v/pP+c/57/1v/+/0wAkACmAJsAkAB5AHYAiwCDAIEAhQBqACIA+v/z/9r/of9c/2j/kv94/x3/sP61/tD+6f4I/2n/4v8KAP//4/8FAE4AUQA1AFYAmgDmAOMAoACKAKIAhABaAJAAvwDcAIwAWAB1AGYAKQDG/4z/wv8GAO//yP/M/7L/y//V/8T/JwCEAIUAdwByAE0AJADX/3z/df9u/1//of/K/6//ff9T/1n/kv+q/3z/jv/X/xkAcgCZAK0AugC8AMoAwwCmAKgAdwAAAKb/xP/v/xEABQC6/33/c/+F/2//Mv/r/tz+5v4Q/1n/lf+B/xz/9/57/w0AMQBIAGIAkACcANEAHQEJAaMARgBOAH8AmgB+AAMAsf+l//r/PQAqAMv/pv/m/x8AaQCJAHsASQBIAJcA/QAtAe4AaQAFAPT/IABPAAsAtf+X/4j/6P9OAFwA6v8h/9D+Tv/x/xsA7v+9/8f/NACIAJMAdwA7ABUAJAB+ALoAiwD5/yv/0v4Q/0L/h/+X/0H/Qv/M/zUANADC/x3/7f5k/8//FgBDAPX/Yv8Y/0L/l//h/93/7v9eALIA4gD3ANIAkQBCABwA/f9eAJUANQDI/4j/4P9PADwABAApAEQAawCqAJwAYQAHANT/GgCAAJUAWQAiAP7/GQA1ACQAIwBIADAAEAAgAC0AIQDY/27/R//S/zIA3f9u//z+/P51/5n/4/8gAP7/2f8LAC8AKwAmANP/b/+v/xQAGwAwAOr/rf+s/5T/sf9WAJgAVADu/9T/+//m/7D/Z/91/7n/6//J/4H/kP/D/xMAVQCsAEABWgEGAccAswDNAMQApABuAFEAKQAZAD0ASQAQANX/sf+1/+7/EADn/53/af+u/9z/w//T//L/2v+6/77/pP+v/5T/oP+g/w==\" type=\"audio/wav\" />\n",
              "                    Your browser does not support the audio element.\n",
              "                </audio>\n",
              "              "
            ]
          },
          "metadata": {}
        },
        {
          "output_type": "stream",
          "name": "stdout",
          "text": [
            "\n"
          ]
        }
      ],
      "source": [
        "import random\n",
        "from IPython.display import Audio, display\n",
        "\n",
        "for _ in range(5):\n",
        "    rand_idx = random.randint(0, len(dataset[\"train\"])-1)\n",
        "    example = dataset[\"train\"][rand_idx]\n",
        "    audio = example[\"audio\"]\n",
        "\n",
        "    print(f'Label: {id2label[str(example[\"label\"])]}')\n",
        "    print(f'Shape: {audio[\"array\"].shape}, sampling rate: {audio[\"sampling_rate\"]}')\n",
        "    display(Audio(audio[\"array\"], rate=audio[\"sampling_rate\"]))\n",
        "    print()"
      ]
    },
    {
      "cell_type": "markdown",
      "metadata": {
        "id": "PitJ0oTugrcP"
      },
      "source": [
        "If you run the cell a couple of times, you'll see that despite slight variations in length, most of the samples are about 1 second long (`duration = audio_length / sampling_rate`). So we can safely truncate and pad the samples to `16000`."
      ]
    },
    {
      "cell_type": "markdown",
      "metadata": {
        "id": "XIo43qu6gu7b"
      },
      "source": [
        "### Preprocessing the data"
      ]
    },
    {
      "cell_type": "markdown",
      "metadata": {
        "id": "z9DUY37UgxNP"
      },
      "source": [
        "Before we can feed those audio clips to our model, we need to preprocess them. This is done by a 🤗 Transformers `FeatureExtractor` which will normalize the inputs and put them in a format the model expects, as well as generate the other inputs that the model requires.\n",
        "\n",
        "To do all of this, we instantiate our feature extractor with the `AutoFeatureExtractor.from_pretrained` method, which will ensure that we get a preprocessor that corresponds to the model architecture we want to use."
      ]
    },
    {
      "cell_type": "code",
      "execution_count": 15,
      "metadata": {
        "colab": {
          "base_uri": "https://localhost:8080/",
          "height": 292,
          "referenced_widgets": [
            "6b0f967d8f21424882ff228392609a9b",
            "47b905e3e914440ca3a5ef985870057c",
            "779fa83c3a7543c4a0df274f62ca0a4f",
            "cef5ef75c95744f0b86a4bf626668f2d",
            "94161b27ff034db8a4460e770974b0aa",
            "193dc43ee44d4144ae67e3d163429c4e",
            "82eb1cd72b0d4306b151767cd560f610",
            "22230bcad97a4c55a141a53786ad5257",
            "95b151a604554e8c94814ef27bf93cfd",
            "7d48dfd2a4884c8487fd83233561d9ea",
            "8ec710231dff475e9aee891062f2ef09",
            "4414c0bd096743eab2fa483e3863c6fc",
            "c70e9502650b4730a80f0ccf6a7fcfcd",
            "37ea5d20f68e45bdac55a02e92a59e86",
            "99258ddd80b0400883963b8d27b197b8",
            "3db766b92e924fc0b8d61e74e1e3559e",
            "6cd25ac9d18a4a21a2c49a583feffb97",
            "c89004da31f14511a24e7f60fdbc27cf",
            "1b90554e525347c18b9b9f4e12e3299a",
            "da9783fa6ffd4d69be878f80426817eb",
            "053c69e64f7b47a68e7cd72337ff4f63",
            "2ddaaf55a47d4b7fbe51b33c6a2fdb31"
          ]
        },
        "id": "5NfxA4ZHg0BL",
        "outputId": "020e6e3e-314b-479f-9497-59d955819e0a"
      },
      "outputs": [
        {
          "output_type": "display_data",
          "data": {
            "text/plain": [
              "Downloading (…)rocessor_config.json:   0%|          | 0.00/159 [00:00<?, ?B/s]"
            ],
            "application/vnd.jupyter.widget-view+json": {
              "version_major": 2,
              "version_minor": 0,
              "model_id": "6b0f967d8f21424882ff228392609a9b"
            }
          },
          "metadata": {}
        },
        {
          "output_type": "display_data",
          "data": {
            "text/plain": [
              "Downloading (…)lve/main/config.json:   0%|          | 0.00/1.84k [00:00<?, ?B/s]"
            ],
            "application/vnd.jupyter.widget-view+json": {
              "version_major": 2,
              "version_minor": 0,
              "model_id": "4414c0bd096743eab2fa483e3863c6fc"
            }
          },
          "metadata": {}
        },
        {
          "output_type": "stream",
          "name": "stderr",
          "text": [
            "/usr/local/lib/python3.9/dist-packages/transformers/configuration_utils.py:379: UserWarning: Passing `gradient_checkpointing` to a config initialization is deprecated and will be removed in v5 Transformers. Using `model.gradient_checkpointing_enable()` instead, or if you are using the `Trainer` API, pass `gradient_checkpointing=True` in your `TrainingArguments`.\n",
            "  warnings.warn(\n"
          ]
        },
        {
          "output_type": "execute_result",
          "data": {
            "text/plain": [
              "Wav2Vec2FeatureExtractor {\n",
              "  \"do_normalize\": true,\n",
              "  \"feature_extractor_type\": \"Wav2Vec2FeatureExtractor\",\n",
              "  \"feature_size\": 1,\n",
              "  \"padding_side\": \"right\",\n",
              "  \"padding_value\": 0.0,\n",
              "  \"return_attention_mask\": false,\n",
              "  \"sampling_rate\": 16000\n",
              "}"
            ]
          },
          "metadata": {},
          "execution_count": 15
        }
      ],
      "source": [
        "from transformers import AutoFeatureExtractor\n",
        "\n",
        "feature_extractor = AutoFeatureExtractor.from_pretrained(model_checkpoint)\n",
        "feature_extractor"
      ]
    },
    {
      "cell_type": "markdown",
      "metadata": {
        "id": "cdpxgL2mgvpQ"
      },
      "source": [
        "As we've noticed earlier, the samples are roughly 1 second long, so let's set it here:"
      ]
    },
    {
      "cell_type": "code",
      "execution_count": 16,
      "metadata": {
        "id": "rXvmBuuOg67r"
      },
      "outputs": [],
      "source": [
        "max_duration = 1.0  # seconds"
      ]
    },
    {
      "cell_type": "markdown",
      "metadata": {
        "id": "ST9z7EAlho6W"
      },
      "source": [
        "We can then write the function that will preprocess our samples. We just feed them to the `feature_extractor` with the argument `truncation=True`, as well as the maximum sample length. This will ensure that very long inputs like the ones in the `_silence_` class can be safely batched."
      ]
    },
    {
      "cell_type": "code",
      "execution_count": 17,
      "metadata": {
        "id": "N-7ODWxChsq-"
      },
      "outputs": [],
      "source": [
        "def preprocess_function(examples):\n",
        "    audio_arrays = [x[\"array\"] for x in examples[\"audio\"]]\n",
        "    inputs = feature_extractor(\n",
        "        audio_arrays, \n",
        "        sampling_rate=feature_extractor.sampling_rate, \n",
        "        max_length=int(feature_extractor.sampling_rate * max_duration), \n",
        "        truncation=True, \n",
        "    )\n",
        "    return inputs"
      ]
    },
    {
      "cell_type": "markdown",
      "metadata": {
        "id": "Z8xAilvjhuRE"
      },
      "source": [
        "The feature extractor will return a list of numpy arays for each example:"
      ]
    },
    {
      "cell_type": "code",
      "execution_count": 18,
      "metadata": {
        "colab": {
          "base_uri": "https://localhost:8080/"
        },
        "id": "lYUrA1lyh0lO",
        "outputId": "d8c41ee7-66df-4853-9222-798374a23713"
      },
      "outputs": [
        {
          "output_type": "stream",
          "name": "stderr",
          "text": [
            "/usr/local/lib/python3.9/dist-packages/transformers/feature_extraction_utils.py:165: VisibleDeprecationWarning: Creating an ndarray from ragged nested sequences (which is a list-or-tuple of lists-or-tuples-or ndarrays with different lengths or shapes) is deprecated. If you meant to do this, you must specify 'dtype=object' when creating the ndarray.\n",
            "  tensor = as_tensor(value)\n"
          ]
        },
        {
          "output_type": "execute_result",
          "data": {
            "text/plain": [
              "{'input_values': [array([ 0.00184695,  0.00184695,  0.00184695, ..., -0.01184682,\n",
              "       -0.01527027, -0.01184682], dtype=float32), array([-0.00026575,  0.00522273,  0.00583256, ..., -0.00534767,\n",
              "       -0.00270507, -0.00473784], dtype=float32), array([0.00399843, 0.00399843, 0.01274386, ..., 0.07770992, 0.09686658,\n",
              "       0.11768904], dtype=float32), array([ 0.00330885,  0.0084559 ,  0.01154413, ..., -0.00286762,\n",
              "       -0.00698526, -0.00544114], dtype=float32), array([ 2.4527245 ,  2.925929  ,  1.9880458 , ..., -0.36518854,\n",
              "       -0.46323997, -0.5399759 ], dtype=float32)]}"
            ]
          },
          "metadata": {},
          "execution_count": 18
        }
      ],
      "source": [
        "preprocess_function(dataset['train'][:5])"
      ]
    },
    {
      "cell_type": "markdown",
      "metadata": {
        "id": "gT2LIZJWh3cD"
      },
      "source": [
        "To apply this function on all utterances in our dataset, we just use the `map` method of our `dataset` object we created earlier. This will apply the function on all the elements of all the splits in `dataset`, so our training, validation and testing data will be preprocessed in one single command."
      ]
    },
    {
      "cell_type": "code",
      "execution_count": 19,
      "metadata": {
        "colab": {
          "base_uri": "https://localhost:8080/",
          "height": 260,
          "referenced_widgets": [
            "9ebccb01d0f0498b907cd1c81c86885a",
            "aea3dcf3d2b0416f83f4f27d79e2a718",
            "a78ef10d1fc04205ba07b6f13bb373c3",
            "f62fd9f836bb41c18814ca3b8e9dea65",
            "d2fd4871a3094b91bca39ac522c07d8e",
            "7dd4f750e03e4fdf9a046239e91063d6",
            "8cd04a2348ce4423b3dc43c9154da1b1",
            "77894a0d4a224d389c9f6342652256be",
            "8f343be64868477a917c9f2e5d70c83a",
            "459b368a9c03457c9b415a5c4990c4ae",
            "53a3370ed74742d183670baa98610459",
            "b74361fb8dbe4d88a6396983207ca3e3",
            "6fa1057697b54061b36ef1e9307ebab1",
            "18e50bfe20104389bd4e8af8c220a5c5",
            "e008d70fcceb4934a0b3f3ecad9f7563",
            "1330ebe7ad8c4e40bcdbefbd51f4ce62",
            "6518736494114fee9975627e11f7012e",
            "6227e552715e4644957f4b57313a95f1",
            "eac5b187edb9452db199dd8b30776382",
            "edb9300ecda34bce8db9d393a60121be",
            "2feef42f7e394f8b9a3fab479dcd4421",
            "92917b504b704673b4eeaff6a8d2b972",
            "540a8177f15c4538bd401431145adb0b",
            "59ae6ede22964c6f89ec8bc70486ad04",
            "683768fcbdd641d88d47fd04fb9e2593",
            "93e42228891d4ccd932c49da96e19b0d",
            "4969171cd9e5474c833b9cf4a40499b5",
            "71ba942dd7814843b3083d6369ac3935",
            "2c27f2a8cdb84d8e8bc42bc7394127ed",
            "2f4e887efa594426beba5a802ef67f3f",
            "d7cfc644d71c483ab7387d930689dad2",
            "44c077470d8c4f5bb566bd435ee97bdc",
            "1003a97f89ae460a85b7586859330e7c"
          ]
        },
        "id": "9tkKggmwh6YE",
        "outputId": "cd5b108f-ac75-416c-efd5-05c32bc89507"
      },
      "outputs": [
        {
          "output_type": "display_data",
          "data": {
            "text/plain": [
              "Map:   0%|          | 0/84848 [00:00<?, ? examples/s]"
            ],
            "application/vnd.jupyter.widget-view+json": {
              "version_major": 2,
              "version_minor": 0,
              "model_id": "9ebccb01d0f0498b907cd1c81c86885a"
            }
          },
          "metadata": {}
        },
        {
          "output_type": "display_data",
          "data": {
            "text/plain": [
              "Map:   0%|          | 0/9982 [00:00<?, ? examples/s]"
            ],
            "application/vnd.jupyter.widget-view+json": {
              "version_major": 2,
              "version_minor": 0,
              "model_id": "b74361fb8dbe4d88a6396983207ca3e3"
            }
          },
          "metadata": {}
        },
        {
          "output_type": "display_data",
          "data": {
            "text/plain": [
              "Map:   0%|          | 0/4890 [00:00<?, ? examples/s]"
            ],
            "application/vnd.jupyter.widget-view+json": {
              "version_major": 2,
              "version_minor": 0,
              "model_id": "540a8177f15c4538bd401431145adb0b"
            }
          },
          "metadata": {}
        },
        {
          "output_type": "execute_result",
          "data": {
            "text/plain": [
              "DatasetDict({\n",
              "    train: Dataset({\n",
              "        features: ['label', 'is_unknown', 'speaker_id', 'utterance_id', 'input_values'],\n",
              "        num_rows: 84848\n",
              "    })\n",
              "    validation: Dataset({\n",
              "        features: ['label', 'is_unknown', 'speaker_id', 'utterance_id', 'input_values'],\n",
              "        num_rows: 9982\n",
              "    })\n",
              "    test: Dataset({\n",
              "        features: ['label', 'is_unknown', 'speaker_id', 'utterance_id', 'input_values'],\n",
              "        num_rows: 4890\n",
              "    })\n",
              "})"
            ]
          },
          "metadata": {},
          "execution_count": 19
        }
      ],
      "source": [
        "encoded_dataset = dataset.map(preprocess_function, remove_columns=[\"audio\", \"file\"], batched=True)\n",
        "encoded_dataset"
      ]
    },
    {
      "cell_type": "markdown",
      "metadata": {
        "id": "ybgTHjish9_1"
      },
      "source": [
        "Even better, the results are automatically cached by the 🤗 Datasets library to avoid spending time on this step the next time you run your notebook. The 🤗 Datasets library is normally smart enough to detect when the function you pass to map has changed (and thus requires to not use the cache data). 🤗 Datasets warns you when it uses cached files, you can pass `load_from_cache_file=False` in the call to `map` to not use the cached files and force the preprocessing to be applied again."
      ]
    },
    {
      "cell_type": "markdown",
      "metadata": {
        "id": "6AbiJw1PiCDw"
      },
      "source": [
        "### Training the model"
      ]
    },
    {
      "cell_type": "markdown",
      "metadata": {
        "id": "WvIysofOiFCn"
      },
      "source": [
        "Now that our data is ready, we can download the pretrained model and fine-tune it. For classification we use the `AutoModelForAudioClassification` class. Like with the feature extractor, the `from_pretrained` method will download and cache the model for us. As the label ids and the number of labels are dataset dependent, we pass `num_labels`, `label2id`, and `id2label` alongside the `model_checkpoint` here:"
      ]
    },
    {
      "cell_type": "code",
      "execution_count": 24,
      "metadata": {
        "colab": {
          "base_uri": "https://localhost:8080/",
          "height": 81,
          "referenced_widgets": [
            "6c684d695d7d4e3aa91d0ef302b0dbd3",
            "6947f6081ebf4dc9a9b98dd5b52236f7",
            "9b0185c5558d4de1b0fdb09a642b1d4e",
            "db8d308852a2489a8fd993846e1d7106",
            "6a83a8dc181c4614a9db36b64afda9d1",
            "6631fd9d4c2145bbad2a9ee8e7a4d6ee",
            "fa4be55e45cd46f59664dab893b2debe",
            "1b8e8110a8cc4ee3aa3f64d515fd2d87",
            "2b06b8a5b10e4b91abf972419b84f629",
            "48a8e84d9fbc41acb932b709a13cac22",
            "3ec945bd544c47e19fcb8c8b03ab46f8",
            "d81ec5db598e4169ad02f09c0bedb3a0",
            "9dd16b59c1b74c8d9e6cb5ed25227c27",
            "33d9a3c945b544b2bc6c4c8e47765858",
            "b2b80c96df344611843f5f1a2abadc2f",
            "ea1dd4936333425482352a8bc9077041",
            "989722443d95488fa43ddce10f2e109f",
            "29a679e8a7c74b86b529b085b07f1be0",
            "6e639cd6b7eb4d62965581eb8d89e112",
            "2eee7ff59af14fdf803b0d44d5f2cdbe",
            "b9109fc8a6cc45cd901f23da810bc36e",
            "32f093983cbb4b1a8604cf8e712344b1"
          ]
        },
        "id": "rd4cFGC1iHQj",
        "outputId": "769bcfba-5262-455a-b64a-a7f12f024977"
      },
      "outputs": [
        {
          "output_type": "display_data",
          "data": {
            "text/plain": [
              "Downloading (…)lve/main/config.json:   0%|          | 0.00/3.69k [00:00<?, ?B/s]"
            ],
            "application/vnd.jupyter.widget-view+json": {
              "version_major": 2,
              "version_minor": 0,
              "model_id": "6c684d695d7d4e3aa91d0ef302b0dbd3"
            }
          },
          "metadata": {}
        },
        {
          "output_type": "display_data",
          "data": {
            "text/plain": [
              "Downloading pytorch_model.bin:   0%|          | 0.00/378M [00:00<?, ?B/s]"
            ],
            "application/vnd.jupyter.widget-view+json": {
              "version_major": 2,
              "version_minor": 0,
              "model_id": "d81ec5db598e4169ad02f09c0bedb3a0"
            }
          },
          "metadata": {}
        }
      ],
      "source": [
        "from transformers import AutoModelForAudioClassification, TrainingArguments, Trainer\n",
        "\n",
        "num_labels = len(id2label)\n",
        "model = AutoModelForAudioClassification.from_pretrained(\n",
        "    model_checkpoint, \n",
        "    num_labels=num_labels,\n",
        "    label2id=label2id,\n",
        "    id2label=id2label,\n",
        ")\n"
      ]
    },
    {
      "cell_type": "markdown",
      "metadata": {
        "id": "7DS7cAc2iKtp"
      },
      "source": [
        "The warning is telling us we are throwing away some weights (the `quantizer` and `project_q` layers) and randomly initializing some other (the `projector` and `classifier` layers). This is expected in this case, because we are removing the head used to pretrain the model on an unsupervised Vector Quantization objective and replacing it with a new head for which we don't have pretrained weights, so the library warns us we should fine-tune this model before using it for inference, which is exactly what we are going to do."
      ]
    },
    {
      "cell_type": "markdown",
      "metadata": {
        "id": "lX8qScqQiNdb"
      },
      "source": [
        "To instantiate a `Trainer`, we will need to define the training configuration and the evaluation metric. The most important is the [`TrainingArguments`](https://huggingface.co/transformers/main_classes/trainer.html#transformers.TrainingArguments), which is a class that contains all the attributes to customize the training. It requires one folder name, which will be used to save the checkpoints of the model, and all other arguments are optional:"
      ]
    },
    {
      "cell_type": "code",
      "execution_count": 25,
      "metadata": {
        "id": "zxciVHgpiPiw"
      },
      "outputs": [],
      "source": [
        "model_name = model_checkpoint.split(\"/\")[-1]\n",
        "\n",
        "args = TrainingArguments(\n",
        "    f\"{model_name}-finetuned-speech_commands-v0.02\",\n",
        "    evaluation_strategy = \"epoch\",\n",
        "    save_strategy = \"epoch\",\n",
        "    learning_rate=3e-5,\n",
        "    per_device_train_batch_size=batch_size,\n",
        "    gradient_accumulation_steps=4,\n",
        "    per_device_eval_batch_size=batch_size,\n",
        "    num_train_epochs=5,\n",
        "    warmup_ratio=0.1,\n",
        "    logging_steps=10,\n",
        "    load_best_model_at_end=True,\n",
        "    metric_for_best_model=\"accuracy\",\n",
        "    push_to_hub=True,\n",
        ")"
      ]
    },
    {
      "cell_type": "markdown",
      "metadata": {
        "id": "VjzRCTdUiVL-"
      },
      "source": [
        "Here we set the evaluation to be done at the end of each epoch, tweak the learning rate, use the `batch_size` defined at the top of the notebook and customize the number of epochs for training, as well as the weight decay. Since the best model might not be the one at the end of training, we ask the `Trainer` to load the best model it saved (according to `metric_name`) at the end of training.\n",
        "\n",
        "The last argument `push_to_hub` allows the Trainer to push the model to the [Hub](https://huggingface.co/models) regularly during training. Remove it if you didn't follow the installation steps at the top of the notebook. If you want to save your model locally with a name that is different from the name of the repository, or if you want to push your model under an organization and not your name space, use the `hub_model_id` argument to set the repo name (it needs to be the full name, including your namespace: for instance `\"anton-l/wav2vec2-finetuned-ks\"` or `\"huggingface/anton-l/wav2vec2-finetuned-ks\"`)."
      ]
    },
    {
      "cell_type": "markdown",
      "metadata": {
        "id": "VN-F8YVFiDJR"
      },
      "source": [
        "Next, we need to define a function for how to compute the metrics from the predictions, which will just use the `metric` we loaded earlier. The only preprocessing we have to do is to take the argmax of our predicted logits:"
      ]
    },
    {
      "cell_type": "code",
      "execution_count": 26,
      "metadata": {
        "id": "0DCq9_WLiY6x"
      },
      "outputs": [],
      "source": [
        "import numpy as np\n",
        "\n",
        "def compute_metrics(eval_pred):\n",
        "    \"\"\"Computes accuracy on a batch of predictions\"\"\"\n",
        "    predictions = np.argmax(eval_pred.predictions, axis=1)\n",
        "    return metric.compute(predictions=predictions, references=eval_pred.label_ids)"
      ]
    },
    {
      "cell_type": "markdown",
      "metadata": {
        "id": "2ADDEzpNitsM"
      },
      "source": [
        "Then we just need to pass all of this along with our datasets to the `Trainer`:"
      ]
    },
    {
      "cell_type": "code",
      "execution_count": 27,
      "metadata": {
        "colab": {
          "base_uri": "https://localhost:8080/"
        },
        "id": "d5M51ghniuVE",
        "outputId": "ce8d3b2e-a14a-42ee-83fb-2d06e97be740"
      },
      "outputs": [
        {
          "output_type": "stream",
          "name": "stderr",
          "text": [
            "Cloning https://huggingface.co/0xb1/wav2vec2-base-finetuned-speech_commands-v0.02-finetuned-speech_commands-v0.02 into local empty directory.\n",
            "WARNING:huggingface_hub.repository:Cloning https://huggingface.co/0xb1/wav2vec2-base-finetuned-speech_commands-v0.02-finetuned-speech_commands-v0.02 into local empty directory.\n"
          ]
        }
      ],
      "source": [
        "trainer = Trainer(\n",
        "    model,\n",
        "    args,\n",
        "    train_dataset=encoded_dataset[\"train\"],\n",
        "    eval_dataset=encoded_dataset[\"validation\"],\n",
        "    tokenizer=feature_extractor,\n",
        "    compute_metrics=compute_metrics\n",
        ")"
      ]
    },
    {
      "cell_type": "markdown",
      "metadata": {
        "id": "f8SAfWARi8Dc"
      },
      "source": [
        "You might wonder why we pass along the `feature_extractor` as a tokenizer when we already preprocessed our data. This is because we will use it once last time to make all the samples we gather the same length by applying padding, which requires knowing the model's preferences regarding padding (to the left or right? with which token?). The `feature_extractor` has a pad method that will do all of this for us, and the `Trainer` will use it. You can customize this part by defining and passing your own `data_collator` which will receive the samples like the dictionaries seen above and will need to return a dictionary of tensors."
      ]
    },
    {
      "cell_type": "markdown",
      "metadata": {
        "id": "JSmNyC97i_o3"
      },
      "source": [
        "Now we can finetune our model by calling the `train` method:"
      ]
    },
    {
      "cell_type": "code",
      "execution_count": 26,
      "metadata": {
        "colab": {
          "base_uri": "https://localhost:8080/",
          "height": 339
        },
        "id": "okc7ytLljCrZ",
        "outputId": "7e6be6ab-c778-450a-8f4e-5bcaaa4fdffd"
      },
      "outputs": [
        {
          "output_type": "stream",
          "name": "stderr",
          "text": [
            "/usr/local/lib/python3.9/dist-packages/transformers/optimization.py:391: FutureWarning: This implementation of AdamW is deprecated and will be removed in a future version. Use the PyTorch implementation torch.optim.AdamW instead, or set `no_deprecation_warning=True` to disable this warning\n",
            "  warnings.warn(\n"
          ]
        },
        {
          "output_type": "display_data",
          "data": {
            "text/plain": [
              "<IPython.core.display.HTML object>"
            ],
            "text/html": [
              "\n",
              "    <div>\n",
              "      \n",
              "      <progress value='3315' max='3315' style='width:300px; height:20px; vertical-align: middle;'></progress>\n",
              "      [3315/3315 3:17:15, Epoch 5/5]\n",
              "    </div>\n",
              "    <table border=\"1\" class=\"dataframe\">\n",
              "  <thead>\n",
              " <tr style=\"text-align: left;\">\n",
              "      <th>Epoch</th>\n",
              "      <th>Training Loss</th>\n",
              "      <th>Validation Loss</th>\n",
              "      <th>Accuracy</th>\n",
              "    </tr>\n",
              "  </thead>\n",
              "  <tbody>\n",
              "    <tr>\n",
              "      <td>1</td>\n",
              "      <td>0.996300</td>\n",
              "      <td>0.731633</td>\n",
              "      <td>0.961230</td>\n",
              "    </tr>\n",
              "    <tr>\n",
              "      <td>2</td>\n",
              "      <td>0.496500</td>\n",
              "      <td>0.265590</td>\n",
              "      <td>0.967241</td>\n",
              "    </tr>\n",
              "    <tr>\n",
              "      <td>3</td>\n",
              "      <td>0.430600</td>\n",
              "      <td>0.162969</td>\n",
              "      <td>0.972050</td>\n",
              "    </tr>\n",
              "    <tr>\n",
              "      <td>4</td>\n",
              "      <td>0.290100</td>\n",
              "      <td>0.128254</td>\n",
              "      <td>0.975255</td>\n",
              "    </tr>\n",
              "    <tr>\n",
              "      <td>5</td>\n",
              "      <td>0.296300</td>\n",
              "      <td>0.116955</td>\n",
              "      <td>0.975857</td>\n",
              "    </tr>\n",
              "  </tbody>\n",
              "</table><p>"
            ]
          },
          "metadata": {}
        },
        {
          "output_type": "execute_result",
          "data": {
            "text/plain": [
              "TrainOutput(global_step=3315, training_loss=0.7901110838980696, metrics={'train_runtime': 11846.2569, 'train_samples_per_second': 35.812, 'train_steps_per_second': 0.28, 'total_flos': 3.85187498406912e+18, 'train_loss': 0.7901110838980696, 'epoch': 5.0})"
            ]
          },
          "metadata": {},
          "execution_count": 26
        }
      ],
      "source": [
        "trainer.train()"
      ]
    },
    {
      "cell_type": "markdown",
      "metadata": {
        "id": "5E1imE7djHvX"
      },
      "source": [
        "We can check with the `evaluate` method that our `Trainer` did reload the best model properly (if it was not the last one):"
      ]
    },
    {
      "cell_type": "code",
      "execution_count": 27,
      "metadata": {
        "colab": {
          "base_uri": "https://localhost:8080/",
          "height": 141
        },
        "id": "RIYw8qO-jLGu",
        "outputId": "5b8cfafc-5015-4b23-e249-40172d3b3213"
      },
      "outputs": [
        {
          "output_type": "display_data",
          "data": {
            "text/plain": [
              "<IPython.core.display.HTML object>"
            ],
            "text/html": [
              "\n",
              "    <div>\n",
              "      \n",
              "      <progress value='312' max='312' style='width:300px; height:20px; vertical-align: middle;'></progress>\n",
              "      [312/312 02:00]\n",
              "    </div>\n",
              "    "
            ]
          },
          "metadata": {}
        },
        {
          "output_type": "execute_result",
          "data": {
            "text/plain": [
              "{'eval_loss': 0.11695510149002075,\n",
              " 'eval_accuracy': 0.9758565417751953,\n",
              " 'eval_runtime': 121.8512,\n",
              " 'eval_samples_per_second': 81.92,\n",
              " 'eval_steps_per_second': 2.561,\n",
              " 'epoch': 5.0}"
            ]
          },
          "metadata": {},
          "execution_count": 27
        }
      ],
      "source": [
        "trainer.evaluate()"
      ]
    },
    {
      "cell_type": "markdown",
      "metadata": {
        "id": "qhHUvDzYi--s"
      },
      "source": [
        "You can now upload the result of the training to the Hub, just execute this instruction:"
      ]
    },
    {
      "cell_type": "code",
      "execution_count": 28,
      "metadata": {
        "colab": {
          "base_uri": "https://localhost:8080/",
          "height": 401,
          "referenced_widgets": [
            "0dfaf4747d8d49828d6173c32706ed31",
            "3e8a64390b874f4da5d268c7740067a4",
            "8c602e1ff4a54e6fb57eeb25a5da2acc",
            "da9536010baa49dba367f064da451687",
            "8ea7175f47734d29adec0bbdd276fc4c",
            "b8c85be004ff4e6ba08aebe9244212df",
            "09e244a829664d6bb61cc886fc7446ac",
            "d630b60e3c414beba5512820ccbd3b52",
            "ad8c6c8881634a838fb37f4713071bf3",
            "8476273a4d1944c8921fb9bf5a6e1ae8",
            "64c49cf735c7405b998886c767aa37d3",
            "cceb8115640c48c5b4dd745ff1ed1969",
            "ac1f7d0fa540498c91c1ffec99128b2c",
            "ecb64a36321c450fbfc9cbd2f9f91716",
            "10349c6231a944fa8606644469871b78",
            "ef969075ff904543aab1acb1dd26ae68",
            "ea6f3bbeeb8d47c4a95b43c2471ca197",
            "bc191bb8fecc4c66bfb05fc892813ef9",
            "de3040593c75488287cbc62fd74d88d5",
            "290924eaae92404c8d4a94a8ad5d10ff",
            "cec9c8c3d8f94a31bdc8456accc75073",
            "cb1c08667d6d4dba8ac7135e1488b849"
          ]
        },
        "id": "RjkVV4IdjQYO",
        "outputId": "5c5d76ce-427d-4323-9a3f-5588cbca47fe"
      },
      "outputs": [
        {
          "output_type": "display_data",
          "data": {
            "text/plain": [
              "Upload file runs/Apr08_01-45-27_6e7fe4ad84c9/events.out.tfevents.1680918345.6e7fe4ad84c9.712.0:  54%|#####3   …"
            ],
            "application/vnd.jupyter.widget-view+json": {
              "version_major": 2,
              "version_minor": 0,
              "model_id": "0dfaf4747d8d49828d6173c32706ed31"
            }
          },
          "metadata": {}
        },
        {
          "output_type": "display_data",
          "data": {
            "text/plain": [
              "Upload file runs/Apr08_01-45-27_6e7fe4ad84c9/events.out.tfevents.1680930313.6e7fe4ad84c9.712.2: 100%|#########…"
            ],
            "application/vnd.jupyter.widget-view+json": {
              "version_major": 2,
              "version_minor": 0,
              "model_id": "cceb8115640c48c5b4dd745ff1ed1969"
            }
          },
          "metadata": {}
        },
        {
          "output_type": "stream",
          "name": "stderr",
          "text": [
            "To https://huggingface.co/0xb1/wav2vec2-base-finetuned-speech_commands-v0.02\n",
            "   e88c22f..d4e36d5  main -> main\n",
            "\n",
            "WARNING:huggingface_hub.repository:To https://huggingface.co/0xb1/wav2vec2-base-finetuned-speech_commands-v0.02\n",
            "   e88c22f..d4e36d5  main -> main\n",
            "\n",
            "To https://huggingface.co/0xb1/wav2vec2-base-finetuned-speech_commands-v0.02\n",
            "   d4e36d5..477183b  main -> main\n",
            "\n",
            "WARNING:huggingface_hub.repository:To https://huggingface.co/0xb1/wav2vec2-base-finetuned-speech_commands-v0.02\n",
            "   d4e36d5..477183b  main -> main\n",
            "\n"
          ]
        },
        {
          "output_type": "execute_result",
          "data": {
            "text/plain": [
              "'https://huggingface.co/0xb1/wav2vec2-base-finetuned-speech_commands-v0.02/commit/d4e36d5e0900613ce152bbc48a5c93d50dfdc802'"
            ],
            "application/vnd.google.colaboratory.intrinsic+json": {
              "type": "string"
            }
          },
          "metadata": {},
          "execution_count": 28
        }
      ],
      "source": [
        "trainer.push_to_hub()"
      ]
    },
    {
      "cell_type": "markdown",
      "metadata": {
        "id": "GevqNDZcjSzs"
      },
      "source": [
        "You can now share this model with all your friends, family, favorite pets: they can all load it with the identifier `\"your-username/the-name-you-picked\"` so for instance:\n",
        "\n",
        "```python\n",
        "from transformers import AutoModelForAudioClassification, AutoFeatureExtractor\n",
        "\n",
        "feature_extractor = AutoFeatureExtractor.from_pretrained(\"anton-l/my-awesome-model\")\n",
        "model = AutoModelForAudioClassification.from_pretrained(\"anton-l/my-awesome-model\")\n",
        "\n",
        "```"
      ]
    },
    {
      "cell_type": "markdown",
      "metadata": {
        "id": "ZiSOT_lWaI5p"
      },
      "source": [
        "## Finetunning"
      ]
    },
    {
      "cell_type": "markdown",
      "source": [
        "Because Colab keeps logging out when we reach this part, we load the fine-tuned model"
      ],
      "metadata": {
        "id": "muGGfcp4mveE"
      }
    },
    {
      "cell_type": "code",
      "source": [
        "# model_checkpoint= \"0xb1/wav2vec2-base-finetuned-ks\"\n",
        "model_checkpoint= \"0xb1/wav2vec2-base-finetuned-speech_commands-v0.02\"\n",
        "batch_size = 32"
      ],
      "metadata": {
        "id": "43EaSG1OYlPa"
      },
      "execution_count": 20,
      "outputs": []
    },
    {
      "cell_type": "code",
      "execution_count": 21,
      "metadata": {
        "colab": {
          "base_uri": "https://localhost:8080/"
        },
        "id": "OPYZE2G3aKmM",
        "outputId": "33413294-d83e-4be2-ed7a-598b5c09423f"
      },
      "outputs": [
        {
          "output_type": "stream",
          "name": "stdout",
          "text": [
            "Looking in indexes: https://pypi.org/simple, https://us-python.pkg.dev/colab-wheels/public/simple/\n",
            "Collecting optuna\n",
            "  Downloading optuna-3.1.1-py3-none-any.whl (365 kB)\n",
            "\u001b[2K     \u001b[90m━━━━━━━━━━━━━━━━━━━━━━━━━━━━━━━━━━━━━━\u001b[0m \u001b[32m365.7/365.7 KB\u001b[0m \u001b[31m14.6 MB/s\u001b[0m eta \u001b[36m0:00:00\u001b[0m\n",
            "\u001b[?25hRequirement already satisfied: numpy in /usr/local/lib/python3.9/dist-packages (from optuna) (1.22.4)\n",
            "Requirement already satisfied: sqlalchemy>=1.3.0 in /usr/local/lib/python3.9/dist-packages (from optuna) (1.4.47)\n",
            "Requirement already satisfied: packaging>=20.0 in /usr/local/lib/python3.9/dist-packages (from optuna) (23.0)\n",
            "Requirement already satisfied: PyYAML in /usr/local/lib/python3.9/dist-packages (from optuna) (6.0)\n",
            "Collecting alembic>=1.5.0\n",
            "  Downloading alembic-1.10.3-py3-none-any.whl (212 kB)\n",
            "\u001b[2K     \u001b[90m━━━━━━━━━━━━━━━━━━━━━━━━━━━━━━━━━━━━━━\u001b[0m \u001b[32m212.3/212.3 KB\u001b[0m \u001b[31m24.6 MB/s\u001b[0m eta \u001b[36m0:00:00\u001b[0m\n",
            "\u001b[?25hCollecting cmaes>=0.9.1\n",
            "  Downloading cmaes-0.9.1-py3-none-any.whl (21 kB)\n",
            "Requirement already satisfied: tqdm in /usr/local/lib/python3.9/dist-packages (from optuna) (4.65.0)\n",
            "Collecting colorlog\n",
            "  Downloading colorlog-6.7.0-py2.py3-none-any.whl (11 kB)\n",
            "Collecting Mako\n",
            "  Downloading Mako-1.2.4-py3-none-any.whl (78 kB)\n",
            "\u001b[2K     \u001b[90m━━━━━━━━━━━━━━━━━━━━━━━━━━━━━━━━━━━━━━━━\u001b[0m \u001b[32m78.7/78.7 KB\u001b[0m \u001b[31m12.3 MB/s\u001b[0m eta \u001b[36m0:00:00\u001b[0m\n",
            "\u001b[?25hRequirement already satisfied: typing-extensions>=4 in /usr/local/lib/python3.9/dist-packages (from alembic>=1.5.0->optuna) (4.5.0)\n",
            "Requirement already satisfied: greenlet!=0.4.17 in /usr/local/lib/python3.9/dist-packages (from sqlalchemy>=1.3.0->optuna) (2.0.2)\n",
            "Requirement already satisfied: MarkupSafe>=0.9.2 in /usr/local/lib/python3.9/dist-packages (from Mako->alembic>=1.5.0->optuna) (2.1.2)\n",
            "Installing collected packages: Mako, colorlog, cmaes, alembic, optuna\n",
            "Successfully installed Mako-1.2.4 alembic-1.10.3 cmaes-0.9.1 colorlog-6.7.0 optuna-3.1.1\n"
          ]
        }
      ],
      "source": [
        "! pip install optuna"
      ]
    },
    {
      "cell_type": "code",
      "execution_count": 22,
      "metadata": {
        "id": "RUev0X3xawze"
      },
      "outputs": [],
      "source": [
        "def model_init():\n",
        "  return AutoModelForAudioClassification.from_pretrained(model_checkpoint, num_labels=num_labels)"
      ]
    },
    {
      "cell_type": "markdown",
      "source": [
        "Use this line of code, since it takes way too long to do hyperparameter search without it.\n",
        "\n",
        "```\n",
        "train_dataset = encoded_dataset[\"train\"].shard(index=1, num_shards=10)\n",
        "```\n",
        "\n"
      ],
      "metadata": {
        "id": "6e5DwL4irrIv"
      }
    },
    {
      "cell_type": "code",
      "execution_count": 28,
      "metadata": {
        "colab": {
          "base_uri": "https://localhost:8080/"
        },
        "id": "Pvg16Wo-bhGj",
        "outputId": "f548c905-224d-4c15-f206-d5d02ae63022"
      },
      "outputs": [
        {
          "output_type": "stream",
          "name": "stderr",
          "text": [
            "/content/wav2vec2-base-finetuned-speech_commands-v0.02-finetuned-speech_commands-v0.02 is already a clone of https://huggingface.co/0xb1/wav2vec2-base-finetuned-speech_commands-v0.02-finetuned-speech_commands-v0.02. Make sure you pull the latest changes with `repo.git_pull()`.\n",
            "WARNING:huggingface_hub.repository:/content/wav2vec2-base-finetuned-speech_commands-v0.02-finetuned-speech_commands-v0.02 is already a clone of https://huggingface.co/0xb1/wav2vec2-base-finetuned-speech_commands-v0.02-finetuned-speech_commands-v0.02. Make sure you pull the latest changes with `repo.git_pull()`.\n"
          ]
        }
      ],
      "source": [
        "trainer = Trainer(\n",
        "    model_init= model_init,\n",
        "    args= args,\n",
        "    train_dataset = encoded_dataset[\"train\"].shard(index=1, num_shards=10),\n",
        "    eval_dataset=encoded_dataset[\"validation\"],\n",
        "    tokenizer=feature_extractor,\n",
        "    compute_metrics=compute_metrics\n",
        ")"
      ]
    },
    {
      "cell_type": "code",
      "execution_count": null,
      "metadata": {
        "colab": {
          "base_uri": "https://localhost:8080/",
          "height": 1000
        },
        "id": "TiGlKpcqlcI6",
        "outputId": "fa925fae-a025-4ca9-e14d-c695efb0ac9c"
      },
      "outputs": [
        {
          "output_type": "stream",
          "name": "stderr",
          "text": [
            "\u001b[32m[I 2023-04-08 06:03:10,674]\u001b[0m A new study created in memory with name: no-name-dea8b9c3-ee58-4124-9a73-36635a53767d\u001b[0m\n",
            "/usr/local/lib/python3.9/dist-packages/transformers/optimization.py:391: FutureWarning: This implementation of AdamW is deprecated and will be removed in a future version. Use the PyTorch implementation torch.optim.AdamW instead, or set `no_deprecation_warning=True` to disable this warning\n",
            "  warnings.warn(\n"
          ]
        },
        {
          "output_type": "display_data",
          "data": {
            "text/plain": [
              "<IPython.core.display.HTML object>"
            ],
            "text/html": [
              "\n",
              "    <div>\n",
              "      \n",
              "      <progress value='1325' max='1325' style='width:300px; height:20px; vertical-align: middle;'></progress>\n",
              "      [1325/1325 29:38, Epoch 4/5]\n",
              "    </div>\n",
              "    <table border=\"1\" class=\"dataframe\">\n",
              "  <thead>\n",
              " <tr style=\"text-align: left;\">\n",
              "      <th>Epoch</th>\n",
              "      <th>Training Loss</th>\n",
              "      <th>Validation Loss</th>\n",
              "      <th>Accuracy</th>\n",
              "    </tr>\n",
              "  </thead>\n",
              "  <tbody>\n",
              "    <tr>\n",
              "      <td>0</td>\n",
              "      <td>0.248300</td>\n",
              "      <td>0.115875</td>\n",
              "      <td>0.976357</td>\n",
              "    </tr>\n",
              "    <tr>\n",
              "      <td>1</td>\n",
              "      <td>0.236100</td>\n",
              "      <td>0.115962</td>\n",
              "      <td>0.976157</td>\n",
              "    </tr>\n",
              "    <tr>\n",
              "      <td>2</td>\n",
              "      <td>0.327400</td>\n",
              "      <td>0.114656</td>\n",
              "      <td>0.976057</td>\n",
              "    </tr>\n",
              "    <tr>\n",
              "      <td>4</td>\n",
              "      <td>0.239900</td>\n",
              "      <td>0.114155</td>\n",
              "      <td>0.976257</td>\n",
              "    </tr>\n",
              "    <tr>\n",
              "      <td>4</td>\n",
              "      <td>0.172700</td>\n",
              "      <td>0.113931</td>\n",
              "      <td>0.976257</td>\n",
              "    </tr>\n",
              "  </tbody>\n",
              "</table><p>"
            ]
          },
          "metadata": {}
        },
        {
          "output_type": "stream",
          "name": "stderr",
          "text": [
            "\u001b[32m[I 2023-04-08 06:32:58,611]\u001b[0m Trial 0 finished with value: 0.9762572630735323 and parameters: {'learning_rate': 1.72223255752955e-06, 'num_train_epochs': 5, 'seed': 37, 'per_device_train_batch_size': 8}. Best is trial 0 with value: 0.9762572630735323.\u001b[0m\n",
            "/usr/local/lib/python3.9/dist-packages/transformers/optimization.py:391: FutureWarning: This implementation of AdamW is deprecated and will be removed in a future version. Use the PyTorch implementation torch.optim.AdamW instead, or set `no_deprecation_warning=True` to disable this warning\n",
            "  warnings.warn(\n"
          ]
        },
        {
          "output_type": "display_data",
          "data": {
            "text/plain": [
              "<IPython.core.display.HTML object>"
            ],
            "text/html": [
              "\n",
              "    <div>\n",
              "      \n",
              "      <progress value='530' max='530' style='width:300px; height:20px; vertical-align: middle;'></progress>\n",
              "      [530/530 11:51, Epoch 1/2]\n",
              "    </div>\n",
              "    <table border=\"1\" class=\"dataframe\">\n",
              "  <thead>\n",
              " <tr style=\"text-align: left;\">\n",
              "      <th>Epoch</th>\n",
              "      <th>Training Loss</th>\n",
              "      <th>Validation Loss</th>\n",
              "      <th>Accuracy</th>\n",
              "    </tr>\n",
              "  </thead>\n",
              "  <tbody>\n",
              "    <tr>\n",
              "      <td>0</td>\n",
              "      <td>0.262100</td>\n",
              "      <td>0.116851</td>\n",
              "      <td>0.976157</td>\n",
              "    </tr>\n",
              "    <tr>\n",
              "      <td>1</td>\n",
              "      <td>0.256300</td>\n",
              "      <td>0.116895</td>\n",
              "      <td>0.975656</td>\n",
              "    </tr>\n",
              "  </tbody>\n",
              "</table><p>"
            ]
          },
          "metadata": {}
        },
        {
          "output_type": "stream",
          "name": "stderr",
          "text": [
            "\u001b[32m[I 2023-04-08 06:44:55,037]\u001b[0m Trial 1 finished with value: 0.9756561811260268 and parameters: {'learning_rate': 1.2219192966371177e-06, 'num_train_epochs': 2, 'seed': 22, 'per_device_train_batch_size': 8}. Best is trial 0 with value: 0.9762572630735323.\u001b[0m\n",
            "/usr/local/lib/python3.9/dist-packages/transformers/optimization.py:391: FutureWarning: This implementation of AdamW is deprecated and will be removed in a future version. Use the PyTorch implementation torch.optim.AdamW instead, or set `no_deprecation_warning=True` to disable this warning\n",
            "  warnings.warn(\n"
          ]
        },
        {
          "output_type": "display_data",
          "data": {
            "text/plain": [
              "<IPython.core.display.HTML object>"
            ],
            "text/html": [
              "\n",
              "    <div>\n",
              "      \n",
              "      <progress value='264' max='264' style='width:300px; height:20px; vertical-align: middle;'></progress>\n",
              "      [264/264 21:42, Epoch 3/4]\n",
              "    </div>\n",
              "    <table border=\"1\" class=\"dataframe\">\n",
              "  <thead>\n",
              " <tr style=\"text-align: left;\">\n",
              "      <th>Epoch</th>\n",
              "      <th>Training Loss</th>\n",
              "      <th>Validation Loss</th>\n",
              "      <th>Accuracy</th>\n",
              "    </tr>\n",
              "  </thead>\n",
              "  <tbody>\n",
              "    <tr>\n",
              "      <td>0</td>\n",
              "      <td>0.293500</td>\n",
              "      <td>0.139610</td>\n",
              "      <td>0.970848</td>\n",
              "    </tr>\n",
              "    <tr>\n",
              "      <td>2</td>\n",
              "      <td>0.315600</td>\n",
              "      <td>0.128505</td>\n",
              "      <td>0.971749</td>\n",
              "    </tr>\n",
              "    <tr>\n",
              "      <td>2</td>\n",
              "      <td>0.239100</td>\n",
              "      <td>0.122127</td>\n",
              "      <td>0.973853</td>\n",
              "    </tr>\n",
              "    <tr>\n",
              "      <td>3</td>\n",
              "      <td>0.238500</td>\n",
              "      <td>0.115019</td>\n",
              "      <td>0.974855</td>\n",
              "    </tr>\n",
              "  </tbody>\n",
              "</table><p>"
            ]
          },
          "metadata": {}
        },
        {
          "output_type": "stream",
          "name": "stderr",
          "text": [
            "\u001b[32m[I 2023-04-08 07:06:43,918]\u001b[0m Trial 2 finished with value: 0.9748547385293528 and parameters: {'learning_rate': 4.004847437824489e-05, 'num_train_epochs': 4, 'seed': 3, 'per_device_train_batch_size': 32}. Best is trial 0 with value: 0.9762572630735323.\u001b[0m\n",
            "/usr/local/lib/python3.9/dist-packages/transformers/optimization.py:391: FutureWarning: This implementation of AdamW is deprecated and will be removed in a future version. Use the PyTorch implementation torch.optim.AdamW instead, or set `no_deprecation_warning=True` to disable this warning\n",
            "  warnings.warn(\n"
          ]
        },
        {
          "output_type": "display_data",
          "data": {
            "text/plain": [
              "<IPython.core.display.HTML object>"
            ],
            "text/html": [
              "\n",
              "    <div>\n",
              "      \n",
              "      <progress value='99' max='99' style='width:300px; height:20px; vertical-align: middle;'></progress>\n",
              "      [99/99 16:06, Epoch 2/3]\n",
              "    </div>\n",
              "    <table border=\"1\" class=\"dataframe\">\n",
              "  <thead>\n",
              " <tr style=\"text-align: left;\">\n",
              "      <th>Epoch</th>\n",
              "      <th>Training Loss</th>\n",
              "      <th>Validation Loss</th>\n",
              "      <th>Accuracy</th>\n",
              "    </tr>\n",
              "  </thead>\n",
              "  <tbody>\n",
              "    <tr>\n",
              "      <td>0</td>\n",
              "      <td>0.263500</td>\n",
              "      <td>0.117007</td>\n",
              "      <td>0.976157</td>\n",
              "    </tr>\n",
              "    <tr>\n",
              "      <td>1</td>\n",
              "      <td>0.264300</td>\n",
              "      <td>0.118224</td>\n",
              "      <td>0.975656</td>\n",
              "    </tr>\n",
              "    <tr>\n",
              "      <td>2</td>\n",
              "      <td>0.229400</td>\n",
              "      <td>0.115441</td>\n",
              "      <td>0.976157</td>\n",
              "    </tr>\n",
              "  </tbody>\n",
              "</table><p>"
            ]
          },
          "metadata": {}
        },
        {
          "output_type": "stream",
          "name": "stderr",
          "text": [
            "\u001b[32m[I 2023-04-08 07:22:58,349]\u001b[0m Trial 3 finished with value: 0.9761570827489481 and parameters: {'learning_rate': 1.2540189656189935e-05, 'num_train_epochs': 3, 'seed': 31, 'per_device_train_batch_size': 64}. Best is trial 0 with value: 0.9762572630735323.\u001b[0m\n",
            "/usr/local/lib/python3.9/dist-packages/transformers/optimization.py:391: FutureWarning: This implementation of AdamW is deprecated and will be removed in a future version. Use the PyTorch implementation torch.optim.AdamW instead, or set `no_deprecation_warning=True` to disable this warning\n",
            "  warnings.warn(\n"
          ]
        },
        {
          "output_type": "display_data",
          "data": {
            "text/plain": [
              "<IPython.core.display.HTML object>"
            ],
            "text/html": [
              "\n",
              "    <div>\n",
              "      \n",
              "      <progress value='1060' max='1060' style='width:300px; height:20px; vertical-align: middle;'></progress>\n",
              "      [1060/1060 13:06, Epoch 1/2]\n",
              "    </div>\n",
              "    <table border=\"1\" class=\"dataframe\">\n",
              "  <thead>\n",
              " <tr style=\"text-align: left;\">\n",
              "      <th>Epoch</th>\n",
              "      <th>Training Loss</th>\n",
              "      <th>Validation Loss</th>\n",
              "      <th>Accuracy</th>\n",
              "    </tr>\n",
              "  </thead>\n",
              "  <tbody>\n",
              "    <tr>\n",
              "      <td>0</td>\n",
              "      <td>0.261200</td>\n",
              "      <td>0.153309</td>\n",
              "      <td>0.967141</td>\n",
              "    </tr>\n",
              "    <tr>\n",
              "      <td>1</td>\n",
              "      <td>0.410600</td>\n",
              "      <td>0.134150</td>\n",
              "      <td>0.971549</td>\n",
              "    </tr>\n",
              "  </tbody>\n",
              "</table><p>"
            ]
          },
          "metadata": {}
        },
        {
          "output_type": "stream",
          "name": "stderr",
          "text": [
            "\u001b[32m[I 2023-04-08 07:36:08,663]\u001b[0m Trial 4 finished with value: 0.9715487878180725 and parameters: {'learning_rate': 2.370632715273021e-05, 'num_train_epochs': 2, 'seed': 2, 'per_device_train_batch_size': 4}. Best is trial 0 with value: 0.9762572630735323.\u001b[0m\n",
            "/usr/local/lib/python3.9/dist-packages/transformers/optimization.py:391: FutureWarning: This implementation of AdamW is deprecated and will be removed in a future version. Use the PyTorch implementation torch.optim.AdamW instead, or set `no_deprecation_warning=True` to disable this warning\n",
            "  warnings.warn(\n"
          ]
        },
        {
          "output_type": "display_data",
          "data": {
            "text/plain": [
              "<IPython.core.display.HTML object>"
            ],
            "text/html": [
              "\n",
              "    <div>\n",
              "      \n",
              "      <progress value='528' max='528' style='width:300px; height:20px; vertical-align: middle;'></progress>\n",
              "      [528/528 22:25, Epoch 3/4]\n",
              "    </div>\n",
              "    <table border=\"1\" class=\"dataframe\">\n",
              "  <thead>\n",
              " <tr style=\"text-align: left;\">\n",
              "      <th>Epoch</th>\n",
              "      <th>Training Loss</th>\n",
              "      <th>Validation Loss</th>\n",
              "      <th>Accuracy</th>\n",
              "    </tr>\n",
              "  </thead>\n",
              "  <tbody>\n",
              "    <tr>\n",
              "      <td>0</td>\n",
              "      <td>0.226100</td>\n",
              "      <td>0.115209</td>\n",
              "      <td>0.976157</td>\n",
              "    </tr>\n",
              "    <tr>\n",
              "      <td>1</td>\n",
              "      <td>0.251000</td>\n",
              "      <td>0.114663</td>\n",
              "      <td>0.976458</td>\n",
              "    </tr>\n",
              "    <tr>\n",
              "      <td>2</td>\n",
              "      <td>0.252000</td>\n",
              "      <td>0.114273</td>\n",
              "      <td>0.976357</td>\n",
              "    </tr>\n",
              "    <tr>\n",
              "      <td>3</td>\n",
              "      <td>0.242700</td>\n",
              "      <td>0.114250</td>\n",
              "      <td>0.976357</td>\n",
              "    </tr>\n",
              "  </tbody>\n",
              "</table><p>"
            ]
          },
          "metadata": {}
        },
        {
          "output_type": "stream",
          "name": "stderr",
          "text": [
            "\u001b[32m[I 2023-04-08 07:58:39,139]\u001b[0m Trial 5 finished with value: 0.9763574433981166 and parameters: {'learning_rate': 1.6771732346821077e-06, 'num_train_epochs': 4, 'seed': 25, 'per_device_train_batch_size': 16}. Best is trial 5 with value: 0.9763574433981166.\u001b[0m\n",
            "/usr/local/lib/python3.9/dist-packages/transformers/optimization.py:391: FutureWarning: This implementation of AdamW is deprecated and will be removed in a future version. Use the PyTorch implementation torch.optim.AdamW instead, or set `no_deprecation_warning=True` to disable this warning\n",
            "  warnings.warn(\n"
          ]
        },
        {
          "output_type": "display_data",
          "data": {
            "text/plain": [
              "<IPython.core.display.HTML object>"
            ],
            "text/html": [
              "\n",
              "    <div>\n",
              "      \n",
              "      <progress value='531' max='2650' style='width:300px; height:20px; vertical-align: middle;'></progress>\n",
              "      [ 531/2650 04:02 < 16:10, 2.18 it/s, Epoch 1.00/5]\n",
              "    </div>\n",
              "    <table border=\"1\" class=\"dataframe\">\n",
              "  <thead>\n",
              " <tr style=\"text-align: left;\">\n",
              "      <th>Epoch</th>\n",
              "      <th>Training Loss</th>\n",
              "      <th>Validation Loss</th>\n",
              "    </tr>\n",
              "  </thead>\n",
              "  <tbody>\n",
              "  </tbody>\n",
              "</table><p>\n",
              "    <div>\n",
              "      \n",
              "      <progress value='266' max='312' style='width:300px; height:20px; vertical-align: middle;'></progress>\n",
              "      [266/312 01:40 < 00:17, 2.65 it/s]\n",
              "    </div>\n",
              "    "
            ]
          },
          "metadata": {}
        }
      ],
      "source": [
        "best_run = trainer.hyperparameter_search(n_trials=10, direction=\"maximize\")"
      ]
    },
    {
      "cell_type": "code",
      "execution_count": null,
      "metadata": {
        "id": "3_fxajmux6Bi"
      },
      "outputs": [],
      "source": [
        "best_run"
      ]
    },
    {
      "cell_type": "code",
      "execution_count": null,
      "metadata": {
        "id": "s8RK55TMx8An"
      },
      "outputs": [],
      "source": [
        "for n, v in best_run.hyperparameters.items():\n",
        "    setattr(trainer.args, n, v)\n",
        "\n",
        "trainer.train()"
      ]
    }
  ],
  "metadata": {
    "accelerator": "GPU",
    "colab": {
      "provenance": []
    },
    "gpuClass": "standard",
    "kernelspec": {
      "display_name": "Python 3 (ipykernel)",
      "language": "python",
      "name": "python3"
    },
    "language_info": {
      "codemirror_mode": {
        "name": "ipython",
        "version": 3
      },
      "file_extension": ".py",
      "mimetype": "text/x-python",
      "name": "python",
      "nbconvert_exporter": "python",
      "pygments_lexer": "ipython3",
      "version": "3.10.8"
    },
    "widgets": {
      "application/vnd.jupyter.widget-state+json": {
        "5ce494dd7b744f618359554491d2e10f": {
          "model_module": "@jupyter-widgets/controls",
          "model_name": "VBoxModel",
          "model_module_version": "1.5.0",
          "state": {
            "_dom_classes": [],
            "_model_module": "@jupyter-widgets/controls",
            "_model_module_version": "1.5.0",
            "_model_name": "VBoxModel",
            "_view_count": null,
            "_view_module": "@jupyter-widgets/controls",
            "_view_module_version": "1.5.0",
            "_view_name": "VBoxView",
            "box_style": "",
            "children": [
              "IPY_MODEL_4c99e17bd69e42118575e9dcaa4f648d",
              "IPY_MODEL_cf140d6957ec4b01a679917c2ff56479",
              "IPY_MODEL_892a8faafe114174836977f27bbf68d5",
              "IPY_MODEL_e31eee8edd4e41c9b481e3cac7a43e7e",
              "IPY_MODEL_dd7b61118095415ca729fece2b65345c"
            ],
            "layout": "IPY_MODEL_8912a4553e6a4504a9504c0f7cfef596"
          }
        },
        "4c99e17bd69e42118575e9dcaa4f648d": {
          "model_module": "@jupyter-widgets/controls",
          "model_name": "HTMLModel",
          "model_module_version": "1.5.0",
          "state": {
            "_dom_classes": [],
            "_model_module": "@jupyter-widgets/controls",
            "_model_module_version": "1.5.0",
            "_model_name": "HTMLModel",
            "_view_count": null,
            "_view_module": "@jupyter-widgets/controls",
            "_view_module_version": "1.5.0",
            "_view_name": "HTMLView",
            "description": "",
            "description_tooltip": null,
            "layout": "IPY_MODEL_ad84ae97b6684041b546dc66fc15b1ae",
            "placeholder": "​",
            "style": "IPY_MODEL_74b6d33f87f447abbbd60bb9275ce930",
            "value": "<center> <img\nsrc=https://huggingface.co/front/assets/huggingface_logo-noborder.svg\nalt='Hugging Face'> <br> Copy a token from <a\nhref=\"https://huggingface.co/settings/tokens\" target=\"_blank\">your Hugging Face\ntokens page</a> and paste it below. <br> Immediately click login after copying\nyour token or it might be stored in plain text in this notebook file. </center>"
          }
        },
        "cf140d6957ec4b01a679917c2ff56479": {
          "model_module": "@jupyter-widgets/controls",
          "model_name": "PasswordModel",
          "model_module_version": "1.5.0",
          "state": {
            "_dom_classes": [],
            "_model_module": "@jupyter-widgets/controls",
            "_model_module_version": "1.5.0",
            "_model_name": "PasswordModel",
            "_view_count": null,
            "_view_module": "@jupyter-widgets/controls",
            "_view_module_version": "1.5.0",
            "_view_name": "PasswordView",
            "continuous_update": true,
            "description": "Token:",
            "description_tooltip": null,
            "disabled": false,
            "layout": "IPY_MODEL_d14b8ab21e8d4bdc971d216cb1043683",
            "placeholder": "​",
            "style": "IPY_MODEL_356c930cef9449ea9a481577ee1e65d9",
            "value": ""
          }
        },
        "892a8faafe114174836977f27bbf68d5": {
          "model_module": "@jupyter-widgets/controls",
          "model_name": "CheckboxModel",
          "model_module_version": "1.5.0",
          "state": {
            "_dom_classes": [],
            "_model_module": "@jupyter-widgets/controls",
            "_model_module_version": "1.5.0",
            "_model_name": "CheckboxModel",
            "_view_count": null,
            "_view_module": "@jupyter-widgets/controls",
            "_view_module_version": "1.5.0",
            "_view_name": "CheckboxView",
            "description": "Add token as git credential?",
            "description_tooltip": null,
            "disabled": false,
            "indent": true,
            "layout": "IPY_MODEL_00b82328a0a94caa81aa8b37203a4e94",
            "style": "IPY_MODEL_b9e4f65595bd4052bd2ea2339ecd48da",
            "value": true
          }
        },
        "e31eee8edd4e41c9b481e3cac7a43e7e": {
          "model_module": "@jupyter-widgets/controls",
          "model_name": "ButtonModel",
          "model_module_version": "1.5.0",
          "state": {
            "_dom_classes": [],
            "_model_module": "@jupyter-widgets/controls",
            "_model_module_version": "1.5.0",
            "_model_name": "ButtonModel",
            "_view_count": null,
            "_view_module": "@jupyter-widgets/controls",
            "_view_module_version": "1.5.0",
            "_view_name": "ButtonView",
            "button_style": "",
            "description": "Login",
            "disabled": false,
            "icon": "",
            "layout": "IPY_MODEL_a93b30b94cde423a81d26b4dd0f2f854",
            "style": "IPY_MODEL_46c438a0c5694a728e509f5565d2cb2a",
            "tooltip": ""
          }
        },
        "dd7b61118095415ca729fece2b65345c": {
          "model_module": "@jupyter-widgets/controls",
          "model_name": "HTMLModel",
          "model_module_version": "1.5.0",
          "state": {
            "_dom_classes": [],
            "_model_module": "@jupyter-widgets/controls",
            "_model_module_version": "1.5.0",
            "_model_name": "HTMLModel",
            "_view_count": null,
            "_view_module": "@jupyter-widgets/controls",
            "_view_module_version": "1.5.0",
            "_view_name": "HTMLView",
            "description": "",
            "description_tooltip": null,
            "layout": "IPY_MODEL_689953229aa64ca1a500c6de3ec982a3",
            "placeholder": "​",
            "style": "IPY_MODEL_e9437d2d2bb44d799b08f851c1ec4d29",
            "value": "\n<b>Pro Tip:</b> If you don't already have one, you can create a dedicated\n'notebooks' token with 'write' access, that you can then easily reuse for all\nnotebooks. </center>"
          }
        },
        "8912a4553e6a4504a9504c0f7cfef596": {
          "model_module": "@jupyter-widgets/base",
          "model_name": "LayoutModel",
          "model_module_version": "1.2.0",
          "state": {
            "_model_module": "@jupyter-widgets/base",
            "_model_module_version": "1.2.0",
            "_model_name": "LayoutModel",
            "_view_count": null,
            "_view_module": "@jupyter-widgets/base",
            "_view_module_version": "1.2.0",
            "_view_name": "LayoutView",
            "align_content": null,
            "align_items": "center",
            "align_self": null,
            "border": null,
            "bottom": null,
            "display": "flex",
            "flex": null,
            "flex_flow": "column",
            "grid_area": null,
            "grid_auto_columns": null,
            "grid_auto_flow": null,
            "grid_auto_rows": null,
            "grid_column": null,
            "grid_gap": null,
            "grid_row": null,
            "grid_template_areas": null,
            "grid_template_columns": null,
            "grid_template_rows": null,
            "height": null,
            "justify_content": null,
            "justify_items": null,
            "left": null,
            "margin": null,
            "max_height": null,
            "max_width": null,
            "min_height": null,
            "min_width": null,
            "object_fit": null,
            "object_position": null,
            "order": null,
            "overflow": null,
            "overflow_x": null,
            "overflow_y": null,
            "padding": null,
            "right": null,
            "top": null,
            "visibility": null,
            "width": "50%"
          }
        },
        "ad84ae97b6684041b546dc66fc15b1ae": {
          "model_module": "@jupyter-widgets/base",
          "model_name": "LayoutModel",
          "model_module_version": "1.2.0",
          "state": {
            "_model_module": "@jupyter-widgets/base",
            "_model_module_version": "1.2.0",
            "_model_name": "LayoutModel",
            "_view_count": null,
            "_view_module": "@jupyter-widgets/base",
            "_view_module_version": "1.2.0",
            "_view_name": "LayoutView",
            "align_content": null,
            "align_items": null,
            "align_self": null,
            "border": null,
            "bottom": null,
            "display": null,
            "flex": null,
            "flex_flow": null,
            "grid_area": null,
            "grid_auto_columns": null,
            "grid_auto_flow": null,
            "grid_auto_rows": null,
            "grid_column": null,
            "grid_gap": null,
            "grid_row": null,
            "grid_template_areas": null,
            "grid_template_columns": null,
            "grid_template_rows": null,
            "height": null,
            "justify_content": null,
            "justify_items": null,
            "left": null,
            "margin": null,
            "max_height": null,
            "max_width": null,
            "min_height": null,
            "min_width": null,
            "object_fit": null,
            "object_position": null,
            "order": null,
            "overflow": null,
            "overflow_x": null,
            "overflow_y": null,
            "padding": null,
            "right": null,
            "top": null,
            "visibility": null,
            "width": null
          }
        },
        "74b6d33f87f447abbbd60bb9275ce930": {
          "model_module": "@jupyter-widgets/controls",
          "model_name": "DescriptionStyleModel",
          "model_module_version": "1.5.0",
          "state": {
            "_model_module": "@jupyter-widgets/controls",
            "_model_module_version": "1.5.0",
            "_model_name": "DescriptionStyleModel",
            "_view_count": null,
            "_view_module": "@jupyter-widgets/base",
            "_view_module_version": "1.2.0",
            "_view_name": "StyleView",
            "description_width": ""
          }
        },
        "d14b8ab21e8d4bdc971d216cb1043683": {
          "model_module": "@jupyter-widgets/base",
          "model_name": "LayoutModel",
          "model_module_version": "1.2.0",
          "state": {
            "_model_module": "@jupyter-widgets/base",
            "_model_module_version": "1.2.0",
            "_model_name": "LayoutModel",
            "_view_count": null,
            "_view_module": "@jupyter-widgets/base",
            "_view_module_version": "1.2.0",
            "_view_name": "LayoutView",
            "align_content": null,
            "align_items": null,
            "align_self": null,
            "border": null,
            "bottom": null,
            "display": null,
            "flex": null,
            "flex_flow": null,
            "grid_area": null,
            "grid_auto_columns": null,
            "grid_auto_flow": null,
            "grid_auto_rows": null,
            "grid_column": null,
            "grid_gap": null,
            "grid_row": null,
            "grid_template_areas": null,
            "grid_template_columns": null,
            "grid_template_rows": null,
            "height": null,
            "justify_content": null,
            "justify_items": null,
            "left": null,
            "margin": null,
            "max_height": null,
            "max_width": null,
            "min_height": null,
            "min_width": null,
            "object_fit": null,
            "object_position": null,
            "order": null,
            "overflow": null,
            "overflow_x": null,
            "overflow_y": null,
            "padding": null,
            "right": null,
            "top": null,
            "visibility": null,
            "width": null
          }
        },
        "356c930cef9449ea9a481577ee1e65d9": {
          "model_module": "@jupyter-widgets/controls",
          "model_name": "DescriptionStyleModel",
          "model_module_version": "1.5.0",
          "state": {
            "_model_module": "@jupyter-widgets/controls",
            "_model_module_version": "1.5.0",
            "_model_name": "DescriptionStyleModel",
            "_view_count": null,
            "_view_module": "@jupyter-widgets/base",
            "_view_module_version": "1.2.0",
            "_view_name": "StyleView",
            "description_width": ""
          }
        },
        "00b82328a0a94caa81aa8b37203a4e94": {
          "model_module": "@jupyter-widgets/base",
          "model_name": "LayoutModel",
          "model_module_version": "1.2.0",
          "state": {
            "_model_module": "@jupyter-widgets/base",
            "_model_module_version": "1.2.0",
            "_model_name": "LayoutModel",
            "_view_count": null,
            "_view_module": "@jupyter-widgets/base",
            "_view_module_version": "1.2.0",
            "_view_name": "LayoutView",
            "align_content": null,
            "align_items": null,
            "align_self": null,
            "border": null,
            "bottom": null,
            "display": null,
            "flex": null,
            "flex_flow": null,
            "grid_area": null,
            "grid_auto_columns": null,
            "grid_auto_flow": null,
            "grid_auto_rows": null,
            "grid_column": null,
            "grid_gap": null,
            "grid_row": null,
            "grid_template_areas": null,
            "grid_template_columns": null,
            "grid_template_rows": null,
            "height": null,
            "justify_content": null,
            "justify_items": null,
            "left": null,
            "margin": null,
            "max_height": null,
            "max_width": null,
            "min_height": null,
            "min_width": null,
            "object_fit": null,
            "object_position": null,
            "order": null,
            "overflow": null,
            "overflow_x": null,
            "overflow_y": null,
            "padding": null,
            "right": null,
            "top": null,
            "visibility": null,
            "width": null
          }
        },
        "b9e4f65595bd4052bd2ea2339ecd48da": {
          "model_module": "@jupyter-widgets/controls",
          "model_name": "DescriptionStyleModel",
          "model_module_version": "1.5.0",
          "state": {
            "_model_module": "@jupyter-widgets/controls",
            "_model_module_version": "1.5.0",
            "_model_name": "DescriptionStyleModel",
            "_view_count": null,
            "_view_module": "@jupyter-widgets/base",
            "_view_module_version": "1.2.0",
            "_view_name": "StyleView",
            "description_width": ""
          }
        },
        "a93b30b94cde423a81d26b4dd0f2f854": {
          "model_module": "@jupyter-widgets/base",
          "model_name": "LayoutModel",
          "model_module_version": "1.2.0",
          "state": {
            "_model_module": "@jupyter-widgets/base",
            "_model_module_version": "1.2.0",
            "_model_name": "LayoutModel",
            "_view_count": null,
            "_view_module": "@jupyter-widgets/base",
            "_view_module_version": "1.2.0",
            "_view_name": "LayoutView",
            "align_content": null,
            "align_items": null,
            "align_self": null,
            "border": null,
            "bottom": null,
            "display": null,
            "flex": null,
            "flex_flow": null,
            "grid_area": null,
            "grid_auto_columns": null,
            "grid_auto_flow": null,
            "grid_auto_rows": null,
            "grid_column": null,
            "grid_gap": null,
            "grid_row": null,
            "grid_template_areas": null,
            "grid_template_columns": null,
            "grid_template_rows": null,
            "height": null,
            "justify_content": null,
            "justify_items": null,
            "left": null,
            "margin": null,
            "max_height": null,
            "max_width": null,
            "min_height": null,
            "min_width": null,
            "object_fit": null,
            "object_position": null,
            "order": null,
            "overflow": null,
            "overflow_x": null,
            "overflow_y": null,
            "padding": null,
            "right": null,
            "top": null,
            "visibility": null,
            "width": null
          }
        },
        "46c438a0c5694a728e509f5565d2cb2a": {
          "model_module": "@jupyter-widgets/controls",
          "model_name": "ButtonStyleModel",
          "model_module_version": "1.5.0",
          "state": {
            "_model_module": "@jupyter-widgets/controls",
            "_model_module_version": "1.5.0",
            "_model_name": "ButtonStyleModel",
            "_view_count": null,
            "_view_module": "@jupyter-widgets/base",
            "_view_module_version": "1.2.0",
            "_view_name": "StyleView",
            "button_color": null,
            "font_weight": ""
          }
        },
        "689953229aa64ca1a500c6de3ec982a3": {
          "model_module": "@jupyter-widgets/base",
          "model_name": "LayoutModel",
          "model_module_version": "1.2.0",
          "state": {
            "_model_module": "@jupyter-widgets/base",
            "_model_module_version": "1.2.0",
            "_model_name": "LayoutModel",
            "_view_count": null,
            "_view_module": "@jupyter-widgets/base",
            "_view_module_version": "1.2.0",
            "_view_name": "LayoutView",
            "align_content": null,
            "align_items": null,
            "align_self": null,
            "border": null,
            "bottom": null,
            "display": null,
            "flex": null,
            "flex_flow": null,
            "grid_area": null,
            "grid_auto_columns": null,
            "grid_auto_flow": null,
            "grid_auto_rows": null,
            "grid_column": null,
            "grid_gap": null,
            "grid_row": null,
            "grid_template_areas": null,
            "grid_template_columns": null,
            "grid_template_rows": null,
            "height": null,
            "justify_content": null,
            "justify_items": null,
            "left": null,
            "margin": null,
            "max_height": null,
            "max_width": null,
            "min_height": null,
            "min_width": null,
            "object_fit": null,
            "object_position": null,
            "order": null,
            "overflow": null,
            "overflow_x": null,
            "overflow_y": null,
            "padding": null,
            "right": null,
            "top": null,
            "visibility": null,
            "width": null
          }
        },
        "e9437d2d2bb44d799b08f851c1ec4d29": {
          "model_module": "@jupyter-widgets/controls",
          "model_name": "DescriptionStyleModel",
          "model_module_version": "1.5.0",
          "state": {
            "_model_module": "@jupyter-widgets/controls",
            "_model_module_version": "1.5.0",
            "_model_name": "DescriptionStyleModel",
            "_view_count": null,
            "_view_module": "@jupyter-widgets/base",
            "_view_module_version": "1.2.0",
            "_view_name": "StyleView",
            "description_width": ""
          }
        },
        "2fc8a9767f0b452c8c48f6f0a835c4c5": {
          "model_module": "@jupyter-widgets/controls",
          "model_name": "HBoxModel",
          "model_module_version": "1.5.0",
          "state": {
            "_dom_classes": [],
            "_model_module": "@jupyter-widgets/controls",
            "_model_module_version": "1.5.0",
            "_model_name": "HBoxModel",
            "_view_count": null,
            "_view_module": "@jupyter-widgets/controls",
            "_view_module_version": "1.5.0",
            "_view_name": "HBoxView",
            "box_style": "",
            "children": [
              "IPY_MODEL_40bdb76c65854fc480995260a8475b8f",
              "IPY_MODEL_3d8e35398fb841f9a7d1264a20134258",
              "IPY_MODEL_1e6febcbde5e4574b4c8846e39339af2"
            ],
            "layout": "IPY_MODEL_8302ab2ba8e440998ac2155a64097a82"
          }
        },
        "40bdb76c65854fc480995260a8475b8f": {
          "model_module": "@jupyter-widgets/controls",
          "model_name": "HTMLModel",
          "model_module_version": "1.5.0",
          "state": {
            "_dom_classes": [],
            "_model_module": "@jupyter-widgets/controls",
            "_model_module_version": "1.5.0",
            "_model_name": "HTMLModel",
            "_view_count": null,
            "_view_module": "@jupyter-widgets/controls",
            "_view_module_version": "1.5.0",
            "_view_name": "HTMLView",
            "description": "",
            "description_tooltip": null,
            "layout": "IPY_MODEL_0759df4197444ed58d2c2f703cd5a798",
            "placeholder": "​",
            "style": "IPY_MODEL_320448fc169e46fa88e00948301998f3",
            "value": "Downloading builder script: 100%"
          }
        },
        "3d8e35398fb841f9a7d1264a20134258": {
          "model_module": "@jupyter-widgets/controls",
          "model_name": "FloatProgressModel",
          "model_module_version": "1.5.0",
          "state": {
            "_dom_classes": [],
            "_model_module": "@jupyter-widgets/controls",
            "_model_module_version": "1.5.0",
            "_model_name": "FloatProgressModel",
            "_view_count": null,
            "_view_module": "@jupyter-widgets/controls",
            "_view_module_version": "1.5.0",
            "_view_name": "ProgressView",
            "bar_style": "success",
            "description": "",
            "description_tooltip": null,
            "layout": "IPY_MODEL_13f5b209e36e424ab68a379498ab9b20",
            "max": 7312,
            "min": 0,
            "orientation": "horizontal",
            "style": "IPY_MODEL_a974dd4b4f8b48418c9a16999435f699",
            "value": 7312
          }
        },
        "1e6febcbde5e4574b4c8846e39339af2": {
          "model_module": "@jupyter-widgets/controls",
          "model_name": "HTMLModel",
          "model_module_version": "1.5.0",
          "state": {
            "_dom_classes": [],
            "_model_module": "@jupyter-widgets/controls",
            "_model_module_version": "1.5.0",
            "_model_name": "HTMLModel",
            "_view_count": null,
            "_view_module": "@jupyter-widgets/controls",
            "_view_module_version": "1.5.0",
            "_view_name": "HTMLView",
            "description": "",
            "description_tooltip": null,
            "layout": "IPY_MODEL_05f72c23023547d8a0afe4eca18b71a2",
            "placeholder": "​",
            "style": "IPY_MODEL_91f69288b6b24eb38174af65a0b9e3af",
            "value": " 7.31k/7.31k [00:00&lt;00:00, 243kB/s]"
          }
        },
        "8302ab2ba8e440998ac2155a64097a82": {
          "model_module": "@jupyter-widgets/base",
          "model_name": "LayoutModel",
          "model_module_version": "1.2.0",
          "state": {
            "_model_module": "@jupyter-widgets/base",
            "_model_module_version": "1.2.0",
            "_model_name": "LayoutModel",
            "_view_count": null,
            "_view_module": "@jupyter-widgets/base",
            "_view_module_version": "1.2.0",
            "_view_name": "LayoutView",
            "align_content": null,
            "align_items": null,
            "align_self": null,
            "border": null,
            "bottom": null,
            "display": null,
            "flex": null,
            "flex_flow": null,
            "grid_area": null,
            "grid_auto_columns": null,
            "grid_auto_flow": null,
            "grid_auto_rows": null,
            "grid_column": null,
            "grid_gap": null,
            "grid_row": null,
            "grid_template_areas": null,
            "grid_template_columns": null,
            "grid_template_rows": null,
            "height": null,
            "justify_content": null,
            "justify_items": null,
            "left": null,
            "margin": null,
            "max_height": null,
            "max_width": null,
            "min_height": null,
            "min_width": null,
            "object_fit": null,
            "object_position": null,
            "order": null,
            "overflow": null,
            "overflow_x": null,
            "overflow_y": null,
            "padding": null,
            "right": null,
            "top": null,
            "visibility": null,
            "width": null
          }
        },
        "0759df4197444ed58d2c2f703cd5a798": {
          "model_module": "@jupyter-widgets/base",
          "model_name": "LayoutModel",
          "model_module_version": "1.2.0",
          "state": {
            "_model_module": "@jupyter-widgets/base",
            "_model_module_version": "1.2.0",
            "_model_name": "LayoutModel",
            "_view_count": null,
            "_view_module": "@jupyter-widgets/base",
            "_view_module_version": "1.2.0",
            "_view_name": "LayoutView",
            "align_content": null,
            "align_items": null,
            "align_self": null,
            "border": null,
            "bottom": null,
            "display": null,
            "flex": null,
            "flex_flow": null,
            "grid_area": null,
            "grid_auto_columns": null,
            "grid_auto_flow": null,
            "grid_auto_rows": null,
            "grid_column": null,
            "grid_gap": null,
            "grid_row": null,
            "grid_template_areas": null,
            "grid_template_columns": null,
            "grid_template_rows": null,
            "height": null,
            "justify_content": null,
            "justify_items": null,
            "left": null,
            "margin": null,
            "max_height": null,
            "max_width": null,
            "min_height": null,
            "min_width": null,
            "object_fit": null,
            "object_position": null,
            "order": null,
            "overflow": null,
            "overflow_x": null,
            "overflow_y": null,
            "padding": null,
            "right": null,
            "top": null,
            "visibility": null,
            "width": null
          }
        },
        "320448fc169e46fa88e00948301998f3": {
          "model_module": "@jupyter-widgets/controls",
          "model_name": "DescriptionStyleModel",
          "model_module_version": "1.5.0",
          "state": {
            "_model_module": "@jupyter-widgets/controls",
            "_model_module_version": "1.5.0",
            "_model_name": "DescriptionStyleModel",
            "_view_count": null,
            "_view_module": "@jupyter-widgets/base",
            "_view_module_version": "1.2.0",
            "_view_name": "StyleView",
            "description_width": ""
          }
        },
        "13f5b209e36e424ab68a379498ab9b20": {
          "model_module": "@jupyter-widgets/base",
          "model_name": "LayoutModel",
          "model_module_version": "1.2.0",
          "state": {
            "_model_module": "@jupyter-widgets/base",
            "_model_module_version": "1.2.0",
            "_model_name": "LayoutModel",
            "_view_count": null,
            "_view_module": "@jupyter-widgets/base",
            "_view_module_version": "1.2.0",
            "_view_name": "LayoutView",
            "align_content": null,
            "align_items": null,
            "align_self": null,
            "border": null,
            "bottom": null,
            "display": null,
            "flex": null,
            "flex_flow": null,
            "grid_area": null,
            "grid_auto_columns": null,
            "grid_auto_flow": null,
            "grid_auto_rows": null,
            "grid_column": null,
            "grid_gap": null,
            "grid_row": null,
            "grid_template_areas": null,
            "grid_template_columns": null,
            "grid_template_rows": null,
            "height": null,
            "justify_content": null,
            "justify_items": null,
            "left": null,
            "margin": null,
            "max_height": null,
            "max_width": null,
            "min_height": null,
            "min_width": null,
            "object_fit": null,
            "object_position": null,
            "order": null,
            "overflow": null,
            "overflow_x": null,
            "overflow_y": null,
            "padding": null,
            "right": null,
            "top": null,
            "visibility": null,
            "width": null
          }
        },
        "a974dd4b4f8b48418c9a16999435f699": {
          "model_module": "@jupyter-widgets/controls",
          "model_name": "ProgressStyleModel",
          "model_module_version": "1.5.0",
          "state": {
            "_model_module": "@jupyter-widgets/controls",
            "_model_module_version": "1.5.0",
            "_model_name": "ProgressStyleModel",
            "_view_count": null,
            "_view_module": "@jupyter-widgets/base",
            "_view_module_version": "1.2.0",
            "_view_name": "StyleView",
            "bar_color": null,
            "description_width": ""
          }
        },
        "05f72c23023547d8a0afe4eca18b71a2": {
          "model_module": "@jupyter-widgets/base",
          "model_name": "LayoutModel",
          "model_module_version": "1.2.0",
          "state": {
            "_model_module": "@jupyter-widgets/base",
            "_model_module_version": "1.2.0",
            "_model_name": "LayoutModel",
            "_view_count": null,
            "_view_module": "@jupyter-widgets/base",
            "_view_module_version": "1.2.0",
            "_view_name": "LayoutView",
            "align_content": null,
            "align_items": null,
            "align_self": null,
            "border": null,
            "bottom": null,
            "display": null,
            "flex": null,
            "flex_flow": null,
            "grid_area": null,
            "grid_auto_columns": null,
            "grid_auto_flow": null,
            "grid_auto_rows": null,
            "grid_column": null,
            "grid_gap": null,
            "grid_row": null,
            "grid_template_areas": null,
            "grid_template_columns": null,
            "grid_template_rows": null,
            "height": null,
            "justify_content": null,
            "justify_items": null,
            "left": null,
            "margin": null,
            "max_height": null,
            "max_width": null,
            "min_height": null,
            "min_width": null,
            "object_fit": null,
            "object_position": null,
            "order": null,
            "overflow": null,
            "overflow_x": null,
            "overflow_y": null,
            "padding": null,
            "right": null,
            "top": null,
            "visibility": null,
            "width": null
          }
        },
        "91f69288b6b24eb38174af65a0b9e3af": {
          "model_module": "@jupyter-widgets/controls",
          "model_name": "DescriptionStyleModel",
          "model_module_version": "1.5.0",
          "state": {
            "_model_module": "@jupyter-widgets/controls",
            "_model_module_version": "1.5.0",
            "_model_name": "DescriptionStyleModel",
            "_view_count": null,
            "_view_module": "@jupyter-widgets/base",
            "_view_module_version": "1.2.0",
            "_view_name": "StyleView",
            "description_width": ""
          }
        },
        "1e6ac0a63dbb41ea945af17e5be4baaa": {
          "model_module": "@jupyter-widgets/controls",
          "model_name": "HBoxModel",
          "model_module_version": "1.5.0",
          "state": {
            "_dom_classes": [],
            "_model_module": "@jupyter-widgets/controls",
            "_model_module_version": "1.5.0",
            "_model_name": "HBoxModel",
            "_view_count": null,
            "_view_module": "@jupyter-widgets/controls",
            "_view_module_version": "1.5.0",
            "_view_name": "HBoxView",
            "box_style": "",
            "children": [
              "IPY_MODEL_41d8586cb49d40479eb53cb50fdeeb7d",
              "IPY_MODEL_ddefc13bd9d34454a89ddf0987ded92e",
              "IPY_MODEL_f2a1817e01df4ffca910754ee6b8e0ea"
            ],
            "layout": "IPY_MODEL_241d5b9dc2b14ad39987d8d51d0c3d35"
          }
        },
        "41d8586cb49d40479eb53cb50fdeeb7d": {
          "model_module": "@jupyter-widgets/controls",
          "model_name": "HTMLModel",
          "model_module_version": "1.5.0",
          "state": {
            "_dom_classes": [],
            "_model_module": "@jupyter-widgets/controls",
            "_model_module_version": "1.5.0",
            "_model_name": "HTMLModel",
            "_view_count": null,
            "_view_module": "@jupyter-widgets/controls",
            "_view_module_version": "1.5.0",
            "_view_name": "HTMLView",
            "description": "",
            "description_tooltip": null,
            "layout": "IPY_MODEL_3f673b505f5547e1b44692c6009fc831",
            "placeholder": "​",
            "style": "IPY_MODEL_02cec6a3b42a4e2fac3f2e53891603ed",
            "value": "Downloading metadata: 100%"
          }
        },
        "ddefc13bd9d34454a89ddf0987ded92e": {
          "model_module": "@jupyter-widgets/controls",
          "model_name": "FloatProgressModel",
          "model_module_version": "1.5.0",
          "state": {
            "_dom_classes": [],
            "_model_module": "@jupyter-widgets/controls",
            "_model_module_version": "1.5.0",
            "_model_name": "FloatProgressModel",
            "_view_count": null,
            "_view_module": "@jupyter-widgets/controls",
            "_view_module_version": "1.5.0",
            "_view_name": "ProgressView",
            "bar_style": "success",
            "description": "",
            "description_tooltip": null,
            "layout": "IPY_MODEL_6a369c6c757a44e593e1351e00e5f5be",
            "max": 8343,
            "min": 0,
            "orientation": "horizontal",
            "style": "IPY_MODEL_754b18893c704833a206e7d1f204555b",
            "value": 8343
          }
        },
        "f2a1817e01df4ffca910754ee6b8e0ea": {
          "model_module": "@jupyter-widgets/controls",
          "model_name": "HTMLModel",
          "model_module_version": "1.5.0",
          "state": {
            "_dom_classes": [],
            "_model_module": "@jupyter-widgets/controls",
            "_model_module_version": "1.5.0",
            "_model_name": "HTMLModel",
            "_view_count": null,
            "_view_module": "@jupyter-widgets/controls",
            "_view_module_version": "1.5.0",
            "_view_name": "HTMLView",
            "description": "",
            "description_tooltip": null,
            "layout": "IPY_MODEL_e57bf26f629b43f4a5b65c39153d4ffa",
            "placeholder": "​",
            "style": "IPY_MODEL_0450d8af9f5044c4a8dd1d7a4e32ee43",
            "value": " 8.34k/8.34k [00:00&lt;00:00, 424kB/s]"
          }
        },
        "241d5b9dc2b14ad39987d8d51d0c3d35": {
          "model_module": "@jupyter-widgets/base",
          "model_name": "LayoutModel",
          "model_module_version": "1.2.0",
          "state": {
            "_model_module": "@jupyter-widgets/base",
            "_model_module_version": "1.2.0",
            "_model_name": "LayoutModel",
            "_view_count": null,
            "_view_module": "@jupyter-widgets/base",
            "_view_module_version": "1.2.0",
            "_view_name": "LayoutView",
            "align_content": null,
            "align_items": null,
            "align_self": null,
            "border": null,
            "bottom": null,
            "display": null,
            "flex": null,
            "flex_flow": null,
            "grid_area": null,
            "grid_auto_columns": null,
            "grid_auto_flow": null,
            "grid_auto_rows": null,
            "grid_column": null,
            "grid_gap": null,
            "grid_row": null,
            "grid_template_areas": null,
            "grid_template_columns": null,
            "grid_template_rows": null,
            "height": null,
            "justify_content": null,
            "justify_items": null,
            "left": null,
            "margin": null,
            "max_height": null,
            "max_width": null,
            "min_height": null,
            "min_width": null,
            "object_fit": null,
            "object_position": null,
            "order": null,
            "overflow": null,
            "overflow_x": null,
            "overflow_y": null,
            "padding": null,
            "right": null,
            "top": null,
            "visibility": null,
            "width": null
          }
        },
        "3f673b505f5547e1b44692c6009fc831": {
          "model_module": "@jupyter-widgets/base",
          "model_name": "LayoutModel",
          "model_module_version": "1.2.0",
          "state": {
            "_model_module": "@jupyter-widgets/base",
            "_model_module_version": "1.2.0",
            "_model_name": "LayoutModel",
            "_view_count": null,
            "_view_module": "@jupyter-widgets/base",
            "_view_module_version": "1.2.0",
            "_view_name": "LayoutView",
            "align_content": null,
            "align_items": null,
            "align_self": null,
            "border": null,
            "bottom": null,
            "display": null,
            "flex": null,
            "flex_flow": null,
            "grid_area": null,
            "grid_auto_columns": null,
            "grid_auto_flow": null,
            "grid_auto_rows": null,
            "grid_column": null,
            "grid_gap": null,
            "grid_row": null,
            "grid_template_areas": null,
            "grid_template_columns": null,
            "grid_template_rows": null,
            "height": null,
            "justify_content": null,
            "justify_items": null,
            "left": null,
            "margin": null,
            "max_height": null,
            "max_width": null,
            "min_height": null,
            "min_width": null,
            "object_fit": null,
            "object_position": null,
            "order": null,
            "overflow": null,
            "overflow_x": null,
            "overflow_y": null,
            "padding": null,
            "right": null,
            "top": null,
            "visibility": null,
            "width": null
          }
        },
        "02cec6a3b42a4e2fac3f2e53891603ed": {
          "model_module": "@jupyter-widgets/controls",
          "model_name": "DescriptionStyleModel",
          "model_module_version": "1.5.0",
          "state": {
            "_model_module": "@jupyter-widgets/controls",
            "_model_module_version": "1.5.0",
            "_model_name": "DescriptionStyleModel",
            "_view_count": null,
            "_view_module": "@jupyter-widgets/base",
            "_view_module_version": "1.2.0",
            "_view_name": "StyleView",
            "description_width": ""
          }
        },
        "6a369c6c757a44e593e1351e00e5f5be": {
          "model_module": "@jupyter-widgets/base",
          "model_name": "LayoutModel",
          "model_module_version": "1.2.0",
          "state": {
            "_model_module": "@jupyter-widgets/base",
            "_model_module_version": "1.2.0",
            "_model_name": "LayoutModel",
            "_view_count": null,
            "_view_module": "@jupyter-widgets/base",
            "_view_module_version": "1.2.0",
            "_view_name": "LayoutView",
            "align_content": null,
            "align_items": null,
            "align_self": null,
            "border": null,
            "bottom": null,
            "display": null,
            "flex": null,
            "flex_flow": null,
            "grid_area": null,
            "grid_auto_columns": null,
            "grid_auto_flow": null,
            "grid_auto_rows": null,
            "grid_column": null,
            "grid_gap": null,
            "grid_row": null,
            "grid_template_areas": null,
            "grid_template_columns": null,
            "grid_template_rows": null,
            "height": null,
            "justify_content": null,
            "justify_items": null,
            "left": null,
            "margin": null,
            "max_height": null,
            "max_width": null,
            "min_height": null,
            "min_width": null,
            "object_fit": null,
            "object_position": null,
            "order": null,
            "overflow": null,
            "overflow_x": null,
            "overflow_y": null,
            "padding": null,
            "right": null,
            "top": null,
            "visibility": null,
            "width": null
          }
        },
        "754b18893c704833a206e7d1f204555b": {
          "model_module": "@jupyter-widgets/controls",
          "model_name": "ProgressStyleModel",
          "model_module_version": "1.5.0",
          "state": {
            "_model_module": "@jupyter-widgets/controls",
            "_model_module_version": "1.5.0",
            "_model_name": "ProgressStyleModel",
            "_view_count": null,
            "_view_module": "@jupyter-widgets/base",
            "_view_module_version": "1.2.0",
            "_view_name": "StyleView",
            "bar_color": null,
            "description_width": ""
          }
        },
        "e57bf26f629b43f4a5b65c39153d4ffa": {
          "model_module": "@jupyter-widgets/base",
          "model_name": "LayoutModel",
          "model_module_version": "1.2.0",
          "state": {
            "_model_module": "@jupyter-widgets/base",
            "_model_module_version": "1.2.0",
            "_model_name": "LayoutModel",
            "_view_count": null,
            "_view_module": "@jupyter-widgets/base",
            "_view_module_version": "1.2.0",
            "_view_name": "LayoutView",
            "align_content": null,
            "align_items": null,
            "align_self": null,
            "border": null,
            "bottom": null,
            "display": null,
            "flex": null,
            "flex_flow": null,
            "grid_area": null,
            "grid_auto_columns": null,
            "grid_auto_flow": null,
            "grid_auto_rows": null,
            "grid_column": null,
            "grid_gap": null,
            "grid_row": null,
            "grid_template_areas": null,
            "grid_template_columns": null,
            "grid_template_rows": null,
            "height": null,
            "justify_content": null,
            "justify_items": null,
            "left": null,
            "margin": null,
            "max_height": null,
            "max_width": null,
            "min_height": null,
            "min_width": null,
            "object_fit": null,
            "object_position": null,
            "order": null,
            "overflow": null,
            "overflow_x": null,
            "overflow_y": null,
            "padding": null,
            "right": null,
            "top": null,
            "visibility": null,
            "width": null
          }
        },
        "0450d8af9f5044c4a8dd1d7a4e32ee43": {
          "model_module": "@jupyter-widgets/controls",
          "model_name": "DescriptionStyleModel",
          "model_module_version": "1.5.0",
          "state": {
            "_model_module": "@jupyter-widgets/controls",
            "_model_module_version": "1.5.0",
            "_model_name": "DescriptionStyleModel",
            "_view_count": null,
            "_view_module": "@jupyter-widgets/base",
            "_view_module_version": "1.2.0",
            "_view_name": "StyleView",
            "description_width": ""
          }
        },
        "eca361cece62451287e93561da2cb313": {
          "model_module": "@jupyter-widgets/controls",
          "model_name": "HBoxModel",
          "model_module_version": "1.5.0",
          "state": {
            "_dom_classes": [],
            "_model_module": "@jupyter-widgets/controls",
            "_model_module_version": "1.5.0",
            "_model_name": "HBoxModel",
            "_view_count": null,
            "_view_module": "@jupyter-widgets/controls",
            "_view_module_version": "1.5.0",
            "_view_name": "HBoxView",
            "box_style": "",
            "children": [
              "IPY_MODEL_90c48cf5f9f44353a34d18ac623013c3",
              "IPY_MODEL_30b4b52c394b4794831544375ad1b2a7",
              "IPY_MODEL_e30cf0fc52134c0ea09fc8a1f71844e9"
            ],
            "layout": "IPY_MODEL_a88562258bcd4e6386d9a026261cd092"
          }
        },
        "90c48cf5f9f44353a34d18ac623013c3": {
          "model_module": "@jupyter-widgets/controls",
          "model_name": "HTMLModel",
          "model_module_version": "1.5.0",
          "state": {
            "_dom_classes": [],
            "_model_module": "@jupyter-widgets/controls",
            "_model_module_version": "1.5.0",
            "_model_name": "HTMLModel",
            "_view_count": null,
            "_view_module": "@jupyter-widgets/controls",
            "_view_module_version": "1.5.0",
            "_view_name": "HTMLView",
            "description": "",
            "description_tooltip": null,
            "layout": "IPY_MODEL_9df683a8855a4052b8118c441fa47a32",
            "placeholder": "​",
            "style": "IPY_MODEL_1ea3070a5d0e45bf8829a3e2b334024f",
            "value": "Downloading readme: 100%"
          }
        },
        "30b4b52c394b4794831544375ad1b2a7": {
          "model_module": "@jupyter-widgets/controls",
          "model_name": "FloatProgressModel",
          "model_module_version": "1.5.0",
          "state": {
            "_dom_classes": [],
            "_model_module": "@jupyter-widgets/controls",
            "_model_module_version": "1.5.0",
            "_model_name": "FloatProgressModel",
            "_view_count": null,
            "_view_module": "@jupyter-widgets/controls",
            "_view_module_version": "1.5.0",
            "_view_name": "ProgressView",
            "bar_style": "success",
            "description": "",
            "description_tooltip": null,
            "layout": "IPY_MODEL_1ddd6f79547a4403b1b823faf398156a",
            "max": 12071,
            "min": 0,
            "orientation": "horizontal",
            "style": "IPY_MODEL_ec6986054ce24f64a03623d20327be1e",
            "value": 12071
          }
        },
        "e30cf0fc52134c0ea09fc8a1f71844e9": {
          "model_module": "@jupyter-widgets/controls",
          "model_name": "HTMLModel",
          "model_module_version": "1.5.0",
          "state": {
            "_dom_classes": [],
            "_model_module": "@jupyter-widgets/controls",
            "_model_module_version": "1.5.0",
            "_model_name": "HTMLModel",
            "_view_count": null,
            "_view_module": "@jupyter-widgets/controls",
            "_view_module_version": "1.5.0",
            "_view_name": "HTMLView",
            "description": "",
            "description_tooltip": null,
            "layout": "IPY_MODEL_3f81cde1c4fe4d44aea7ddb90715ee97",
            "placeholder": "​",
            "style": "IPY_MODEL_1d50b79c348f42cca960ae6a92318194",
            "value": " 12.1k/12.1k [00:00&lt;00:00, 478kB/s]"
          }
        },
        "a88562258bcd4e6386d9a026261cd092": {
          "model_module": "@jupyter-widgets/base",
          "model_name": "LayoutModel",
          "model_module_version": "1.2.0",
          "state": {
            "_model_module": "@jupyter-widgets/base",
            "_model_module_version": "1.2.0",
            "_model_name": "LayoutModel",
            "_view_count": null,
            "_view_module": "@jupyter-widgets/base",
            "_view_module_version": "1.2.0",
            "_view_name": "LayoutView",
            "align_content": null,
            "align_items": null,
            "align_self": null,
            "border": null,
            "bottom": null,
            "display": null,
            "flex": null,
            "flex_flow": null,
            "grid_area": null,
            "grid_auto_columns": null,
            "grid_auto_flow": null,
            "grid_auto_rows": null,
            "grid_column": null,
            "grid_gap": null,
            "grid_row": null,
            "grid_template_areas": null,
            "grid_template_columns": null,
            "grid_template_rows": null,
            "height": null,
            "justify_content": null,
            "justify_items": null,
            "left": null,
            "margin": null,
            "max_height": null,
            "max_width": null,
            "min_height": null,
            "min_width": null,
            "object_fit": null,
            "object_position": null,
            "order": null,
            "overflow": null,
            "overflow_x": null,
            "overflow_y": null,
            "padding": null,
            "right": null,
            "top": null,
            "visibility": null,
            "width": null
          }
        },
        "9df683a8855a4052b8118c441fa47a32": {
          "model_module": "@jupyter-widgets/base",
          "model_name": "LayoutModel",
          "model_module_version": "1.2.0",
          "state": {
            "_model_module": "@jupyter-widgets/base",
            "_model_module_version": "1.2.0",
            "_model_name": "LayoutModel",
            "_view_count": null,
            "_view_module": "@jupyter-widgets/base",
            "_view_module_version": "1.2.0",
            "_view_name": "LayoutView",
            "align_content": null,
            "align_items": null,
            "align_self": null,
            "border": null,
            "bottom": null,
            "display": null,
            "flex": null,
            "flex_flow": null,
            "grid_area": null,
            "grid_auto_columns": null,
            "grid_auto_flow": null,
            "grid_auto_rows": null,
            "grid_column": null,
            "grid_gap": null,
            "grid_row": null,
            "grid_template_areas": null,
            "grid_template_columns": null,
            "grid_template_rows": null,
            "height": null,
            "justify_content": null,
            "justify_items": null,
            "left": null,
            "margin": null,
            "max_height": null,
            "max_width": null,
            "min_height": null,
            "min_width": null,
            "object_fit": null,
            "object_position": null,
            "order": null,
            "overflow": null,
            "overflow_x": null,
            "overflow_y": null,
            "padding": null,
            "right": null,
            "top": null,
            "visibility": null,
            "width": null
          }
        },
        "1ea3070a5d0e45bf8829a3e2b334024f": {
          "model_module": "@jupyter-widgets/controls",
          "model_name": "DescriptionStyleModel",
          "model_module_version": "1.5.0",
          "state": {
            "_model_module": "@jupyter-widgets/controls",
            "_model_module_version": "1.5.0",
            "_model_name": "DescriptionStyleModel",
            "_view_count": null,
            "_view_module": "@jupyter-widgets/base",
            "_view_module_version": "1.2.0",
            "_view_name": "StyleView",
            "description_width": ""
          }
        },
        "1ddd6f79547a4403b1b823faf398156a": {
          "model_module": "@jupyter-widgets/base",
          "model_name": "LayoutModel",
          "model_module_version": "1.2.0",
          "state": {
            "_model_module": "@jupyter-widgets/base",
            "_model_module_version": "1.2.0",
            "_model_name": "LayoutModel",
            "_view_count": null,
            "_view_module": "@jupyter-widgets/base",
            "_view_module_version": "1.2.0",
            "_view_name": "LayoutView",
            "align_content": null,
            "align_items": null,
            "align_self": null,
            "border": null,
            "bottom": null,
            "display": null,
            "flex": null,
            "flex_flow": null,
            "grid_area": null,
            "grid_auto_columns": null,
            "grid_auto_flow": null,
            "grid_auto_rows": null,
            "grid_column": null,
            "grid_gap": null,
            "grid_row": null,
            "grid_template_areas": null,
            "grid_template_columns": null,
            "grid_template_rows": null,
            "height": null,
            "justify_content": null,
            "justify_items": null,
            "left": null,
            "margin": null,
            "max_height": null,
            "max_width": null,
            "min_height": null,
            "min_width": null,
            "object_fit": null,
            "object_position": null,
            "order": null,
            "overflow": null,
            "overflow_x": null,
            "overflow_y": null,
            "padding": null,
            "right": null,
            "top": null,
            "visibility": null,
            "width": null
          }
        },
        "ec6986054ce24f64a03623d20327be1e": {
          "model_module": "@jupyter-widgets/controls",
          "model_name": "ProgressStyleModel",
          "model_module_version": "1.5.0",
          "state": {
            "_model_module": "@jupyter-widgets/controls",
            "_model_module_version": "1.5.0",
            "_model_name": "ProgressStyleModel",
            "_view_count": null,
            "_view_module": "@jupyter-widgets/base",
            "_view_module_version": "1.2.0",
            "_view_name": "StyleView",
            "bar_color": null,
            "description_width": ""
          }
        },
        "3f81cde1c4fe4d44aea7ddb90715ee97": {
          "model_module": "@jupyter-widgets/base",
          "model_name": "LayoutModel",
          "model_module_version": "1.2.0",
          "state": {
            "_model_module": "@jupyter-widgets/base",
            "_model_module_version": "1.2.0",
            "_model_name": "LayoutModel",
            "_view_count": null,
            "_view_module": "@jupyter-widgets/base",
            "_view_module_version": "1.2.0",
            "_view_name": "LayoutView",
            "align_content": null,
            "align_items": null,
            "align_self": null,
            "border": null,
            "bottom": null,
            "display": null,
            "flex": null,
            "flex_flow": null,
            "grid_area": null,
            "grid_auto_columns": null,
            "grid_auto_flow": null,
            "grid_auto_rows": null,
            "grid_column": null,
            "grid_gap": null,
            "grid_row": null,
            "grid_template_areas": null,
            "grid_template_columns": null,
            "grid_template_rows": null,
            "height": null,
            "justify_content": null,
            "justify_items": null,
            "left": null,
            "margin": null,
            "max_height": null,
            "max_width": null,
            "min_height": null,
            "min_width": null,
            "object_fit": null,
            "object_position": null,
            "order": null,
            "overflow": null,
            "overflow_x": null,
            "overflow_y": null,
            "padding": null,
            "right": null,
            "top": null,
            "visibility": null,
            "width": null
          }
        },
        "1d50b79c348f42cca960ae6a92318194": {
          "model_module": "@jupyter-widgets/controls",
          "model_name": "DescriptionStyleModel",
          "model_module_version": "1.5.0",
          "state": {
            "_model_module": "@jupyter-widgets/controls",
            "_model_module_version": "1.5.0",
            "_model_name": "DescriptionStyleModel",
            "_view_count": null,
            "_view_module": "@jupyter-widgets/base",
            "_view_module_version": "1.2.0",
            "_view_name": "StyleView",
            "description_width": ""
          }
        },
        "74207a9b84db4271a1d953b294afbb62": {
          "model_module": "@jupyter-widgets/controls",
          "model_name": "HBoxModel",
          "model_module_version": "1.5.0",
          "state": {
            "_dom_classes": [],
            "_model_module": "@jupyter-widgets/controls",
            "_model_module_version": "1.5.0",
            "_model_name": "HBoxModel",
            "_view_count": null,
            "_view_module": "@jupyter-widgets/controls",
            "_view_module_version": "1.5.0",
            "_view_name": "HBoxView",
            "box_style": "",
            "children": [
              "IPY_MODEL_0a54f24e0c394bc8aac9d1a6f5c58a0a",
              "IPY_MODEL_02d5d5d8ecc7465bb934c81aa34ec54c",
              "IPY_MODEL_c1d948cc10ed4424b9f1554ed1b7f424"
            ],
            "layout": "IPY_MODEL_1884bd39051240eca116a6b32f4ffdc8"
          }
        },
        "0a54f24e0c394bc8aac9d1a6f5c58a0a": {
          "model_module": "@jupyter-widgets/controls",
          "model_name": "HTMLModel",
          "model_module_version": "1.5.0",
          "state": {
            "_dom_classes": [],
            "_model_module": "@jupyter-widgets/controls",
            "_model_module_version": "1.5.0",
            "_model_name": "HTMLModel",
            "_view_count": null,
            "_view_module": "@jupyter-widgets/controls",
            "_view_module_version": "1.5.0",
            "_view_name": "HTMLView",
            "description": "",
            "description_tooltip": null,
            "layout": "IPY_MODEL_542609bb23ee43669cb0ab7cd53da9af",
            "placeholder": "​",
            "style": "IPY_MODEL_3b12bf97e9324a55a63077011e0a76bb",
            "value": "Downloading data files: 100%"
          }
        },
        "02d5d5d8ecc7465bb934c81aa34ec54c": {
          "model_module": "@jupyter-widgets/controls",
          "model_name": "FloatProgressModel",
          "model_module_version": "1.5.0",
          "state": {
            "_dom_classes": [],
            "_model_module": "@jupyter-widgets/controls",
            "_model_module_version": "1.5.0",
            "_model_name": "FloatProgressModel",
            "_view_count": null,
            "_view_module": "@jupyter-widgets/controls",
            "_view_module_version": "1.5.0",
            "_view_name": "ProgressView",
            "bar_style": "success",
            "description": "",
            "description_tooltip": null,
            "layout": "IPY_MODEL_8ab929e1fd704122a9b34cf89f0f7395",
            "max": 3,
            "min": 0,
            "orientation": "horizontal",
            "style": "IPY_MODEL_3a8993d346db4c1984e42b7190062478",
            "value": 3
          }
        },
        "c1d948cc10ed4424b9f1554ed1b7f424": {
          "model_module": "@jupyter-widgets/controls",
          "model_name": "HTMLModel",
          "model_module_version": "1.5.0",
          "state": {
            "_dom_classes": [],
            "_model_module": "@jupyter-widgets/controls",
            "_model_module_version": "1.5.0",
            "_model_name": "HTMLModel",
            "_view_count": null,
            "_view_module": "@jupyter-widgets/controls",
            "_view_module_version": "1.5.0",
            "_view_name": "HTMLView",
            "description": "",
            "description_tooltip": null,
            "layout": "IPY_MODEL_bf8d61be91b847f98c42cd935f80b576",
            "placeholder": "​",
            "style": "IPY_MODEL_0e23debf3e5247f089984074a00caeaf",
            "value": " 3/3 [01:20&lt;00:00, 20.34s/it]"
          }
        },
        "1884bd39051240eca116a6b32f4ffdc8": {
          "model_module": "@jupyter-widgets/base",
          "model_name": "LayoutModel",
          "model_module_version": "1.2.0",
          "state": {
            "_model_module": "@jupyter-widgets/base",
            "_model_module_version": "1.2.0",
            "_model_name": "LayoutModel",
            "_view_count": null,
            "_view_module": "@jupyter-widgets/base",
            "_view_module_version": "1.2.0",
            "_view_name": "LayoutView",
            "align_content": null,
            "align_items": null,
            "align_self": null,
            "border": null,
            "bottom": null,
            "display": null,
            "flex": null,
            "flex_flow": null,
            "grid_area": null,
            "grid_auto_columns": null,
            "grid_auto_flow": null,
            "grid_auto_rows": null,
            "grid_column": null,
            "grid_gap": null,
            "grid_row": null,
            "grid_template_areas": null,
            "grid_template_columns": null,
            "grid_template_rows": null,
            "height": null,
            "justify_content": null,
            "justify_items": null,
            "left": null,
            "margin": null,
            "max_height": null,
            "max_width": null,
            "min_height": null,
            "min_width": null,
            "object_fit": null,
            "object_position": null,
            "order": null,
            "overflow": null,
            "overflow_x": null,
            "overflow_y": null,
            "padding": null,
            "right": null,
            "top": null,
            "visibility": null,
            "width": null
          }
        },
        "542609bb23ee43669cb0ab7cd53da9af": {
          "model_module": "@jupyter-widgets/base",
          "model_name": "LayoutModel",
          "model_module_version": "1.2.0",
          "state": {
            "_model_module": "@jupyter-widgets/base",
            "_model_module_version": "1.2.0",
            "_model_name": "LayoutModel",
            "_view_count": null,
            "_view_module": "@jupyter-widgets/base",
            "_view_module_version": "1.2.0",
            "_view_name": "LayoutView",
            "align_content": null,
            "align_items": null,
            "align_self": null,
            "border": null,
            "bottom": null,
            "display": null,
            "flex": null,
            "flex_flow": null,
            "grid_area": null,
            "grid_auto_columns": null,
            "grid_auto_flow": null,
            "grid_auto_rows": null,
            "grid_column": null,
            "grid_gap": null,
            "grid_row": null,
            "grid_template_areas": null,
            "grid_template_columns": null,
            "grid_template_rows": null,
            "height": null,
            "justify_content": null,
            "justify_items": null,
            "left": null,
            "margin": null,
            "max_height": null,
            "max_width": null,
            "min_height": null,
            "min_width": null,
            "object_fit": null,
            "object_position": null,
            "order": null,
            "overflow": null,
            "overflow_x": null,
            "overflow_y": null,
            "padding": null,
            "right": null,
            "top": null,
            "visibility": null,
            "width": null
          }
        },
        "3b12bf97e9324a55a63077011e0a76bb": {
          "model_module": "@jupyter-widgets/controls",
          "model_name": "DescriptionStyleModel",
          "model_module_version": "1.5.0",
          "state": {
            "_model_module": "@jupyter-widgets/controls",
            "_model_module_version": "1.5.0",
            "_model_name": "DescriptionStyleModel",
            "_view_count": null,
            "_view_module": "@jupyter-widgets/base",
            "_view_module_version": "1.2.0",
            "_view_name": "StyleView",
            "description_width": ""
          }
        },
        "8ab929e1fd704122a9b34cf89f0f7395": {
          "model_module": "@jupyter-widgets/base",
          "model_name": "LayoutModel",
          "model_module_version": "1.2.0",
          "state": {
            "_model_module": "@jupyter-widgets/base",
            "_model_module_version": "1.2.0",
            "_model_name": "LayoutModel",
            "_view_count": null,
            "_view_module": "@jupyter-widgets/base",
            "_view_module_version": "1.2.0",
            "_view_name": "LayoutView",
            "align_content": null,
            "align_items": null,
            "align_self": null,
            "border": null,
            "bottom": null,
            "display": null,
            "flex": null,
            "flex_flow": null,
            "grid_area": null,
            "grid_auto_columns": null,
            "grid_auto_flow": null,
            "grid_auto_rows": null,
            "grid_column": null,
            "grid_gap": null,
            "grid_row": null,
            "grid_template_areas": null,
            "grid_template_columns": null,
            "grid_template_rows": null,
            "height": null,
            "justify_content": null,
            "justify_items": null,
            "left": null,
            "margin": null,
            "max_height": null,
            "max_width": null,
            "min_height": null,
            "min_width": null,
            "object_fit": null,
            "object_position": null,
            "order": null,
            "overflow": null,
            "overflow_x": null,
            "overflow_y": null,
            "padding": null,
            "right": null,
            "top": null,
            "visibility": null,
            "width": null
          }
        },
        "3a8993d346db4c1984e42b7190062478": {
          "model_module": "@jupyter-widgets/controls",
          "model_name": "ProgressStyleModel",
          "model_module_version": "1.5.0",
          "state": {
            "_model_module": "@jupyter-widgets/controls",
            "_model_module_version": "1.5.0",
            "_model_name": "ProgressStyleModel",
            "_view_count": null,
            "_view_module": "@jupyter-widgets/base",
            "_view_module_version": "1.2.0",
            "_view_name": "StyleView",
            "bar_color": null,
            "description_width": ""
          }
        },
        "bf8d61be91b847f98c42cd935f80b576": {
          "model_module": "@jupyter-widgets/base",
          "model_name": "LayoutModel",
          "model_module_version": "1.2.0",
          "state": {
            "_model_module": "@jupyter-widgets/base",
            "_model_module_version": "1.2.0",
            "_model_name": "LayoutModel",
            "_view_count": null,
            "_view_module": "@jupyter-widgets/base",
            "_view_module_version": "1.2.0",
            "_view_name": "LayoutView",
            "align_content": null,
            "align_items": null,
            "align_self": null,
            "border": null,
            "bottom": null,
            "display": null,
            "flex": null,
            "flex_flow": null,
            "grid_area": null,
            "grid_auto_columns": null,
            "grid_auto_flow": null,
            "grid_auto_rows": null,
            "grid_column": null,
            "grid_gap": null,
            "grid_row": null,
            "grid_template_areas": null,
            "grid_template_columns": null,
            "grid_template_rows": null,
            "height": null,
            "justify_content": null,
            "justify_items": null,
            "left": null,
            "margin": null,
            "max_height": null,
            "max_width": null,
            "min_height": null,
            "min_width": null,
            "object_fit": null,
            "object_position": null,
            "order": null,
            "overflow": null,
            "overflow_x": null,
            "overflow_y": null,
            "padding": null,
            "right": null,
            "top": null,
            "visibility": null,
            "width": null
          }
        },
        "0e23debf3e5247f089984074a00caeaf": {
          "model_module": "@jupyter-widgets/controls",
          "model_name": "DescriptionStyleModel",
          "model_module_version": "1.5.0",
          "state": {
            "_model_module": "@jupyter-widgets/controls",
            "_model_module_version": "1.5.0",
            "_model_name": "DescriptionStyleModel",
            "_view_count": null,
            "_view_module": "@jupyter-widgets/base",
            "_view_module_version": "1.2.0",
            "_view_name": "StyleView",
            "description_width": ""
          }
        },
        "96f1cbc7473b4fed816860c2d98ead2d": {
          "model_module": "@jupyter-widgets/controls",
          "model_name": "HBoxModel",
          "model_module_version": "1.5.0",
          "state": {
            "_dom_classes": [],
            "_model_module": "@jupyter-widgets/controls",
            "_model_module_version": "1.5.0",
            "_model_name": "HBoxModel",
            "_view_count": null,
            "_view_module": "@jupyter-widgets/controls",
            "_view_module_version": "1.5.0",
            "_view_name": "HBoxView",
            "box_style": "",
            "children": [
              "IPY_MODEL_87645b358cf7430cac589f8333092388",
              "IPY_MODEL_360201e86df843a883987216181803b8",
              "IPY_MODEL_5eceb7b03b7143b885504c6952c683a0"
            ],
            "layout": "IPY_MODEL_784daa181613496e9211a1d6d50c58cb"
          }
        },
        "87645b358cf7430cac589f8333092388": {
          "model_module": "@jupyter-widgets/controls",
          "model_name": "HTMLModel",
          "model_module_version": "1.5.0",
          "state": {
            "_dom_classes": [],
            "_model_module": "@jupyter-widgets/controls",
            "_model_module_version": "1.5.0",
            "_model_name": "HTMLModel",
            "_view_count": null,
            "_view_module": "@jupyter-widgets/controls",
            "_view_module_version": "1.5.0",
            "_view_name": "HTMLView",
            "description": "",
            "description_tooltip": null,
            "layout": "IPY_MODEL_f0174378eda94541927d1d929d6c7638",
            "placeholder": "​",
            "style": "IPY_MODEL_928895f7ba694244b97cad1cb0a65432",
            "value": "Downloading data: 100%"
          }
        },
        "360201e86df843a883987216181803b8": {
          "model_module": "@jupyter-widgets/controls",
          "model_name": "FloatProgressModel",
          "model_module_version": "1.5.0",
          "state": {
            "_dom_classes": [],
            "_model_module": "@jupyter-widgets/controls",
            "_model_module_version": "1.5.0",
            "_model_name": "FloatProgressModel",
            "_view_count": null,
            "_view_module": "@jupyter-widgets/controls",
            "_view_module_version": "1.5.0",
            "_view_name": "ProgressView",
            "bar_style": "success",
            "description": "",
            "description_tooltip": null,
            "layout": "IPY_MODEL_9e822a011469487181da0114c38748f5",
            "max": 1944462432,
            "min": 0,
            "orientation": "horizontal",
            "style": "IPY_MODEL_7222b49e7593408a94e3a520ca4a42a4",
            "value": 1944462432
          }
        },
        "5eceb7b03b7143b885504c6952c683a0": {
          "model_module": "@jupyter-widgets/controls",
          "model_name": "HTMLModel",
          "model_module_version": "1.5.0",
          "state": {
            "_dom_classes": [],
            "_model_module": "@jupyter-widgets/controls",
            "_model_module_version": "1.5.0",
            "_model_name": "HTMLModel",
            "_view_count": null,
            "_view_module": "@jupyter-widgets/controls",
            "_view_module_version": "1.5.0",
            "_view_name": "HTMLView",
            "description": "",
            "description_tooltip": null,
            "layout": "IPY_MODEL_89ee4967e33542019087acf2b25f2387",
            "placeholder": "​",
            "style": "IPY_MODEL_994dd3b2efce4b06a262f675dc3b9c74",
            "value": " 1.94G/1.94G [01:04&lt;00:00, 33.3MB/s]"
          }
        },
        "784daa181613496e9211a1d6d50c58cb": {
          "model_module": "@jupyter-widgets/base",
          "model_name": "LayoutModel",
          "model_module_version": "1.2.0",
          "state": {
            "_model_module": "@jupyter-widgets/base",
            "_model_module_version": "1.2.0",
            "_model_name": "LayoutModel",
            "_view_count": null,
            "_view_module": "@jupyter-widgets/base",
            "_view_module_version": "1.2.0",
            "_view_name": "LayoutView",
            "align_content": null,
            "align_items": null,
            "align_self": null,
            "border": null,
            "bottom": null,
            "display": null,
            "flex": null,
            "flex_flow": null,
            "grid_area": null,
            "grid_auto_columns": null,
            "grid_auto_flow": null,
            "grid_auto_rows": null,
            "grid_column": null,
            "grid_gap": null,
            "grid_row": null,
            "grid_template_areas": null,
            "grid_template_columns": null,
            "grid_template_rows": null,
            "height": null,
            "justify_content": null,
            "justify_items": null,
            "left": null,
            "margin": null,
            "max_height": null,
            "max_width": null,
            "min_height": null,
            "min_width": null,
            "object_fit": null,
            "object_position": null,
            "order": null,
            "overflow": null,
            "overflow_x": null,
            "overflow_y": null,
            "padding": null,
            "right": null,
            "top": null,
            "visibility": null,
            "width": null
          }
        },
        "f0174378eda94541927d1d929d6c7638": {
          "model_module": "@jupyter-widgets/base",
          "model_name": "LayoutModel",
          "model_module_version": "1.2.0",
          "state": {
            "_model_module": "@jupyter-widgets/base",
            "_model_module_version": "1.2.0",
            "_model_name": "LayoutModel",
            "_view_count": null,
            "_view_module": "@jupyter-widgets/base",
            "_view_module_version": "1.2.0",
            "_view_name": "LayoutView",
            "align_content": null,
            "align_items": null,
            "align_self": null,
            "border": null,
            "bottom": null,
            "display": null,
            "flex": null,
            "flex_flow": null,
            "grid_area": null,
            "grid_auto_columns": null,
            "grid_auto_flow": null,
            "grid_auto_rows": null,
            "grid_column": null,
            "grid_gap": null,
            "grid_row": null,
            "grid_template_areas": null,
            "grid_template_columns": null,
            "grid_template_rows": null,
            "height": null,
            "justify_content": null,
            "justify_items": null,
            "left": null,
            "margin": null,
            "max_height": null,
            "max_width": null,
            "min_height": null,
            "min_width": null,
            "object_fit": null,
            "object_position": null,
            "order": null,
            "overflow": null,
            "overflow_x": null,
            "overflow_y": null,
            "padding": null,
            "right": null,
            "top": null,
            "visibility": null,
            "width": null
          }
        },
        "928895f7ba694244b97cad1cb0a65432": {
          "model_module": "@jupyter-widgets/controls",
          "model_name": "DescriptionStyleModel",
          "model_module_version": "1.5.0",
          "state": {
            "_model_module": "@jupyter-widgets/controls",
            "_model_module_version": "1.5.0",
            "_model_name": "DescriptionStyleModel",
            "_view_count": null,
            "_view_module": "@jupyter-widgets/base",
            "_view_module_version": "1.2.0",
            "_view_name": "StyleView",
            "description_width": ""
          }
        },
        "9e822a011469487181da0114c38748f5": {
          "model_module": "@jupyter-widgets/base",
          "model_name": "LayoutModel",
          "model_module_version": "1.2.0",
          "state": {
            "_model_module": "@jupyter-widgets/base",
            "_model_module_version": "1.2.0",
            "_model_name": "LayoutModel",
            "_view_count": null,
            "_view_module": "@jupyter-widgets/base",
            "_view_module_version": "1.2.0",
            "_view_name": "LayoutView",
            "align_content": null,
            "align_items": null,
            "align_self": null,
            "border": null,
            "bottom": null,
            "display": null,
            "flex": null,
            "flex_flow": null,
            "grid_area": null,
            "grid_auto_columns": null,
            "grid_auto_flow": null,
            "grid_auto_rows": null,
            "grid_column": null,
            "grid_gap": null,
            "grid_row": null,
            "grid_template_areas": null,
            "grid_template_columns": null,
            "grid_template_rows": null,
            "height": null,
            "justify_content": null,
            "justify_items": null,
            "left": null,
            "margin": null,
            "max_height": null,
            "max_width": null,
            "min_height": null,
            "min_width": null,
            "object_fit": null,
            "object_position": null,
            "order": null,
            "overflow": null,
            "overflow_x": null,
            "overflow_y": null,
            "padding": null,
            "right": null,
            "top": null,
            "visibility": null,
            "width": null
          }
        },
        "7222b49e7593408a94e3a520ca4a42a4": {
          "model_module": "@jupyter-widgets/controls",
          "model_name": "ProgressStyleModel",
          "model_module_version": "1.5.0",
          "state": {
            "_model_module": "@jupyter-widgets/controls",
            "_model_module_version": "1.5.0",
            "_model_name": "ProgressStyleModel",
            "_view_count": null,
            "_view_module": "@jupyter-widgets/base",
            "_view_module_version": "1.2.0",
            "_view_name": "StyleView",
            "bar_color": null,
            "description_width": ""
          }
        },
        "89ee4967e33542019087acf2b25f2387": {
          "model_module": "@jupyter-widgets/base",
          "model_name": "LayoutModel",
          "model_module_version": "1.2.0",
          "state": {
            "_model_module": "@jupyter-widgets/base",
            "_model_module_version": "1.2.0",
            "_model_name": "LayoutModel",
            "_view_count": null,
            "_view_module": "@jupyter-widgets/base",
            "_view_module_version": "1.2.0",
            "_view_name": "LayoutView",
            "align_content": null,
            "align_items": null,
            "align_self": null,
            "border": null,
            "bottom": null,
            "display": null,
            "flex": null,
            "flex_flow": null,
            "grid_area": null,
            "grid_auto_columns": null,
            "grid_auto_flow": null,
            "grid_auto_rows": null,
            "grid_column": null,
            "grid_gap": null,
            "grid_row": null,
            "grid_template_areas": null,
            "grid_template_columns": null,
            "grid_template_rows": null,
            "height": null,
            "justify_content": null,
            "justify_items": null,
            "left": null,
            "margin": null,
            "max_height": null,
            "max_width": null,
            "min_height": null,
            "min_width": null,
            "object_fit": null,
            "object_position": null,
            "order": null,
            "overflow": null,
            "overflow_x": null,
            "overflow_y": null,
            "padding": null,
            "right": null,
            "top": null,
            "visibility": null,
            "width": null
          }
        },
        "994dd3b2efce4b06a262f675dc3b9c74": {
          "model_module": "@jupyter-widgets/controls",
          "model_name": "DescriptionStyleModel",
          "model_module_version": "1.5.0",
          "state": {
            "_model_module": "@jupyter-widgets/controls",
            "_model_module_version": "1.5.0",
            "_model_name": "DescriptionStyleModel",
            "_view_count": null,
            "_view_module": "@jupyter-widgets/base",
            "_view_module_version": "1.2.0",
            "_view_name": "StyleView",
            "description_width": ""
          }
        },
        "1e0b7f623c5a42089d8eb257d135914d": {
          "model_module": "@jupyter-widgets/controls",
          "model_name": "HBoxModel",
          "model_module_version": "1.5.0",
          "state": {
            "_dom_classes": [],
            "_model_module": "@jupyter-widgets/controls",
            "_model_module_version": "1.5.0",
            "_model_name": "HBoxModel",
            "_view_count": null,
            "_view_module": "@jupyter-widgets/controls",
            "_view_module_version": "1.5.0",
            "_view_name": "HBoxView",
            "box_style": "",
            "children": [
              "IPY_MODEL_f13e7faf7ca745b19b8c991e1b347ff0",
              "IPY_MODEL_81e01e97f6244693a3f3d694e32ad388",
              "IPY_MODEL_29af5db6bf4f4d0ebadb605289a7b116"
            ],
            "layout": "IPY_MODEL_53f8dc0f7ea0472d91cefd49e149036d"
          }
        },
        "f13e7faf7ca745b19b8c991e1b347ff0": {
          "model_module": "@jupyter-widgets/controls",
          "model_name": "HTMLModel",
          "model_module_version": "1.5.0",
          "state": {
            "_dom_classes": [],
            "_model_module": "@jupyter-widgets/controls",
            "_model_module_version": "1.5.0",
            "_model_name": "HTMLModel",
            "_view_count": null,
            "_view_module": "@jupyter-widgets/controls",
            "_view_module_version": "1.5.0",
            "_view_name": "HTMLView",
            "description": "",
            "description_tooltip": null,
            "layout": "IPY_MODEL_ee748a10b18e4152b8e777a0443b74fa",
            "placeholder": "​",
            "style": "IPY_MODEL_1dbeda21619e41feb5a22b415506e913",
            "value": "Downloading data: 100%"
          }
        },
        "81e01e97f6244693a3f3d694e32ad388": {
          "model_module": "@jupyter-widgets/controls",
          "model_name": "FloatProgressModel",
          "model_module_version": "1.5.0",
          "state": {
            "_dom_classes": [],
            "_model_module": "@jupyter-widgets/controls",
            "_model_module_version": "1.5.0",
            "_model_name": "FloatProgressModel",
            "_view_count": null,
            "_view_module": "@jupyter-widgets/controls",
            "_view_module_version": "1.5.0",
            "_view_name": "ProgressView",
            "bar_style": "success",
            "description": "",
            "description_tooltip": null,
            "layout": "IPY_MODEL_437ef46d39a84379a6a0d569a82ae306",
            "max": 229117586,
            "min": 0,
            "orientation": "horizontal",
            "style": "IPY_MODEL_3f1576326b9a47d897b677db1387702d",
            "value": 229117586
          }
        },
        "29af5db6bf4f4d0ebadb605289a7b116": {
          "model_module": "@jupyter-widgets/controls",
          "model_name": "HTMLModel",
          "model_module_version": "1.5.0",
          "state": {
            "_dom_classes": [],
            "_model_module": "@jupyter-widgets/controls",
            "_model_module_version": "1.5.0",
            "_model_name": "HTMLModel",
            "_view_count": null,
            "_view_module": "@jupyter-widgets/controls",
            "_view_module_version": "1.5.0",
            "_view_name": "HTMLView",
            "description": "",
            "description_tooltip": null,
            "layout": "IPY_MODEL_3a856414880c4f8b8346b659a4008403",
            "placeholder": "​",
            "style": "IPY_MODEL_a4327b837e8c46bbaf28a2230d8f5332",
            "value": " 229M/229M [00:08&lt;00:00, 30.9MB/s]"
          }
        },
        "53f8dc0f7ea0472d91cefd49e149036d": {
          "model_module": "@jupyter-widgets/base",
          "model_name": "LayoutModel",
          "model_module_version": "1.2.0",
          "state": {
            "_model_module": "@jupyter-widgets/base",
            "_model_module_version": "1.2.0",
            "_model_name": "LayoutModel",
            "_view_count": null,
            "_view_module": "@jupyter-widgets/base",
            "_view_module_version": "1.2.0",
            "_view_name": "LayoutView",
            "align_content": null,
            "align_items": null,
            "align_self": null,
            "border": null,
            "bottom": null,
            "display": null,
            "flex": null,
            "flex_flow": null,
            "grid_area": null,
            "grid_auto_columns": null,
            "grid_auto_flow": null,
            "grid_auto_rows": null,
            "grid_column": null,
            "grid_gap": null,
            "grid_row": null,
            "grid_template_areas": null,
            "grid_template_columns": null,
            "grid_template_rows": null,
            "height": null,
            "justify_content": null,
            "justify_items": null,
            "left": null,
            "margin": null,
            "max_height": null,
            "max_width": null,
            "min_height": null,
            "min_width": null,
            "object_fit": null,
            "object_position": null,
            "order": null,
            "overflow": null,
            "overflow_x": null,
            "overflow_y": null,
            "padding": null,
            "right": null,
            "top": null,
            "visibility": null,
            "width": null
          }
        },
        "ee748a10b18e4152b8e777a0443b74fa": {
          "model_module": "@jupyter-widgets/base",
          "model_name": "LayoutModel",
          "model_module_version": "1.2.0",
          "state": {
            "_model_module": "@jupyter-widgets/base",
            "_model_module_version": "1.2.0",
            "_model_name": "LayoutModel",
            "_view_count": null,
            "_view_module": "@jupyter-widgets/base",
            "_view_module_version": "1.2.0",
            "_view_name": "LayoutView",
            "align_content": null,
            "align_items": null,
            "align_self": null,
            "border": null,
            "bottom": null,
            "display": null,
            "flex": null,
            "flex_flow": null,
            "grid_area": null,
            "grid_auto_columns": null,
            "grid_auto_flow": null,
            "grid_auto_rows": null,
            "grid_column": null,
            "grid_gap": null,
            "grid_row": null,
            "grid_template_areas": null,
            "grid_template_columns": null,
            "grid_template_rows": null,
            "height": null,
            "justify_content": null,
            "justify_items": null,
            "left": null,
            "margin": null,
            "max_height": null,
            "max_width": null,
            "min_height": null,
            "min_width": null,
            "object_fit": null,
            "object_position": null,
            "order": null,
            "overflow": null,
            "overflow_x": null,
            "overflow_y": null,
            "padding": null,
            "right": null,
            "top": null,
            "visibility": null,
            "width": null
          }
        },
        "1dbeda21619e41feb5a22b415506e913": {
          "model_module": "@jupyter-widgets/controls",
          "model_name": "DescriptionStyleModel",
          "model_module_version": "1.5.0",
          "state": {
            "_model_module": "@jupyter-widgets/controls",
            "_model_module_version": "1.5.0",
            "_model_name": "DescriptionStyleModel",
            "_view_count": null,
            "_view_module": "@jupyter-widgets/base",
            "_view_module_version": "1.2.0",
            "_view_name": "StyleView",
            "description_width": ""
          }
        },
        "437ef46d39a84379a6a0d569a82ae306": {
          "model_module": "@jupyter-widgets/base",
          "model_name": "LayoutModel",
          "model_module_version": "1.2.0",
          "state": {
            "_model_module": "@jupyter-widgets/base",
            "_model_module_version": "1.2.0",
            "_model_name": "LayoutModel",
            "_view_count": null,
            "_view_module": "@jupyter-widgets/base",
            "_view_module_version": "1.2.0",
            "_view_name": "LayoutView",
            "align_content": null,
            "align_items": null,
            "align_self": null,
            "border": null,
            "bottom": null,
            "display": null,
            "flex": null,
            "flex_flow": null,
            "grid_area": null,
            "grid_auto_columns": null,
            "grid_auto_flow": null,
            "grid_auto_rows": null,
            "grid_column": null,
            "grid_gap": null,
            "grid_row": null,
            "grid_template_areas": null,
            "grid_template_columns": null,
            "grid_template_rows": null,
            "height": null,
            "justify_content": null,
            "justify_items": null,
            "left": null,
            "margin": null,
            "max_height": null,
            "max_width": null,
            "min_height": null,
            "min_width": null,
            "object_fit": null,
            "object_position": null,
            "order": null,
            "overflow": null,
            "overflow_x": null,
            "overflow_y": null,
            "padding": null,
            "right": null,
            "top": null,
            "visibility": null,
            "width": null
          }
        },
        "3f1576326b9a47d897b677db1387702d": {
          "model_module": "@jupyter-widgets/controls",
          "model_name": "ProgressStyleModel",
          "model_module_version": "1.5.0",
          "state": {
            "_model_module": "@jupyter-widgets/controls",
            "_model_module_version": "1.5.0",
            "_model_name": "ProgressStyleModel",
            "_view_count": null,
            "_view_module": "@jupyter-widgets/base",
            "_view_module_version": "1.2.0",
            "_view_name": "StyleView",
            "bar_color": null,
            "description_width": ""
          }
        },
        "3a856414880c4f8b8346b659a4008403": {
          "model_module": "@jupyter-widgets/base",
          "model_name": "LayoutModel",
          "model_module_version": "1.2.0",
          "state": {
            "_model_module": "@jupyter-widgets/base",
            "_model_module_version": "1.2.0",
            "_model_name": "LayoutModel",
            "_view_count": null,
            "_view_module": "@jupyter-widgets/base",
            "_view_module_version": "1.2.0",
            "_view_name": "LayoutView",
            "align_content": null,
            "align_items": null,
            "align_self": null,
            "border": null,
            "bottom": null,
            "display": null,
            "flex": null,
            "flex_flow": null,
            "grid_area": null,
            "grid_auto_columns": null,
            "grid_auto_flow": null,
            "grid_auto_rows": null,
            "grid_column": null,
            "grid_gap": null,
            "grid_row": null,
            "grid_template_areas": null,
            "grid_template_columns": null,
            "grid_template_rows": null,
            "height": null,
            "justify_content": null,
            "justify_items": null,
            "left": null,
            "margin": null,
            "max_height": null,
            "max_width": null,
            "min_height": null,
            "min_width": null,
            "object_fit": null,
            "object_position": null,
            "order": null,
            "overflow": null,
            "overflow_x": null,
            "overflow_y": null,
            "padding": null,
            "right": null,
            "top": null,
            "visibility": null,
            "width": null
          }
        },
        "a4327b837e8c46bbaf28a2230d8f5332": {
          "model_module": "@jupyter-widgets/controls",
          "model_name": "DescriptionStyleModel",
          "model_module_version": "1.5.0",
          "state": {
            "_model_module": "@jupyter-widgets/controls",
            "_model_module_version": "1.5.0",
            "_model_name": "DescriptionStyleModel",
            "_view_count": null,
            "_view_module": "@jupyter-widgets/base",
            "_view_module_version": "1.2.0",
            "_view_name": "StyleView",
            "description_width": ""
          }
        },
        "b49b00bf86c74ab5aa95c2a8e62333b6": {
          "model_module": "@jupyter-widgets/controls",
          "model_name": "HBoxModel",
          "model_module_version": "1.5.0",
          "state": {
            "_dom_classes": [],
            "_model_module": "@jupyter-widgets/controls",
            "_model_module_version": "1.5.0",
            "_model_name": "HBoxModel",
            "_view_count": null,
            "_view_module": "@jupyter-widgets/controls",
            "_view_module_version": "1.5.0",
            "_view_name": "HBoxView",
            "box_style": "",
            "children": [
              "IPY_MODEL_4f0fc56108cd42bb9431c24424986603",
              "IPY_MODEL_fdfbffd3b94547daaad21914a5bae48d",
              "IPY_MODEL_ffce9116b99d448597b3c2c5bbbb121d"
            ],
            "layout": "IPY_MODEL_c2a810bc22a147e0b208c52b3018d887"
          }
        },
        "4f0fc56108cd42bb9431c24424986603": {
          "model_module": "@jupyter-widgets/controls",
          "model_name": "HTMLModel",
          "model_module_version": "1.5.0",
          "state": {
            "_dom_classes": [],
            "_model_module": "@jupyter-widgets/controls",
            "_model_module_version": "1.5.0",
            "_model_name": "HTMLModel",
            "_view_count": null,
            "_view_module": "@jupyter-widgets/controls",
            "_view_module_version": "1.5.0",
            "_view_name": "HTMLView",
            "description": "",
            "description_tooltip": null,
            "layout": "IPY_MODEL_91dccd09e1344cd88d71d86ea793a013",
            "placeholder": "​",
            "style": "IPY_MODEL_aaf81dc1301b4df1aef9acab14c8dbff",
            "value": "Downloading data: 100%"
          }
        },
        "fdfbffd3b94547daaad21914a5bae48d": {
          "model_module": "@jupyter-widgets/controls",
          "model_name": "FloatProgressModel",
          "model_module_version": "1.5.0",
          "state": {
            "_dom_classes": [],
            "_model_module": "@jupyter-widgets/controls",
            "_model_module_version": "1.5.0",
            "_model_name": "FloatProgressModel",
            "_view_count": null,
            "_view_module": "@jupyter-widgets/controls",
            "_view_module_version": "1.5.0",
            "_view_name": "ProgressView",
            "bar_style": "success",
            "description": "",
            "description_tooltip": null,
            "layout": "IPY_MODEL_961c637ee07b4dde8a037b941650f90d",
            "max": 112395851,
            "min": 0,
            "orientation": "horizontal",
            "style": "IPY_MODEL_5e86d5984e0a446582a023bea56f5a52",
            "value": 112395851
          }
        },
        "ffce9116b99d448597b3c2c5bbbb121d": {
          "model_module": "@jupyter-widgets/controls",
          "model_name": "HTMLModel",
          "model_module_version": "1.5.0",
          "state": {
            "_dom_classes": [],
            "_model_module": "@jupyter-widgets/controls",
            "_model_module_version": "1.5.0",
            "_model_name": "HTMLModel",
            "_view_count": null,
            "_view_module": "@jupyter-widgets/controls",
            "_view_module_version": "1.5.0",
            "_view_name": "HTMLView",
            "description": "",
            "description_tooltip": null,
            "layout": "IPY_MODEL_b9a8d50866fb4356811d715003a0a717",
            "placeholder": "​",
            "style": "IPY_MODEL_b0eb773858d344f7868bde339c9113e6",
            "value": " 112M/112M [00:04&lt;00:00, 26.6MB/s]"
          }
        },
        "c2a810bc22a147e0b208c52b3018d887": {
          "model_module": "@jupyter-widgets/base",
          "model_name": "LayoutModel",
          "model_module_version": "1.2.0",
          "state": {
            "_model_module": "@jupyter-widgets/base",
            "_model_module_version": "1.2.0",
            "_model_name": "LayoutModel",
            "_view_count": null,
            "_view_module": "@jupyter-widgets/base",
            "_view_module_version": "1.2.0",
            "_view_name": "LayoutView",
            "align_content": null,
            "align_items": null,
            "align_self": null,
            "border": null,
            "bottom": null,
            "display": null,
            "flex": null,
            "flex_flow": null,
            "grid_area": null,
            "grid_auto_columns": null,
            "grid_auto_flow": null,
            "grid_auto_rows": null,
            "grid_column": null,
            "grid_gap": null,
            "grid_row": null,
            "grid_template_areas": null,
            "grid_template_columns": null,
            "grid_template_rows": null,
            "height": null,
            "justify_content": null,
            "justify_items": null,
            "left": null,
            "margin": null,
            "max_height": null,
            "max_width": null,
            "min_height": null,
            "min_width": null,
            "object_fit": null,
            "object_position": null,
            "order": null,
            "overflow": null,
            "overflow_x": null,
            "overflow_y": null,
            "padding": null,
            "right": null,
            "top": null,
            "visibility": null,
            "width": null
          }
        },
        "91dccd09e1344cd88d71d86ea793a013": {
          "model_module": "@jupyter-widgets/base",
          "model_name": "LayoutModel",
          "model_module_version": "1.2.0",
          "state": {
            "_model_module": "@jupyter-widgets/base",
            "_model_module_version": "1.2.0",
            "_model_name": "LayoutModel",
            "_view_count": null,
            "_view_module": "@jupyter-widgets/base",
            "_view_module_version": "1.2.0",
            "_view_name": "LayoutView",
            "align_content": null,
            "align_items": null,
            "align_self": null,
            "border": null,
            "bottom": null,
            "display": null,
            "flex": null,
            "flex_flow": null,
            "grid_area": null,
            "grid_auto_columns": null,
            "grid_auto_flow": null,
            "grid_auto_rows": null,
            "grid_column": null,
            "grid_gap": null,
            "grid_row": null,
            "grid_template_areas": null,
            "grid_template_columns": null,
            "grid_template_rows": null,
            "height": null,
            "justify_content": null,
            "justify_items": null,
            "left": null,
            "margin": null,
            "max_height": null,
            "max_width": null,
            "min_height": null,
            "min_width": null,
            "object_fit": null,
            "object_position": null,
            "order": null,
            "overflow": null,
            "overflow_x": null,
            "overflow_y": null,
            "padding": null,
            "right": null,
            "top": null,
            "visibility": null,
            "width": null
          }
        },
        "aaf81dc1301b4df1aef9acab14c8dbff": {
          "model_module": "@jupyter-widgets/controls",
          "model_name": "DescriptionStyleModel",
          "model_module_version": "1.5.0",
          "state": {
            "_model_module": "@jupyter-widgets/controls",
            "_model_module_version": "1.5.0",
            "_model_name": "DescriptionStyleModel",
            "_view_count": null,
            "_view_module": "@jupyter-widgets/base",
            "_view_module_version": "1.2.0",
            "_view_name": "StyleView",
            "description_width": ""
          }
        },
        "961c637ee07b4dde8a037b941650f90d": {
          "model_module": "@jupyter-widgets/base",
          "model_name": "LayoutModel",
          "model_module_version": "1.2.0",
          "state": {
            "_model_module": "@jupyter-widgets/base",
            "_model_module_version": "1.2.0",
            "_model_name": "LayoutModel",
            "_view_count": null,
            "_view_module": "@jupyter-widgets/base",
            "_view_module_version": "1.2.0",
            "_view_name": "LayoutView",
            "align_content": null,
            "align_items": null,
            "align_self": null,
            "border": null,
            "bottom": null,
            "display": null,
            "flex": null,
            "flex_flow": null,
            "grid_area": null,
            "grid_auto_columns": null,
            "grid_auto_flow": null,
            "grid_auto_rows": null,
            "grid_column": null,
            "grid_gap": null,
            "grid_row": null,
            "grid_template_areas": null,
            "grid_template_columns": null,
            "grid_template_rows": null,
            "height": null,
            "justify_content": null,
            "justify_items": null,
            "left": null,
            "margin": null,
            "max_height": null,
            "max_width": null,
            "min_height": null,
            "min_width": null,
            "object_fit": null,
            "object_position": null,
            "order": null,
            "overflow": null,
            "overflow_x": null,
            "overflow_y": null,
            "padding": null,
            "right": null,
            "top": null,
            "visibility": null,
            "width": null
          }
        },
        "5e86d5984e0a446582a023bea56f5a52": {
          "model_module": "@jupyter-widgets/controls",
          "model_name": "ProgressStyleModel",
          "model_module_version": "1.5.0",
          "state": {
            "_model_module": "@jupyter-widgets/controls",
            "_model_module_version": "1.5.0",
            "_model_name": "ProgressStyleModel",
            "_view_count": null,
            "_view_module": "@jupyter-widgets/base",
            "_view_module_version": "1.2.0",
            "_view_name": "StyleView",
            "bar_color": null,
            "description_width": ""
          }
        },
        "b9a8d50866fb4356811d715003a0a717": {
          "model_module": "@jupyter-widgets/base",
          "model_name": "LayoutModel",
          "model_module_version": "1.2.0",
          "state": {
            "_model_module": "@jupyter-widgets/base",
            "_model_module_version": "1.2.0",
            "_model_name": "LayoutModel",
            "_view_count": null,
            "_view_module": "@jupyter-widgets/base",
            "_view_module_version": "1.2.0",
            "_view_name": "LayoutView",
            "align_content": null,
            "align_items": null,
            "align_self": null,
            "border": null,
            "bottom": null,
            "display": null,
            "flex": null,
            "flex_flow": null,
            "grid_area": null,
            "grid_auto_columns": null,
            "grid_auto_flow": null,
            "grid_auto_rows": null,
            "grid_column": null,
            "grid_gap": null,
            "grid_row": null,
            "grid_template_areas": null,
            "grid_template_columns": null,
            "grid_template_rows": null,
            "height": null,
            "justify_content": null,
            "justify_items": null,
            "left": null,
            "margin": null,
            "max_height": null,
            "max_width": null,
            "min_height": null,
            "min_width": null,
            "object_fit": null,
            "object_position": null,
            "order": null,
            "overflow": null,
            "overflow_x": null,
            "overflow_y": null,
            "padding": null,
            "right": null,
            "top": null,
            "visibility": null,
            "width": null
          }
        },
        "b0eb773858d344f7868bde339c9113e6": {
          "model_module": "@jupyter-widgets/controls",
          "model_name": "DescriptionStyleModel",
          "model_module_version": "1.5.0",
          "state": {
            "_model_module": "@jupyter-widgets/controls",
            "_model_module_version": "1.5.0",
            "_model_name": "DescriptionStyleModel",
            "_view_count": null,
            "_view_module": "@jupyter-widgets/base",
            "_view_module_version": "1.2.0",
            "_view_name": "StyleView",
            "description_width": ""
          }
        },
        "8f152a7597d94cc1b7593d02fea2f366": {
          "model_module": "@jupyter-widgets/controls",
          "model_name": "HBoxModel",
          "model_module_version": "1.5.0",
          "state": {
            "_dom_classes": [],
            "_model_module": "@jupyter-widgets/controls",
            "_model_module_version": "1.5.0",
            "_model_name": "HBoxModel",
            "_view_count": null,
            "_view_module": "@jupyter-widgets/controls",
            "_view_module_version": "1.5.0",
            "_view_name": "HBoxView",
            "box_style": "",
            "children": [
              "IPY_MODEL_8e3297697eb64e93bfd65f70217a6786",
              "IPY_MODEL_867fd201e9fe4d4888898ea1c816c306",
              "IPY_MODEL_085dc2fdb55c44d5bc79d85217eccea6"
            ],
            "layout": "IPY_MODEL_b6c61ffd976142a2b890b142ee02118a"
          }
        },
        "8e3297697eb64e93bfd65f70217a6786": {
          "model_module": "@jupyter-widgets/controls",
          "model_name": "HTMLModel",
          "model_module_version": "1.5.0",
          "state": {
            "_dom_classes": [],
            "_model_module": "@jupyter-widgets/controls",
            "_model_module_version": "1.5.0",
            "_model_name": "HTMLModel",
            "_view_count": null,
            "_view_module": "@jupyter-widgets/controls",
            "_view_module_version": "1.5.0",
            "_view_name": "HTMLView",
            "description": "",
            "description_tooltip": null,
            "layout": "IPY_MODEL_c79118305dd3455eaf164a5b1af87bab",
            "placeholder": "​",
            "style": "IPY_MODEL_bde34aa8ee1a43bea3fec8701e7585af",
            "value": "Generating train split: 100%"
          }
        },
        "867fd201e9fe4d4888898ea1c816c306": {
          "model_module": "@jupyter-widgets/controls",
          "model_name": "FloatProgressModel",
          "model_module_version": "1.5.0",
          "state": {
            "_dom_classes": [],
            "_model_module": "@jupyter-widgets/controls",
            "_model_module_version": "1.5.0",
            "_model_name": "FloatProgressModel",
            "_view_count": null,
            "_view_module": "@jupyter-widgets/controls",
            "_view_module_version": "1.5.0",
            "_view_name": "ProgressView",
            "bar_style": "",
            "description": "",
            "description_tooltip": null,
            "layout": "IPY_MODEL_bd37cfe289d7455e947f894e90122d0c",
            "max": 84848,
            "min": 0,
            "orientation": "horizontal",
            "style": "IPY_MODEL_98a003a2b74d4dab9ddc56858f7ed7f3",
            "value": 84848
          }
        },
        "085dc2fdb55c44d5bc79d85217eccea6": {
          "model_module": "@jupyter-widgets/controls",
          "model_name": "HTMLModel",
          "model_module_version": "1.5.0",
          "state": {
            "_dom_classes": [],
            "_model_module": "@jupyter-widgets/controls",
            "_model_module_version": "1.5.0",
            "_model_name": "HTMLModel",
            "_view_count": null,
            "_view_module": "@jupyter-widgets/controls",
            "_view_module_version": "1.5.0",
            "_view_name": "HTMLView",
            "description": "",
            "description_tooltip": null,
            "layout": "IPY_MODEL_638661573c284b1a8b067298f327e0c6",
            "placeholder": "​",
            "style": "IPY_MODEL_4c2a2157ce9a46a39de4431a937c8259",
            "value": " 84723/84848 [00:46&lt;00:00, 2322.07 examples/s]"
          }
        },
        "b6c61ffd976142a2b890b142ee02118a": {
          "model_module": "@jupyter-widgets/base",
          "model_name": "LayoutModel",
          "model_module_version": "1.2.0",
          "state": {
            "_model_module": "@jupyter-widgets/base",
            "_model_module_version": "1.2.0",
            "_model_name": "LayoutModel",
            "_view_count": null,
            "_view_module": "@jupyter-widgets/base",
            "_view_module_version": "1.2.0",
            "_view_name": "LayoutView",
            "align_content": null,
            "align_items": null,
            "align_self": null,
            "border": null,
            "bottom": null,
            "display": null,
            "flex": null,
            "flex_flow": null,
            "grid_area": null,
            "grid_auto_columns": null,
            "grid_auto_flow": null,
            "grid_auto_rows": null,
            "grid_column": null,
            "grid_gap": null,
            "grid_row": null,
            "grid_template_areas": null,
            "grid_template_columns": null,
            "grid_template_rows": null,
            "height": null,
            "justify_content": null,
            "justify_items": null,
            "left": null,
            "margin": null,
            "max_height": null,
            "max_width": null,
            "min_height": null,
            "min_width": null,
            "object_fit": null,
            "object_position": null,
            "order": null,
            "overflow": null,
            "overflow_x": null,
            "overflow_y": null,
            "padding": null,
            "right": null,
            "top": null,
            "visibility": "hidden",
            "width": null
          }
        },
        "c79118305dd3455eaf164a5b1af87bab": {
          "model_module": "@jupyter-widgets/base",
          "model_name": "LayoutModel",
          "model_module_version": "1.2.0",
          "state": {
            "_model_module": "@jupyter-widgets/base",
            "_model_module_version": "1.2.0",
            "_model_name": "LayoutModel",
            "_view_count": null,
            "_view_module": "@jupyter-widgets/base",
            "_view_module_version": "1.2.0",
            "_view_name": "LayoutView",
            "align_content": null,
            "align_items": null,
            "align_self": null,
            "border": null,
            "bottom": null,
            "display": null,
            "flex": null,
            "flex_flow": null,
            "grid_area": null,
            "grid_auto_columns": null,
            "grid_auto_flow": null,
            "grid_auto_rows": null,
            "grid_column": null,
            "grid_gap": null,
            "grid_row": null,
            "grid_template_areas": null,
            "grid_template_columns": null,
            "grid_template_rows": null,
            "height": null,
            "justify_content": null,
            "justify_items": null,
            "left": null,
            "margin": null,
            "max_height": null,
            "max_width": null,
            "min_height": null,
            "min_width": null,
            "object_fit": null,
            "object_position": null,
            "order": null,
            "overflow": null,
            "overflow_x": null,
            "overflow_y": null,
            "padding": null,
            "right": null,
            "top": null,
            "visibility": null,
            "width": null
          }
        },
        "bde34aa8ee1a43bea3fec8701e7585af": {
          "model_module": "@jupyter-widgets/controls",
          "model_name": "DescriptionStyleModel",
          "model_module_version": "1.5.0",
          "state": {
            "_model_module": "@jupyter-widgets/controls",
            "_model_module_version": "1.5.0",
            "_model_name": "DescriptionStyleModel",
            "_view_count": null,
            "_view_module": "@jupyter-widgets/base",
            "_view_module_version": "1.2.0",
            "_view_name": "StyleView",
            "description_width": ""
          }
        },
        "bd37cfe289d7455e947f894e90122d0c": {
          "model_module": "@jupyter-widgets/base",
          "model_name": "LayoutModel",
          "model_module_version": "1.2.0",
          "state": {
            "_model_module": "@jupyter-widgets/base",
            "_model_module_version": "1.2.0",
            "_model_name": "LayoutModel",
            "_view_count": null,
            "_view_module": "@jupyter-widgets/base",
            "_view_module_version": "1.2.0",
            "_view_name": "LayoutView",
            "align_content": null,
            "align_items": null,
            "align_self": null,
            "border": null,
            "bottom": null,
            "display": null,
            "flex": null,
            "flex_flow": null,
            "grid_area": null,
            "grid_auto_columns": null,
            "grid_auto_flow": null,
            "grid_auto_rows": null,
            "grid_column": null,
            "grid_gap": null,
            "grid_row": null,
            "grid_template_areas": null,
            "grid_template_columns": null,
            "grid_template_rows": null,
            "height": null,
            "justify_content": null,
            "justify_items": null,
            "left": null,
            "margin": null,
            "max_height": null,
            "max_width": null,
            "min_height": null,
            "min_width": null,
            "object_fit": null,
            "object_position": null,
            "order": null,
            "overflow": null,
            "overflow_x": null,
            "overflow_y": null,
            "padding": null,
            "right": null,
            "top": null,
            "visibility": null,
            "width": null
          }
        },
        "98a003a2b74d4dab9ddc56858f7ed7f3": {
          "model_module": "@jupyter-widgets/controls",
          "model_name": "ProgressStyleModel",
          "model_module_version": "1.5.0",
          "state": {
            "_model_module": "@jupyter-widgets/controls",
            "_model_module_version": "1.5.0",
            "_model_name": "ProgressStyleModel",
            "_view_count": null,
            "_view_module": "@jupyter-widgets/base",
            "_view_module_version": "1.2.0",
            "_view_name": "StyleView",
            "bar_color": null,
            "description_width": ""
          }
        },
        "638661573c284b1a8b067298f327e0c6": {
          "model_module": "@jupyter-widgets/base",
          "model_name": "LayoutModel",
          "model_module_version": "1.2.0",
          "state": {
            "_model_module": "@jupyter-widgets/base",
            "_model_module_version": "1.2.0",
            "_model_name": "LayoutModel",
            "_view_count": null,
            "_view_module": "@jupyter-widgets/base",
            "_view_module_version": "1.2.0",
            "_view_name": "LayoutView",
            "align_content": null,
            "align_items": null,
            "align_self": null,
            "border": null,
            "bottom": null,
            "display": null,
            "flex": null,
            "flex_flow": null,
            "grid_area": null,
            "grid_auto_columns": null,
            "grid_auto_flow": null,
            "grid_auto_rows": null,
            "grid_column": null,
            "grid_gap": null,
            "grid_row": null,
            "grid_template_areas": null,
            "grid_template_columns": null,
            "grid_template_rows": null,
            "height": null,
            "justify_content": null,
            "justify_items": null,
            "left": null,
            "margin": null,
            "max_height": null,
            "max_width": null,
            "min_height": null,
            "min_width": null,
            "object_fit": null,
            "object_position": null,
            "order": null,
            "overflow": null,
            "overflow_x": null,
            "overflow_y": null,
            "padding": null,
            "right": null,
            "top": null,
            "visibility": null,
            "width": null
          }
        },
        "4c2a2157ce9a46a39de4431a937c8259": {
          "model_module": "@jupyter-widgets/controls",
          "model_name": "DescriptionStyleModel",
          "model_module_version": "1.5.0",
          "state": {
            "_model_module": "@jupyter-widgets/controls",
            "_model_module_version": "1.5.0",
            "_model_name": "DescriptionStyleModel",
            "_view_count": null,
            "_view_module": "@jupyter-widgets/base",
            "_view_module_version": "1.2.0",
            "_view_name": "StyleView",
            "description_width": ""
          }
        },
        "5ce6f7857e6f463c850bc5c73b59f0f0": {
          "model_module": "@jupyter-widgets/controls",
          "model_name": "HBoxModel",
          "model_module_version": "1.5.0",
          "state": {
            "_dom_classes": [],
            "_model_module": "@jupyter-widgets/controls",
            "_model_module_version": "1.5.0",
            "_model_name": "HBoxModel",
            "_view_count": null,
            "_view_module": "@jupyter-widgets/controls",
            "_view_module_version": "1.5.0",
            "_view_name": "HBoxView",
            "box_style": "",
            "children": [
              "IPY_MODEL_f324a79ad066480dbf0c8822595e2733",
              "IPY_MODEL_8a5876dc560c46d3b8a155bb53282262",
              "IPY_MODEL_d0b315961070417e8cff9382eb9e652f"
            ],
            "layout": "IPY_MODEL_f1f751c572d9402997e17573de4f2ef1"
          }
        },
        "f324a79ad066480dbf0c8822595e2733": {
          "model_module": "@jupyter-widgets/controls",
          "model_name": "HTMLModel",
          "model_module_version": "1.5.0",
          "state": {
            "_dom_classes": [],
            "_model_module": "@jupyter-widgets/controls",
            "_model_module_version": "1.5.0",
            "_model_name": "HTMLModel",
            "_view_count": null,
            "_view_module": "@jupyter-widgets/controls",
            "_view_module_version": "1.5.0",
            "_view_name": "HTMLView",
            "description": "",
            "description_tooltip": null,
            "layout": "IPY_MODEL_84ae2f813dd84bf3b5bb079f1d116675",
            "placeholder": "​",
            "style": "IPY_MODEL_7fefa9d738d64e60abeeb7b1d1db2069",
            "value": "Generating validation split:  98%"
          }
        },
        "8a5876dc560c46d3b8a155bb53282262": {
          "model_module": "@jupyter-widgets/controls",
          "model_name": "FloatProgressModel",
          "model_module_version": "1.5.0",
          "state": {
            "_dom_classes": [],
            "_model_module": "@jupyter-widgets/controls",
            "_model_module_version": "1.5.0",
            "_model_name": "FloatProgressModel",
            "_view_count": null,
            "_view_module": "@jupyter-widgets/controls",
            "_view_module_version": "1.5.0",
            "_view_name": "ProgressView",
            "bar_style": "",
            "description": "",
            "description_tooltip": null,
            "layout": "IPY_MODEL_98a9393a4ed043f69ff8ba10e7a87ed0",
            "max": 9982,
            "min": 0,
            "orientation": "horizontal",
            "style": "IPY_MODEL_ba67e6234e9e4881b4233c4536d0733e",
            "value": 9982
          }
        },
        "d0b315961070417e8cff9382eb9e652f": {
          "model_module": "@jupyter-widgets/controls",
          "model_name": "HTMLModel",
          "model_module_version": "1.5.0",
          "state": {
            "_dom_classes": [],
            "_model_module": "@jupyter-widgets/controls",
            "_model_module_version": "1.5.0",
            "_model_name": "HTMLModel",
            "_view_count": null,
            "_view_module": "@jupyter-widgets/controls",
            "_view_module_version": "1.5.0",
            "_view_name": "HTMLView",
            "description": "",
            "description_tooltip": null,
            "layout": "IPY_MODEL_937b7d853e1246e792b121e1ebd603f7",
            "placeholder": "​",
            "style": "IPY_MODEL_da92b8d961214a40967d0ca498ba6571",
            "value": " 9734/9982 [00:04&lt;00:00, 2193.48 examples/s]"
          }
        },
        "f1f751c572d9402997e17573de4f2ef1": {
          "model_module": "@jupyter-widgets/base",
          "model_name": "LayoutModel",
          "model_module_version": "1.2.0",
          "state": {
            "_model_module": "@jupyter-widgets/base",
            "_model_module_version": "1.2.0",
            "_model_name": "LayoutModel",
            "_view_count": null,
            "_view_module": "@jupyter-widgets/base",
            "_view_module_version": "1.2.0",
            "_view_name": "LayoutView",
            "align_content": null,
            "align_items": null,
            "align_self": null,
            "border": null,
            "bottom": null,
            "display": null,
            "flex": null,
            "flex_flow": null,
            "grid_area": null,
            "grid_auto_columns": null,
            "grid_auto_flow": null,
            "grid_auto_rows": null,
            "grid_column": null,
            "grid_gap": null,
            "grid_row": null,
            "grid_template_areas": null,
            "grid_template_columns": null,
            "grid_template_rows": null,
            "height": null,
            "justify_content": null,
            "justify_items": null,
            "left": null,
            "margin": null,
            "max_height": null,
            "max_width": null,
            "min_height": null,
            "min_width": null,
            "object_fit": null,
            "object_position": null,
            "order": null,
            "overflow": null,
            "overflow_x": null,
            "overflow_y": null,
            "padding": null,
            "right": null,
            "top": null,
            "visibility": "hidden",
            "width": null
          }
        },
        "84ae2f813dd84bf3b5bb079f1d116675": {
          "model_module": "@jupyter-widgets/base",
          "model_name": "LayoutModel",
          "model_module_version": "1.2.0",
          "state": {
            "_model_module": "@jupyter-widgets/base",
            "_model_module_version": "1.2.0",
            "_model_name": "LayoutModel",
            "_view_count": null,
            "_view_module": "@jupyter-widgets/base",
            "_view_module_version": "1.2.0",
            "_view_name": "LayoutView",
            "align_content": null,
            "align_items": null,
            "align_self": null,
            "border": null,
            "bottom": null,
            "display": null,
            "flex": null,
            "flex_flow": null,
            "grid_area": null,
            "grid_auto_columns": null,
            "grid_auto_flow": null,
            "grid_auto_rows": null,
            "grid_column": null,
            "grid_gap": null,
            "grid_row": null,
            "grid_template_areas": null,
            "grid_template_columns": null,
            "grid_template_rows": null,
            "height": null,
            "justify_content": null,
            "justify_items": null,
            "left": null,
            "margin": null,
            "max_height": null,
            "max_width": null,
            "min_height": null,
            "min_width": null,
            "object_fit": null,
            "object_position": null,
            "order": null,
            "overflow": null,
            "overflow_x": null,
            "overflow_y": null,
            "padding": null,
            "right": null,
            "top": null,
            "visibility": null,
            "width": null
          }
        },
        "7fefa9d738d64e60abeeb7b1d1db2069": {
          "model_module": "@jupyter-widgets/controls",
          "model_name": "DescriptionStyleModel",
          "model_module_version": "1.5.0",
          "state": {
            "_model_module": "@jupyter-widgets/controls",
            "_model_module_version": "1.5.0",
            "_model_name": "DescriptionStyleModel",
            "_view_count": null,
            "_view_module": "@jupyter-widgets/base",
            "_view_module_version": "1.2.0",
            "_view_name": "StyleView",
            "description_width": ""
          }
        },
        "98a9393a4ed043f69ff8ba10e7a87ed0": {
          "model_module": "@jupyter-widgets/base",
          "model_name": "LayoutModel",
          "model_module_version": "1.2.0",
          "state": {
            "_model_module": "@jupyter-widgets/base",
            "_model_module_version": "1.2.0",
            "_model_name": "LayoutModel",
            "_view_count": null,
            "_view_module": "@jupyter-widgets/base",
            "_view_module_version": "1.2.0",
            "_view_name": "LayoutView",
            "align_content": null,
            "align_items": null,
            "align_self": null,
            "border": null,
            "bottom": null,
            "display": null,
            "flex": null,
            "flex_flow": null,
            "grid_area": null,
            "grid_auto_columns": null,
            "grid_auto_flow": null,
            "grid_auto_rows": null,
            "grid_column": null,
            "grid_gap": null,
            "grid_row": null,
            "grid_template_areas": null,
            "grid_template_columns": null,
            "grid_template_rows": null,
            "height": null,
            "justify_content": null,
            "justify_items": null,
            "left": null,
            "margin": null,
            "max_height": null,
            "max_width": null,
            "min_height": null,
            "min_width": null,
            "object_fit": null,
            "object_position": null,
            "order": null,
            "overflow": null,
            "overflow_x": null,
            "overflow_y": null,
            "padding": null,
            "right": null,
            "top": null,
            "visibility": null,
            "width": null
          }
        },
        "ba67e6234e9e4881b4233c4536d0733e": {
          "model_module": "@jupyter-widgets/controls",
          "model_name": "ProgressStyleModel",
          "model_module_version": "1.5.0",
          "state": {
            "_model_module": "@jupyter-widgets/controls",
            "_model_module_version": "1.5.0",
            "_model_name": "ProgressStyleModel",
            "_view_count": null,
            "_view_module": "@jupyter-widgets/base",
            "_view_module_version": "1.2.0",
            "_view_name": "StyleView",
            "bar_color": null,
            "description_width": ""
          }
        },
        "937b7d853e1246e792b121e1ebd603f7": {
          "model_module": "@jupyter-widgets/base",
          "model_name": "LayoutModel",
          "model_module_version": "1.2.0",
          "state": {
            "_model_module": "@jupyter-widgets/base",
            "_model_module_version": "1.2.0",
            "_model_name": "LayoutModel",
            "_view_count": null,
            "_view_module": "@jupyter-widgets/base",
            "_view_module_version": "1.2.0",
            "_view_name": "LayoutView",
            "align_content": null,
            "align_items": null,
            "align_self": null,
            "border": null,
            "bottom": null,
            "display": null,
            "flex": null,
            "flex_flow": null,
            "grid_area": null,
            "grid_auto_columns": null,
            "grid_auto_flow": null,
            "grid_auto_rows": null,
            "grid_column": null,
            "grid_gap": null,
            "grid_row": null,
            "grid_template_areas": null,
            "grid_template_columns": null,
            "grid_template_rows": null,
            "height": null,
            "justify_content": null,
            "justify_items": null,
            "left": null,
            "margin": null,
            "max_height": null,
            "max_width": null,
            "min_height": null,
            "min_width": null,
            "object_fit": null,
            "object_position": null,
            "order": null,
            "overflow": null,
            "overflow_x": null,
            "overflow_y": null,
            "padding": null,
            "right": null,
            "top": null,
            "visibility": null,
            "width": null
          }
        },
        "da92b8d961214a40967d0ca498ba6571": {
          "model_module": "@jupyter-widgets/controls",
          "model_name": "DescriptionStyleModel",
          "model_module_version": "1.5.0",
          "state": {
            "_model_module": "@jupyter-widgets/controls",
            "_model_module_version": "1.5.0",
            "_model_name": "DescriptionStyleModel",
            "_view_count": null,
            "_view_module": "@jupyter-widgets/base",
            "_view_module_version": "1.2.0",
            "_view_name": "StyleView",
            "description_width": ""
          }
        },
        "44a612e3bf4b4403995d2668dda7a99f": {
          "model_module": "@jupyter-widgets/controls",
          "model_name": "HBoxModel",
          "model_module_version": "1.5.0",
          "state": {
            "_dom_classes": [],
            "_model_module": "@jupyter-widgets/controls",
            "_model_module_version": "1.5.0",
            "_model_name": "HBoxModel",
            "_view_count": null,
            "_view_module": "@jupyter-widgets/controls",
            "_view_module_version": "1.5.0",
            "_view_name": "HBoxView",
            "box_style": "",
            "children": [
              "IPY_MODEL_9a8c6514ece6498ea36b68638b85ac6c",
              "IPY_MODEL_a8b9aedceda24042a7eaf78f632e5669",
              "IPY_MODEL_319fce2a9a124edfbf02f7b619350177"
            ],
            "layout": "IPY_MODEL_674f58f2552d4e83b2d56e17c2be385d"
          }
        },
        "9a8c6514ece6498ea36b68638b85ac6c": {
          "model_module": "@jupyter-widgets/controls",
          "model_name": "HTMLModel",
          "model_module_version": "1.5.0",
          "state": {
            "_dom_classes": [],
            "_model_module": "@jupyter-widgets/controls",
            "_model_module_version": "1.5.0",
            "_model_name": "HTMLModel",
            "_view_count": null,
            "_view_module": "@jupyter-widgets/controls",
            "_view_module_version": "1.5.0",
            "_view_name": "HTMLView",
            "description": "",
            "description_tooltip": null,
            "layout": "IPY_MODEL_39d5970d46634c8f87ffa03bf276778b",
            "placeholder": "​",
            "style": "IPY_MODEL_f99633f1bd0349e3b4514d111b1e02a5",
            "value": "Generating test split:  96%"
          }
        },
        "a8b9aedceda24042a7eaf78f632e5669": {
          "model_module": "@jupyter-widgets/controls",
          "model_name": "FloatProgressModel",
          "model_module_version": "1.5.0",
          "state": {
            "_dom_classes": [],
            "_model_module": "@jupyter-widgets/controls",
            "_model_module_version": "1.5.0",
            "_model_name": "FloatProgressModel",
            "_view_count": null,
            "_view_module": "@jupyter-widgets/controls",
            "_view_module_version": "1.5.0",
            "_view_name": "ProgressView",
            "bar_style": "",
            "description": "",
            "description_tooltip": null,
            "layout": "IPY_MODEL_8eb03bf41a5b4eb9934946a7d1d13673",
            "max": 4890,
            "min": 0,
            "orientation": "horizontal",
            "style": "IPY_MODEL_5ac962eb8597472b80c8514116656abf",
            "value": 4890
          }
        },
        "319fce2a9a124edfbf02f7b619350177": {
          "model_module": "@jupyter-widgets/controls",
          "model_name": "HTMLModel",
          "model_module_version": "1.5.0",
          "state": {
            "_dom_classes": [],
            "_model_module": "@jupyter-widgets/controls",
            "_model_module_version": "1.5.0",
            "_model_name": "HTMLModel",
            "_view_count": null,
            "_view_module": "@jupyter-widgets/controls",
            "_view_module_version": "1.5.0",
            "_view_name": "HTMLView",
            "description": "",
            "description_tooltip": null,
            "layout": "IPY_MODEL_000b6d95a0f1497bab88c40e0473a92c",
            "placeholder": "​",
            "style": "IPY_MODEL_1a92d4fd95164d148a3236a3b114a9da",
            "value": " 4673/4890 [00:02&lt;00:00, 2118.86 examples/s]"
          }
        },
        "674f58f2552d4e83b2d56e17c2be385d": {
          "model_module": "@jupyter-widgets/base",
          "model_name": "LayoutModel",
          "model_module_version": "1.2.0",
          "state": {
            "_model_module": "@jupyter-widgets/base",
            "_model_module_version": "1.2.0",
            "_model_name": "LayoutModel",
            "_view_count": null,
            "_view_module": "@jupyter-widgets/base",
            "_view_module_version": "1.2.0",
            "_view_name": "LayoutView",
            "align_content": null,
            "align_items": null,
            "align_self": null,
            "border": null,
            "bottom": null,
            "display": null,
            "flex": null,
            "flex_flow": null,
            "grid_area": null,
            "grid_auto_columns": null,
            "grid_auto_flow": null,
            "grid_auto_rows": null,
            "grid_column": null,
            "grid_gap": null,
            "grid_row": null,
            "grid_template_areas": null,
            "grid_template_columns": null,
            "grid_template_rows": null,
            "height": null,
            "justify_content": null,
            "justify_items": null,
            "left": null,
            "margin": null,
            "max_height": null,
            "max_width": null,
            "min_height": null,
            "min_width": null,
            "object_fit": null,
            "object_position": null,
            "order": null,
            "overflow": null,
            "overflow_x": null,
            "overflow_y": null,
            "padding": null,
            "right": null,
            "top": null,
            "visibility": "hidden",
            "width": null
          }
        },
        "39d5970d46634c8f87ffa03bf276778b": {
          "model_module": "@jupyter-widgets/base",
          "model_name": "LayoutModel",
          "model_module_version": "1.2.0",
          "state": {
            "_model_module": "@jupyter-widgets/base",
            "_model_module_version": "1.2.0",
            "_model_name": "LayoutModel",
            "_view_count": null,
            "_view_module": "@jupyter-widgets/base",
            "_view_module_version": "1.2.0",
            "_view_name": "LayoutView",
            "align_content": null,
            "align_items": null,
            "align_self": null,
            "border": null,
            "bottom": null,
            "display": null,
            "flex": null,
            "flex_flow": null,
            "grid_area": null,
            "grid_auto_columns": null,
            "grid_auto_flow": null,
            "grid_auto_rows": null,
            "grid_column": null,
            "grid_gap": null,
            "grid_row": null,
            "grid_template_areas": null,
            "grid_template_columns": null,
            "grid_template_rows": null,
            "height": null,
            "justify_content": null,
            "justify_items": null,
            "left": null,
            "margin": null,
            "max_height": null,
            "max_width": null,
            "min_height": null,
            "min_width": null,
            "object_fit": null,
            "object_position": null,
            "order": null,
            "overflow": null,
            "overflow_x": null,
            "overflow_y": null,
            "padding": null,
            "right": null,
            "top": null,
            "visibility": null,
            "width": null
          }
        },
        "f99633f1bd0349e3b4514d111b1e02a5": {
          "model_module": "@jupyter-widgets/controls",
          "model_name": "DescriptionStyleModel",
          "model_module_version": "1.5.0",
          "state": {
            "_model_module": "@jupyter-widgets/controls",
            "_model_module_version": "1.5.0",
            "_model_name": "DescriptionStyleModel",
            "_view_count": null,
            "_view_module": "@jupyter-widgets/base",
            "_view_module_version": "1.2.0",
            "_view_name": "StyleView",
            "description_width": ""
          }
        },
        "8eb03bf41a5b4eb9934946a7d1d13673": {
          "model_module": "@jupyter-widgets/base",
          "model_name": "LayoutModel",
          "model_module_version": "1.2.0",
          "state": {
            "_model_module": "@jupyter-widgets/base",
            "_model_module_version": "1.2.0",
            "_model_name": "LayoutModel",
            "_view_count": null,
            "_view_module": "@jupyter-widgets/base",
            "_view_module_version": "1.2.0",
            "_view_name": "LayoutView",
            "align_content": null,
            "align_items": null,
            "align_self": null,
            "border": null,
            "bottom": null,
            "display": null,
            "flex": null,
            "flex_flow": null,
            "grid_area": null,
            "grid_auto_columns": null,
            "grid_auto_flow": null,
            "grid_auto_rows": null,
            "grid_column": null,
            "grid_gap": null,
            "grid_row": null,
            "grid_template_areas": null,
            "grid_template_columns": null,
            "grid_template_rows": null,
            "height": null,
            "justify_content": null,
            "justify_items": null,
            "left": null,
            "margin": null,
            "max_height": null,
            "max_width": null,
            "min_height": null,
            "min_width": null,
            "object_fit": null,
            "object_position": null,
            "order": null,
            "overflow": null,
            "overflow_x": null,
            "overflow_y": null,
            "padding": null,
            "right": null,
            "top": null,
            "visibility": null,
            "width": null
          }
        },
        "5ac962eb8597472b80c8514116656abf": {
          "model_module": "@jupyter-widgets/controls",
          "model_name": "ProgressStyleModel",
          "model_module_version": "1.5.0",
          "state": {
            "_model_module": "@jupyter-widgets/controls",
            "_model_module_version": "1.5.0",
            "_model_name": "ProgressStyleModel",
            "_view_count": null,
            "_view_module": "@jupyter-widgets/base",
            "_view_module_version": "1.2.0",
            "_view_name": "StyleView",
            "bar_color": null,
            "description_width": ""
          }
        },
        "000b6d95a0f1497bab88c40e0473a92c": {
          "model_module": "@jupyter-widgets/base",
          "model_name": "LayoutModel",
          "model_module_version": "1.2.0",
          "state": {
            "_model_module": "@jupyter-widgets/base",
            "_model_module_version": "1.2.0",
            "_model_name": "LayoutModel",
            "_view_count": null,
            "_view_module": "@jupyter-widgets/base",
            "_view_module_version": "1.2.0",
            "_view_name": "LayoutView",
            "align_content": null,
            "align_items": null,
            "align_self": null,
            "border": null,
            "bottom": null,
            "display": null,
            "flex": null,
            "flex_flow": null,
            "grid_area": null,
            "grid_auto_columns": null,
            "grid_auto_flow": null,
            "grid_auto_rows": null,
            "grid_column": null,
            "grid_gap": null,
            "grid_row": null,
            "grid_template_areas": null,
            "grid_template_columns": null,
            "grid_template_rows": null,
            "height": null,
            "justify_content": null,
            "justify_items": null,
            "left": null,
            "margin": null,
            "max_height": null,
            "max_width": null,
            "min_height": null,
            "min_width": null,
            "object_fit": null,
            "object_position": null,
            "order": null,
            "overflow": null,
            "overflow_x": null,
            "overflow_y": null,
            "padding": null,
            "right": null,
            "top": null,
            "visibility": null,
            "width": null
          }
        },
        "1a92d4fd95164d148a3236a3b114a9da": {
          "model_module": "@jupyter-widgets/controls",
          "model_name": "DescriptionStyleModel",
          "model_module_version": "1.5.0",
          "state": {
            "_model_module": "@jupyter-widgets/controls",
            "_model_module_version": "1.5.0",
            "_model_name": "DescriptionStyleModel",
            "_view_count": null,
            "_view_module": "@jupyter-widgets/base",
            "_view_module_version": "1.2.0",
            "_view_name": "StyleView",
            "description_width": ""
          }
        },
        "9a5b99dde0e547a6b6c40c08de6b4266": {
          "model_module": "@jupyter-widgets/controls",
          "model_name": "HBoxModel",
          "model_module_version": "1.5.0",
          "state": {
            "_dom_classes": [],
            "_model_module": "@jupyter-widgets/controls",
            "_model_module_version": "1.5.0",
            "_model_name": "HBoxModel",
            "_view_count": null,
            "_view_module": "@jupyter-widgets/controls",
            "_view_module_version": "1.5.0",
            "_view_name": "HBoxView",
            "box_style": "",
            "children": [
              "IPY_MODEL_405e1b71f4e54a49bc6d0bcb44a49ad6",
              "IPY_MODEL_12f43af2a70649869d879243d271e087",
              "IPY_MODEL_699e53e060904603956c3c0d1ce52c36"
            ],
            "layout": "IPY_MODEL_130b785a655e463b8ee93fe25207202a"
          }
        },
        "405e1b71f4e54a49bc6d0bcb44a49ad6": {
          "model_module": "@jupyter-widgets/controls",
          "model_name": "HTMLModel",
          "model_module_version": "1.5.0",
          "state": {
            "_dom_classes": [],
            "_model_module": "@jupyter-widgets/controls",
            "_model_module_version": "1.5.0",
            "_model_name": "HTMLModel",
            "_view_count": null,
            "_view_module": "@jupyter-widgets/controls",
            "_view_module_version": "1.5.0",
            "_view_name": "HTMLView",
            "description": "",
            "description_tooltip": null,
            "layout": "IPY_MODEL_4a981910a92d4180bb8a264cc7288c61",
            "placeholder": "​",
            "style": "IPY_MODEL_60cbb1ba30ec47438bfcf1dc221cd6ed",
            "value": "100%"
          }
        },
        "12f43af2a70649869d879243d271e087": {
          "model_module": "@jupyter-widgets/controls",
          "model_name": "FloatProgressModel",
          "model_module_version": "1.5.0",
          "state": {
            "_dom_classes": [],
            "_model_module": "@jupyter-widgets/controls",
            "_model_module_version": "1.5.0",
            "_model_name": "FloatProgressModel",
            "_view_count": null,
            "_view_module": "@jupyter-widgets/controls",
            "_view_module_version": "1.5.0",
            "_view_name": "ProgressView",
            "bar_style": "success",
            "description": "",
            "description_tooltip": null,
            "layout": "IPY_MODEL_941699eaac65455ab9f0df0c86196328",
            "max": 3,
            "min": 0,
            "orientation": "horizontal",
            "style": "IPY_MODEL_3380475194594da79cc1ebca68d2316f",
            "value": 3
          }
        },
        "699e53e060904603956c3c0d1ce52c36": {
          "model_module": "@jupyter-widgets/controls",
          "model_name": "HTMLModel",
          "model_module_version": "1.5.0",
          "state": {
            "_dom_classes": [],
            "_model_module": "@jupyter-widgets/controls",
            "_model_module_version": "1.5.0",
            "_model_name": "HTMLModel",
            "_view_count": null,
            "_view_module": "@jupyter-widgets/controls",
            "_view_module_version": "1.5.0",
            "_view_name": "HTMLView",
            "description": "",
            "description_tooltip": null,
            "layout": "IPY_MODEL_4b446ca9df4d4f20bde14b419963c7c6",
            "placeholder": "​",
            "style": "IPY_MODEL_96770da8dbfe4d3a8f7aa5122ae5787c",
            "value": " 3/3 [00:00&lt;00:00, 53.03it/s]"
          }
        },
        "130b785a655e463b8ee93fe25207202a": {
          "model_module": "@jupyter-widgets/base",
          "model_name": "LayoutModel",
          "model_module_version": "1.2.0",
          "state": {
            "_model_module": "@jupyter-widgets/base",
            "_model_module_version": "1.2.0",
            "_model_name": "LayoutModel",
            "_view_count": null,
            "_view_module": "@jupyter-widgets/base",
            "_view_module_version": "1.2.0",
            "_view_name": "LayoutView",
            "align_content": null,
            "align_items": null,
            "align_self": null,
            "border": null,
            "bottom": null,
            "display": null,
            "flex": null,
            "flex_flow": null,
            "grid_area": null,
            "grid_auto_columns": null,
            "grid_auto_flow": null,
            "grid_auto_rows": null,
            "grid_column": null,
            "grid_gap": null,
            "grid_row": null,
            "grid_template_areas": null,
            "grid_template_columns": null,
            "grid_template_rows": null,
            "height": null,
            "justify_content": null,
            "justify_items": null,
            "left": null,
            "margin": null,
            "max_height": null,
            "max_width": null,
            "min_height": null,
            "min_width": null,
            "object_fit": null,
            "object_position": null,
            "order": null,
            "overflow": null,
            "overflow_x": null,
            "overflow_y": null,
            "padding": null,
            "right": null,
            "top": null,
            "visibility": null,
            "width": null
          }
        },
        "4a981910a92d4180bb8a264cc7288c61": {
          "model_module": "@jupyter-widgets/base",
          "model_name": "LayoutModel",
          "model_module_version": "1.2.0",
          "state": {
            "_model_module": "@jupyter-widgets/base",
            "_model_module_version": "1.2.0",
            "_model_name": "LayoutModel",
            "_view_count": null,
            "_view_module": "@jupyter-widgets/base",
            "_view_module_version": "1.2.0",
            "_view_name": "LayoutView",
            "align_content": null,
            "align_items": null,
            "align_self": null,
            "border": null,
            "bottom": null,
            "display": null,
            "flex": null,
            "flex_flow": null,
            "grid_area": null,
            "grid_auto_columns": null,
            "grid_auto_flow": null,
            "grid_auto_rows": null,
            "grid_column": null,
            "grid_gap": null,
            "grid_row": null,
            "grid_template_areas": null,
            "grid_template_columns": null,
            "grid_template_rows": null,
            "height": null,
            "justify_content": null,
            "justify_items": null,
            "left": null,
            "margin": null,
            "max_height": null,
            "max_width": null,
            "min_height": null,
            "min_width": null,
            "object_fit": null,
            "object_position": null,
            "order": null,
            "overflow": null,
            "overflow_x": null,
            "overflow_y": null,
            "padding": null,
            "right": null,
            "top": null,
            "visibility": null,
            "width": null
          }
        },
        "60cbb1ba30ec47438bfcf1dc221cd6ed": {
          "model_module": "@jupyter-widgets/controls",
          "model_name": "DescriptionStyleModel",
          "model_module_version": "1.5.0",
          "state": {
            "_model_module": "@jupyter-widgets/controls",
            "_model_module_version": "1.5.0",
            "_model_name": "DescriptionStyleModel",
            "_view_count": null,
            "_view_module": "@jupyter-widgets/base",
            "_view_module_version": "1.2.0",
            "_view_name": "StyleView",
            "description_width": ""
          }
        },
        "941699eaac65455ab9f0df0c86196328": {
          "model_module": "@jupyter-widgets/base",
          "model_name": "LayoutModel",
          "model_module_version": "1.2.0",
          "state": {
            "_model_module": "@jupyter-widgets/base",
            "_model_module_version": "1.2.0",
            "_model_name": "LayoutModel",
            "_view_count": null,
            "_view_module": "@jupyter-widgets/base",
            "_view_module_version": "1.2.0",
            "_view_name": "LayoutView",
            "align_content": null,
            "align_items": null,
            "align_self": null,
            "border": null,
            "bottom": null,
            "display": null,
            "flex": null,
            "flex_flow": null,
            "grid_area": null,
            "grid_auto_columns": null,
            "grid_auto_flow": null,
            "grid_auto_rows": null,
            "grid_column": null,
            "grid_gap": null,
            "grid_row": null,
            "grid_template_areas": null,
            "grid_template_columns": null,
            "grid_template_rows": null,
            "height": null,
            "justify_content": null,
            "justify_items": null,
            "left": null,
            "margin": null,
            "max_height": null,
            "max_width": null,
            "min_height": null,
            "min_width": null,
            "object_fit": null,
            "object_position": null,
            "order": null,
            "overflow": null,
            "overflow_x": null,
            "overflow_y": null,
            "padding": null,
            "right": null,
            "top": null,
            "visibility": null,
            "width": null
          }
        },
        "3380475194594da79cc1ebca68d2316f": {
          "model_module": "@jupyter-widgets/controls",
          "model_name": "ProgressStyleModel",
          "model_module_version": "1.5.0",
          "state": {
            "_model_module": "@jupyter-widgets/controls",
            "_model_module_version": "1.5.0",
            "_model_name": "ProgressStyleModel",
            "_view_count": null,
            "_view_module": "@jupyter-widgets/base",
            "_view_module_version": "1.2.0",
            "_view_name": "StyleView",
            "bar_color": null,
            "description_width": ""
          }
        },
        "4b446ca9df4d4f20bde14b419963c7c6": {
          "model_module": "@jupyter-widgets/base",
          "model_name": "LayoutModel",
          "model_module_version": "1.2.0",
          "state": {
            "_model_module": "@jupyter-widgets/base",
            "_model_module_version": "1.2.0",
            "_model_name": "LayoutModel",
            "_view_count": null,
            "_view_module": "@jupyter-widgets/base",
            "_view_module_version": "1.2.0",
            "_view_name": "LayoutView",
            "align_content": null,
            "align_items": null,
            "align_self": null,
            "border": null,
            "bottom": null,
            "display": null,
            "flex": null,
            "flex_flow": null,
            "grid_area": null,
            "grid_auto_columns": null,
            "grid_auto_flow": null,
            "grid_auto_rows": null,
            "grid_column": null,
            "grid_gap": null,
            "grid_row": null,
            "grid_template_areas": null,
            "grid_template_columns": null,
            "grid_template_rows": null,
            "height": null,
            "justify_content": null,
            "justify_items": null,
            "left": null,
            "margin": null,
            "max_height": null,
            "max_width": null,
            "min_height": null,
            "min_width": null,
            "object_fit": null,
            "object_position": null,
            "order": null,
            "overflow": null,
            "overflow_x": null,
            "overflow_y": null,
            "padding": null,
            "right": null,
            "top": null,
            "visibility": null,
            "width": null
          }
        },
        "96770da8dbfe4d3a8f7aa5122ae5787c": {
          "model_module": "@jupyter-widgets/controls",
          "model_name": "DescriptionStyleModel",
          "model_module_version": "1.5.0",
          "state": {
            "_model_module": "@jupyter-widgets/controls",
            "_model_module_version": "1.5.0",
            "_model_name": "DescriptionStyleModel",
            "_view_count": null,
            "_view_module": "@jupyter-widgets/base",
            "_view_module_version": "1.2.0",
            "_view_name": "StyleView",
            "description_width": ""
          }
        },
        "f6a1541d6e9a4bdda9f7f9e7aee1cd1e": {
          "model_module": "@jupyter-widgets/controls",
          "model_name": "HBoxModel",
          "model_module_version": "1.5.0",
          "state": {
            "_dom_classes": [],
            "_model_module": "@jupyter-widgets/controls",
            "_model_module_version": "1.5.0",
            "_model_name": "HBoxModel",
            "_view_count": null,
            "_view_module": "@jupyter-widgets/controls",
            "_view_module_version": "1.5.0",
            "_view_name": "HBoxView",
            "box_style": "",
            "children": [
              "IPY_MODEL_a00335baee1c424bb6fd68428003bc6b",
              "IPY_MODEL_2dd46dbddb2b4d91a9a38e78f7997ca5",
              "IPY_MODEL_1d68b1efdf4b4db48ea52f6e15ae6213"
            ],
            "layout": "IPY_MODEL_9ed4c40ffa1f424999d5e364a20a20fe"
          }
        },
        "a00335baee1c424bb6fd68428003bc6b": {
          "model_module": "@jupyter-widgets/controls",
          "model_name": "HTMLModel",
          "model_module_version": "1.5.0",
          "state": {
            "_dom_classes": [],
            "_model_module": "@jupyter-widgets/controls",
            "_model_module_version": "1.5.0",
            "_model_name": "HTMLModel",
            "_view_count": null,
            "_view_module": "@jupyter-widgets/controls",
            "_view_module_version": "1.5.0",
            "_view_name": "HTMLView",
            "description": "",
            "description_tooltip": null,
            "layout": "IPY_MODEL_383063544e3048f29da04c68121e7578",
            "placeholder": "​",
            "style": "IPY_MODEL_a09dc3a7171142b182a613d5e45ac684",
            "value": "Downloading builder script: "
          }
        },
        "2dd46dbddb2b4d91a9a38e78f7997ca5": {
          "model_module": "@jupyter-widgets/controls",
          "model_name": "FloatProgressModel",
          "model_module_version": "1.5.0",
          "state": {
            "_dom_classes": [],
            "_model_module": "@jupyter-widgets/controls",
            "_model_module_version": "1.5.0",
            "_model_name": "FloatProgressModel",
            "_view_count": null,
            "_view_module": "@jupyter-widgets/controls",
            "_view_module_version": "1.5.0",
            "_view_name": "ProgressView",
            "bar_style": "success",
            "description": "",
            "description_tooltip": null,
            "layout": "IPY_MODEL_80028a84afb94d3d8bac2fcea921f37f",
            "max": 1652,
            "min": 0,
            "orientation": "horizontal",
            "style": "IPY_MODEL_45e39842d7804c3f859b258a58a6726b",
            "value": 1652
          }
        },
        "1d68b1efdf4b4db48ea52f6e15ae6213": {
          "model_module": "@jupyter-widgets/controls",
          "model_name": "HTMLModel",
          "model_module_version": "1.5.0",
          "state": {
            "_dom_classes": [],
            "_model_module": "@jupyter-widgets/controls",
            "_model_module_version": "1.5.0",
            "_model_name": "HTMLModel",
            "_view_count": null,
            "_view_module": "@jupyter-widgets/controls",
            "_view_module_version": "1.5.0",
            "_view_name": "HTMLView",
            "description": "",
            "description_tooltip": null,
            "layout": "IPY_MODEL_0103642d5ec24cfda5ba558bbc607e0f",
            "placeholder": "​",
            "style": "IPY_MODEL_3d8281b4ccd54b118c285265af19f114",
            "value": " 4.21k/? [00:00&lt;00:00, 145kB/s]"
          }
        },
        "9ed4c40ffa1f424999d5e364a20a20fe": {
          "model_module": "@jupyter-widgets/base",
          "model_name": "LayoutModel",
          "model_module_version": "1.2.0",
          "state": {
            "_model_module": "@jupyter-widgets/base",
            "_model_module_version": "1.2.0",
            "_model_name": "LayoutModel",
            "_view_count": null,
            "_view_module": "@jupyter-widgets/base",
            "_view_module_version": "1.2.0",
            "_view_name": "LayoutView",
            "align_content": null,
            "align_items": null,
            "align_self": null,
            "border": null,
            "bottom": null,
            "display": null,
            "flex": null,
            "flex_flow": null,
            "grid_area": null,
            "grid_auto_columns": null,
            "grid_auto_flow": null,
            "grid_auto_rows": null,
            "grid_column": null,
            "grid_gap": null,
            "grid_row": null,
            "grid_template_areas": null,
            "grid_template_columns": null,
            "grid_template_rows": null,
            "height": null,
            "justify_content": null,
            "justify_items": null,
            "left": null,
            "margin": null,
            "max_height": null,
            "max_width": null,
            "min_height": null,
            "min_width": null,
            "object_fit": null,
            "object_position": null,
            "order": null,
            "overflow": null,
            "overflow_x": null,
            "overflow_y": null,
            "padding": null,
            "right": null,
            "top": null,
            "visibility": null,
            "width": null
          }
        },
        "383063544e3048f29da04c68121e7578": {
          "model_module": "@jupyter-widgets/base",
          "model_name": "LayoutModel",
          "model_module_version": "1.2.0",
          "state": {
            "_model_module": "@jupyter-widgets/base",
            "_model_module_version": "1.2.0",
            "_model_name": "LayoutModel",
            "_view_count": null,
            "_view_module": "@jupyter-widgets/base",
            "_view_module_version": "1.2.0",
            "_view_name": "LayoutView",
            "align_content": null,
            "align_items": null,
            "align_self": null,
            "border": null,
            "bottom": null,
            "display": null,
            "flex": null,
            "flex_flow": null,
            "grid_area": null,
            "grid_auto_columns": null,
            "grid_auto_flow": null,
            "grid_auto_rows": null,
            "grid_column": null,
            "grid_gap": null,
            "grid_row": null,
            "grid_template_areas": null,
            "grid_template_columns": null,
            "grid_template_rows": null,
            "height": null,
            "justify_content": null,
            "justify_items": null,
            "left": null,
            "margin": null,
            "max_height": null,
            "max_width": null,
            "min_height": null,
            "min_width": null,
            "object_fit": null,
            "object_position": null,
            "order": null,
            "overflow": null,
            "overflow_x": null,
            "overflow_y": null,
            "padding": null,
            "right": null,
            "top": null,
            "visibility": null,
            "width": null
          }
        },
        "a09dc3a7171142b182a613d5e45ac684": {
          "model_module": "@jupyter-widgets/controls",
          "model_name": "DescriptionStyleModel",
          "model_module_version": "1.5.0",
          "state": {
            "_model_module": "@jupyter-widgets/controls",
            "_model_module_version": "1.5.0",
            "_model_name": "DescriptionStyleModel",
            "_view_count": null,
            "_view_module": "@jupyter-widgets/base",
            "_view_module_version": "1.2.0",
            "_view_name": "StyleView",
            "description_width": ""
          }
        },
        "80028a84afb94d3d8bac2fcea921f37f": {
          "model_module": "@jupyter-widgets/base",
          "model_name": "LayoutModel",
          "model_module_version": "1.2.0",
          "state": {
            "_model_module": "@jupyter-widgets/base",
            "_model_module_version": "1.2.0",
            "_model_name": "LayoutModel",
            "_view_count": null,
            "_view_module": "@jupyter-widgets/base",
            "_view_module_version": "1.2.0",
            "_view_name": "LayoutView",
            "align_content": null,
            "align_items": null,
            "align_self": null,
            "border": null,
            "bottom": null,
            "display": null,
            "flex": null,
            "flex_flow": null,
            "grid_area": null,
            "grid_auto_columns": null,
            "grid_auto_flow": null,
            "grid_auto_rows": null,
            "grid_column": null,
            "grid_gap": null,
            "grid_row": null,
            "grid_template_areas": null,
            "grid_template_columns": null,
            "grid_template_rows": null,
            "height": null,
            "justify_content": null,
            "justify_items": null,
            "left": null,
            "margin": null,
            "max_height": null,
            "max_width": null,
            "min_height": null,
            "min_width": null,
            "object_fit": null,
            "object_position": null,
            "order": null,
            "overflow": null,
            "overflow_x": null,
            "overflow_y": null,
            "padding": null,
            "right": null,
            "top": null,
            "visibility": null,
            "width": null
          }
        },
        "45e39842d7804c3f859b258a58a6726b": {
          "model_module": "@jupyter-widgets/controls",
          "model_name": "ProgressStyleModel",
          "model_module_version": "1.5.0",
          "state": {
            "_model_module": "@jupyter-widgets/controls",
            "_model_module_version": "1.5.0",
            "_model_name": "ProgressStyleModel",
            "_view_count": null,
            "_view_module": "@jupyter-widgets/base",
            "_view_module_version": "1.2.0",
            "_view_name": "StyleView",
            "bar_color": null,
            "description_width": ""
          }
        },
        "0103642d5ec24cfda5ba558bbc607e0f": {
          "model_module": "@jupyter-widgets/base",
          "model_name": "LayoutModel",
          "model_module_version": "1.2.0",
          "state": {
            "_model_module": "@jupyter-widgets/base",
            "_model_module_version": "1.2.0",
            "_model_name": "LayoutModel",
            "_view_count": null,
            "_view_module": "@jupyter-widgets/base",
            "_view_module_version": "1.2.0",
            "_view_name": "LayoutView",
            "align_content": null,
            "align_items": null,
            "align_self": null,
            "border": null,
            "bottom": null,
            "display": null,
            "flex": null,
            "flex_flow": null,
            "grid_area": null,
            "grid_auto_columns": null,
            "grid_auto_flow": null,
            "grid_auto_rows": null,
            "grid_column": null,
            "grid_gap": null,
            "grid_row": null,
            "grid_template_areas": null,
            "grid_template_columns": null,
            "grid_template_rows": null,
            "height": null,
            "justify_content": null,
            "justify_items": null,
            "left": null,
            "margin": null,
            "max_height": null,
            "max_width": null,
            "min_height": null,
            "min_width": null,
            "object_fit": null,
            "object_position": null,
            "order": null,
            "overflow": null,
            "overflow_x": null,
            "overflow_y": null,
            "padding": null,
            "right": null,
            "top": null,
            "visibility": null,
            "width": null
          }
        },
        "3d8281b4ccd54b118c285265af19f114": {
          "model_module": "@jupyter-widgets/controls",
          "model_name": "DescriptionStyleModel",
          "model_module_version": "1.5.0",
          "state": {
            "_model_module": "@jupyter-widgets/controls",
            "_model_module_version": "1.5.0",
            "_model_name": "DescriptionStyleModel",
            "_view_count": null,
            "_view_module": "@jupyter-widgets/base",
            "_view_module_version": "1.2.0",
            "_view_name": "StyleView",
            "description_width": ""
          }
        },
        "6b0f967d8f21424882ff228392609a9b": {
          "model_module": "@jupyter-widgets/controls",
          "model_name": "HBoxModel",
          "model_module_version": "1.5.0",
          "state": {
            "_dom_classes": [],
            "_model_module": "@jupyter-widgets/controls",
            "_model_module_version": "1.5.0",
            "_model_name": "HBoxModel",
            "_view_count": null,
            "_view_module": "@jupyter-widgets/controls",
            "_view_module_version": "1.5.0",
            "_view_name": "HBoxView",
            "box_style": "",
            "children": [
              "IPY_MODEL_47b905e3e914440ca3a5ef985870057c",
              "IPY_MODEL_779fa83c3a7543c4a0df274f62ca0a4f",
              "IPY_MODEL_cef5ef75c95744f0b86a4bf626668f2d"
            ],
            "layout": "IPY_MODEL_94161b27ff034db8a4460e770974b0aa"
          }
        },
        "47b905e3e914440ca3a5ef985870057c": {
          "model_module": "@jupyter-widgets/controls",
          "model_name": "HTMLModel",
          "model_module_version": "1.5.0",
          "state": {
            "_dom_classes": [],
            "_model_module": "@jupyter-widgets/controls",
            "_model_module_version": "1.5.0",
            "_model_name": "HTMLModel",
            "_view_count": null,
            "_view_module": "@jupyter-widgets/controls",
            "_view_module_version": "1.5.0",
            "_view_name": "HTMLView",
            "description": "",
            "description_tooltip": null,
            "layout": "IPY_MODEL_193dc43ee44d4144ae67e3d163429c4e",
            "placeholder": "​",
            "style": "IPY_MODEL_82eb1cd72b0d4306b151767cd560f610",
            "value": "Downloading (…)rocessor_config.json: 100%"
          }
        },
        "779fa83c3a7543c4a0df274f62ca0a4f": {
          "model_module": "@jupyter-widgets/controls",
          "model_name": "FloatProgressModel",
          "model_module_version": "1.5.0",
          "state": {
            "_dom_classes": [],
            "_model_module": "@jupyter-widgets/controls",
            "_model_module_version": "1.5.0",
            "_model_name": "FloatProgressModel",
            "_view_count": null,
            "_view_module": "@jupyter-widgets/controls",
            "_view_module_version": "1.5.0",
            "_view_name": "ProgressView",
            "bar_style": "success",
            "description": "",
            "description_tooltip": null,
            "layout": "IPY_MODEL_22230bcad97a4c55a141a53786ad5257",
            "max": 159,
            "min": 0,
            "orientation": "horizontal",
            "style": "IPY_MODEL_95b151a604554e8c94814ef27bf93cfd",
            "value": 159
          }
        },
        "cef5ef75c95744f0b86a4bf626668f2d": {
          "model_module": "@jupyter-widgets/controls",
          "model_name": "HTMLModel",
          "model_module_version": "1.5.0",
          "state": {
            "_dom_classes": [],
            "_model_module": "@jupyter-widgets/controls",
            "_model_module_version": "1.5.0",
            "_model_name": "HTMLModel",
            "_view_count": null,
            "_view_module": "@jupyter-widgets/controls",
            "_view_module_version": "1.5.0",
            "_view_name": "HTMLView",
            "description": "",
            "description_tooltip": null,
            "layout": "IPY_MODEL_7d48dfd2a4884c8487fd83233561d9ea",
            "placeholder": "​",
            "style": "IPY_MODEL_8ec710231dff475e9aee891062f2ef09",
            "value": " 159/159 [00:00&lt;00:00, 5.79kB/s]"
          }
        },
        "94161b27ff034db8a4460e770974b0aa": {
          "model_module": "@jupyter-widgets/base",
          "model_name": "LayoutModel",
          "model_module_version": "1.2.0",
          "state": {
            "_model_module": "@jupyter-widgets/base",
            "_model_module_version": "1.2.0",
            "_model_name": "LayoutModel",
            "_view_count": null,
            "_view_module": "@jupyter-widgets/base",
            "_view_module_version": "1.2.0",
            "_view_name": "LayoutView",
            "align_content": null,
            "align_items": null,
            "align_self": null,
            "border": null,
            "bottom": null,
            "display": null,
            "flex": null,
            "flex_flow": null,
            "grid_area": null,
            "grid_auto_columns": null,
            "grid_auto_flow": null,
            "grid_auto_rows": null,
            "grid_column": null,
            "grid_gap": null,
            "grid_row": null,
            "grid_template_areas": null,
            "grid_template_columns": null,
            "grid_template_rows": null,
            "height": null,
            "justify_content": null,
            "justify_items": null,
            "left": null,
            "margin": null,
            "max_height": null,
            "max_width": null,
            "min_height": null,
            "min_width": null,
            "object_fit": null,
            "object_position": null,
            "order": null,
            "overflow": null,
            "overflow_x": null,
            "overflow_y": null,
            "padding": null,
            "right": null,
            "top": null,
            "visibility": null,
            "width": null
          }
        },
        "193dc43ee44d4144ae67e3d163429c4e": {
          "model_module": "@jupyter-widgets/base",
          "model_name": "LayoutModel",
          "model_module_version": "1.2.0",
          "state": {
            "_model_module": "@jupyter-widgets/base",
            "_model_module_version": "1.2.0",
            "_model_name": "LayoutModel",
            "_view_count": null,
            "_view_module": "@jupyter-widgets/base",
            "_view_module_version": "1.2.0",
            "_view_name": "LayoutView",
            "align_content": null,
            "align_items": null,
            "align_self": null,
            "border": null,
            "bottom": null,
            "display": null,
            "flex": null,
            "flex_flow": null,
            "grid_area": null,
            "grid_auto_columns": null,
            "grid_auto_flow": null,
            "grid_auto_rows": null,
            "grid_column": null,
            "grid_gap": null,
            "grid_row": null,
            "grid_template_areas": null,
            "grid_template_columns": null,
            "grid_template_rows": null,
            "height": null,
            "justify_content": null,
            "justify_items": null,
            "left": null,
            "margin": null,
            "max_height": null,
            "max_width": null,
            "min_height": null,
            "min_width": null,
            "object_fit": null,
            "object_position": null,
            "order": null,
            "overflow": null,
            "overflow_x": null,
            "overflow_y": null,
            "padding": null,
            "right": null,
            "top": null,
            "visibility": null,
            "width": null
          }
        },
        "82eb1cd72b0d4306b151767cd560f610": {
          "model_module": "@jupyter-widgets/controls",
          "model_name": "DescriptionStyleModel",
          "model_module_version": "1.5.0",
          "state": {
            "_model_module": "@jupyter-widgets/controls",
            "_model_module_version": "1.5.0",
            "_model_name": "DescriptionStyleModel",
            "_view_count": null,
            "_view_module": "@jupyter-widgets/base",
            "_view_module_version": "1.2.0",
            "_view_name": "StyleView",
            "description_width": ""
          }
        },
        "22230bcad97a4c55a141a53786ad5257": {
          "model_module": "@jupyter-widgets/base",
          "model_name": "LayoutModel",
          "model_module_version": "1.2.0",
          "state": {
            "_model_module": "@jupyter-widgets/base",
            "_model_module_version": "1.2.0",
            "_model_name": "LayoutModel",
            "_view_count": null,
            "_view_module": "@jupyter-widgets/base",
            "_view_module_version": "1.2.0",
            "_view_name": "LayoutView",
            "align_content": null,
            "align_items": null,
            "align_self": null,
            "border": null,
            "bottom": null,
            "display": null,
            "flex": null,
            "flex_flow": null,
            "grid_area": null,
            "grid_auto_columns": null,
            "grid_auto_flow": null,
            "grid_auto_rows": null,
            "grid_column": null,
            "grid_gap": null,
            "grid_row": null,
            "grid_template_areas": null,
            "grid_template_columns": null,
            "grid_template_rows": null,
            "height": null,
            "justify_content": null,
            "justify_items": null,
            "left": null,
            "margin": null,
            "max_height": null,
            "max_width": null,
            "min_height": null,
            "min_width": null,
            "object_fit": null,
            "object_position": null,
            "order": null,
            "overflow": null,
            "overflow_x": null,
            "overflow_y": null,
            "padding": null,
            "right": null,
            "top": null,
            "visibility": null,
            "width": null
          }
        },
        "95b151a604554e8c94814ef27bf93cfd": {
          "model_module": "@jupyter-widgets/controls",
          "model_name": "ProgressStyleModel",
          "model_module_version": "1.5.0",
          "state": {
            "_model_module": "@jupyter-widgets/controls",
            "_model_module_version": "1.5.0",
            "_model_name": "ProgressStyleModel",
            "_view_count": null,
            "_view_module": "@jupyter-widgets/base",
            "_view_module_version": "1.2.0",
            "_view_name": "StyleView",
            "bar_color": null,
            "description_width": ""
          }
        },
        "7d48dfd2a4884c8487fd83233561d9ea": {
          "model_module": "@jupyter-widgets/base",
          "model_name": "LayoutModel",
          "model_module_version": "1.2.0",
          "state": {
            "_model_module": "@jupyter-widgets/base",
            "_model_module_version": "1.2.0",
            "_model_name": "LayoutModel",
            "_view_count": null,
            "_view_module": "@jupyter-widgets/base",
            "_view_module_version": "1.2.0",
            "_view_name": "LayoutView",
            "align_content": null,
            "align_items": null,
            "align_self": null,
            "border": null,
            "bottom": null,
            "display": null,
            "flex": null,
            "flex_flow": null,
            "grid_area": null,
            "grid_auto_columns": null,
            "grid_auto_flow": null,
            "grid_auto_rows": null,
            "grid_column": null,
            "grid_gap": null,
            "grid_row": null,
            "grid_template_areas": null,
            "grid_template_columns": null,
            "grid_template_rows": null,
            "height": null,
            "justify_content": null,
            "justify_items": null,
            "left": null,
            "margin": null,
            "max_height": null,
            "max_width": null,
            "min_height": null,
            "min_width": null,
            "object_fit": null,
            "object_position": null,
            "order": null,
            "overflow": null,
            "overflow_x": null,
            "overflow_y": null,
            "padding": null,
            "right": null,
            "top": null,
            "visibility": null,
            "width": null
          }
        },
        "8ec710231dff475e9aee891062f2ef09": {
          "model_module": "@jupyter-widgets/controls",
          "model_name": "DescriptionStyleModel",
          "model_module_version": "1.5.0",
          "state": {
            "_model_module": "@jupyter-widgets/controls",
            "_model_module_version": "1.5.0",
            "_model_name": "DescriptionStyleModel",
            "_view_count": null,
            "_view_module": "@jupyter-widgets/base",
            "_view_module_version": "1.2.0",
            "_view_name": "StyleView",
            "description_width": ""
          }
        },
        "4414c0bd096743eab2fa483e3863c6fc": {
          "model_module": "@jupyter-widgets/controls",
          "model_name": "HBoxModel",
          "model_module_version": "1.5.0",
          "state": {
            "_dom_classes": [],
            "_model_module": "@jupyter-widgets/controls",
            "_model_module_version": "1.5.0",
            "_model_name": "HBoxModel",
            "_view_count": null,
            "_view_module": "@jupyter-widgets/controls",
            "_view_module_version": "1.5.0",
            "_view_name": "HBoxView",
            "box_style": "",
            "children": [
              "IPY_MODEL_c70e9502650b4730a80f0ccf6a7fcfcd",
              "IPY_MODEL_37ea5d20f68e45bdac55a02e92a59e86",
              "IPY_MODEL_99258ddd80b0400883963b8d27b197b8"
            ],
            "layout": "IPY_MODEL_3db766b92e924fc0b8d61e74e1e3559e"
          }
        },
        "c70e9502650b4730a80f0ccf6a7fcfcd": {
          "model_module": "@jupyter-widgets/controls",
          "model_name": "HTMLModel",
          "model_module_version": "1.5.0",
          "state": {
            "_dom_classes": [],
            "_model_module": "@jupyter-widgets/controls",
            "_model_module_version": "1.5.0",
            "_model_name": "HTMLModel",
            "_view_count": null,
            "_view_module": "@jupyter-widgets/controls",
            "_view_module_version": "1.5.0",
            "_view_name": "HTMLView",
            "description": "",
            "description_tooltip": null,
            "layout": "IPY_MODEL_6cd25ac9d18a4a21a2c49a583feffb97",
            "placeholder": "​",
            "style": "IPY_MODEL_c89004da31f14511a24e7f60fdbc27cf",
            "value": "Downloading (…)lve/main/config.json: 100%"
          }
        },
        "37ea5d20f68e45bdac55a02e92a59e86": {
          "model_module": "@jupyter-widgets/controls",
          "model_name": "FloatProgressModel",
          "model_module_version": "1.5.0",
          "state": {
            "_dom_classes": [],
            "_model_module": "@jupyter-widgets/controls",
            "_model_module_version": "1.5.0",
            "_model_name": "FloatProgressModel",
            "_view_count": null,
            "_view_module": "@jupyter-widgets/controls",
            "_view_module_version": "1.5.0",
            "_view_name": "ProgressView",
            "bar_style": "success",
            "description": "",
            "description_tooltip": null,
            "layout": "IPY_MODEL_1b90554e525347c18b9b9f4e12e3299a",
            "max": 1842,
            "min": 0,
            "orientation": "horizontal",
            "style": "IPY_MODEL_da9783fa6ffd4d69be878f80426817eb",
            "value": 1842
          }
        },
        "99258ddd80b0400883963b8d27b197b8": {
          "model_module": "@jupyter-widgets/controls",
          "model_name": "HTMLModel",
          "model_module_version": "1.5.0",
          "state": {
            "_dom_classes": [],
            "_model_module": "@jupyter-widgets/controls",
            "_model_module_version": "1.5.0",
            "_model_name": "HTMLModel",
            "_view_count": null,
            "_view_module": "@jupyter-widgets/controls",
            "_view_module_version": "1.5.0",
            "_view_name": "HTMLView",
            "description": "",
            "description_tooltip": null,
            "layout": "IPY_MODEL_053c69e64f7b47a68e7cd72337ff4f63",
            "placeholder": "​",
            "style": "IPY_MODEL_2ddaaf55a47d4b7fbe51b33c6a2fdb31",
            "value": " 1.84k/1.84k [00:00&lt;00:00, 57.1kB/s]"
          }
        },
        "3db766b92e924fc0b8d61e74e1e3559e": {
          "model_module": "@jupyter-widgets/base",
          "model_name": "LayoutModel",
          "model_module_version": "1.2.0",
          "state": {
            "_model_module": "@jupyter-widgets/base",
            "_model_module_version": "1.2.0",
            "_model_name": "LayoutModel",
            "_view_count": null,
            "_view_module": "@jupyter-widgets/base",
            "_view_module_version": "1.2.0",
            "_view_name": "LayoutView",
            "align_content": null,
            "align_items": null,
            "align_self": null,
            "border": null,
            "bottom": null,
            "display": null,
            "flex": null,
            "flex_flow": null,
            "grid_area": null,
            "grid_auto_columns": null,
            "grid_auto_flow": null,
            "grid_auto_rows": null,
            "grid_column": null,
            "grid_gap": null,
            "grid_row": null,
            "grid_template_areas": null,
            "grid_template_columns": null,
            "grid_template_rows": null,
            "height": null,
            "justify_content": null,
            "justify_items": null,
            "left": null,
            "margin": null,
            "max_height": null,
            "max_width": null,
            "min_height": null,
            "min_width": null,
            "object_fit": null,
            "object_position": null,
            "order": null,
            "overflow": null,
            "overflow_x": null,
            "overflow_y": null,
            "padding": null,
            "right": null,
            "top": null,
            "visibility": null,
            "width": null
          }
        },
        "6cd25ac9d18a4a21a2c49a583feffb97": {
          "model_module": "@jupyter-widgets/base",
          "model_name": "LayoutModel",
          "model_module_version": "1.2.0",
          "state": {
            "_model_module": "@jupyter-widgets/base",
            "_model_module_version": "1.2.0",
            "_model_name": "LayoutModel",
            "_view_count": null,
            "_view_module": "@jupyter-widgets/base",
            "_view_module_version": "1.2.0",
            "_view_name": "LayoutView",
            "align_content": null,
            "align_items": null,
            "align_self": null,
            "border": null,
            "bottom": null,
            "display": null,
            "flex": null,
            "flex_flow": null,
            "grid_area": null,
            "grid_auto_columns": null,
            "grid_auto_flow": null,
            "grid_auto_rows": null,
            "grid_column": null,
            "grid_gap": null,
            "grid_row": null,
            "grid_template_areas": null,
            "grid_template_columns": null,
            "grid_template_rows": null,
            "height": null,
            "justify_content": null,
            "justify_items": null,
            "left": null,
            "margin": null,
            "max_height": null,
            "max_width": null,
            "min_height": null,
            "min_width": null,
            "object_fit": null,
            "object_position": null,
            "order": null,
            "overflow": null,
            "overflow_x": null,
            "overflow_y": null,
            "padding": null,
            "right": null,
            "top": null,
            "visibility": null,
            "width": null
          }
        },
        "c89004da31f14511a24e7f60fdbc27cf": {
          "model_module": "@jupyter-widgets/controls",
          "model_name": "DescriptionStyleModel",
          "model_module_version": "1.5.0",
          "state": {
            "_model_module": "@jupyter-widgets/controls",
            "_model_module_version": "1.5.0",
            "_model_name": "DescriptionStyleModel",
            "_view_count": null,
            "_view_module": "@jupyter-widgets/base",
            "_view_module_version": "1.2.0",
            "_view_name": "StyleView",
            "description_width": ""
          }
        },
        "1b90554e525347c18b9b9f4e12e3299a": {
          "model_module": "@jupyter-widgets/base",
          "model_name": "LayoutModel",
          "model_module_version": "1.2.0",
          "state": {
            "_model_module": "@jupyter-widgets/base",
            "_model_module_version": "1.2.0",
            "_model_name": "LayoutModel",
            "_view_count": null,
            "_view_module": "@jupyter-widgets/base",
            "_view_module_version": "1.2.0",
            "_view_name": "LayoutView",
            "align_content": null,
            "align_items": null,
            "align_self": null,
            "border": null,
            "bottom": null,
            "display": null,
            "flex": null,
            "flex_flow": null,
            "grid_area": null,
            "grid_auto_columns": null,
            "grid_auto_flow": null,
            "grid_auto_rows": null,
            "grid_column": null,
            "grid_gap": null,
            "grid_row": null,
            "grid_template_areas": null,
            "grid_template_columns": null,
            "grid_template_rows": null,
            "height": null,
            "justify_content": null,
            "justify_items": null,
            "left": null,
            "margin": null,
            "max_height": null,
            "max_width": null,
            "min_height": null,
            "min_width": null,
            "object_fit": null,
            "object_position": null,
            "order": null,
            "overflow": null,
            "overflow_x": null,
            "overflow_y": null,
            "padding": null,
            "right": null,
            "top": null,
            "visibility": null,
            "width": null
          }
        },
        "da9783fa6ffd4d69be878f80426817eb": {
          "model_module": "@jupyter-widgets/controls",
          "model_name": "ProgressStyleModel",
          "model_module_version": "1.5.0",
          "state": {
            "_model_module": "@jupyter-widgets/controls",
            "_model_module_version": "1.5.0",
            "_model_name": "ProgressStyleModel",
            "_view_count": null,
            "_view_module": "@jupyter-widgets/base",
            "_view_module_version": "1.2.0",
            "_view_name": "StyleView",
            "bar_color": null,
            "description_width": ""
          }
        },
        "053c69e64f7b47a68e7cd72337ff4f63": {
          "model_module": "@jupyter-widgets/base",
          "model_name": "LayoutModel",
          "model_module_version": "1.2.0",
          "state": {
            "_model_module": "@jupyter-widgets/base",
            "_model_module_version": "1.2.0",
            "_model_name": "LayoutModel",
            "_view_count": null,
            "_view_module": "@jupyter-widgets/base",
            "_view_module_version": "1.2.0",
            "_view_name": "LayoutView",
            "align_content": null,
            "align_items": null,
            "align_self": null,
            "border": null,
            "bottom": null,
            "display": null,
            "flex": null,
            "flex_flow": null,
            "grid_area": null,
            "grid_auto_columns": null,
            "grid_auto_flow": null,
            "grid_auto_rows": null,
            "grid_column": null,
            "grid_gap": null,
            "grid_row": null,
            "grid_template_areas": null,
            "grid_template_columns": null,
            "grid_template_rows": null,
            "height": null,
            "justify_content": null,
            "justify_items": null,
            "left": null,
            "margin": null,
            "max_height": null,
            "max_width": null,
            "min_height": null,
            "min_width": null,
            "object_fit": null,
            "object_position": null,
            "order": null,
            "overflow": null,
            "overflow_x": null,
            "overflow_y": null,
            "padding": null,
            "right": null,
            "top": null,
            "visibility": null,
            "width": null
          }
        },
        "2ddaaf55a47d4b7fbe51b33c6a2fdb31": {
          "model_module": "@jupyter-widgets/controls",
          "model_name": "DescriptionStyleModel",
          "model_module_version": "1.5.0",
          "state": {
            "_model_module": "@jupyter-widgets/controls",
            "_model_module_version": "1.5.0",
            "_model_name": "DescriptionStyleModel",
            "_view_count": null,
            "_view_module": "@jupyter-widgets/base",
            "_view_module_version": "1.2.0",
            "_view_name": "StyleView",
            "description_width": ""
          }
        },
        "9ebccb01d0f0498b907cd1c81c86885a": {
          "model_module": "@jupyter-widgets/controls",
          "model_name": "HBoxModel",
          "model_module_version": "1.5.0",
          "state": {
            "_dom_classes": [],
            "_model_module": "@jupyter-widgets/controls",
            "_model_module_version": "1.5.0",
            "_model_name": "HBoxModel",
            "_view_count": null,
            "_view_module": "@jupyter-widgets/controls",
            "_view_module_version": "1.5.0",
            "_view_name": "HBoxView",
            "box_style": "",
            "children": [
              "IPY_MODEL_aea3dcf3d2b0416f83f4f27d79e2a718",
              "IPY_MODEL_a78ef10d1fc04205ba07b6f13bb373c3",
              "IPY_MODEL_f62fd9f836bb41c18814ca3b8e9dea65"
            ],
            "layout": "IPY_MODEL_d2fd4871a3094b91bca39ac522c07d8e"
          }
        },
        "aea3dcf3d2b0416f83f4f27d79e2a718": {
          "model_module": "@jupyter-widgets/controls",
          "model_name": "HTMLModel",
          "model_module_version": "1.5.0",
          "state": {
            "_dom_classes": [],
            "_model_module": "@jupyter-widgets/controls",
            "_model_module_version": "1.5.0",
            "_model_name": "HTMLModel",
            "_view_count": null,
            "_view_module": "@jupyter-widgets/controls",
            "_view_module_version": "1.5.0",
            "_view_name": "HTMLView",
            "description": "",
            "description_tooltip": null,
            "layout": "IPY_MODEL_7dd4f750e03e4fdf9a046239e91063d6",
            "placeholder": "​",
            "style": "IPY_MODEL_8cd04a2348ce4423b3dc43c9154da1b1",
            "value": "Map: 100%"
          }
        },
        "a78ef10d1fc04205ba07b6f13bb373c3": {
          "model_module": "@jupyter-widgets/controls",
          "model_name": "FloatProgressModel",
          "model_module_version": "1.5.0",
          "state": {
            "_dom_classes": [],
            "_model_module": "@jupyter-widgets/controls",
            "_model_module_version": "1.5.0",
            "_model_name": "FloatProgressModel",
            "_view_count": null,
            "_view_module": "@jupyter-widgets/controls",
            "_view_module_version": "1.5.0",
            "_view_name": "ProgressView",
            "bar_style": "",
            "description": "",
            "description_tooltip": null,
            "layout": "IPY_MODEL_77894a0d4a224d389c9f6342652256be",
            "max": 84848,
            "min": 0,
            "orientation": "horizontal",
            "style": "IPY_MODEL_8f343be64868477a917c9f2e5d70c83a",
            "value": 84848
          }
        },
        "f62fd9f836bb41c18814ca3b8e9dea65": {
          "model_module": "@jupyter-widgets/controls",
          "model_name": "HTMLModel",
          "model_module_version": "1.5.0",
          "state": {
            "_dom_classes": [],
            "_model_module": "@jupyter-widgets/controls",
            "_model_module_version": "1.5.0",
            "_model_name": "HTMLModel",
            "_view_count": null,
            "_view_module": "@jupyter-widgets/controls",
            "_view_module_version": "1.5.0",
            "_view_name": "HTMLView",
            "description": "",
            "description_tooltip": null,
            "layout": "IPY_MODEL_459b368a9c03457c9b415a5c4990c4ae",
            "placeholder": "​",
            "style": "IPY_MODEL_53a3370ed74742d183670baa98610459",
            "value": " 84848/84848 [01:05&lt;00:00, 1313.87 examples/s]"
          }
        },
        "d2fd4871a3094b91bca39ac522c07d8e": {
          "model_module": "@jupyter-widgets/base",
          "model_name": "LayoutModel",
          "model_module_version": "1.2.0",
          "state": {
            "_model_module": "@jupyter-widgets/base",
            "_model_module_version": "1.2.0",
            "_model_name": "LayoutModel",
            "_view_count": null,
            "_view_module": "@jupyter-widgets/base",
            "_view_module_version": "1.2.0",
            "_view_name": "LayoutView",
            "align_content": null,
            "align_items": null,
            "align_self": null,
            "border": null,
            "bottom": null,
            "display": null,
            "flex": null,
            "flex_flow": null,
            "grid_area": null,
            "grid_auto_columns": null,
            "grid_auto_flow": null,
            "grid_auto_rows": null,
            "grid_column": null,
            "grid_gap": null,
            "grid_row": null,
            "grid_template_areas": null,
            "grid_template_columns": null,
            "grid_template_rows": null,
            "height": null,
            "justify_content": null,
            "justify_items": null,
            "left": null,
            "margin": null,
            "max_height": null,
            "max_width": null,
            "min_height": null,
            "min_width": null,
            "object_fit": null,
            "object_position": null,
            "order": null,
            "overflow": null,
            "overflow_x": null,
            "overflow_y": null,
            "padding": null,
            "right": null,
            "top": null,
            "visibility": "hidden",
            "width": null
          }
        },
        "7dd4f750e03e4fdf9a046239e91063d6": {
          "model_module": "@jupyter-widgets/base",
          "model_name": "LayoutModel",
          "model_module_version": "1.2.0",
          "state": {
            "_model_module": "@jupyter-widgets/base",
            "_model_module_version": "1.2.0",
            "_model_name": "LayoutModel",
            "_view_count": null,
            "_view_module": "@jupyter-widgets/base",
            "_view_module_version": "1.2.0",
            "_view_name": "LayoutView",
            "align_content": null,
            "align_items": null,
            "align_self": null,
            "border": null,
            "bottom": null,
            "display": null,
            "flex": null,
            "flex_flow": null,
            "grid_area": null,
            "grid_auto_columns": null,
            "grid_auto_flow": null,
            "grid_auto_rows": null,
            "grid_column": null,
            "grid_gap": null,
            "grid_row": null,
            "grid_template_areas": null,
            "grid_template_columns": null,
            "grid_template_rows": null,
            "height": null,
            "justify_content": null,
            "justify_items": null,
            "left": null,
            "margin": null,
            "max_height": null,
            "max_width": null,
            "min_height": null,
            "min_width": null,
            "object_fit": null,
            "object_position": null,
            "order": null,
            "overflow": null,
            "overflow_x": null,
            "overflow_y": null,
            "padding": null,
            "right": null,
            "top": null,
            "visibility": null,
            "width": null
          }
        },
        "8cd04a2348ce4423b3dc43c9154da1b1": {
          "model_module": "@jupyter-widgets/controls",
          "model_name": "DescriptionStyleModel",
          "model_module_version": "1.5.0",
          "state": {
            "_model_module": "@jupyter-widgets/controls",
            "_model_module_version": "1.5.0",
            "_model_name": "DescriptionStyleModel",
            "_view_count": null,
            "_view_module": "@jupyter-widgets/base",
            "_view_module_version": "1.2.0",
            "_view_name": "StyleView",
            "description_width": ""
          }
        },
        "77894a0d4a224d389c9f6342652256be": {
          "model_module": "@jupyter-widgets/base",
          "model_name": "LayoutModel",
          "model_module_version": "1.2.0",
          "state": {
            "_model_module": "@jupyter-widgets/base",
            "_model_module_version": "1.2.0",
            "_model_name": "LayoutModel",
            "_view_count": null,
            "_view_module": "@jupyter-widgets/base",
            "_view_module_version": "1.2.0",
            "_view_name": "LayoutView",
            "align_content": null,
            "align_items": null,
            "align_self": null,
            "border": null,
            "bottom": null,
            "display": null,
            "flex": null,
            "flex_flow": null,
            "grid_area": null,
            "grid_auto_columns": null,
            "grid_auto_flow": null,
            "grid_auto_rows": null,
            "grid_column": null,
            "grid_gap": null,
            "grid_row": null,
            "grid_template_areas": null,
            "grid_template_columns": null,
            "grid_template_rows": null,
            "height": null,
            "justify_content": null,
            "justify_items": null,
            "left": null,
            "margin": null,
            "max_height": null,
            "max_width": null,
            "min_height": null,
            "min_width": null,
            "object_fit": null,
            "object_position": null,
            "order": null,
            "overflow": null,
            "overflow_x": null,
            "overflow_y": null,
            "padding": null,
            "right": null,
            "top": null,
            "visibility": null,
            "width": null
          }
        },
        "8f343be64868477a917c9f2e5d70c83a": {
          "model_module": "@jupyter-widgets/controls",
          "model_name": "ProgressStyleModel",
          "model_module_version": "1.5.0",
          "state": {
            "_model_module": "@jupyter-widgets/controls",
            "_model_module_version": "1.5.0",
            "_model_name": "ProgressStyleModel",
            "_view_count": null,
            "_view_module": "@jupyter-widgets/base",
            "_view_module_version": "1.2.0",
            "_view_name": "StyleView",
            "bar_color": null,
            "description_width": ""
          }
        },
        "459b368a9c03457c9b415a5c4990c4ae": {
          "model_module": "@jupyter-widgets/base",
          "model_name": "LayoutModel",
          "model_module_version": "1.2.0",
          "state": {
            "_model_module": "@jupyter-widgets/base",
            "_model_module_version": "1.2.0",
            "_model_name": "LayoutModel",
            "_view_count": null,
            "_view_module": "@jupyter-widgets/base",
            "_view_module_version": "1.2.0",
            "_view_name": "LayoutView",
            "align_content": null,
            "align_items": null,
            "align_self": null,
            "border": null,
            "bottom": null,
            "display": null,
            "flex": null,
            "flex_flow": null,
            "grid_area": null,
            "grid_auto_columns": null,
            "grid_auto_flow": null,
            "grid_auto_rows": null,
            "grid_column": null,
            "grid_gap": null,
            "grid_row": null,
            "grid_template_areas": null,
            "grid_template_columns": null,
            "grid_template_rows": null,
            "height": null,
            "justify_content": null,
            "justify_items": null,
            "left": null,
            "margin": null,
            "max_height": null,
            "max_width": null,
            "min_height": null,
            "min_width": null,
            "object_fit": null,
            "object_position": null,
            "order": null,
            "overflow": null,
            "overflow_x": null,
            "overflow_y": null,
            "padding": null,
            "right": null,
            "top": null,
            "visibility": null,
            "width": null
          }
        },
        "53a3370ed74742d183670baa98610459": {
          "model_module": "@jupyter-widgets/controls",
          "model_name": "DescriptionStyleModel",
          "model_module_version": "1.5.0",
          "state": {
            "_model_module": "@jupyter-widgets/controls",
            "_model_module_version": "1.5.0",
            "_model_name": "DescriptionStyleModel",
            "_view_count": null,
            "_view_module": "@jupyter-widgets/base",
            "_view_module_version": "1.2.0",
            "_view_name": "StyleView",
            "description_width": ""
          }
        },
        "b74361fb8dbe4d88a6396983207ca3e3": {
          "model_module": "@jupyter-widgets/controls",
          "model_name": "HBoxModel",
          "model_module_version": "1.5.0",
          "state": {
            "_dom_classes": [],
            "_model_module": "@jupyter-widgets/controls",
            "_model_module_version": "1.5.0",
            "_model_name": "HBoxModel",
            "_view_count": null,
            "_view_module": "@jupyter-widgets/controls",
            "_view_module_version": "1.5.0",
            "_view_name": "HBoxView",
            "box_style": "",
            "children": [
              "IPY_MODEL_6fa1057697b54061b36ef1e9307ebab1",
              "IPY_MODEL_18e50bfe20104389bd4e8af8c220a5c5",
              "IPY_MODEL_e008d70fcceb4934a0b3f3ecad9f7563"
            ],
            "layout": "IPY_MODEL_1330ebe7ad8c4e40bcdbefbd51f4ce62"
          }
        },
        "6fa1057697b54061b36ef1e9307ebab1": {
          "model_module": "@jupyter-widgets/controls",
          "model_name": "HTMLModel",
          "model_module_version": "1.5.0",
          "state": {
            "_dom_classes": [],
            "_model_module": "@jupyter-widgets/controls",
            "_model_module_version": "1.5.0",
            "_model_name": "HTMLModel",
            "_view_count": null,
            "_view_module": "@jupyter-widgets/controls",
            "_view_module_version": "1.5.0",
            "_view_name": "HTMLView",
            "description": "",
            "description_tooltip": null,
            "layout": "IPY_MODEL_6518736494114fee9975627e11f7012e",
            "placeholder": "​",
            "style": "IPY_MODEL_6227e552715e4644957f4b57313a95f1",
            "value": "Map: 100%"
          }
        },
        "18e50bfe20104389bd4e8af8c220a5c5": {
          "model_module": "@jupyter-widgets/controls",
          "model_name": "FloatProgressModel",
          "model_module_version": "1.5.0",
          "state": {
            "_dom_classes": [],
            "_model_module": "@jupyter-widgets/controls",
            "_model_module_version": "1.5.0",
            "_model_name": "FloatProgressModel",
            "_view_count": null,
            "_view_module": "@jupyter-widgets/controls",
            "_view_module_version": "1.5.0",
            "_view_name": "ProgressView",
            "bar_style": "",
            "description": "",
            "description_tooltip": null,
            "layout": "IPY_MODEL_eac5b187edb9452db199dd8b30776382",
            "max": 9982,
            "min": 0,
            "orientation": "horizontal",
            "style": "IPY_MODEL_edb9300ecda34bce8db9d393a60121be",
            "value": 9982
          }
        },
        "e008d70fcceb4934a0b3f3ecad9f7563": {
          "model_module": "@jupyter-widgets/controls",
          "model_name": "HTMLModel",
          "model_module_version": "1.5.0",
          "state": {
            "_dom_classes": [],
            "_model_module": "@jupyter-widgets/controls",
            "_model_module_version": "1.5.0",
            "_model_name": "HTMLModel",
            "_view_count": null,
            "_view_module": "@jupyter-widgets/controls",
            "_view_module_version": "1.5.0",
            "_view_name": "HTMLView",
            "description": "",
            "description_tooltip": null,
            "layout": "IPY_MODEL_2feef42f7e394f8b9a3fab479dcd4421",
            "placeholder": "​",
            "style": "IPY_MODEL_92917b504b704673b4eeaff6a8d2b972",
            "value": " 9982/9982 [00:08&lt;00:00, 1259.64 examples/s]"
          }
        },
        "1330ebe7ad8c4e40bcdbefbd51f4ce62": {
          "model_module": "@jupyter-widgets/base",
          "model_name": "LayoutModel",
          "model_module_version": "1.2.0",
          "state": {
            "_model_module": "@jupyter-widgets/base",
            "_model_module_version": "1.2.0",
            "_model_name": "LayoutModel",
            "_view_count": null,
            "_view_module": "@jupyter-widgets/base",
            "_view_module_version": "1.2.0",
            "_view_name": "LayoutView",
            "align_content": null,
            "align_items": null,
            "align_self": null,
            "border": null,
            "bottom": null,
            "display": null,
            "flex": null,
            "flex_flow": null,
            "grid_area": null,
            "grid_auto_columns": null,
            "grid_auto_flow": null,
            "grid_auto_rows": null,
            "grid_column": null,
            "grid_gap": null,
            "grid_row": null,
            "grid_template_areas": null,
            "grid_template_columns": null,
            "grid_template_rows": null,
            "height": null,
            "justify_content": null,
            "justify_items": null,
            "left": null,
            "margin": null,
            "max_height": null,
            "max_width": null,
            "min_height": null,
            "min_width": null,
            "object_fit": null,
            "object_position": null,
            "order": null,
            "overflow": null,
            "overflow_x": null,
            "overflow_y": null,
            "padding": null,
            "right": null,
            "top": null,
            "visibility": "hidden",
            "width": null
          }
        },
        "6518736494114fee9975627e11f7012e": {
          "model_module": "@jupyter-widgets/base",
          "model_name": "LayoutModel",
          "model_module_version": "1.2.0",
          "state": {
            "_model_module": "@jupyter-widgets/base",
            "_model_module_version": "1.2.0",
            "_model_name": "LayoutModel",
            "_view_count": null,
            "_view_module": "@jupyter-widgets/base",
            "_view_module_version": "1.2.0",
            "_view_name": "LayoutView",
            "align_content": null,
            "align_items": null,
            "align_self": null,
            "border": null,
            "bottom": null,
            "display": null,
            "flex": null,
            "flex_flow": null,
            "grid_area": null,
            "grid_auto_columns": null,
            "grid_auto_flow": null,
            "grid_auto_rows": null,
            "grid_column": null,
            "grid_gap": null,
            "grid_row": null,
            "grid_template_areas": null,
            "grid_template_columns": null,
            "grid_template_rows": null,
            "height": null,
            "justify_content": null,
            "justify_items": null,
            "left": null,
            "margin": null,
            "max_height": null,
            "max_width": null,
            "min_height": null,
            "min_width": null,
            "object_fit": null,
            "object_position": null,
            "order": null,
            "overflow": null,
            "overflow_x": null,
            "overflow_y": null,
            "padding": null,
            "right": null,
            "top": null,
            "visibility": null,
            "width": null
          }
        },
        "6227e552715e4644957f4b57313a95f1": {
          "model_module": "@jupyter-widgets/controls",
          "model_name": "DescriptionStyleModel",
          "model_module_version": "1.5.0",
          "state": {
            "_model_module": "@jupyter-widgets/controls",
            "_model_module_version": "1.5.0",
            "_model_name": "DescriptionStyleModel",
            "_view_count": null,
            "_view_module": "@jupyter-widgets/base",
            "_view_module_version": "1.2.0",
            "_view_name": "StyleView",
            "description_width": ""
          }
        },
        "eac5b187edb9452db199dd8b30776382": {
          "model_module": "@jupyter-widgets/base",
          "model_name": "LayoutModel",
          "model_module_version": "1.2.0",
          "state": {
            "_model_module": "@jupyter-widgets/base",
            "_model_module_version": "1.2.0",
            "_model_name": "LayoutModel",
            "_view_count": null,
            "_view_module": "@jupyter-widgets/base",
            "_view_module_version": "1.2.0",
            "_view_name": "LayoutView",
            "align_content": null,
            "align_items": null,
            "align_self": null,
            "border": null,
            "bottom": null,
            "display": null,
            "flex": null,
            "flex_flow": null,
            "grid_area": null,
            "grid_auto_columns": null,
            "grid_auto_flow": null,
            "grid_auto_rows": null,
            "grid_column": null,
            "grid_gap": null,
            "grid_row": null,
            "grid_template_areas": null,
            "grid_template_columns": null,
            "grid_template_rows": null,
            "height": null,
            "justify_content": null,
            "justify_items": null,
            "left": null,
            "margin": null,
            "max_height": null,
            "max_width": null,
            "min_height": null,
            "min_width": null,
            "object_fit": null,
            "object_position": null,
            "order": null,
            "overflow": null,
            "overflow_x": null,
            "overflow_y": null,
            "padding": null,
            "right": null,
            "top": null,
            "visibility": null,
            "width": null
          }
        },
        "edb9300ecda34bce8db9d393a60121be": {
          "model_module": "@jupyter-widgets/controls",
          "model_name": "ProgressStyleModel",
          "model_module_version": "1.5.0",
          "state": {
            "_model_module": "@jupyter-widgets/controls",
            "_model_module_version": "1.5.0",
            "_model_name": "ProgressStyleModel",
            "_view_count": null,
            "_view_module": "@jupyter-widgets/base",
            "_view_module_version": "1.2.0",
            "_view_name": "StyleView",
            "bar_color": null,
            "description_width": ""
          }
        },
        "2feef42f7e394f8b9a3fab479dcd4421": {
          "model_module": "@jupyter-widgets/base",
          "model_name": "LayoutModel",
          "model_module_version": "1.2.0",
          "state": {
            "_model_module": "@jupyter-widgets/base",
            "_model_module_version": "1.2.0",
            "_model_name": "LayoutModel",
            "_view_count": null,
            "_view_module": "@jupyter-widgets/base",
            "_view_module_version": "1.2.0",
            "_view_name": "LayoutView",
            "align_content": null,
            "align_items": null,
            "align_self": null,
            "border": null,
            "bottom": null,
            "display": null,
            "flex": null,
            "flex_flow": null,
            "grid_area": null,
            "grid_auto_columns": null,
            "grid_auto_flow": null,
            "grid_auto_rows": null,
            "grid_column": null,
            "grid_gap": null,
            "grid_row": null,
            "grid_template_areas": null,
            "grid_template_columns": null,
            "grid_template_rows": null,
            "height": null,
            "justify_content": null,
            "justify_items": null,
            "left": null,
            "margin": null,
            "max_height": null,
            "max_width": null,
            "min_height": null,
            "min_width": null,
            "object_fit": null,
            "object_position": null,
            "order": null,
            "overflow": null,
            "overflow_x": null,
            "overflow_y": null,
            "padding": null,
            "right": null,
            "top": null,
            "visibility": null,
            "width": null
          }
        },
        "92917b504b704673b4eeaff6a8d2b972": {
          "model_module": "@jupyter-widgets/controls",
          "model_name": "DescriptionStyleModel",
          "model_module_version": "1.5.0",
          "state": {
            "_model_module": "@jupyter-widgets/controls",
            "_model_module_version": "1.5.0",
            "_model_name": "DescriptionStyleModel",
            "_view_count": null,
            "_view_module": "@jupyter-widgets/base",
            "_view_module_version": "1.2.0",
            "_view_name": "StyleView",
            "description_width": ""
          }
        },
        "540a8177f15c4538bd401431145adb0b": {
          "model_module": "@jupyter-widgets/controls",
          "model_name": "HBoxModel",
          "model_module_version": "1.5.0",
          "state": {
            "_dom_classes": [],
            "_model_module": "@jupyter-widgets/controls",
            "_model_module_version": "1.5.0",
            "_model_name": "HBoxModel",
            "_view_count": null,
            "_view_module": "@jupyter-widgets/controls",
            "_view_module_version": "1.5.0",
            "_view_name": "HBoxView",
            "box_style": "",
            "children": [
              "IPY_MODEL_59ae6ede22964c6f89ec8bc70486ad04",
              "IPY_MODEL_683768fcbdd641d88d47fd04fb9e2593",
              "IPY_MODEL_93e42228891d4ccd932c49da96e19b0d"
            ],
            "layout": "IPY_MODEL_4969171cd9e5474c833b9cf4a40499b5"
          }
        },
        "59ae6ede22964c6f89ec8bc70486ad04": {
          "model_module": "@jupyter-widgets/controls",
          "model_name": "HTMLModel",
          "model_module_version": "1.5.0",
          "state": {
            "_dom_classes": [],
            "_model_module": "@jupyter-widgets/controls",
            "_model_module_version": "1.5.0",
            "_model_name": "HTMLModel",
            "_view_count": null,
            "_view_module": "@jupyter-widgets/controls",
            "_view_module_version": "1.5.0",
            "_view_name": "HTMLView",
            "description": "",
            "description_tooltip": null,
            "layout": "IPY_MODEL_71ba942dd7814843b3083d6369ac3935",
            "placeholder": "​",
            "style": "IPY_MODEL_2c27f2a8cdb84d8e8bc42bc7394127ed",
            "value": "Map: 100%"
          }
        },
        "683768fcbdd641d88d47fd04fb9e2593": {
          "model_module": "@jupyter-widgets/controls",
          "model_name": "FloatProgressModel",
          "model_module_version": "1.5.0",
          "state": {
            "_dom_classes": [],
            "_model_module": "@jupyter-widgets/controls",
            "_model_module_version": "1.5.0",
            "_model_name": "FloatProgressModel",
            "_view_count": null,
            "_view_module": "@jupyter-widgets/controls",
            "_view_module_version": "1.5.0",
            "_view_name": "ProgressView",
            "bar_style": "",
            "description": "",
            "description_tooltip": null,
            "layout": "IPY_MODEL_2f4e887efa594426beba5a802ef67f3f",
            "max": 4890,
            "min": 0,
            "orientation": "horizontal",
            "style": "IPY_MODEL_d7cfc644d71c483ab7387d930689dad2",
            "value": 4890
          }
        },
        "93e42228891d4ccd932c49da96e19b0d": {
          "model_module": "@jupyter-widgets/controls",
          "model_name": "HTMLModel",
          "model_module_version": "1.5.0",
          "state": {
            "_dom_classes": [],
            "_model_module": "@jupyter-widgets/controls",
            "_model_module_version": "1.5.0",
            "_model_name": "HTMLModel",
            "_view_count": null,
            "_view_module": "@jupyter-widgets/controls",
            "_view_module_version": "1.5.0",
            "_view_name": "HTMLView",
            "description": "",
            "description_tooltip": null,
            "layout": "IPY_MODEL_44c077470d8c4f5bb566bd435ee97bdc",
            "placeholder": "​",
            "style": "IPY_MODEL_1003a97f89ae460a85b7586859330e7c",
            "value": " 4890/4890 [00:04&lt;00:00, 1206.58 examples/s]"
          }
        },
        "4969171cd9e5474c833b9cf4a40499b5": {
          "model_module": "@jupyter-widgets/base",
          "model_name": "LayoutModel",
          "model_module_version": "1.2.0",
          "state": {
            "_model_module": "@jupyter-widgets/base",
            "_model_module_version": "1.2.0",
            "_model_name": "LayoutModel",
            "_view_count": null,
            "_view_module": "@jupyter-widgets/base",
            "_view_module_version": "1.2.0",
            "_view_name": "LayoutView",
            "align_content": null,
            "align_items": null,
            "align_self": null,
            "border": null,
            "bottom": null,
            "display": null,
            "flex": null,
            "flex_flow": null,
            "grid_area": null,
            "grid_auto_columns": null,
            "grid_auto_flow": null,
            "grid_auto_rows": null,
            "grid_column": null,
            "grid_gap": null,
            "grid_row": null,
            "grid_template_areas": null,
            "grid_template_columns": null,
            "grid_template_rows": null,
            "height": null,
            "justify_content": null,
            "justify_items": null,
            "left": null,
            "margin": null,
            "max_height": null,
            "max_width": null,
            "min_height": null,
            "min_width": null,
            "object_fit": null,
            "object_position": null,
            "order": null,
            "overflow": null,
            "overflow_x": null,
            "overflow_y": null,
            "padding": null,
            "right": null,
            "top": null,
            "visibility": "hidden",
            "width": null
          }
        },
        "71ba942dd7814843b3083d6369ac3935": {
          "model_module": "@jupyter-widgets/base",
          "model_name": "LayoutModel",
          "model_module_version": "1.2.0",
          "state": {
            "_model_module": "@jupyter-widgets/base",
            "_model_module_version": "1.2.0",
            "_model_name": "LayoutModel",
            "_view_count": null,
            "_view_module": "@jupyter-widgets/base",
            "_view_module_version": "1.2.0",
            "_view_name": "LayoutView",
            "align_content": null,
            "align_items": null,
            "align_self": null,
            "border": null,
            "bottom": null,
            "display": null,
            "flex": null,
            "flex_flow": null,
            "grid_area": null,
            "grid_auto_columns": null,
            "grid_auto_flow": null,
            "grid_auto_rows": null,
            "grid_column": null,
            "grid_gap": null,
            "grid_row": null,
            "grid_template_areas": null,
            "grid_template_columns": null,
            "grid_template_rows": null,
            "height": null,
            "justify_content": null,
            "justify_items": null,
            "left": null,
            "margin": null,
            "max_height": null,
            "max_width": null,
            "min_height": null,
            "min_width": null,
            "object_fit": null,
            "object_position": null,
            "order": null,
            "overflow": null,
            "overflow_x": null,
            "overflow_y": null,
            "padding": null,
            "right": null,
            "top": null,
            "visibility": null,
            "width": null
          }
        },
        "2c27f2a8cdb84d8e8bc42bc7394127ed": {
          "model_module": "@jupyter-widgets/controls",
          "model_name": "DescriptionStyleModel",
          "model_module_version": "1.5.0",
          "state": {
            "_model_module": "@jupyter-widgets/controls",
            "_model_module_version": "1.5.0",
            "_model_name": "DescriptionStyleModel",
            "_view_count": null,
            "_view_module": "@jupyter-widgets/base",
            "_view_module_version": "1.2.0",
            "_view_name": "StyleView",
            "description_width": ""
          }
        },
        "2f4e887efa594426beba5a802ef67f3f": {
          "model_module": "@jupyter-widgets/base",
          "model_name": "LayoutModel",
          "model_module_version": "1.2.0",
          "state": {
            "_model_module": "@jupyter-widgets/base",
            "_model_module_version": "1.2.0",
            "_model_name": "LayoutModel",
            "_view_count": null,
            "_view_module": "@jupyter-widgets/base",
            "_view_module_version": "1.2.0",
            "_view_name": "LayoutView",
            "align_content": null,
            "align_items": null,
            "align_self": null,
            "border": null,
            "bottom": null,
            "display": null,
            "flex": null,
            "flex_flow": null,
            "grid_area": null,
            "grid_auto_columns": null,
            "grid_auto_flow": null,
            "grid_auto_rows": null,
            "grid_column": null,
            "grid_gap": null,
            "grid_row": null,
            "grid_template_areas": null,
            "grid_template_columns": null,
            "grid_template_rows": null,
            "height": null,
            "justify_content": null,
            "justify_items": null,
            "left": null,
            "margin": null,
            "max_height": null,
            "max_width": null,
            "min_height": null,
            "min_width": null,
            "object_fit": null,
            "object_position": null,
            "order": null,
            "overflow": null,
            "overflow_x": null,
            "overflow_y": null,
            "padding": null,
            "right": null,
            "top": null,
            "visibility": null,
            "width": null
          }
        },
        "d7cfc644d71c483ab7387d930689dad2": {
          "model_module": "@jupyter-widgets/controls",
          "model_name": "ProgressStyleModel",
          "model_module_version": "1.5.0",
          "state": {
            "_model_module": "@jupyter-widgets/controls",
            "_model_module_version": "1.5.0",
            "_model_name": "ProgressStyleModel",
            "_view_count": null,
            "_view_module": "@jupyter-widgets/base",
            "_view_module_version": "1.2.0",
            "_view_name": "StyleView",
            "bar_color": null,
            "description_width": ""
          }
        },
        "44c077470d8c4f5bb566bd435ee97bdc": {
          "model_module": "@jupyter-widgets/base",
          "model_name": "LayoutModel",
          "model_module_version": "1.2.0",
          "state": {
            "_model_module": "@jupyter-widgets/base",
            "_model_module_version": "1.2.0",
            "_model_name": "LayoutModel",
            "_view_count": null,
            "_view_module": "@jupyter-widgets/base",
            "_view_module_version": "1.2.0",
            "_view_name": "LayoutView",
            "align_content": null,
            "align_items": null,
            "align_self": null,
            "border": null,
            "bottom": null,
            "display": null,
            "flex": null,
            "flex_flow": null,
            "grid_area": null,
            "grid_auto_columns": null,
            "grid_auto_flow": null,
            "grid_auto_rows": null,
            "grid_column": null,
            "grid_gap": null,
            "grid_row": null,
            "grid_template_areas": null,
            "grid_template_columns": null,
            "grid_template_rows": null,
            "height": null,
            "justify_content": null,
            "justify_items": null,
            "left": null,
            "margin": null,
            "max_height": null,
            "max_width": null,
            "min_height": null,
            "min_width": null,
            "object_fit": null,
            "object_position": null,
            "order": null,
            "overflow": null,
            "overflow_x": null,
            "overflow_y": null,
            "padding": null,
            "right": null,
            "top": null,
            "visibility": null,
            "width": null
          }
        },
        "1003a97f89ae460a85b7586859330e7c": {
          "model_module": "@jupyter-widgets/controls",
          "model_name": "DescriptionStyleModel",
          "model_module_version": "1.5.0",
          "state": {
            "_model_module": "@jupyter-widgets/controls",
            "_model_module_version": "1.5.0",
            "_model_name": "DescriptionStyleModel",
            "_view_count": null,
            "_view_module": "@jupyter-widgets/base",
            "_view_module_version": "1.2.0",
            "_view_name": "StyleView",
            "description_width": ""
          }
        },
        "6c684d695d7d4e3aa91d0ef302b0dbd3": {
          "model_module": "@jupyter-widgets/controls",
          "model_name": "HBoxModel",
          "model_module_version": "1.5.0",
          "state": {
            "_dom_classes": [],
            "_model_module": "@jupyter-widgets/controls",
            "_model_module_version": "1.5.0",
            "_model_name": "HBoxModel",
            "_view_count": null,
            "_view_module": "@jupyter-widgets/controls",
            "_view_module_version": "1.5.0",
            "_view_name": "HBoxView",
            "box_style": "",
            "children": [
              "IPY_MODEL_6947f6081ebf4dc9a9b98dd5b52236f7",
              "IPY_MODEL_9b0185c5558d4de1b0fdb09a642b1d4e",
              "IPY_MODEL_db8d308852a2489a8fd993846e1d7106"
            ],
            "layout": "IPY_MODEL_6a83a8dc181c4614a9db36b64afda9d1"
          }
        },
        "6947f6081ebf4dc9a9b98dd5b52236f7": {
          "model_module": "@jupyter-widgets/controls",
          "model_name": "HTMLModel",
          "model_module_version": "1.5.0",
          "state": {
            "_dom_classes": [],
            "_model_module": "@jupyter-widgets/controls",
            "_model_module_version": "1.5.0",
            "_model_name": "HTMLModel",
            "_view_count": null,
            "_view_module": "@jupyter-widgets/controls",
            "_view_module_version": "1.5.0",
            "_view_name": "HTMLView",
            "description": "",
            "description_tooltip": null,
            "layout": "IPY_MODEL_6631fd9d4c2145bbad2a9ee8e7a4d6ee",
            "placeholder": "​",
            "style": "IPY_MODEL_fa4be55e45cd46f59664dab893b2debe",
            "value": "Downloading (…)lve/main/config.json: 100%"
          }
        },
        "9b0185c5558d4de1b0fdb09a642b1d4e": {
          "model_module": "@jupyter-widgets/controls",
          "model_name": "FloatProgressModel",
          "model_module_version": "1.5.0",
          "state": {
            "_dom_classes": [],
            "_model_module": "@jupyter-widgets/controls",
            "_model_module_version": "1.5.0",
            "_model_name": "FloatProgressModel",
            "_view_count": null,
            "_view_module": "@jupyter-widgets/controls",
            "_view_module_version": "1.5.0",
            "_view_name": "ProgressView",
            "bar_style": "success",
            "description": "",
            "description_tooltip": null,
            "layout": "IPY_MODEL_1b8e8110a8cc4ee3aa3f64d515fd2d87",
            "max": 3693,
            "min": 0,
            "orientation": "horizontal",
            "style": "IPY_MODEL_2b06b8a5b10e4b91abf972419b84f629",
            "value": 3693
          }
        },
        "db8d308852a2489a8fd993846e1d7106": {
          "model_module": "@jupyter-widgets/controls",
          "model_name": "HTMLModel",
          "model_module_version": "1.5.0",
          "state": {
            "_dom_classes": [],
            "_model_module": "@jupyter-widgets/controls",
            "_model_module_version": "1.5.0",
            "_model_name": "HTMLModel",
            "_view_count": null,
            "_view_module": "@jupyter-widgets/controls",
            "_view_module_version": "1.5.0",
            "_view_name": "HTMLView",
            "description": "",
            "description_tooltip": null,
            "layout": "IPY_MODEL_48a8e84d9fbc41acb932b709a13cac22",
            "placeholder": "​",
            "style": "IPY_MODEL_3ec945bd544c47e19fcb8c8b03ab46f8",
            "value": " 3.69k/3.69k [00:00&lt;00:00, 172kB/s]"
          }
        },
        "6a83a8dc181c4614a9db36b64afda9d1": {
          "model_module": "@jupyter-widgets/base",
          "model_name": "LayoutModel",
          "model_module_version": "1.2.0",
          "state": {
            "_model_module": "@jupyter-widgets/base",
            "_model_module_version": "1.2.0",
            "_model_name": "LayoutModel",
            "_view_count": null,
            "_view_module": "@jupyter-widgets/base",
            "_view_module_version": "1.2.0",
            "_view_name": "LayoutView",
            "align_content": null,
            "align_items": null,
            "align_self": null,
            "border": null,
            "bottom": null,
            "display": null,
            "flex": null,
            "flex_flow": null,
            "grid_area": null,
            "grid_auto_columns": null,
            "grid_auto_flow": null,
            "grid_auto_rows": null,
            "grid_column": null,
            "grid_gap": null,
            "grid_row": null,
            "grid_template_areas": null,
            "grid_template_columns": null,
            "grid_template_rows": null,
            "height": null,
            "justify_content": null,
            "justify_items": null,
            "left": null,
            "margin": null,
            "max_height": null,
            "max_width": null,
            "min_height": null,
            "min_width": null,
            "object_fit": null,
            "object_position": null,
            "order": null,
            "overflow": null,
            "overflow_x": null,
            "overflow_y": null,
            "padding": null,
            "right": null,
            "top": null,
            "visibility": null,
            "width": null
          }
        },
        "6631fd9d4c2145bbad2a9ee8e7a4d6ee": {
          "model_module": "@jupyter-widgets/base",
          "model_name": "LayoutModel",
          "model_module_version": "1.2.0",
          "state": {
            "_model_module": "@jupyter-widgets/base",
            "_model_module_version": "1.2.0",
            "_model_name": "LayoutModel",
            "_view_count": null,
            "_view_module": "@jupyter-widgets/base",
            "_view_module_version": "1.2.0",
            "_view_name": "LayoutView",
            "align_content": null,
            "align_items": null,
            "align_self": null,
            "border": null,
            "bottom": null,
            "display": null,
            "flex": null,
            "flex_flow": null,
            "grid_area": null,
            "grid_auto_columns": null,
            "grid_auto_flow": null,
            "grid_auto_rows": null,
            "grid_column": null,
            "grid_gap": null,
            "grid_row": null,
            "grid_template_areas": null,
            "grid_template_columns": null,
            "grid_template_rows": null,
            "height": null,
            "justify_content": null,
            "justify_items": null,
            "left": null,
            "margin": null,
            "max_height": null,
            "max_width": null,
            "min_height": null,
            "min_width": null,
            "object_fit": null,
            "object_position": null,
            "order": null,
            "overflow": null,
            "overflow_x": null,
            "overflow_y": null,
            "padding": null,
            "right": null,
            "top": null,
            "visibility": null,
            "width": null
          }
        },
        "fa4be55e45cd46f59664dab893b2debe": {
          "model_module": "@jupyter-widgets/controls",
          "model_name": "DescriptionStyleModel",
          "model_module_version": "1.5.0",
          "state": {
            "_model_module": "@jupyter-widgets/controls",
            "_model_module_version": "1.5.0",
            "_model_name": "DescriptionStyleModel",
            "_view_count": null,
            "_view_module": "@jupyter-widgets/base",
            "_view_module_version": "1.2.0",
            "_view_name": "StyleView",
            "description_width": ""
          }
        },
        "1b8e8110a8cc4ee3aa3f64d515fd2d87": {
          "model_module": "@jupyter-widgets/base",
          "model_name": "LayoutModel",
          "model_module_version": "1.2.0",
          "state": {
            "_model_module": "@jupyter-widgets/base",
            "_model_module_version": "1.2.0",
            "_model_name": "LayoutModel",
            "_view_count": null,
            "_view_module": "@jupyter-widgets/base",
            "_view_module_version": "1.2.0",
            "_view_name": "LayoutView",
            "align_content": null,
            "align_items": null,
            "align_self": null,
            "border": null,
            "bottom": null,
            "display": null,
            "flex": null,
            "flex_flow": null,
            "grid_area": null,
            "grid_auto_columns": null,
            "grid_auto_flow": null,
            "grid_auto_rows": null,
            "grid_column": null,
            "grid_gap": null,
            "grid_row": null,
            "grid_template_areas": null,
            "grid_template_columns": null,
            "grid_template_rows": null,
            "height": null,
            "justify_content": null,
            "justify_items": null,
            "left": null,
            "margin": null,
            "max_height": null,
            "max_width": null,
            "min_height": null,
            "min_width": null,
            "object_fit": null,
            "object_position": null,
            "order": null,
            "overflow": null,
            "overflow_x": null,
            "overflow_y": null,
            "padding": null,
            "right": null,
            "top": null,
            "visibility": null,
            "width": null
          }
        },
        "2b06b8a5b10e4b91abf972419b84f629": {
          "model_module": "@jupyter-widgets/controls",
          "model_name": "ProgressStyleModel",
          "model_module_version": "1.5.0",
          "state": {
            "_model_module": "@jupyter-widgets/controls",
            "_model_module_version": "1.5.0",
            "_model_name": "ProgressStyleModel",
            "_view_count": null,
            "_view_module": "@jupyter-widgets/base",
            "_view_module_version": "1.2.0",
            "_view_name": "StyleView",
            "bar_color": null,
            "description_width": ""
          }
        },
        "48a8e84d9fbc41acb932b709a13cac22": {
          "model_module": "@jupyter-widgets/base",
          "model_name": "LayoutModel",
          "model_module_version": "1.2.0",
          "state": {
            "_model_module": "@jupyter-widgets/base",
            "_model_module_version": "1.2.0",
            "_model_name": "LayoutModel",
            "_view_count": null,
            "_view_module": "@jupyter-widgets/base",
            "_view_module_version": "1.2.0",
            "_view_name": "LayoutView",
            "align_content": null,
            "align_items": null,
            "align_self": null,
            "border": null,
            "bottom": null,
            "display": null,
            "flex": null,
            "flex_flow": null,
            "grid_area": null,
            "grid_auto_columns": null,
            "grid_auto_flow": null,
            "grid_auto_rows": null,
            "grid_column": null,
            "grid_gap": null,
            "grid_row": null,
            "grid_template_areas": null,
            "grid_template_columns": null,
            "grid_template_rows": null,
            "height": null,
            "justify_content": null,
            "justify_items": null,
            "left": null,
            "margin": null,
            "max_height": null,
            "max_width": null,
            "min_height": null,
            "min_width": null,
            "object_fit": null,
            "object_position": null,
            "order": null,
            "overflow": null,
            "overflow_x": null,
            "overflow_y": null,
            "padding": null,
            "right": null,
            "top": null,
            "visibility": null,
            "width": null
          }
        },
        "3ec945bd544c47e19fcb8c8b03ab46f8": {
          "model_module": "@jupyter-widgets/controls",
          "model_name": "DescriptionStyleModel",
          "model_module_version": "1.5.0",
          "state": {
            "_model_module": "@jupyter-widgets/controls",
            "_model_module_version": "1.5.0",
            "_model_name": "DescriptionStyleModel",
            "_view_count": null,
            "_view_module": "@jupyter-widgets/base",
            "_view_module_version": "1.2.0",
            "_view_name": "StyleView",
            "description_width": ""
          }
        },
        "d81ec5db598e4169ad02f09c0bedb3a0": {
          "model_module": "@jupyter-widgets/controls",
          "model_name": "HBoxModel",
          "model_module_version": "1.5.0",
          "state": {
            "_dom_classes": [],
            "_model_module": "@jupyter-widgets/controls",
            "_model_module_version": "1.5.0",
            "_model_name": "HBoxModel",
            "_view_count": null,
            "_view_module": "@jupyter-widgets/controls",
            "_view_module_version": "1.5.0",
            "_view_name": "HBoxView",
            "box_style": "",
            "children": [
              "IPY_MODEL_9dd16b59c1b74c8d9e6cb5ed25227c27",
              "IPY_MODEL_33d9a3c945b544b2bc6c4c8e47765858",
              "IPY_MODEL_b2b80c96df344611843f5f1a2abadc2f"
            ],
            "layout": "IPY_MODEL_ea1dd4936333425482352a8bc9077041"
          }
        },
        "9dd16b59c1b74c8d9e6cb5ed25227c27": {
          "model_module": "@jupyter-widgets/controls",
          "model_name": "HTMLModel",
          "model_module_version": "1.5.0",
          "state": {
            "_dom_classes": [],
            "_model_module": "@jupyter-widgets/controls",
            "_model_module_version": "1.5.0",
            "_model_name": "HTMLModel",
            "_view_count": null,
            "_view_module": "@jupyter-widgets/controls",
            "_view_module_version": "1.5.0",
            "_view_name": "HTMLView",
            "description": "",
            "description_tooltip": null,
            "layout": "IPY_MODEL_989722443d95488fa43ddce10f2e109f",
            "placeholder": "​",
            "style": "IPY_MODEL_29a679e8a7c74b86b529b085b07f1be0",
            "value": "Downloading pytorch_model.bin: 100%"
          }
        },
        "33d9a3c945b544b2bc6c4c8e47765858": {
          "model_module": "@jupyter-widgets/controls",
          "model_name": "FloatProgressModel",
          "model_module_version": "1.5.0",
          "state": {
            "_dom_classes": [],
            "_model_module": "@jupyter-widgets/controls",
            "_model_module_version": "1.5.0",
            "_model_name": "FloatProgressModel",
            "_view_count": null,
            "_view_module": "@jupyter-widgets/controls",
            "_view_module_version": "1.5.0",
            "_view_name": "ProgressView",
            "bar_style": "success",
            "description": "",
            "description_tooltip": null,
            "layout": "IPY_MODEL_6e639cd6b7eb4d62965581eb8d89e112",
            "max": 378385385,
            "min": 0,
            "orientation": "horizontal",
            "style": "IPY_MODEL_2eee7ff59af14fdf803b0d44d5f2cdbe",
            "value": 378385385
          }
        },
        "b2b80c96df344611843f5f1a2abadc2f": {
          "model_module": "@jupyter-widgets/controls",
          "model_name": "HTMLModel",
          "model_module_version": "1.5.0",
          "state": {
            "_dom_classes": [],
            "_model_module": "@jupyter-widgets/controls",
            "_model_module_version": "1.5.0",
            "_model_name": "HTMLModel",
            "_view_count": null,
            "_view_module": "@jupyter-widgets/controls",
            "_view_module_version": "1.5.0",
            "_view_name": "HTMLView",
            "description": "",
            "description_tooltip": null,
            "layout": "IPY_MODEL_b9109fc8a6cc45cd901f23da810bc36e",
            "placeholder": "​",
            "style": "IPY_MODEL_32f093983cbb4b1a8604cf8e712344b1",
            "value": " 378M/378M [00:09&lt;00:00, 44.8MB/s]"
          }
        },
        "ea1dd4936333425482352a8bc9077041": {
          "model_module": "@jupyter-widgets/base",
          "model_name": "LayoutModel",
          "model_module_version": "1.2.0",
          "state": {
            "_model_module": "@jupyter-widgets/base",
            "_model_module_version": "1.2.0",
            "_model_name": "LayoutModel",
            "_view_count": null,
            "_view_module": "@jupyter-widgets/base",
            "_view_module_version": "1.2.0",
            "_view_name": "LayoutView",
            "align_content": null,
            "align_items": null,
            "align_self": null,
            "border": null,
            "bottom": null,
            "display": null,
            "flex": null,
            "flex_flow": null,
            "grid_area": null,
            "grid_auto_columns": null,
            "grid_auto_flow": null,
            "grid_auto_rows": null,
            "grid_column": null,
            "grid_gap": null,
            "grid_row": null,
            "grid_template_areas": null,
            "grid_template_columns": null,
            "grid_template_rows": null,
            "height": null,
            "justify_content": null,
            "justify_items": null,
            "left": null,
            "margin": null,
            "max_height": null,
            "max_width": null,
            "min_height": null,
            "min_width": null,
            "object_fit": null,
            "object_position": null,
            "order": null,
            "overflow": null,
            "overflow_x": null,
            "overflow_y": null,
            "padding": null,
            "right": null,
            "top": null,
            "visibility": null,
            "width": null
          }
        },
        "989722443d95488fa43ddce10f2e109f": {
          "model_module": "@jupyter-widgets/base",
          "model_name": "LayoutModel",
          "model_module_version": "1.2.0",
          "state": {
            "_model_module": "@jupyter-widgets/base",
            "_model_module_version": "1.2.0",
            "_model_name": "LayoutModel",
            "_view_count": null,
            "_view_module": "@jupyter-widgets/base",
            "_view_module_version": "1.2.0",
            "_view_name": "LayoutView",
            "align_content": null,
            "align_items": null,
            "align_self": null,
            "border": null,
            "bottom": null,
            "display": null,
            "flex": null,
            "flex_flow": null,
            "grid_area": null,
            "grid_auto_columns": null,
            "grid_auto_flow": null,
            "grid_auto_rows": null,
            "grid_column": null,
            "grid_gap": null,
            "grid_row": null,
            "grid_template_areas": null,
            "grid_template_columns": null,
            "grid_template_rows": null,
            "height": null,
            "justify_content": null,
            "justify_items": null,
            "left": null,
            "margin": null,
            "max_height": null,
            "max_width": null,
            "min_height": null,
            "min_width": null,
            "object_fit": null,
            "object_position": null,
            "order": null,
            "overflow": null,
            "overflow_x": null,
            "overflow_y": null,
            "padding": null,
            "right": null,
            "top": null,
            "visibility": null,
            "width": null
          }
        },
        "29a679e8a7c74b86b529b085b07f1be0": {
          "model_module": "@jupyter-widgets/controls",
          "model_name": "DescriptionStyleModel",
          "model_module_version": "1.5.0",
          "state": {
            "_model_module": "@jupyter-widgets/controls",
            "_model_module_version": "1.5.0",
            "_model_name": "DescriptionStyleModel",
            "_view_count": null,
            "_view_module": "@jupyter-widgets/base",
            "_view_module_version": "1.2.0",
            "_view_name": "StyleView",
            "description_width": ""
          }
        },
        "6e639cd6b7eb4d62965581eb8d89e112": {
          "model_module": "@jupyter-widgets/base",
          "model_name": "LayoutModel",
          "model_module_version": "1.2.0",
          "state": {
            "_model_module": "@jupyter-widgets/base",
            "_model_module_version": "1.2.0",
            "_model_name": "LayoutModel",
            "_view_count": null,
            "_view_module": "@jupyter-widgets/base",
            "_view_module_version": "1.2.0",
            "_view_name": "LayoutView",
            "align_content": null,
            "align_items": null,
            "align_self": null,
            "border": null,
            "bottom": null,
            "display": null,
            "flex": null,
            "flex_flow": null,
            "grid_area": null,
            "grid_auto_columns": null,
            "grid_auto_flow": null,
            "grid_auto_rows": null,
            "grid_column": null,
            "grid_gap": null,
            "grid_row": null,
            "grid_template_areas": null,
            "grid_template_columns": null,
            "grid_template_rows": null,
            "height": null,
            "justify_content": null,
            "justify_items": null,
            "left": null,
            "margin": null,
            "max_height": null,
            "max_width": null,
            "min_height": null,
            "min_width": null,
            "object_fit": null,
            "object_position": null,
            "order": null,
            "overflow": null,
            "overflow_x": null,
            "overflow_y": null,
            "padding": null,
            "right": null,
            "top": null,
            "visibility": null,
            "width": null
          }
        },
        "2eee7ff59af14fdf803b0d44d5f2cdbe": {
          "model_module": "@jupyter-widgets/controls",
          "model_name": "ProgressStyleModel",
          "model_module_version": "1.5.0",
          "state": {
            "_model_module": "@jupyter-widgets/controls",
            "_model_module_version": "1.5.0",
            "_model_name": "ProgressStyleModel",
            "_view_count": null,
            "_view_module": "@jupyter-widgets/base",
            "_view_module_version": "1.2.0",
            "_view_name": "StyleView",
            "bar_color": null,
            "description_width": ""
          }
        },
        "b9109fc8a6cc45cd901f23da810bc36e": {
          "model_module": "@jupyter-widgets/base",
          "model_name": "LayoutModel",
          "model_module_version": "1.2.0",
          "state": {
            "_model_module": "@jupyter-widgets/base",
            "_model_module_version": "1.2.0",
            "_model_name": "LayoutModel",
            "_view_count": null,
            "_view_module": "@jupyter-widgets/base",
            "_view_module_version": "1.2.0",
            "_view_name": "LayoutView",
            "align_content": null,
            "align_items": null,
            "align_self": null,
            "border": null,
            "bottom": null,
            "display": null,
            "flex": null,
            "flex_flow": null,
            "grid_area": null,
            "grid_auto_columns": null,
            "grid_auto_flow": null,
            "grid_auto_rows": null,
            "grid_column": null,
            "grid_gap": null,
            "grid_row": null,
            "grid_template_areas": null,
            "grid_template_columns": null,
            "grid_template_rows": null,
            "height": null,
            "justify_content": null,
            "justify_items": null,
            "left": null,
            "margin": null,
            "max_height": null,
            "max_width": null,
            "min_height": null,
            "min_width": null,
            "object_fit": null,
            "object_position": null,
            "order": null,
            "overflow": null,
            "overflow_x": null,
            "overflow_y": null,
            "padding": null,
            "right": null,
            "top": null,
            "visibility": null,
            "width": null
          }
        },
        "32f093983cbb4b1a8604cf8e712344b1": {
          "model_module": "@jupyter-widgets/controls",
          "model_name": "DescriptionStyleModel",
          "model_module_version": "1.5.0",
          "state": {
            "_model_module": "@jupyter-widgets/controls",
            "_model_module_version": "1.5.0",
            "_model_name": "DescriptionStyleModel",
            "_view_count": null,
            "_view_module": "@jupyter-widgets/base",
            "_view_module_version": "1.2.0",
            "_view_name": "StyleView",
            "description_width": ""
          }
        },
        "0dfaf4747d8d49828d6173c32706ed31": {
          "model_module": "@jupyter-widgets/controls",
          "model_name": "HBoxModel",
          "model_module_version": "1.5.0",
          "state": {
            "_dom_classes": [],
            "_model_module": "@jupyter-widgets/controls",
            "_model_module_version": "1.5.0",
            "_model_name": "HBoxModel",
            "_view_count": null,
            "_view_module": "@jupyter-widgets/controls",
            "_view_module_version": "1.5.0",
            "_view_name": "HBoxView",
            "box_style": "",
            "children": [
              "IPY_MODEL_3e8a64390b874f4da5d268c7740067a4",
              "IPY_MODEL_8c602e1ff4a54e6fb57eeb25a5da2acc",
              "IPY_MODEL_da9536010baa49dba367f064da451687"
            ],
            "layout": "IPY_MODEL_8ea7175f47734d29adec0bbdd276fc4c"
          }
        },
        "3e8a64390b874f4da5d268c7740067a4": {
          "model_module": "@jupyter-widgets/controls",
          "model_name": "HTMLModel",
          "model_module_version": "1.5.0",
          "state": {
            "_dom_classes": [],
            "_model_module": "@jupyter-widgets/controls",
            "_model_module_version": "1.5.0",
            "_model_name": "HTMLModel",
            "_view_count": null,
            "_view_module": "@jupyter-widgets/controls",
            "_view_module_version": "1.5.0",
            "_view_name": "HTMLView",
            "description": "",
            "description_tooltip": null,
            "layout": "IPY_MODEL_b8c85be004ff4e6ba08aebe9244212df",
            "placeholder": "​",
            "style": "IPY_MODEL_09e244a829664d6bb61cc886fc7446ac",
            "value": "Upload file runs/Apr08_01-45-27_6e7fe4ad84c9/events.out.tfevents.1680918345.6e7fe4ad84c9.712.0: 100%"
          }
        },
        "8c602e1ff4a54e6fb57eeb25a5da2acc": {
          "model_module": "@jupyter-widgets/controls",
          "model_name": "FloatProgressModel",
          "model_module_version": "1.5.0",
          "state": {
            "_dom_classes": [],
            "_model_module": "@jupyter-widgets/controls",
            "_model_module_version": "1.5.0",
            "_model_name": "FloatProgressModel",
            "_view_count": null,
            "_view_module": "@jupyter-widgets/controls",
            "_view_module_version": "1.5.0",
            "_view_name": "ProgressView",
            "bar_style": "success",
            "description": "",
            "description_tooltip": null,
            "layout": "IPY_MODEL_d630b60e3c414beba5512820ccbd3b52",
            "max": 60962,
            "min": 0,
            "orientation": "horizontal",
            "style": "IPY_MODEL_ad8c6c8881634a838fb37f4713071bf3",
            "value": 60962
          }
        },
        "da9536010baa49dba367f064da451687": {
          "model_module": "@jupyter-widgets/controls",
          "model_name": "HTMLModel",
          "model_module_version": "1.5.0",
          "state": {
            "_dom_classes": [],
            "_model_module": "@jupyter-widgets/controls",
            "_model_module_version": "1.5.0",
            "_model_name": "HTMLModel",
            "_view_count": null,
            "_view_module": "@jupyter-widgets/controls",
            "_view_module_version": "1.5.0",
            "_view_name": "HTMLView",
            "description": "",
            "description_tooltip": null,
            "layout": "IPY_MODEL_8476273a4d1944c8921fb9bf5a6e1ae8",
            "placeholder": "​",
            "style": "IPY_MODEL_64c49cf735c7405b998886c767aa37d3",
            "value": " 59.5k/59.5k [00:02&lt;00:00, 13.7kB/s]"
          }
        },
        "8ea7175f47734d29adec0bbdd276fc4c": {
          "model_module": "@jupyter-widgets/base",
          "model_name": "LayoutModel",
          "model_module_version": "1.2.0",
          "state": {
            "_model_module": "@jupyter-widgets/base",
            "_model_module_version": "1.2.0",
            "_model_name": "LayoutModel",
            "_view_count": null,
            "_view_module": "@jupyter-widgets/base",
            "_view_module_version": "1.2.0",
            "_view_name": "LayoutView",
            "align_content": null,
            "align_items": null,
            "align_self": null,
            "border": null,
            "bottom": null,
            "display": null,
            "flex": null,
            "flex_flow": null,
            "grid_area": null,
            "grid_auto_columns": null,
            "grid_auto_flow": null,
            "grid_auto_rows": null,
            "grid_column": null,
            "grid_gap": null,
            "grid_row": null,
            "grid_template_areas": null,
            "grid_template_columns": null,
            "grid_template_rows": null,
            "height": null,
            "justify_content": null,
            "justify_items": null,
            "left": null,
            "margin": null,
            "max_height": null,
            "max_width": null,
            "min_height": null,
            "min_width": null,
            "object_fit": null,
            "object_position": null,
            "order": null,
            "overflow": null,
            "overflow_x": null,
            "overflow_y": null,
            "padding": null,
            "right": null,
            "top": null,
            "visibility": null,
            "width": null
          }
        },
        "b8c85be004ff4e6ba08aebe9244212df": {
          "model_module": "@jupyter-widgets/base",
          "model_name": "LayoutModel",
          "model_module_version": "1.2.0",
          "state": {
            "_model_module": "@jupyter-widgets/base",
            "_model_module_version": "1.2.0",
            "_model_name": "LayoutModel",
            "_view_count": null,
            "_view_module": "@jupyter-widgets/base",
            "_view_module_version": "1.2.0",
            "_view_name": "LayoutView",
            "align_content": null,
            "align_items": null,
            "align_self": null,
            "border": null,
            "bottom": null,
            "display": null,
            "flex": null,
            "flex_flow": null,
            "grid_area": null,
            "grid_auto_columns": null,
            "grid_auto_flow": null,
            "grid_auto_rows": null,
            "grid_column": null,
            "grid_gap": null,
            "grid_row": null,
            "grid_template_areas": null,
            "grid_template_columns": null,
            "grid_template_rows": null,
            "height": null,
            "justify_content": null,
            "justify_items": null,
            "left": null,
            "margin": null,
            "max_height": null,
            "max_width": null,
            "min_height": null,
            "min_width": null,
            "object_fit": null,
            "object_position": null,
            "order": null,
            "overflow": null,
            "overflow_x": null,
            "overflow_y": null,
            "padding": null,
            "right": null,
            "top": null,
            "visibility": null,
            "width": null
          }
        },
        "09e244a829664d6bb61cc886fc7446ac": {
          "model_module": "@jupyter-widgets/controls",
          "model_name": "DescriptionStyleModel",
          "model_module_version": "1.5.0",
          "state": {
            "_model_module": "@jupyter-widgets/controls",
            "_model_module_version": "1.5.0",
            "_model_name": "DescriptionStyleModel",
            "_view_count": null,
            "_view_module": "@jupyter-widgets/base",
            "_view_module_version": "1.2.0",
            "_view_name": "StyleView",
            "description_width": ""
          }
        },
        "d630b60e3c414beba5512820ccbd3b52": {
          "model_module": "@jupyter-widgets/base",
          "model_name": "LayoutModel",
          "model_module_version": "1.2.0",
          "state": {
            "_model_module": "@jupyter-widgets/base",
            "_model_module_version": "1.2.0",
            "_model_name": "LayoutModel",
            "_view_count": null,
            "_view_module": "@jupyter-widgets/base",
            "_view_module_version": "1.2.0",
            "_view_name": "LayoutView",
            "align_content": null,
            "align_items": null,
            "align_self": null,
            "border": null,
            "bottom": null,
            "display": null,
            "flex": null,
            "flex_flow": null,
            "grid_area": null,
            "grid_auto_columns": null,
            "grid_auto_flow": null,
            "grid_auto_rows": null,
            "grid_column": null,
            "grid_gap": null,
            "grid_row": null,
            "grid_template_areas": null,
            "grid_template_columns": null,
            "grid_template_rows": null,
            "height": null,
            "justify_content": null,
            "justify_items": null,
            "left": null,
            "margin": null,
            "max_height": null,
            "max_width": null,
            "min_height": null,
            "min_width": null,
            "object_fit": null,
            "object_position": null,
            "order": null,
            "overflow": null,
            "overflow_x": null,
            "overflow_y": null,
            "padding": null,
            "right": null,
            "top": null,
            "visibility": null,
            "width": null
          }
        },
        "ad8c6c8881634a838fb37f4713071bf3": {
          "model_module": "@jupyter-widgets/controls",
          "model_name": "ProgressStyleModel",
          "model_module_version": "1.5.0",
          "state": {
            "_model_module": "@jupyter-widgets/controls",
            "_model_module_version": "1.5.0",
            "_model_name": "ProgressStyleModel",
            "_view_count": null,
            "_view_module": "@jupyter-widgets/base",
            "_view_module_version": "1.2.0",
            "_view_name": "StyleView",
            "bar_color": null,
            "description_width": ""
          }
        },
        "8476273a4d1944c8921fb9bf5a6e1ae8": {
          "model_module": "@jupyter-widgets/base",
          "model_name": "LayoutModel",
          "model_module_version": "1.2.0",
          "state": {
            "_model_module": "@jupyter-widgets/base",
            "_model_module_version": "1.2.0",
            "_model_name": "LayoutModel",
            "_view_count": null,
            "_view_module": "@jupyter-widgets/base",
            "_view_module_version": "1.2.0",
            "_view_name": "LayoutView",
            "align_content": null,
            "align_items": null,
            "align_self": null,
            "border": null,
            "bottom": null,
            "display": null,
            "flex": null,
            "flex_flow": null,
            "grid_area": null,
            "grid_auto_columns": null,
            "grid_auto_flow": null,
            "grid_auto_rows": null,
            "grid_column": null,
            "grid_gap": null,
            "grid_row": null,
            "grid_template_areas": null,
            "grid_template_columns": null,
            "grid_template_rows": null,
            "height": null,
            "justify_content": null,
            "justify_items": null,
            "left": null,
            "margin": null,
            "max_height": null,
            "max_width": null,
            "min_height": null,
            "min_width": null,
            "object_fit": null,
            "object_position": null,
            "order": null,
            "overflow": null,
            "overflow_x": null,
            "overflow_y": null,
            "padding": null,
            "right": null,
            "top": null,
            "visibility": null,
            "width": null
          }
        },
        "64c49cf735c7405b998886c767aa37d3": {
          "model_module": "@jupyter-widgets/controls",
          "model_name": "DescriptionStyleModel",
          "model_module_version": "1.5.0",
          "state": {
            "_model_module": "@jupyter-widgets/controls",
            "_model_module_version": "1.5.0",
            "_model_name": "DescriptionStyleModel",
            "_view_count": null,
            "_view_module": "@jupyter-widgets/base",
            "_view_module_version": "1.2.0",
            "_view_name": "StyleView",
            "description_width": ""
          }
        },
        "cceb8115640c48c5b4dd745ff1ed1969": {
          "model_module": "@jupyter-widgets/controls",
          "model_name": "HBoxModel",
          "model_module_version": "1.5.0",
          "state": {
            "_dom_classes": [],
            "_model_module": "@jupyter-widgets/controls",
            "_model_module_version": "1.5.0",
            "_model_name": "HBoxModel",
            "_view_count": null,
            "_view_module": "@jupyter-widgets/controls",
            "_view_module_version": "1.5.0",
            "_view_name": "HBoxView",
            "box_style": "",
            "children": [
              "IPY_MODEL_ac1f7d0fa540498c91c1ffec99128b2c",
              "IPY_MODEL_ecb64a36321c450fbfc9cbd2f9f91716",
              "IPY_MODEL_10349c6231a944fa8606644469871b78"
            ],
            "layout": "IPY_MODEL_ef969075ff904543aab1acb1dd26ae68"
          }
        },
        "ac1f7d0fa540498c91c1ffec99128b2c": {
          "model_module": "@jupyter-widgets/controls",
          "model_name": "HTMLModel",
          "model_module_version": "1.5.0",
          "state": {
            "_dom_classes": [],
            "_model_module": "@jupyter-widgets/controls",
            "_model_module_version": "1.5.0",
            "_model_name": "HTMLModel",
            "_view_count": null,
            "_view_module": "@jupyter-widgets/controls",
            "_view_module_version": "1.5.0",
            "_view_name": "HTMLView",
            "description": "",
            "description_tooltip": null,
            "layout": "IPY_MODEL_ea6f3bbeeb8d47c4a95b43c2471ca197",
            "placeholder": "​",
            "style": "IPY_MODEL_bc191bb8fecc4c66bfb05fc892813ef9",
            "value": "Upload file runs/Apr08_01-45-27_6e7fe4ad84c9/events.out.tfevents.1680930313.6e7fe4ad84c9.712.2: 100%"
          }
        },
        "ecb64a36321c450fbfc9cbd2f9f91716": {
          "model_module": "@jupyter-widgets/controls",
          "model_name": "FloatProgressModel",
          "model_module_version": "1.5.0",
          "state": {
            "_dom_classes": [],
            "_model_module": "@jupyter-widgets/controls",
            "_model_module_version": "1.5.0",
            "_model_name": "FloatProgressModel",
            "_view_count": null,
            "_view_module": "@jupyter-widgets/controls",
            "_view_module_version": "1.5.0",
            "_view_name": "ProgressView",
            "bar_style": "success",
            "description": "",
            "description_tooltip": null,
            "layout": "IPY_MODEL_de3040593c75488287cbc62fd74d88d5",
            "max": 411,
            "min": 0,
            "orientation": "horizontal",
            "style": "IPY_MODEL_290924eaae92404c8d4a94a8ad5d10ff",
            "value": 411
          }
        },
        "10349c6231a944fa8606644469871b78": {
          "model_module": "@jupyter-widgets/controls",
          "model_name": "HTMLModel",
          "model_module_version": "1.5.0",
          "state": {
            "_dom_classes": [],
            "_model_module": "@jupyter-widgets/controls",
            "_model_module_version": "1.5.0",
            "_model_name": "HTMLModel",
            "_view_count": null,
            "_view_module": "@jupyter-widgets/controls",
            "_view_module_version": "1.5.0",
            "_view_name": "HTMLView",
            "description": "",
            "description_tooltip": null,
            "layout": "IPY_MODEL_cec9c8c3d8f94a31bdc8456accc75073",
            "placeholder": "​",
            "style": "IPY_MODEL_cb1c08667d6d4dba8ac7135e1488b849",
            "value": " 411/411 [00:02&lt;?, ?B/s]"
          }
        },
        "ef969075ff904543aab1acb1dd26ae68": {
          "model_module": "@jupyter-widgets/base",
          "model_name": "LayoutModel",
          "model_module_version": "1.2.0",
          "state": {
            "_model_module": "@jupyter-widgets/base",
            "_model_module_version": "1.2.0",
            "_model_name": "LayoutModel",
            "_view_count": null,
            "_view_module": "@jupyter-widgets/base",
            "_view_module_version": "1.2.0",
            "_view_name": "LayoutView",
            "align_content": null,
            "align_items": null,
            "align_self": null,
            "border": null,
            "bottom": null,
            "display": null,
            "flex": null,
            "flex_flow": null,
            "grid_area": null,
            "grid_auto_columns": null,
            "grid_auto_flow": null,
            "grid_auto_rows": null,
            "grid_column": null,
            "grid_gap": null,
            "grid_row": null,
            "grid_template_areas": null,
            "grid_template_columns": null,
            "grid_template_rows": null,
            "height": null,
            "justify_content": null,
            "justify_items": null,
            "left": null,
            "margin": null,
            "max_height": null,
            "max_width": null,
            "min_height": null,
            "min_width": null,
            "object_fit": null,
            "object_position": null,
            "order": null,
            "overflow": null,
            "overflow_x": null,
            "overflow_y": null,
            "padding": null,
            "right": null,
            "top": null,
            "visibility": null,
            "width": null
          }
        },
        "ea6f3bbeeb8d47c4a95b43c2471ca197": {
          "model_module": "@jupyter-widgets/base",
          "model_name": "LayoutModel",
          "model_module_version": "1.2.0",
          "state": {
            "_model_module": "@jupyter-widgets/base",
            "_model_module_version": "1.2.0",
            "_model_name": "LayoutModel",
            "_view_count": null,
            "_view_module": "@jupyter-widgets/base",
            "_view_module_version": "1.2.0",
            "_view_name": "LayoutView",
            "align_content": null,
            "align_items": null,
            "align_self": null,
            "border": null,
            "bottom": null,
            "display": null,
            "flex": null,
            "flex_flow": null,
            "grid_area": null,
            "grid_auto_columns": null,
            "grid_auto_flow": null,
            "grid_auto_rows": null,
            "grid_column": null,
            "grid_gap": null,
            "grid_row": null,
            "grid_template_areas": null,
            "grid_template_columns": null,
            "grid_template_rows": null,
            "height": null,
            "justify_content": null,
            "justify_items": null,
            "left": null,
            "margin": null,
            "max_height": null,
            "max_width": null,
            "min_height": null,
            "min_width": null,
            "object_fit": null,
            "object_position": null,
            "order": null,
            "overflow": null,
            "overflow_x": null,
            "overflow_y": null,
            "padding": null,
            "right": null,
            "top": null,
            "visibility": null,
            "width": null
          }
        },
        "bc191bb8fecc4c66bfb05fc892813ef9": {
          "model_module": "@jupyter-widgets/controls",
          "model_name": "DescriptionStyleModel",
          "model_module_version": "1.5.0",
          "state": {
            "_model_module": "@jupyter-widgets/controls",
            "_model_module_version": "1.5.0",
            "_model_name": "DescriptionStyleModel",
            "_view_count": null,
            "_view_module": "@jupyter-widgets/base",
            "_view_module_version": "1.2.0",
            "_view_name": "StyleView",
            "description_width": ""
          }
        },
        "de3040593c75488287cbc62fd74d88d5": {
          "model_module": "@jupyter-widgets/base",
          "model_name": "LayoutModel",
          "model_module_version": "1.2.0",
          "state": {
            "_model_module": "@jupyter-widgets/base",
            "_model_module_version": "1.2.0",
            "_model_name": "LayoutModel",
            "_view_count": null,
            "_view_module": "@jupyter-widgets/base",
            "_view_module_version": "1.2.0",
            "_view_name": "LayoutView",
            "align_content": null,
            "align_items": null,
            "align_self": null,
            "border": null,
            "bottom": null,
            "display": null,
            "flex": null,
            "flex_flow": null,
            "grid_area": null,
            "grid_auto_columns": null,
            "grid_auto_flow": null,
            "grid_auto_rows": null,
            "grid_column": null,
            "grid_gap": null,
            "grid_row": null,
            "grid_template_areas": null,
            "grid_template_columns": null,
            "grid_template_rows": null,
            "height": null,
            "justify_content": null,
            "justify_items": null,
            "left": null,
            "margin": null,
            "max_height": null,
            "max_width": null,
            "min_height": null,
            "min_width": null,
            "object_fit": null,
            "object_position": null,
            "order": null,
            "overflow": null,
            "overflow_x": null,
            "overflow_y": null,
            "padding": null,
            "right": null,
            "top": null,
            "visibility": null,
            "width": null
          }
        },
        "290924eaae92404c8d4a94a8ad5d10ff": {
          "model_module": "@jupyter-widgets/controls",
          "model_name": "ProgressStyleModel",
          "model_module_version": "1.5.0",
          "state": {
            "_model_module": "@jupyter-widgets/controls",
            "_model_module_version": "1.5.0",
            "_model_name": "ProgressStyleModel",
            "_view_count": null,
            "_view_module": "@jupyter-widgets/base",
            "_view_module_version": "1.2.0",
            "_view_name": "StyleView",
            "bar_color": null,
            "description_width": ""
          }
        },
        "cec9c8c3d8f94a31bdc8456accc75073": {
          "model_module": "@jupyter-widgets/base",
          "model_name": "LayoutModel",
          "model_module_version": "1.2.0",
          "state": {
            "_model_module": "@jupyter-widgets/base",
            "_model_module_version": "1.2.0",
            "_model_name": "LayoutModel",
            "_view_count": null,
            "_view_module": "@jupyter-widgets/base",
            "_view_module_version": "1.2.0",
            "_view_name": "LayoutView",
            "align_content": null,
            "align_items": null,
            "align_self": null,
            "border": null,
            "bottom": null,
            "display": null,
            "flex": null,
            "flex_flow": null,
            "grid_area": null,
            "grid_auto_columns": null,
            "grid_auto_flow": null,
            "grid_auto_rows": null,
            "grid_column": null,
            "grid_gap": null,
            "grid_row": null,
            "grid_template_areas": null,
            "grid_template_columns": null,
            "grid_template_rows": null,
            "height": null,
            "justify_content": null,
            "justify_items": null,
            "left": null,
            "margin": null,
            "max_height": null,
            "max_width": null,
            "min_height": null,
            "min_width": null,
            "object_fit": null,
            "object_position": null,
            "order": null,
            "overflow": null,
            "overflow_x": null,
            "overflow_y": null,
            "padding": null,
            "right": null,
            "top": null,
            "visibility": null,
            "width": null
          }
        },
        "cb1c08667d6d4dba8ac7135e1488b849": {
          "model_module": "@jupyter-widgets/controls",
          "model_name": "DescriptionStyleModel",
          "model_module_version": "1.5.0",
          "state": {
            "_model_module": "@jupyter-widgets/controls",
            "_model_module_version": "1.5.0",
            "_model_name": "DescriptionStyleModel",
            "_view_count": null,
            "_view_module": "@jupyter-widgets/base",
            "_view_module_version": "1.2.0",
            "_view_name": "StyleView",
            "description_width": ""
          }
        }
      }
    }
  },
  "nbformat": 4,
  "nbformat_minor": 0
}