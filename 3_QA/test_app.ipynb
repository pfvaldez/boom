{
 "cells": [
  {
   "cell_type": "code",
   "execution_count": 52,
   "metadata": {},
   "outputs": [],
   "source": [
    "import json\n",
    "import requests\n",
    "import time"
   ]
  },
  {
   "attachments": {},
   "cell_type": "markdown",
   "metadata": {},
   "source": [
    "## Load dataset"
   ]
  },
  {
   "cell_type": "code",
   "execution_count": 53,
   "metadata": {},
   "outputs": [],
   "source": [
    "with open(\"train-v2.0.json\", 'r') as f:\n",
    "    data= json.load(f)"
   ]
  },
  {
   "cell_type": "code",
   "execution_count": 54,
   "metadata": {},
   "outputs": [
    {
     "name": "stdout",
     "output_type": "stream",
     "text": [
      "Number of available questions: 357\n"
     ]
    }
   ],
   "source": [
    "def get_qa(topic, data):\n",
    "    q = []\n",
    "    a = []\n",
    "    for d in data['data']:\n",
    "        if d['title']==topic:\n",
    "            for paragraph in d['paragraphs']:\n",
    "                for qa in paragraph['qas']:\n",
    "                    if not qa['is_impossible']:\n",
    "                        q.append(qa['question'])\n",
    "                        a.append(qa['answers'][0]['text'])\n",
    "            return q,a\n",
    "\n",
    "questions, answers = get_qa(topic='Premier_League', data=data)\n",
    "print(\"Number of available questions: {}\".format(len(questions)))"
   ]
  },
  {
   "cell_type": "code",
   "execution_count": 55,
   "metadata": {},
   "outputs": [
    {
     "name": "stderr",
     "output_type": "stream",
     "text": [
      "#1 [internal] load build definition from Dockerfile\n",
      "#1 sha256:9c1eedacbf64ad3e7da837b375465fdd9d291899262cc0a88630e898a7d4f9cd\n",
      "#1 transferring dockerfile: 74B done\n",
      "#1 DONE 0.0s\n",
      "\n",
      "#2 [internal] load .dockerignore\n",
      "#2 sha256:3aa65305f3ad52e7e3b6325b535f9092352ce9a40225c7a1bc665b10afd5e24a\n",
      "#2 transferring context: 2B done\n",
      "#2 DONE 0.0s\n",
      "\n",
      "#3 [internal] load metadata for docker.io/library/python:3.9.12-slim-buster\n",
      "#3 sha256:9889230219fc0c4a53bc7a99f30fc55c5e00ba45ee93f775f14f3ee4e8db4d83\n",
      "#3 DONE 1.9s\n",
      "\n",
      "#4 [1/5] FROM docker.io/library/python:3.9.12-slim-buster@sha256:830e161433edfe047a23ebc99c12ee0eb1dc0a50e6b5f1c98e869ac271786632\n",
      "#4 sha256:4b98a2df8eba665dae81f3c30f2c2630879fa964ffc329066b592b88c5dedf39\n",
      "#4 DONE 0.0s\n",
      "\n",
      "#6 [internal] load build context\n",
      "#6 sha256:9b4d4ffb13d8f4fcf6e5d6d46b72dc40b62391a95f58dccfbb911b3c5981bdb3\n",
      "#6 transferring context: 9.80kB done\n",
      "#6 DONE 0.0s\n",
      "\n",
      "#7 [3/5] COPY download_model.sh .\n",
      "#7 sha256:3fa85e5215dbec421bde4999546f268b8229723518bd9a6b232913d7a79be128\n",
      "#7 CACHED\n",
      "\n",
      "#5 [2/5] RUN apt-get update &&    apt-get install -y --no-install-recommends wget &&    rm -rf /var/lib/apt/lists/* &&    pip install --no-cache-dir transformers[torch] uvicorn fastapi\n",
      "#5 sha256:7dfe32ba9ff22fb193d33a7e30e699ad7bfa8780918d2c064f9c79c2ecb334a1\n",
      "#5 CACHED\n",
      "\n",
      "#8 [4/5] RUN bash download_model.sh\n",
      "#8 sha256:0ac2d8b44090714f27cd5f965b63b3231c52e187ae9447305bb5acd707c7d668\n",
      "#8 CACHED\n",
      "\n",
      "#9 [5/5] COPY app/ app/\n",
      "#9 sha256:11da4f7f79a0619534d18e11496ffbe6401b1e2e919467e43a750b12c456247f\n",
      "#9 DONE 0.0s\n",
      "\n",
      "#10 exporting to image\n",
      "#10 sha256:e8c613e07b0b7ff33893b694f7759a10d42e180f2b4dc349fb57dc6b71dcab00\n",
      "#10 exporting layers 0.0s done\n",
      "#10 writing image sha256:3e8fd55a03791518d2201b513e36966284c113258382d93f996f03ec406a5b3e done\n",
      "#10 naming to docker.io/library/qamodel done\n",
      "#10 DONE 0.0s\n"
     ]
    },
    {
     "name": "stdout",
     "output_type": "stream",
     "text": [
      "e280ca9e34b02b92c9ecf642ce1bf9eb2ad87302f501a1314e2354c1265ebcf0\n"
     ]
    }
   ],
   "source": [
    "%%bash\n",
    "docker build . -t qamodel\n",
    "docker run -d -p 8000:8000 qamodel"
   ]
  },
  {
   "attachments": {},
   "cell_type": "markdown",
   "metadata": {},
   "source": [
    "## Test App"
   ]
  },
  {
   "cell_type": "code",
   "execution_count": 56,
   "metadata": {},
   "outputs": [],
   "source": [
    "time.sleep(10)"
   ]
  },
  {
   "cell_type": "code",
   "execution_count": 57,
   "metadata": {},
   "outputs": [
    {
     "data": {
      "text/plain": [
       "{'message': 'Search context here'}"
      ]
     },
     "execution_count": 57,
     "metadata": {},
     "output_type": "execute_result"
    }
   ],
   "source": [
    "import requests\n",
    "\n",
    "json_data = {\n",
    "  'questions':questions,\n",
    "  'answers':answers,\n",
    "}\n",
    "\n",
    "response = requests.post(\n",
    "  'http://0.0.0.0:8000/set_context',\n",
    "  json=json_data,\n",
    ")\n",
    "\n",
    "response.json()"
   ]
  },
  {
   "cell_type": "code",
   "execution_count": 58,
   "metadata": {},
   "outputs": [
    {
     "name": "stdout",
     "output_type": "stream",
     "text": [
      "orig_q : How many teams compete in the Premier League ?\n",
      "best_q : How many clubs are currently in the Premier League?\n",
      "best_a : 20\n",
      "\n",
      "orig_q : When does the Premier League starts and finishes ?\n",
      "best_q : When does the Premier League have its playing season?\n",
      "best_a : During the course of a season (from August to May)\n",
      "\n",
      "orig_q : Who has the highest number of goals in the Premier League ?\n",
      "best_q : Who has the record for most goals in the Premier League?\n",
      "best_a : Newcastle United striker Alan Shearer holds the record for most Premier League goals with 260\n",
      "\n"
     ]
    }
   ],
   "source": [
    "new_questions = [\n",
    "    'How many teams compete in the Premier League ?',\n",
    "    'When does the Premier League starts and finishes ?',\n",
    "    'Who has the highest number of goals in the Premier League ?',\n",
    "]\n",
    "\n",
    "json_data = {\n",
    "  'questions':new_questions,\n",
    "}\n",
    "\n",
    "response = requests.post(\n",
    "  'http://0.0.0.0:8000/get_answer',\n",
    "  json=json_data\n",
    ")\n",
    "\n",
    "for d in response.json():\n",
    "  print('\\n'.join([\"{} : {}\".format(k, v) for k,v in d.items()])+'\\n')"
   ]
  }
 ],
 "metadata": {
  "kernelspec": {
   "display_name": "boom_venv",
   "language": "python",
   "name": "python3"
  },
  "language_info": {
   "codemirror_mode": {
    "name": "ipython",
    "version": 3
   },
   "file_extension": ".py",
   "mimetype": "text/x-python",
   "name": "python",
   "nbconvert_exporter": "python",
   "pygments_lexer": "ipython3",
   "version": "3.10.8"
  },
  "orig_nbformat": 4
 },
 "nbformat": 4,
 "nbformat_minor": 2
}
